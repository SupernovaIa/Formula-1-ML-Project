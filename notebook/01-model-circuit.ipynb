{
 "cells": [
  {
   "cell_type": "code",
   "execution_count": 46,
   "metadata": {},
   "outputs": [],
   "source": [
    "import fastf1\n",
    "\n",
    "import seaborn as sns\n",
    "import matplotlib.pyplot as plt"
   ]
  },
  {
   "cell_type": "code",
   "execution_count": 2,
   "metadata": {},
   "outputs": [
    {
     "name": "stderr",
     "output_type": "stream",
     "text": [
      "req         WARNING \tDEFAULT CACHE ENABLED! (3.01 GB) /Users/javi/Library/Caches/fastf1\n",
      "core           INFO \tLoading data for Azerbaijan Grand Prix - Qualifying [v3.4.4]\n",
      "req            INFO \tUsing cached data for session_info\n",
      "req            INFO \tUsing cached data for driver_info\n",
      "req            INFO \tUsing cached data for session_status_data\n",
      "req            INFO \tUsing cached data for track_status_data\n",
      "req            INFO \tUsing cached data for _extended_timing_data\n",
      "req            INFO \tUsing cached data for timing_app_data\n",
      "core           INFO \tProcessing timing data...\n",
      "req            INFO \tUsing cached data for car_data\n",
      "req            INFO \tUsing cached data for position_data\n",
      "req            INFO \tUsing cached data for race_control_messages\n",
      "core           INFO \tFinished loading data for 20 drivers: ['16', '81', '55', '11', '63', '1', '44', '14', '43', '23', '50', '22', '27', '18', '3', '4', '77', '24', '31', '10']\n"
     ]
    }
   ],
   "source": [
    "session = fastf1.get_session(2024, 17, 'Q')\n",
    "session.load(telemetry=True, weather=False)"
   ]
  },
  {
   "cell_type": "code",
   "execution_count": 3,
   "metadata": {},
   "outputs": [
    {
     "name": "stderr",
     "output_type": "stream",
     "text": [
      "core        WARNING \tFailed to preserve data type for column 'X' while merging telemetry.\n",
      "core        WARNING \tFailed to preserve data type for column 'Y' while merging telemetry.\n",
      "core        WARNING \tFailed to preserve data type for column 'Z' while merging telemetry.\n"
     ]
    }
   ],
   "source": [
    "lap = session.laps.pick_fastest()\n",
    "pos = lap.get_pos_data()\n",
    "\n",
    "circuit_info = session.get_circuit_info()"
   ]
  },
  {
   "cell_type": "code",
   "execution_count": 34,
   "metadata": {},
   "outputs": [],
   "source": [
    "lap = session.laps.pick_fastest()\n",
    "\n",
    "car_data = lap.get_car_data().add_distance()"
   ]
  },
  {
   "cell_type": "code",
   "execution_count": 38,
   "metadata": {},
   "outputs": [
    {
     "data": {
      "text/html": [
       "<div>\n",
       "<style scoped>\n",
       "    .dataframe tbody tr th:only-of-type {\n",
       "        vertical-align: middle;\n",
       "    }\n",
       "\n",
       "    .dataframe tbody tr th {\n",
       "        vertical-align: top;\n",
       "    }\n",
       "\n",
       "    .dataframe thead th {\n",
       "        text-align: right;\n",
       "    }\n",
       "</style>\n",
       "<table border=\"1\" class=\"dataframe\">\n",
       "  <thead>\n",
       "    <tr style=\"text-align: right;\">\n",
       "      <th></th>\n",
       "      <th>Date</th>\n",
       "      <th>RPM</th>\n",
       "      <th>Speed</th>\n",
       "      <th>nGear</th>\n",
       "      <th>Throttle</th>\n",
       "      <th>Brake</th>\n",
       "      <th>DRS</th>\n",
       "      <th>Source</th>\n",
       "      <th>Time</th>\n",
       "      <th>SessionTime</th>\n",
       "      <th>Distance</th>\n",
       "    </tr>\n",
       "  </thead>\n",
       "  <tbody>\n",
       "    <tr>\n",
       "      <th>0</th>\n",
       "      <td>2024-09-14 12:59:01.598</td>\n",
       "      <td>11935</td>\n",
       "      <td>337</td>\n",
       "      <td>8</td>\n",
       "      <td>100</td>\n",
       "      <td>False</td>\n",
       "      <td>12</td>\n",
       "      <td>car</td>\n",
       "      <td>0 days 00:00:00.081000</td>\n",
       "      <td>0 days 01:11:56.048000</td>\n",
       "      <td>7.582500</td>\n",
       "    </tr>\n",
       "    <tr>\n",
       "      <th>1</th>\n",
       "      <td>2024-09-14 12:59:01.838</td>\n",
       "      <td>11966</td>\n",
       "      <td>337</td>\n",
       "      <td>8</td>\n",
       "      <td>100</td>\n",
       "      <td>False</td>\n",
       "      <td>12</td>\n",
       "      <td>car</td>\n",
       "      <td>0 days 00:00:00.321000</td>\n",
       "      <td>0 days 01:11:56.288000</td>\n",
       "      <td>30.049167</td>\n",
       "    </tr>\n",
       "    <tr>\n",
       "      <th>2</th>\n",
       "      <td>2024-09-14 12:59:02.158</td>\n",
       "      <td>11951</td>\n",
       "      <td>338</td>\n",
       "      <td>8</td>\n",
       "      <td>99</td>\n",
       "      <td>False</td>\n",
       "      <td>12</td>\n",
       "      <td>car</td>\n",
       "      <td>0 days 00:00:00.641000</td>\n",
       "      <td>0 days 01:11:56.608000</td>\n",
       "      <td>60.093611</td>\n",
       "    </tr>\n",
       "    <tr>\n",
       "      <th>3</th>\n",
       "      <td>2024-09-14 12:59:02.318</td>\n",
       "      <td>11976</td>\n",
       "      <td>337</td>\n",
       "      <td>8</td>\n",
       "      <td>100</td>\n",
       "      <td>False</td>\n",
       "      <td>12</td>\n",
       "      <td>car</td>\n",
       "      <td>0 days 00:00:00.801000</td>\n",
       "      <td>0 days 01:11:56.768000</td>\n",
       "      <td>75.071389</td>\n",
       "    </tr>\n",
       "    <tr>\n",
       "      <th>4</th>\n",
       "      <td>2024-09-14 12:59:02.517</td>\n",
       "      <td>11988</td>\n",
       "      <td>337</td>\n",
       "      <td>8</td>\n",
       "      <td>99</td>\n",
       "      <td>False</td>\n",
       "      <td>12</td>\n",
       "      <td>car</td>\n",
       "      <td>0 days 00:00:01</td>\n",
       "      <td>0 days 01:11:56.967000</td>\n",
       "      <td>93.700000</td>\n",
       "    </tr>\n",
       "    <tr>\n",
       "      <th>...</th>\n",
       "      <td>...</td>\n",
       "      <td>...</td>\n",
       "      <td>...</td>\n",
       "      <td>...</td>\n",
       "      <td>...</td>\n",
       "      <td>...</td>\n",
       "      <td>...</td>\n",
       "      <td>...</td>\n",
       "      <td>...</td>\n",
       "      <td>...</td>\n",
       "      <td>...</td>\n",
       "    </tr>\n",
       "    <tr>\n",
       "      <th>394</th>\n",
       "      <td>2024-09-14 13:00:41.918</td>\n",
       "      <td>12004</td>\n",
       "      <td>338</td>\n",
       "      <td>8</td>\n",
       "      <td>100</td>\n",
       "      <td>False</td>\n",
       "      <td>12</td>\n",
       "      <td>car</td>\n",
       "      <td>0 days 00:01:40.401000</td>\n",
       "      <td>0 days 01:13:36.368000</td>\n",
       "      <td>5849.006667</td>\n",
       "    </tr>\n",
       "    <tr>\n",
       "      <th>395</th>\n",
       "      <td>2024-09-14 13:00:42.158</td>\n",
       "      <td>11995</td>\n",
       "      <td>338</td>\n",
       "      <td>8</td>\n",
       "      <td>100</td>\n",
       "      <td>False</td>\n",
       "      <td>12</td>\n",
       "      <td>car</td>\n",
       "      <td>0 days 00:01:40.641000</td>\n",
       "      <td>0 days 01:13:36.608000</td>\n",
       "      <td>5871.540000</td>\n",
       "    </tr>\n",
       "    <tr>\n",
       "      <th>396</th>\n",
       "      <td>2024-09-14 13:00:42.519</td>\n",
       "      <td>12010</td>\n",
       "      <td>337</td>\n",
       "      <td>8</td>\n",
       "      <td>100</td>\n",
       "      <td>False</td>\n",
       "      <td>12</td>\n",
       "      <td>car</td>\n",
       "      <td>0 days 00:01:41.002000</td>\n",
       "      <td>0 days 01:13:36.969000</td>\n",
       "      <td>5905.333611</td>\n",
       "    </tr>\n",
       "    <tr>\n",
       "      <th>397</th>\n",
       "      <td>2024-09-14 13:00:42.679</td>\n",
       "      <td>12009</td>\n",
       "      <td>337</td>\n",
       "      <td>8</td>\n",
       "      <td>100</td>\n",
       "      <td>False</td>\n",
       "      <td>12</td>\n",
       "      <td>car</td>\n",
       "      <td>0 days 00:01:41.162000</td>\n",
       "      <td>0 days 01:13:37.129000</td>\n",
       "      <td>5920.311389</td>\n",
       "    </tr>\n",
       "    <tr>\n",
       "      <th>398</th>\n",
       "      <td>2024-09-14 13:00:42.839</td>\n",
       "      <td>11949</td>\n",
       "      <td>339</td>\n",
       "      <td>8</td>\n",
       "      <td>100</td>\n",
       "      <td>False</td>\n",
       "      <td>12</td>\n",
       "      <td>car</td>\n",
       "      <td>0 days 00:01:41.322000</td>\n",
       "      <td>0 days 01:13:37.289000</td>\n",
       "      <td>5935.378056</td>\n",
       "    </tr>\n",
       "  </tbody>\n",
       "</table>\n",
       "<p>399 rows × 11 columns</p>\n",
       "</div>"
      ],
      "text/plain": [
       "                       Date    RPM  Speed  nGear  Throttle  Brake  DRS Source  \\\n",
       "0   2024-09-14 12:59:01.598  11935    337      8       100  False   12    car   \n",
       "1   2024-09-14 12:59:01.838  11966    337      8       100  False   12    car   \n",
       "2   2024-09-14 12:59:02.158  11951    338      8        99  False   12    car   \n",
       "3   2024-09-14 12:59:02.318  11976    337      8       100  False   12    car   \n",
       "4   2024-09-14 12:59:02.517  11988    337      8        99  False   12    car   \n",
       "..                      ...    ...    ...    ...       ...    ...  ...    ...   \n",
       "394 2024-09-14 13:00:41.918  12004    338      8       100  False   12    car   \n",
       "395 2024-09-14 13:00:42.158  11995    338      8       100  False   12    car   \n",
       "396 2024-09-14 13:00:42.519  12010    337      8       100  False   12    car   \n",
       "397 2024-09-14 13:00:42.679  12009    337      8       100  False   12    car   \n",
       "398 2024-09-14 13:00:42.839  11949    339      8       100  False   12    car   \n",
       "\n",
       "                      Time            SessionTime     Distance  \n",
       "0   0 days 00:00:00.081000 0 days 01:11:56.048000     7.582500  \n",
       "1   0 days 00:00:00.321000 0 days 01:11:56.288000    30.049167  \n",
       "2   0 days 00:00:00.641000 0 days 01:11:56.608000    60.093611  \n",
       "3   0 days 00:00:00.801000 0 days 01:11:56.768000    75.071389  \n",
       "4          0 days 00:00:01 0 days 01:11:56.967000    93.700000  \n",
       "..                     ...                    ...          ...  \n",
       "394 0 days 00:01:40.401000 0 days 01:13:36.368000  5849.006667  \n",
       "395 0 days 00:01:40.641000 0 days 01:13:36.608000  5871.540000  \n",
       "396 0 days 00:01:41.002000 0 days 01:13:36.969000  5905.333611  \n",
       "397 0 days 00:01:41.162000 0 days 01:13:37.129000  5920.311389  \n",
       "398 0 days 00:01:41.322000 0 days 01:13:37.289000  5935.378056  \n",
       "\n",
       "[399 rows x 11 columns]"
      ]
     },
     "execution_count": 38,
     "metadata": {},
     "output_type": "execute_result"
    }
   ],
   "source": [
    "car_data"
   ]
  },
  {
   "cell_type": "code",
   "execution_count": 37,
   "metadata": {},
   "outputs": [
    {
     "data": {
      "text/plain": [
       "DRS\n",
       "8     338\n",
       "12     57\n",
       "14      3\n",
       "10      1\n",
       "Name: count, dtype: int64"
      ]
     },
     "execution_count": 37,
     "metadata": {},
     "output_type": "execute_result"
    }
   ],
   "source": [
    "car_data.DRS.value_counts()"
   ]
  },
  {
   "cell_type": "code",
   "execution_count": 45,
   "metadata": {},
   "outputs": [
    {
     "data": {
      "text/plain": [
       "0      NaN\n",
       "1      0.0\n",
       "2      1.0\n",
       "3     -1.0\n",
       "4      0.0\n",
       "      ... \n",
       "394    1.0\n",
       "395    0.0\n",
       "396   -1.0\n",
       "397    0.0\n",
       "398    2.0\n",
       "Name: Speed, Length: 399, dtype: float64"
      ]
     },
     "execution_count": 45,
     "metadata": {},
     "output_type": "execute_result"
    }
   ],
   "source": [
    "car_data['Speed'].diff()"
   ]
  },
  {
   "cell_type": "code",
   "execution_count": 67,
   "metadata": {},
   "outputs": [],
   "source": [
    "corners = circuit_info.corners[['Number', 'Distance']]"
   ]
  },
  {
   "cell_type": "markdown",
   "metadata": {},
   "source": [
    "¿Qué información necesitamos?\n",
    "\n",
    "* Tiempo por vuelta `lap.LapTime`\n",
    "\n",
    "* Velocidad máxima en speedtrap `lap.SpeedST`\n",
    "\n",
    "* Distancia\n",
    "\n",
    "* Número de curvas\n",
    "\n",
    "* Velocidad media de paso por curva\n",
    "\n",
    "* Velocidad media\n",
    "\n",
    "* Porcentaje de acelerador\n",
    "\n",
    "* Porcentaje de freno\n",
    "\n",
    "* Cambios de marcha"
   ]
  },
  {
   "cell_type": "code",
   "execution_count": 71,
   "metadata": {},
   "outputs": [],
   "source": [
    "import numpy as np\n",
    "\n",
    "# Función para encontrar la velocidad de la distancia más cercana\n",
    "def get_nearest_speed(curve_distance, car_data):\n",
    "    idx = (np.abs(car_data['Distance'] - curve_distance)).idxmin()\n",
    "    return car_data.loc[idx, 'Speed']\n",
    "\n",
    "# Aplicar la función al dataframe de curvas\n",
    "corners.loc[:, 'Speed'] = corners['Distance'].apply(lambda x: get_nearest_speed(x, car_data))\n"
   ]
  },
  {
   "cell_type": "markdown",
   "metadata": {},
   "source": [
    "Obtenemos directamente la información de todo lo necesario y con esto ya podríamos construir el modelo"
   ]
  },
  {
   "cell_type": "code",
   "execution_count": 99,
   "metadata": {},
   "outputs": [],
   "source": [
    "laptime = lap.LapTime\n",
    "max_speed = lap.SpeedST\n",
    "distance = car_data['Distance'].max()\n",
    "n_corners = corners['Number'].max()\n",
    "avg_corner_speed = corners['Speed'].mean()\n",
    "avg_speed = car_data['Speed'].mean()\n",
    "throttle_perc = car_data['Throttle'].mean()\n",
    "brake_perc = car_data['Brake'].mean() * 100\n",
    "gear_changes = car_data['nGear'].diff().abs().sum()"
   ]
  },
  {
   "cell_type": "markdown",
   "metadata": {},
   "source": [
    "Ahora lo que tenemos que hacer es obtener esto para cada circuito y así construir el modelo predictivo."
   ]
  }
 ],
 "metadata": {
  "kernelspec": {
   "display_name": "FinalProject",
   "language": "python",
   "name": "python3"
  },
  "language_info": {
   "codemirror_mode": {
    "name": "ipython",
    "version": 3
   },
   "file_extension": ".py",
   "mimetype": "text/x-python",
   "name": "python",
   "nbconvert_exporter": "python",
   "pygments_lexer": "ipython3",
   "version": "3.12.8"
  }
 },
 "nbformat": 4,
 "nbformat_minor": 2
}
