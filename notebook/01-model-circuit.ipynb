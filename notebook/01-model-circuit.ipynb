{
 "cells": [
  {
   "cell_type": "markdown",
   "metadata": {},
   "source": [
    "# Importación de liberías"
   ]
  },
  {
   "cell_type": "code",
   "execution_count": 1,
   "metadata": {},
   "outputs": [],
   "source": [
    "import fastf1\n",
    "\n",
    "import seaborn as sns\n",
    "import matplotlib.pyplot as plt\n",
    "import numpy as np\n",
    "import pandas as pd\n",
    "\n",
    "import sys\n",
    "sys.path.append('../')\n",
    "\n",
    "from src.circuit_clustering_model.extract import *"
   ]
  },
  {
   "cell_type": "code",
   "execution_count": 28,
   "metadata": {},
   "outputs": [],
   "source": [
    "# Config less verbosity\n",
    "fastf1.set_log_level('ERROR')"
   ]
  },
  {
   "cell_type": "markdown",
   "metadata": {},
   "source": [
    "# Carga de datos"
   ]
  },
  {
   "cell_type": "markdown",
   "metadata": {},
   "source": [
    "Aquí tendremos que leer el csv con todos los circuitos y para cada circuito necesitamos cargar la sesión con la vuelta de qualy"
   ]
  },
  {
   "cell_type": "code",
   "execution_count": 4,
   "metadata": {},
   "outputs": [],
   "source": [
    "df = pd.read_csv('../data/output/races.csv', index_col=0)"
   ]
  },
  {
   "cell_type": "code",
   "execution_count": 9,
   "metadata": {},
   "outputs": [],
   "source": [
    "df = df.loc[:, ['season', 'round', 'circuitId']]"
   ]
  },
  {
   "cell_type": "markdown",
   "metadata": {},
   "source": [
    "Eliminaríamos duplicados, pero mejor ver los dataframes por si alguna sesión ha transcurrido en lluvia o con neumático que no sea `SOFT`. Los eliminamos al final"
   ]
  },
  {
   "cell_type": "code",
   "execution_count": 29,
   "metadata": {},
   "outputs": [],
   "source": [
    "from tqdm import tqdm"
   ]
  },
  {
   "cell_type": "code",
   "execution_count": 37,
   "metadata": {},
   "outputs": [],
   "source": [
    "import pandas as pd\n",
    "from tqdm import tqdm\n",
    "\n",
    "def extract_races_and_results_dataframes(races):\n",
    "    # Verificar si las columnas requeridas existen\n",
    "    required_columns = {'season', 'round', 'circuitId'}\n",
    "    if not required_columns.issubset(races.columns):\n",
    "        raise ValueError(f\"El DataFrame 'races' debe contener las columnas {required_columns}\")\n",
    "\n",
    "    # Seleccionar columnas específicas\n",
    "    races = races.loc[:, ['season', 'round', 'circuitId']]\n",
    "\n",
    "    # Diccionario para almacenar la información de circuitos\n",
    "    circuits = {}\n",
    "\n",
    "    # Iterar sobre las filas del DataFrame\n",
    "    for season, rnd, circuit_id in tqdm(races.itertuples(index=False), total=len(races), desc=\"Procesando carreras\"):\n",
    "        try:\n",
    "            # Obtener información del circuito\n",
    "            circuits[circuit_id] = get_circuit_info(season, rnd)\n",
    "        except Exception as e:\n",
    "            print(f\"Error procesando circuito {circuit_id} (temporada {season}, ronda {rnd}): {e}\")\n",
    "            circuits[circuit_id] = None\n",
    "\n",
    "    # Crear DataFrame a partir del diccionario\n",
    "    data = pd.DataFrame.from_dict(circuits, orient='index')\n",
    "\n",
    "    return data\n"
   ]
  },
  {
   "cell_type": "code",
   "execution_count": 38,
   "metadata": {},
   "outputs": [
    {
     "name": "stderr",
     "output_type": "stream",
     "text": [
      "Procesando carreras: 100%|██████████| 5/5 [00:09<00:00,  1.93s/it]\n"
     ]
    },
    {
     "data": {
      "text/html": [
       "<div>\n",
       "<style scoped>\n",
       "    .dataframe tbody tr th:only-of-type {\n",
       "        vertical-align: middle;\n",
       "    }\n",
       "\n",
       "    .dataframe tbody tr th {\n",
       "        vertical-align: top;\n",
       "    }\n",
       "\n",
       "    .dataframe thead th {\n",
       "        text-align: right;\n",
       "    }\n",
       "</style>\n",
       "<table border=\"1\" class=\"dataframe\">\n",
       "  <thead>\n",
       "    <tr style=\"text-align: right;\">\n",
       "      <th></th>\n",
       "      <th>compound</th>\n",
       "      <th>laptime</th>\n",
       "      <th>max_speed</th>\n",
       "      <th>distance</th>\n",
       "      <th>n_corners</th>\n",
       "      <th>avg_corner_speed</th>\n",
       "      <th>avg_speed</th>\n",
       "      <th>throttle_perc</th>\n",
       "      <th>brake_perc</th>\n",
       "      <th>gear_changes</th>\n",
       "    </tr>\n",
       "  </thead>\n",
       "  <tbody>\n",
       "    <tr>\n",
       "      <th>bahrain</th>\n",
       "      <td>SOFT</td>\n",
       "      <td>88.997</td>\n",
       "      <td>311.0</td>\n",
       "      <td>5391.107500</td>\n",
       "      <td>15</td>\n",
       "      <td>174.591753</td>\n",
       "      <td>218.342318</td>\n",
       "      <td>73.134771</td>\n",
       "      <td>18.059299</td>\n",
       "      <td>55.0</td>\n",
       "    </tr>\n",
       "    <tr>\n",
       "      <th>imola</th>\n",
       "      <td>SOFT</td>\n",
       "      <td>74.411</td>\n",
       "      <td>290.0</td>\n",
       "      <td>4899.232778</td>\n",
       "      <td>19</td>\n",
       "      <td>214.538960</td>\n",
       "      <td>237.668831</td>\n",
       "      <td>81.048701</td>\n",
       "      <td>13.961039</td>\n",
       "      <td>40.0</td>\n",
       "    </tr>\n",
       "    <tr>\n",
       "      <th>portimao</th>\n",
       "      <td>MEDIUM</td>\n",
       "      <td>77.968</td>\n",
       "      <td>314.0</td>\n",
       "      <td>4637.664722</td>\n",
       "      <td>15</td>\n",
       "      <td>188.740533</td>\n",
       "      <td>214.136223</td>\n",
       "      <td>73.058824</td>\n",
       "      <td>17.647059</td>\n",
       "      <td>40.0</td>\n",
       "    </tr>\n",
       "    <tr>\n",
       "      <th>catalunya</th>\n",
       "      <td>SOFT</td>\n",
       "      <td>76.741</td>\n",
       "      <td>313.0</td>\n",
       "      <td>4665.113611</td>\n",
       "      <td>16</td>\n",
       "      <td>177.564519</td>\n",
       "      <td>219.068966</td>\n",
       "      <td>75.727273</td>\n",
       "      <td>16.300940</td>\n",
       "      <td>40.0</td>\n",
       "    </tr>\n",
       "    <tr>\n",
       "      <th>monaco</th>\n",
       "      <td>SOFT</td>\n",
       "      <td>70.346</td>\n",
       "      <td>279.0</td>\n",
       "      <td>3276.551111</td>\n",
       "      <td>19</td>\n",
       "      <td>146.219753</td>\n",
       "      <td>168.225256</td>\n",
       "      <td>59.266212</td>\n",
       "      <td>26.279863</td>\n",
       "      <td>48.0</td>\n",
       "    </tr>\n",
       "  </tbody>\n",
       "</table>\n",
       "</div>"
      ],
      "text/plain": [
       "          compound  laptime  max_speed     distance  n_corners  \\\n",
       "bahrain       SOFT   88.997      311.0  5391.107500         15   \n",
       "imola         SOFT   74.411      290.0  4899.232778         19   \n",
       "portimao    MEDIUM   77.968      314.0  4637.664722         15   \n",
       "catalunya     SOFT   76.741      313.0  4665.113611         16   \n",
       "monaco        SOFT   70.346      279.0  3276.551111         19   \n",
       "\n",
       "           avg_corner_speed   avg_speed  throttle_perc  brake_perc  \\\n",
       "bahrain          174.591753  218.342318      73.134771   18.059299   \n",
       "imola            214.538960  237.668831      81.048701   13.961039   \n",
       "portimao         188.740533  214.136223      73.058824   17.647059   \n",
       "catalunya        177.564519  219.068966      75.727273   16.300940   \n",
       "monaco           146.219753  168.225256      59.266212   26.279863   \n",
       "\n",
       "           gear_changes  \n",
       "bahrain            55.0  \n",
       "imola              40.0  \n",
       "portimao           40.0  \n",
       "catalunya          40.0  \n",
       "monaco             48.0  "
      ]
     },
     "execution_count": 38,
     "metadata": {},
     "output_type": "execute_result"
    }
   ],
   "source": [
    "extract_races_and_results_dataframes(df.head())"
   ]
  },
  {
   "cell_type": "code",
   "execution_count": 30,
   "metadata": {},
   "outputs": [
    {
     "name": "stderr",
     "output_type": "stream",
     "text": [
      "21it [00:27,  1.33s/it]\n"
     ]
    }
   ],
   "source": [
    "def extract_races_and_results_dataframes(races):\n",
    "\n",
    "    races = races.loc[:, ['season', 'round', 'circuitId']]\n",
    "\n",
    "    # Empty dictionary\n",
    "    circuits = {}\n",
    "\n",
    "    for race in tqdm(races.itertuples()):\n",
    "\n",
    "        _, season, rnd, circuit_id = race\n",
    "        \n",
    "        circuits[circuit_id] = get_circuit_info(season, rnd)\n",
    "\n",
    "    data = pd.DataFrame(circuits).T\n",
    "\n",
    "    return data"
   ]
  },
  {
   "cell_type": "markdown",
   "metadata": {},
   "source": [
    "¿Qué información necesitamos?\n",
    "\n",
    "* Tiempo por vuelta `lap.LapTime`\n",
    "\n",
    "* Velocidad máxima en speedtrap `lap.SpeedST`\n",
    "\n",
    "* Distancia\n",
    "\n",
    "* Número de curvas\n",
    "\n",
    "* Velocidad media de paso por curva\n",
    "\n",
    "* Velocidad media\n",
    "\n",
    "* Porcentaje de acelerador\n",
    "\n",
    "* Porcentaje de freno\n",
    "\n",
    "* Cambios de marcha"
   ]
  },
  {
   "cell_type": "markdown",
   "metadata": {},
   "source": [
    "Obtenemos directamente la información de todo lo necesario y con esto ya podríamos construir el modelo"
   ]
  },
  {
   "cell_type": "markdown",
   "metadata": {},
   "source": [
    "Nota: deberíamos considerar eliminar las curvas que sean a fondo y/o agrupar las curvas o rectas por velocidad\n",
    "\n",
    "Esto son next steps. Hacer si da tiempo"
   ]
  }
 ],
 "metadata": {
  "kernelspec": {
   "display_name": "FinalProject",
   "language": "python",
   "name": "python3"
  },
  "language_info": {
   "codemirror_mode": {
    "name": "ipython",
    "version": 3
   },
   "file_extension": ".py",
   "mimetype": "text/x-python",
   "name": "python",
   "nbconvert_exporter": "python",
   "pygments_lexer": "ipython3",
   "version": "3.12.8"
  }
 },
 "nbformat": 4,
 "nbformat_minor": 2
}
