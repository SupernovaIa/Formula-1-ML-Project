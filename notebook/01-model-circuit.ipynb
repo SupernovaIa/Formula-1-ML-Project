{
 "cells": [
  {
   "cell_type": "markdown",
   "metadata": {},
   "source": [
    "# Importación de liberías"
   ]
  },
  {
   "cell_type": "code",
   "execution_count": 1,
   "metadata": {},
   "outputs": [],
   "source": [
    "import fastf1\n",
    "\n",
    "import seaborn as sns\n",
    "import matplotlib.pyplot as plt\n",
    "import numpy as np\n",
    "import pandas as pd\n",
    "\n",
    "import sys\n",
    "sys.path.append('../')\n",
    "\n",
    "from src.circuit_clustering_model_support import *"
   ]
  },
  {
   "cell_type": "markdown",
   "metadata": {},
   "source": []
  },
  {
   "cell_type": "markdown",
   "metadata": {},
   "source": [
    "# Carga de datos"
   ]
  },
  {
   "cell_type": "code",
   "execution_count": null,
   "metadata": {},
   "outputs": [],
   "source": []
  },
  {
   "cell_type": "markdown",
   "metadata": {},
   "source": [
    "Aquí tendremos que leer el csv con todos los circuitos y para cada circuito necesitamos cargar la sesión con la vuelta de qualy"
   ]
  },
  {
   "cell_type": "code",
   "execution_count": 5,
   "metadata": {},
   "outputs": [],
   "source": [
    "def get_circuit_info(season, rnd):\n",
    "\n",
    "    session = fastf1.get_session(season, rnd, 'Q')\n",
    "    session.load(telemetry=True, weather=False)\n",
    "\n",
    "    dc = get_qualy_lap(session)[0]\n",
    "\n",
    "    return dc\n"
   ]
  },
  {
   "cell_type": "code",
   "execution_count": 6,
   "metadata": {},
   "outputs": [
    {
     "name": "stderr",
     "output_type": "stream",
     "text": [
      "core           INFO \tLoading data for Azerbaijan Grand Prix - Qualifying [v3.4.4]\n",
      "req            INFO \tUsing cached data for session_info\n",
      "req            INFO \tUsing cached data for driver_info\n",
      "req            INFO \tUsing cached data for session_status_data\n",
      "req            INFO \tUsing cached data for track_status_data\n",
      "req            INFO \tUsing cached data for _extended_timing_data\n",
      "req            INFO \tUsing cached data for timing_app_data\n",
      "core           INFO \tProcessing timing data...\n",
      "req            INFO \tUsing cached data for car_data\n",
      "req            INFO \tUsing cached data for position_data\n",
      "req            INFO \tUsing cached data for race_control_messages\n",
      "core           INFO \tFinished loading data for 20 drivers: ['16', '81', '55', '11', '63', '1', '44', '14', '43', '23', '50', '22', '27', '18', '3', '4', '77', '24', '31', '10']\n",
      "core        WARNING \tFailed to preserve data type for column 'X' while merging telemetry.\n",
      "core        WARNING \tFailed to preserve data type for column 'Y' while merging telemetry.\n",
      "core        WARNING \tFailed to preserve data type for column 'Z' while merging telemetry.\n"
     ]
    },
    {
     "data": {
      "text/plain": [
       "{'compound': 'SOFT',\n",
       " 'laptime': 101.365,\n",
       " 'max_speed': np.float64(317.0),\n",
       " 'distance': np.float64(5935.378055555557),\n",
       " 'n_corners': np.int64(20),\n",
       " 'avg_corner_speed': np.float64(162.66207187201434),\n",
       " 'avg_speed': np.float64(209.7719298245614),\n",
       " 'throttle_perc': np.float64(71.66917293233082),\n",
       " 'brake_perc': np.float64(20.80200501253133),\n",
       " 'gear_changes': np.float64(60.0)}"
      ]
     },
     "execution_count": 6,
     "metadata": {},
     "output_type": "execute_result"
    }
   ],
   "source": [
    "get_circuit_info(2024, 17)"
   ]
  },
  {
   "cell_type": "markdown",
   "metadata": {},
   "source": [
    "¿Qué información necesitamos?\n",
    "\n",
    "* Tiempo por vuelta `lap.LapTime`\n",
    "\n",
    "* Velocidad máxima en speedtrap `lap.SpeedST`\n",
    "\n",
    "* Distancia\n",
    "\n",
    "* Número de curvas\n",
    "\n",
    "* Velocidad media de paso por curva\n",
    "\n",
    "* Velocidad media\n",
    "\n",
    "* Porcentaje de acelerador\n",
    "\n",
    "* Porcentaje de freno\n",
    "\n",
    "* Cambios de marcha"
   ]
  },
  {
   "cell_type": "markdown",
   "metadata": {},
   "source": [
    "Obtenemos directamente la información de todo lo necesario y con esto ya podríamos construir el modelo"
   ]
  },
  {
   "cell_type": "markdown",
   "metadata": {},
   "source": [
    "Ahora lo que tenemos que hacer es obtener esto para cada circuito y así construir el modelo predictivo."
   ]
  },
  {
   "cell_type": "markdown",
   "metadata": {},
   "source": [
    "Nota: deberíamos considerar eliminar las curvas que sean a fondo y/o agrupar las curvas o rectas por velocidad"
   ]
  }
 ],
 "metadata": {
  "kernelspec": {
   "display_name": "FinalProject",
   "language": "python",
   "name": "python3"
  },
  "language_info": {
   "codemirror_mode": {
    "name": "ipython",
    "version": 3
   },
   "file_extension": ".py",
   "mimetype": "text/x-python",
   "name": "python",
   "nbconvert_exporter": "python",
   "pygments_lexer": "ipython3",
   "version": "3.12.8"
  }
 },
 "nbformat": 4,
 "nbformat_minor": 2
}
