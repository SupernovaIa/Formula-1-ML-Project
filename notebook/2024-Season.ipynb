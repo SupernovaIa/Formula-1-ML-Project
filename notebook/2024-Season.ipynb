{
 "cells": [
  {
   "cell_type": "code",
   "execution_count": 2,
   "metadata": {},
   "outputs": [],
   "source": [
    "import pandas as pd\n",
    "import plotly.express as px\n",
    "from plotly.io import show\n",
    "import matplotlib.pyplot as plt\n",
    "import seaborn as sns\n",
    "import plotly.graph_objects as go\n",
    "import numpy as np\n",
    "\n",
    "from fastf1.ergast import Ergast\n",
    "import fastf1.plotting\n",
    "import fastf1"
   ]
  },
  {
   "cell_type": "code",
   "execution_count": 5,
   "metadata": {},
   "outputs": [],
   "source": [
    "def get_results(season):\n",
    "\n",
    "    \"\"\"wip\"\"\"\n",
    "\n",
    "    ergast = Ergast()\n",
    "    races = ergast.get_race_schedule(season)\n",
    "\n",
    "    results = []\n",
    "\n",
    "    # For each race in the season\n",
    "    for rnd, race in races['raceName'].items():\n",
    "\n",
    "        # Get results\n",
    "        temp = ergast.get_race_results(season=season, round=rnd + 1).content[0]\n",
    "\n",
    "        # If there is a sprint, get the results\n",
    "        sprint = ergast.get_sprint_results(season=season, round=rnd + 1)\n",
    "\n",
    "        if sprint.content and sprint.description['round'][0] == rnd + 1:\n",
    "\n",
    "            # Merge sprint results\n",
    "            temp = pd.merge(temp, sprint.content[0], on=['driverCode', 'constructorName'], how='left')\n",
    "\n",
    "            # Add sprint points and race points to get the total\n",
    "            temp['points'] = temp['points_x'] + temp['points_y']\n",
    "\n",
    "            # Change names columns\n",
    "            temp = temp.rename(columns={'grid_x': 'grid', 'position_x': 'position', 'grid_y': 'grid_sprint', 'position_y': 'position_sprint'})\n",
    "\n",
    "            # Keep useful columns\n",
    "            temp = temp[['constructorName', 'driverCode', 'points', 'grid', 'position', 'grid_sprint', 'position_sprint']]\n",
    "            temp['delta_sprint'] = temp['grid_sprint'] - temp['position_sprint']\n",
    "\n",
    "        # If there is not any sprint, we just set NaN \n",
    "        else:\n",
    "            temp = temp[['constructorName', 'driverCode', 'points', 'grid', 'position']]\n",
    "            temp['grid_sprint'] = np.nan\n",
    "            temp['position_sprint'] = np.nan\n",
    "            temp['delta_sprint'] = np.nan\n",
    "\n",
    "        # Add round number and Grand Prix name\n",
    "        temp['round'] = rnd + 1\n",
    "        temp['race'] = race.removesuffix(' Grand Prix')\n",
    "        temp['delta'] = temp['grid'] - temp['position']\n",
    "\n",
    "        # Add to results\n",
    "        results.append(temp)\n",
    "\n",
    "    # Append all races into a single dataframe\n",
    "    results = pd.concat(results)\n",
    "\n",
    "    return results"
   ]
  },
  {
   "cell_type": "code",
   "execution_count": 6,
   "metadata": {},
   "outputs": [],
   "source": [
    "df_2022 = get_results(2022)"
   ]
  },
  {
   "cell_type": "code",
   "execution_count": 7,
   "metadata": {},
   "outputs": [
    {
     "data": {
      "text/html": [
       "<div>\n",
       "<style scoped>\n",
       "    .dataframe tbody tr th:only-of-type {\n",
       "        vertical-align: middle;\n",
       "    }\n",
       "\n",
       "    .dataframe tbody tr th {\n",
       "        vertical-align: top;\n",
       "    }\n",
       "\n",
       "    .dataframe thead th {\n",
       "        text-align: right;\n",
       "    }\n",
       "</style>\n",
       "<table border=\"1\" class=\"dataframe\">\n",
       "  <thead>\n",
       "    <tr style=\"text-align: right;\">\n",
       "      <th></th>\n",
       "      <th>constructorName</th>\n",
       "      <th>driverCode</th>\n",
       "      <th>points</th>\n",
       "      <th>grid</th>\n",
       "      <th>position</th>\n",
       "      <th>grid_sprint</th>\n",
       "      <th>position_sprint</th>\n",
       "      <th>delta_sprint</th>\n",
       "      <th>round</th>\n",
       "      <th>race</th>\n",
       "      <th>delta</th>\n",
       "    </tr>\n",
       "  </thead>\n",
       "  <tbody>\n",
       "    <tr>\n",
       "      <th>0</th>\n",
       "      <td>Ferrari</td>\n",
       "      <td>LEC</td>\n",
       "      <td>26.0</td>\n",
       "      <td>1</td>\n",
       "      <td>1</td>\n",
       "      <td>NaN</td>\n",
       "      <td>NaN</td>\n",
       "      <td>NaN</td>\n",
       "      <td>1</td>\n",
       "      <td>Bahrain</td>\n",
       "      <td>0</td>\n",
       "    </tr>\n",
       "    <tr>\n",
       "      <th>1</th>\n",
       "      <td>Ferrari</td>\n",
       "      <td>SAI</td>\n",
       "      <td>18.0</td>\n",
       "      <td>3</td>\n",
       "      <td>2</td>\n",
       "      <td>NaN</td>\n",
       "      <td>NaN</td>\n",
       "      <td>NaN</td>\n",
       "      <td>1</td>\n",
       "      <td>Bahrain</td>\n",
       "      <td>1</td>\n",
       "    </tr>\n",
       "    <tr>\n",
       "      <th>2</th>\n",
       "      <td>Mercedes</td>\n",
       "      <td>HAM</td>\n",
       "      <td>15.0</td>\n",
       "      <td>5</td>\n",
       "      <td>3</td>\n",
       "      <td>NaN</td>\n",
       "      <td>NaN</td>\n",
       "      <td>NaN</td>\n",
       "      <td>1</td>\n",
       "      <td>Bahrain</td>\n",
       "      <td>2</td>\n",
       "    </tr>\n",
       "    <tr>\n",
       "      <th>3</th>\n",
       "      <td>Mercedes</td>\n",
       "      <td>RUS</td>\n",
       "      <td>12.0</td>\n",
       "      <td>9</td>\n",
       "      <td>4</td>\n",
       "      <td>NaN</td>\n",
       "      <td>NaN</td>\n",
       "      <td>NaN</td>\n",
       "      <td>1</td>\n",
       "      <td>Bahrain</td>\n",
       "      <td>5</td>\n",
       "    </tr>\n",
       "    <tr>\n",
       "      <th>4</th>\n",
       "      <td>Haas F1 Team</td>\n",
       "      <td>MAG</td>\n",
       "      <td>10.0</td>\n",
       "      <td>7</td>\n",
       "      <td>5</td>\n",
       "      <td>NaN</td>\n",
       "      <td>NaN</td>\n",
       "      <td>NaN</td>\n",
       "      <td>1</td>\n",
       "      <td>Bahrain</td>\n",
       "      <td>2</td>\n",
       "    </tr>\n",
       "    <tr>\n",
       "      <th>...</th>\n",
       "      <td>...</td>\n",
       "      <td>...</td>\n",
       "      <td>...</td>\n",
       "      <td>...</td>\n",
       "      <td>...</td>\n",
       "      <td>...</td>\n",
       "      <td>...</td>\n",
       "      <td>...</td>\n",
       "      <td>...</td>\n",
       "      <td>...</td>\n",
       "      <td>...</td>\n",
       "    </tr>\n",
       "    <tr>\n",
       "      <th>15</th>\n",
       "      <td>Haas F1 Team</td>\n",
       "      <td>MSC</td>\n",
       "      <td>0.0</td>\n",
       "      <td>12</td>\n",
       "      <td>16</td>\n",
       "      <td>NaN</td>\n",
       "      <td>NaN</td>\n",
       "      <td>NaN</td>\n",
       "      <td>22</td>\n",
       "      <td>Abu Dhabi</td>\n",
       "      <td>-4</td>\n",
       "    </tr>\n",
       "    <tr>\n",
       "      <th>16</th>\n",
       "      <td>Haas F1 Team</td>\n",
       "      <td>MAG</td>\n",
       "      <td>0.0</td>\n",
       "      <td>16</td>\n",
       "      <td>17</td>\n",
       "      <td>NaN</td>\n",
       "      <td>NaN</td>\n",
       "      <td>NaN</td>\n",
       "      <td>22</td>\n",
       "      <td>Abu Dhabi</td>\n",
       "      <td>-1</td>\n",
       "    </tr>\n",
       "    <tr>\n",
       "      <th>17</th>\n",
       "      <td>Mercedes</td>\n",
       "      <td>HAM</td>\n",
       "      <td>0.0</td>\n",
       "      <td>5</td>\n",
       "      <td>18</td>\n",
       "      <td>NaN</td>\n",
       "      <td>NaN</td>\n",
       "      <td>NaN</td>\n",
       "      <td>22</td>\n",
       "      <td>Abu Dhabi</td>\n",
       "      <td>-13</td>\n",
       "    </tr>\n",
       "    <tr>\n",
       "      <th>18</th>\n",
       "      <td>Williams</td>\n",
       "      <td>LAT</td>\n",
       "      <td>0.0</td>\n",
       "      <td>20</td>\n",
       "      <td>19</td>\n",
       "      <td>NaN</td>\n",
       "      <td>NaN</td>\n",
       "      <td>NaN</td>\n",
       "      <td>22</td>\n",
       "      <td>Abu Dhabi</td>\n",
       "      <td>1</td>\n",
       "    </tr>\n",
       "    <tr>\n",
       "      <th>19</th>\n",
       "      <td>Alpine F1 Team</td>\n",
       "      <td>ALO</td>\n",
       "      <td>0.0</td>\n",
       "      <td>10</td>\n",
       "      <td>20</td>\n",
       "      <td>NaN</td>\n",
       "      <td>NaN</td>\n",
       "      <td>NaN</td>\n",
       "      <td>22</td>\n",
       "      <td>Abu Dhabi</td>\n",
       "      <td>-10</td>\n",
       "    </tr>\n",
       "  </tbody>\n",
       "</table>\n",
       "<p>440 rows × 11 columns</p>\n",
       "</div>"
      ],
      "text/plain": [
       "   constructorName driverCode  points  grid  position  grid_sprint  \\\n",
       "0          Ferrari        LEC    26.0     1         1          NaN   \n",
       "1          Ferrari        SAI    18.0     3         2          NaN   \n",
       "2         Mercedes        HAM    15.0     5         3          NaN   \n",
       "3         Mercedes        RUS    12.0     9         4          NaN   \n",
       "4     Haas F1 Team        MAG    10.0     7         5          NaN   \n",
       "..             ...        ...     ...   ...       ...          ...   \n",
       "15    Haas F1 Team        MSC     0.0    12        16          NaN   \n",
       "16    Haas F1 Team        MAG     0.0    16        17          NaN   \n",
       "17        Mercedes        HAM     0.0     5        18          NaN   \n",
       "18        Williams        LAT     0.0    20        19          NaN   \n",
       "19  Alpine F1 Team        ALO     0.0    10        20          NaN   \n",
       "\n",
       "    position_sprint  delta_sprint  round       race  delta  \n",
       "0               NaN           NaN      1    Bahrain      0  \n",
       "1               NaN           NaN      1    Bahrain      1  \n",
       "2               NaN           NaN      1    Bahrain      2  \n",
       "3               NaN           NaN      1    Bahrain      5  \n",
       "4               NaN           NaN      1    Bahrain      2  \n",
       "..              ...           ...    ...        ...    ...  \n",
       "15              NaN           NaN     22  Abu Dhabi     -4  \n",
       "16              NaN           NaN     22  Abu Dhabi     -1  \n",
       "17              NaN           NaN     22  Abu Dhabi    -13  \n",
       "18              NaN           NaN     22  Abu Dhabi      1  \n",
       "19              NaN           NaN     22  Abu Dhabi    -10  \n",
       "\n",
       "[440 rows x 11 columns]"
      ]
     },
     "execution_count": 7,
     "metadata": {},
     "output_type": "execute_result"
    }
   ],
   "source": [
    "df_2022"
   ]
  },
  {
   "cell_type": "code",
   "execution_count": 8,
   "metadata": {},
   "outputs": [],
   "source": [
    "def get_drivers_championship(df_results):\n",
    "\n",
    "    \"\"\"wip\"\"\"\n",
    "\n",
    "    df = df_results.copy()\n",
    "\n",
    "    df = df.pivot(index='driverCode', columns='round', values='points')\n",
    "    # Here we have a 22-by-22 matrix (22 races and 22 drivers, incl. DEV and HUL)\n",
    "\n",
    "    # Rank the drivers by their total points\n",
    "    df['total_points'] = df.sum(axis=1)\n",
    "    df = df.sort_values(by='total_points', ascending=False)\n",
    "    df.drop(columns='total_points', inplace=True)\n",
    "\n",
    "    # Use race name, instead of round no., as column names\n",
    "    df.columns = df_results['race'].drop_duplicates()\n",
    "\n",
    "    return df"
   ]
  },
  {
   "cell_type": "markdown",
   "metadata": {},
   "source": [
    "Resultados de 2022. Pilotos"
   ]
  },
  {
   "cell_type": "code",
   "execution_count": 9,
   "metadata": {},
   "outputs": [],
   "source": [
    "df_drivers_2022 = get_drivers_championship(df_2022)"
   ]
  },
  {
   "cell_type": "code",
   "execution_count": 11,
   "metadata": {},
   "outputs": [
    {
     "data": {
      "text/html": [
       "<div>\n",
       "<style scoped>\n",
       "    .dataframe tbody tr th:only-of-type {\n",
       "        vertical-align: middle;\n",
       "    }\n",
       "\n",
       "    .dataframe tbody tr th {\n",
       "        vertical-align: top;\n",
       "    }\n",
       "\n",
       "    .dataframe thead th {\n",
       "        text-align: right;\n",
       "    }\n",
       "</style>\n",
       "<table border=\"1\" class=\"dataframe\">\n",
       "  <thead>\n",
       "    <tr style=\"text-align: right;\">\n",
       "      <th>race</th>\n",
       "      <th>Bahrain</th>\n",
       "      <th>Saudi Arabian</th>\n",
       "      <th>Australian</th>\n",
       "      <th>Emilia Romagna</th>\n",
       "      <th>Miami</th>\n",
       "      <th>Spanish</th>\n",
       "      <th>Monaco</th>\n",
       "      <th>Azerbaijan</th>\n",
       "      <th>Canadian</th>\n",
       "      <th>British</th>\n",
       "      <th>...</th>\n",
       "      <th>Hungarian</th>\n",
       "      <th>Belgian</th>\n",
       "      <th>Dutch</th>\n",
       "      <th>Italian</th>\n",
       "      <th>Singapore</th>\n",
       "      <th>Japanese</th>\n",
       "      <th>United States</th>\n",
       "      <th>Mexico City</th>\n",
       "      <th>São Paulo</th>\n",
       "      <th>Abu Dhabi</th>\n",
       "    </tr>\n",
       "    <tr>\n",
       "      <th>driverCode</th>\n",
       "      <th></th>\n",
       "      <th></th>\n",
       "      <th></th>\n",
       "      <th></th>\n",
       "      <th></th>\n",
       "      <th></th>\n",
       "      <th></th>\n",
       "      <th></th>\n",
       "      <th></th>\n",
       "      <th></th>\n",
       "      <th></th>\n",
       "      <th></th>\n",
       "      <th></th>\n",
       "      <th></th>\n",
       "      <th></th>\n",
       "      <th></th>\n",
       "      <th></th>\n",
       "      <th></th>\n",
       "      <th></th>\n",
       "      <th></th>\n",
       "      <th></th>\n",
       "    </tr>\n",
       "  </thead>\n",
       "  <tbody>\n",
       "    <tr>\n",
       "      <th>VER</th>\n",
       "      <td>0.0</td>\n",
       "      <td>25.0</td>\n",
       "      <td>0.0</td>\n",
       "      <td>34.0</td>\n",
       "      <td>26.0</td>\n",
       "      <td>25.0</td>\n",
       "      <td>15.0</td>\n",
       "      <td>25.0</td>\n",
       "      <td>25.0</td>\n",
       "      <td>6.0</td>\n",
       "      <td>...</td>\n",
       "      <td>25.0</td>\n",
       "      <td>26.0</td>\n",
       "      <td>26.0</td>\n",
       "      <td>25.0</td>\n",
       "      <td>6.0</td>\n",
       "      <td>25.0</td>\n",
       "      <td>25.0</td>\n",
       "      <td>25.0</td>\n",
       "      <td>13.0</td>\n",
       "      <td>25.0</td>\n",
       "    </tr>\n",
       "    <tr>\n",
       "      <th>LEC</th>\n",
       "      <td>26.0</td>\n",
       "      <td>19.0</td>\n",
       "      <td>26.0</td>\n",
       "      <td>15.0</td>\n",
       "      <td>18.0</td>\n",
       "      <td>0.0</td>\n",
       "      <td>12.0</td>\n",
       "      <td>0.0</td>\n",
       "      <td>10.0</td>\n",
       "      <td>12.0</td>\n",
       "      <td>...</td>\n",
       "      <td>8.0</td>\n",
       "      <td>8.0</td>\n",
       "      <td>15.0</td>\n",
       "      <td>18.0</td>\n",
       "      <td>18.0</td>\n",
       "      <td>15.0</td>\n",
       "      <td>15.0</td>\n",
       "      <td>8.0</td>\n",
       "      <td>15.0</td>\n",
       "      <td>18.0</td>\n",
       "    </tr>\n",
       "    <tr>\n",
       "      <th>PER</th>\n",
       "      <td>0.0</td>\n",
       "      <td>12.0</td>\n",
       "      <td>18.0</td>\n",
       "      <td>24.0</td>\n",
       "      <td>12.0</td>\n",
       "      <td>19.0</td>\n",
       "      <td>25.0</td>\n",
       "      <td>19.0</td>\n",
       "      <td>0.0</td>\n",
       "      <td>18.0</td>\n",
       "      <td>...</td>\n",
       "      <td>10.0</td>\n",
       "      <td>18.0</td>\n",
       "      <td>10.0</td>\n",
       "      <td>9.0</td>\n",
       "      <td>25.0</td>\n",
       "      <td>18.0</td>\n",
       "      <td>12.0</td>\n",
       "      <td>15.0</td>\n",
       "      <td>10.0</td>\n",
       "      <td>15.0</td>\n",
       "    </tr>\n",
       "    <tr>\n",
       "      <th>RUS</th>\n",
       "      <td>12.0</td>\n",
       "      <td>10.0</td>\n",
       "      <td>15.0</td>\n",
       "      <td>12.0</td>\n",
       "      <td>10.0</td>\n",
       "      <td>15.0</td>\n",
       "      <td>10.0</td>\n",
       "      <td>15.0</td>\n",
       "      <td>12.0</td>\n",
       "      <td>0.0</td>\n",
       "      <td>...</td>\n",
       "      <td>15.0</td>\n",
       "      <td>12.0</td>\n",
       "      <td>18.0</td>\n",
       "      <td>15.0</td>\n",
       "      <td>0.0</td>\n",
       "      <td>4.0</td>\n",
       "      <td>11.0</td>\n",
       "      <td>13.0</td>\n",
       "      <td>34.0</td>\n",
       "      <td>10.0</td>\n",
       "    </tr>\n",
       "    <tr>\n",
       "      <th>SAI</th>\n",
       "      <td>18.0</td>\n",
       "      <td>15.0</td>\n",
       "      <td>0.0</td>\n",
       "      <td>5.0</td>\n",
       "      <td>15.0</td>\n",
       "      <td>12.0</td>\n",
       "      <td>18.0</td>\n",
       "      <td>0.0</td>\n",
       "      <td>19.0</td>\n",
       "      <td>25.0</td>\n",
       "      <td>...</td>\n",
       "      <td>12.0</td>\n",
       "      <td>15.0</td>\n",
       "      <td>4.0</td>\n",
       "      <td>12.0</td>\n",
       "      <td>15.0</td>\n",
       "      <td>0.0</td>\n",
       "      <td>0.0</td>\n",
       "      <td>10.0</td>\n",
       "      <td>22.0</td>\n",
       "      <td>12.0</td>\n",
       "    </tr>\n",
       "  </tbody>\n",
       "</table>\n",
       "<p>5 rows × 22 columns</p>\n",
       "</div>"
      ],
      "text/plain": [
       "race        Bahrain  Saudi Arabian  Australian  Emilia Romagna  Miami  \\\n",
       "driverCode                                                              \n",
       "VER             0.0           25.0         0.0            34.0   26.0   \n",
       "LEC            26.0           19.0        26.0            15.0   18.0   \n",
       "PER             0.0           12.0        18.0            24.0   12.0   \n",
       "RUS            12.0           10.0        15.0            12.0   10.0   \n",
       "SAI            18.0           15.0         0.0             5.0   15.0   \n",
       "\n",
       "race        Spanish  Monaco  Azerbaijan  Canadian  British  ...  Hungarian  \\\n",
       "driverCode                                                  ...              \n",
       "VER            25.0    15.0        25.0      25.0      6.0  ...       25.0   \n",
       "LEC             0.0    12.0         0.0      10.0     12.0  ...        8.0   \n",
       "PER            19.0    25.0        19.0       0.0     18.0  ...       10.0   \n",
       "RUS            15.0    10.0        15.0      12.0      0.0  ...       15.0   \n",
       "SAI            12.0    18.0         0.0      19.0     25.0  ...       12.0   \n",
       "\n",
       "race        Belgian  Dutch  Italian  Singapore  Japanese  United States  \\\n",
       "driverCode                                                                \n",
       "VER            26.0   26.0     25.0        6.0      25.0           25.0   \n",
       "LEC             8.0   15.0     18.0       18.0      15.0           15.0   \n",
       "PER            18.0   10.0      9.0       25.0      18.0           12.0   \n",
       "RUS            12.0   18.0     15.0        0.0       4.0           11.0   \n",
       "SAI            15.0    4.0     12.0       15.0       0.0            0.0   \n",
       "\n",
       "race        Mexico City  São Paulo  Abu Dhabi  \n",
       "driverCode                                     \n",
       "VER                25.0       13.0       25.0  \n",
       "LEC                 8.0       15.0       18.0  \n",
       "PER                15.0       10.0       15.0  \n",
       "RUS                13.0       34.0       10.0  \n",
       "SAI                10.0       22.0       12.0  \n",
       "\n",
       "[5 rows x 22 columns]"
      ]
     },
     "execution_count": 11,
     "metadata": {},
     "output_type": "execute_result"
    }
   ],
   "source": [
    "df_drivers_2022.head()"
   ]
  },
  {
   "cell_type": "markdown",
   "metadata": {},
   "source": [
    "Resultados equipos"
   ]
  },
  {
   "cell_type": "code",
   "execution_count": 15,
   "metadata": {},
   "outputs": [],
   "source": [
    "def get_constructor_championship(df_results):\n",
    "\n",
    "    \"\"\"wip\"\"\"\n",
    "\n",
    "    df = df_results.copy()\n",
    "\n",
    "    # Agrupar por 'round', 'race' y 'constructorName', y sumar los puntos\n",
    "    df = df.groupby(['round', 'race', 'constructorName'])['points'].sum().reset_index()\n",
    "\n",
    "    df = df.pivot(index='constructorName', columns='round', values='points')\n",
    "\n",
    "    # Rank the teams by their total points\n",
    "    df['total_points'] = df.sum(axis=1)\n",
    "    df = df.sort_values(by='total_points', ascending=False)\n",
    "    df.drop(columns='total_points', inplace=True)\n",
    "\n",
    "    # Use race name, instead of round no., as column names\n",
    "    df.columns = df_results['race'].drop_duplicates()\n",
    "\n",
    "    return df\n"
   ]
  },
  {
   "cell_type": "code",
   "execution_count": 13,
   "metadata": {},
   "outputs": [],
   "source": [
    "df_constructors_2022 = get_constructor_championship(df_2022)"
   ]
  },
  {
   "cell_type": "code",
   "execution_count": 14,
   "metadata": {},
   "outputs": [
    {
     "data": {
      "text/html": [
       "<div>\n",
       "<style scoped>\n",
       "    .dataframe tbody tr th:only-of-type {\n",
       "        vertical-align: middle;\n",
       "    }\n",
       "\n",
       "    .dataframe tbody tr th {\n",
       "        vertical-align: top;\n",
       "    }\n",
       "\n",
       "    .dataframe thead th {\n",
       "        text-align: right;\n",
       "    }\n",
       "</style>\n",
       "<table border=\"1\" class=\"dataframe\">\n",
       "  <thead>\n",
       "    <tr style=\"text-align: right;\">\n",
       "      <th>race</th>\n",
       "      <th>Bahrain</th>\n",
       "      <th>Saudi Arabian</th>\n",
       "      <th>Australian</th>\n",
       "      <th>Emilia Romagna</th>\n",
       "      <th>Miami</th>\n",
       "      <th>Spanish</th>\n",
       "      <th>Monaco</th>\n",
       "      <th>Azerbaijan</th>\n",
       "      <th>Canadian</th>\n",
       "      <th>British</th>\n",
       "      <th>...</th>\n",
       "      <th>Hungarian</th>\n",
       "      <th>Belgian</th>\n",
       "      <th>Dutch</th>\n",
       "      <th>Italian</th>\n",
       "      <th>Singapore</th>\n",
       "      <th>Japanese</th>\n",
       "      <th>United States</th>\n",
       "      <th>Mexico City</th>\n",
       "      <th>São Paulo</th>\n",
       "      <th>Abu Dhabi</th>\n",
       "    </tr>\n",
       "    <tr>\n",
       "      <th>constructorName</th>\n",
       "      <th></th>\n",
       "      <th></th>\n",
       "      <th></th>\n",
       "      <th></th>\n",
       "      <th></th>\n",
       "      <th></th>\n",
       "      <th></th>\n",
       "      <th></th>\n",
       "      <th></th>\n",
       "      <th></th>\n",
       "      <th></th>\n",
       "      <th></th>\n",
       "      <th></th>\n",
       "      <th></th>\n",
       "      <th></th>\n",
       "      <th></th>\n",
       "      <th></th>\n",
       "      <th></th>\n",
       "      <th></th>\n",
       "      <th></th>\n",
       "      <th></th>\n",
       "    </tr>\n",
       "  </thead>\n",
       "  <tbody>\n",
       "    <tr>\n",
       "      <th>Red Bull</th>\n",
       "      <td>0.0</td>\n",
       "      <td>37.0</td>\n",
       "      <td>18.0</td>\n",
       "      <td>58.0</td>\n",
       "      <td>38.0</td>\n",
       "      <td>44.0</td>\n",
       "      <td>40.0</td>\n",
       "      <td>44.0</td>\n",
       "      <td>25.0</td>\n",
       "      <td>24.0</td>\n",
       "      <td>...</td>\n",
       "      <td>35.0</td>\n",
       "      <td>44.0</td>\n",
       "      <td>36.0</td>\n",
       "      <td>34.0</td>\n",
       "      <td>31.0</td>\n",
       "      <td>43.0</td>\n",
       "      <td>37.0</td>\n",
       "      <td>40.0</td>\n",
       "      <td>23.0</td>\n",
       "      <td>40.0</td>\n",
       "    </tr>\n",
       "    <tr>\n",
       "      <th>Ferrari</th>\n",
       "      <td>44.0</td>\n",
       "      <td>34.0</td>\n",
       "      <td>26.0</td>\n",
       "      <td>20.0</td>\n",
       "      <td>33.0</td>\n",
       "      <td>12.0</td>\n",
       "      <td>30.0</td>\n",
       "      <td>0.0</td>\n",
       "      <td>29.0</td>\n",
       "      <td>37.0</td>\n",
       "      <td>...</td>\n",
       "      <td>20.0</td>\n",
       "      <td>23.0</td>\n",
       "      <td>19.0</td>\n",
       "      <td>30.0</td>\n",
       "      <td>33.0</td>\n",
       "      <td>15.0</td>\n",
       "      <td>15.0</td>\n",
       "      <td>18.0</td>\n",
       "      <td>37.0</td>\n",
       "      <td>30.0</td>\n",
       "    </tr>\n",
       "    <tr>\n",
       "      <th>Mercedes</th>\n",
       "      <td>27.0</td>\n",
       "      <td>11.0</td>\n",
       "      <td>27.0</td>\n",
       "      <td>12.0</td>\n",
       "      <td>18.0</td>\n",
       "      <td>25.0</td>\n",
       "      <td>14.0</td>\n",
       "      <td>27.0</td>\n",
       "      <td>27.0</td>\n",
       "      <td>16.0</td>\n",
       "      <td>...</td>\n",
       "      <td>34.0</td>\n",
       "      <td>12.0</td>\n",
       "      <td>30.0</td>\n",
       "      <td>25.0</td>\n",
       "      <td>2.0</td>\n",
       "      <td>14.0</td>\n",
       "      <td>29.0</td>\n",
       "      <td>31.0</td>\n",
       "      <td>58.0</td>\n",
       "      <td>10.0</td>\n",
       "    </tr>\n",
       "    <tr>\n",
       "      <th>Alpine F1 Team</th>\n",
       "      <td>8.0</td>\n",
       "      <td>8.0</td>\n",
       "      <td>6.0</td>\n",
       "      <td>0.0</td>\n",
       "      <td>4.0</td>\n",
       "      <td>8.0</td>\n",
       "      <td>6.0</td>\n",
       "      <td>7.0</td>\n",
       "      <td>10.0</td>\n",
       "      <td>10.0</td>\n",
       "      <td>...</td>\n",
       "      <td>6.0</td>\n",
       "      <td>16.0</td>\n",
       "      <td>10.0</td>\n",
       "      <td>0.0</td>\n",
       "      <td>0.0</td>\n",
       "      <td>18.0</td>\n",
       "      <td>6.0</td>\n",
       "      <td>4.0</td>\n",
       "      <td>14.0</td>\n",
       "      <td>6.0</td>\n",
       "    </tr>\n",
       "    <tr>\n",
       "      <th>McLaren</th>\n",
       "      <td>0.0</td>\n",
       "      <td>6.0</td>\n",
       "      <td>18.0</td>\n",
       "      <td>22.0</td>\n",
       "      <td>0.0</td>\n",
       "      <td>4.0</td>\n",
       "      <td>9.0</td>\n",
       "      <td>6.0</td>\n",
       "      <td>0.0</td>\n",
       "      <td>8.0</td>\n",
       "      <td>...</td>\n",
       "      <td>6.0</td>\n",
       "      <td>0.0</td>\n",
       "      <td>6.0</td>\n",
       "      <td>6.0</td>\n",
       "      <td>22.0</td>\n",
       "      <td>1.0</td>\n",
       "      <td>8.0</td>\n",
       "      <td>8.0</td>\n",
       "      <td>2.0</td>\n",
       "      <td>11.0</td>\n",
       "    </tr>\n",
       "  </tbody>\n",
       "</table>\n",
       "<p>5 rows × 22 columns</p>\n",
       "</div>"
      ],
      "text/plain": [
       "race             Bahrain  Saudi Arabian  Australian  Emilia Romagna  Miami  \\\n",
       "constructorName                                                              \n",
       "Red Bull             0.0           37.0        18.0            58.0   38.0   \n",
       "Ferrari             44.0           34.0        26.0            20.0   33.0   \n",
       "Mercedes            27.0           11.0        27.0            12.0   18.0   \n",
       "Alpine F1 Team       8.0            8.0         6.0             0.0    4.0   \n",
       "McLaren              0.0            6.0        18.0            22.0    0.0   \n",
       "\n",
       "race             Spanish  Monaco  Azerbaijan  Canadian  British  ...  \\\n",
       "constructorName                                                  ...   \n",
       "Red Bull            44.0    40.0        44.0      25.0     24.0  ...   \n",
       "Ferrari             12.0    30.0         0.0      29.0     37.0  ...   \n",
       "Mercedes            25.0    14.0        27.0      27.0     16.0  ...   \n",
       "Alpine F1 Team       8.0     6.0         7.0      10.0     10.0  ...   \n",
       "McLaren              4.0     9.0         6.0       0.0      8.0  ...   \n",
       "\n",
       "race             Hungarian  Belgian  Dutch  Italian  Singapore  Japanese  \\\n",
       "constructorName                                                            \n",
       "Red Bull              35.0     44.0   36.0     34.0       31.0      43.0   \n",
       "Ferrari               20.0     23.0   19.0     30.0       33.0      15.0   \n",
       "Mercedes              34.0     12.0   30.0     25.0        2.0      14.0   \n",
       "Alpine F1 Team         6.0     16.0   10.0      0.0        0.0      18.0   \n",
       "McLaren                6.0      0.0    6.0      6.0       22.0       1.0   \n",
       "\n",
       "race             United States  Mexico City  São Paulo  Abu Dhabi  \n",
       "constructorName                                                    \n",
       "Red Bull                  37.0         40.0       23.0       40.0  \n",
       "Ferrari                   15.0         18.0       37.0       30.0  \n",
       "Mercedes                  29.0         31.0       58.0       10.0  \n",
       "Alpine F1 Team             6.0          4.0       14.0        6.0  \n",
       "McLaren                    8.0          8.0        2.0       11.0  \n",
       "\n",
       "[5 rows x 22 columns]"
      ]
     },
     "execution_count": 14,
     "metadata": {},
     "output_type": "execute_result"
    }
   ],
   "source": [
    "df_constructors_2022.head()"
   ]
  },
  {
   "cell_type": "markdown",
   "metadata": {},
   "source": [
    "## Standings chart"
   ]
  },
  {
   "cell_type": "code",
   "execution_count": 34,
   "metadata": {},
   "outputs": [],
   "source": [
    "def plot_standings_chart(df):\n",
    "\n",
    "    \"\"\"wip: cambiar los resaltes para equipos, paleta de colores y estilos\"\"\"\n",
    "\n",
    "    tag = df.index.name\n",
    "\n",
    "    fig = px.imshow(\n",
    "        df,\n",
    "        text_auto=True,\n",
    "        aspect='auto',  # Automatically adjust the aspect ratio\n",
    "        color_continuous_scale=[[0,    'rgb(198, 219, 239)'],  # Blue scale\n",
    "                                [0.25, 'rgb(107, 174, 214)'],\n",
    "                                [0.5,  'rgb(33,  113, 181)'],\n",
    "                                [0.75, 'rgb(8,   81,  156)'],\n",
    "                                [1,    'rgb(8,   48,  107)']],\n",
    "        labels={'x': 'Race',\n",
    "                'y': tag,\n",
    "                'color': 'Points'}       # Change hover texts\n",
    "    )\n",
    "\n",
    "    # Remove axis titles\n",
    "    fig.update_xaxes(title_text='')\n",
    "    fig.update_yaxes(title_text='')\n",
    "\n",
    "    # Show all ticks, i.e. driver names\n",
    "    fig.update_yaxes(tickmode='linear')\n",
    "\n",
    "    # Show horizontal grid only\n",
    "    fig.update_yaxes(showgrid=True, gridwidth=1, gridcolor='LightGrey',\n",
    "                    showline=False,\n",
    "                    tickson='boundaries')\n",
    "    \n",
    "    # Remove vertical grid\n",
    "    fig.update_xaxes(showgrid=False, showline=False)\n",
    "\n",
    "    # White background\n",
    "    fig.update_layout(plot_bgcolor='rgba(0,0,0,0)')     \n",
    "\n",
    "    # Remove legend\n",
    "    fig.update_layout(coloraxis_showscale=False)   \n",
    "\n",
    "    # x-axis on top\n",
    "    fig.update_layout(xaxis=dict(side='top'))           \n",
    "\n",
    "    # Remove border margins\n",
    "    fig.update_layout(margin=dict(l=0, r=0, b=0, t=0))  \n",
    "\n",
    "    show(fig)"
   ]
  },
  {
   "cell_type": "code",
   "execution_count": 35,
   "metadata": {},
   "outputs": [
    {
     "data": {
      "application/vnd.plotly.v1+json": {
       "config": {
        "plotlyServerURL": "https://plot.ly"
       },
       "data": [
        {
         "coloraxis": "coloraxis",
         "hovertemplate": "Race: %{x}<br>driverCode: %{y}<br>Points: %{z}<extra></extra>",
         "name": "0",
         "texttemplate": "%{z}",
         "type": "heatmap",
         "x": [
          "Bahrain",
          "Saudi Arabian",
          "Australian",
          "Emilia Romagna",
          "Miami",
          "Spanish",
          "Monaco",
          "Azerbaijan",
          "Canadian",
          "British",
          "Austrian",
          "French",
          "Hungarian",
          "Belgian",
          "Dutch",
          "Italian",
          "Singapore",
          "Japanese",
          "United States",
          "Mexico City",
          "São Paulo",
          "Abu Dhabi"
         ],
         "xaxis": "x",
         "y": [
          "VER",
          "LEC",
          "PER",
          "RUS",
          "SAI",
          "HAM",
          "NOR",
          "OCO",
          "ALO",
          "BOT",
          "VET",
          "RIC",
          "MAG",
          "GAS",
          "STR",
          "TSU",
          "MSC",
          "ZHO",
          "ALB",
          "LAT",
          "DEV",
          "HUL"
         ],
         "yaxis": "y",
         "z": [
          [
           0,
           25,
           0,
           34,
           26,
           25,
           15,
           25,
           25,
           6,
           27,
           25,
           25,
           26,
           26,
           25,
           6,
           25,
           25,
           25,
           13,
           25
          ],
          [
           26,
           19,
           26,
           15,
           18,
           0,
           12,
           0,
           10,
           12,
           32,
           0,
           8,
           8,
           15,
           18,
           18,
           15,
           15,
           8,
           15,
           18
          ],
          [
           0,
           12,
           18,
           24,
           12,
           19,
           25,
           19,
           0,
           18,
           4,
           12,
           10,
           18,
           10,
           9,
           25,
           18,
           12,
           15,
           10,
           15
          ],
          [
           12,
           10,
           15,
           12,
           10,
           15,
           10,
           15,
           12,
           0,
           17,
           15,
           15,
           12,
           18,
           15,
           0,
           4,
           11,
           13,
           34,
           10
          ],
          [
           18,
           15,
           0,
           5,
           15,
           12,
           18,
           0,
           19,
           25,
           6,
           11,
           12,
           15,
           4,
           12,
           15,
           0,
           0,
           10,
           22,
           12
          ],
          [
           15,
           1,
           12,
           0,
           8,
           10,
           4,
           12,
           15,
           16,
           16,
           18,
           19,
           0,
           12,
           10,
           2,
           10,
           18,
           18,
           24,
           0
          ],
          [
           0,
           6,
           10,
           19,
           0,
           4,
           9,
           2,
           0,
           8,
           6,
           6,
           6,
           0,
           6,
           6,
           12,
           1,
           8,
           2,
           2,
           9
          ],
          [
           6,
           8,
           6,
           0,
           4,
           6,
           0,
           1,
           8,
           0,
           13,
           4,
           2,
           6,
           2,
           0,
           0,
           12,
           0,
           4,
           4,
           6
          ],
          [
           2,
           0,
           0,
           0,
           0,
           2,
           6,
           6,
           2,
           10,
           1,
           8,
           4,
           10,
           8,
           0,
           0,
           6,
           6,
           0,
           10,
           0
          ],
          [
           8,
           0,
           4,
           12,
           6,
           8,
           2,
           0,
           6,
           0,
           0,
           0,
           0,
           0,
           0,
           0,
           0,
           0,
           0,
           1,
           2,
           0
          ],
          [
           null,
           null,
           0,
           4,
           0,
           0,
           1,
           8,
           0,
           2,
           0,
           0,
           1,
           4,
           0,
           0,
           4,
           8,
           4,
           0,
           0,
           1
          ],
          [
           0,
           0,
           8,
           3,
           0,
           0,
           0,
           4,
           0,
           0,
           2,
           2,
           0,
           0,
           0,
           0,
           10,
           0,
           0,
           6,
           0,
           2
          ],
          [
           10,
           2,
           0,
           3,
           0,
           0,
           0,
           0,
           0,
           1,
           6,
           0,
           0,
           0,
           0,
           0,
           0,
           0,
           2,
           0,
           1,
           0
          ],
          [
           0,
           4,
           2,
           0,
           0,
           0,
           0,
           10,
           0,
           0,
           0,
           0,
           0,
           2,
           0,
           4,
           1,
           0,
           0,
           0,
           0,
           0
          ],
          [
           0,
           0,
           0,
           1,
           1,
           0,
           0,
           0,
           1,
           0,
           0,
           1,
           0,
           0,
           1,
           0,
           8,
           0,
           0,
           0,
           1,
           4
          ],
          [
           4,
           0,
           0,
           6,
           0,
           1,
           0,
           0,
           0,
           0,
           0,
           0,
           0,
           0,
           0,
           0,
           0,
           0,
           1,
           0,
           0,
           0
          ],
          [
           0,
           0,
           0,
           0,
           0,
           0,
           0,
           0,
           0,
           4,
           8,
           0,
           0,
           0,
           0,
           0,
           0,
           0,
           0,
           0,
           0,
           0
          ],
          [
           1,
           0,
           0,
           0,
           0,
           0,
           0,
           0,
           4,
           0,
           0,
           0,
           0,
           0,
           0,
           1,
           0,
           0,
           0,
           0,
           0,
           0
          ],
          [
           0,
           0,
           1,
           0,
           2,
           0,
           0,
           0,
           0,
           0,
           0,
           0,
           0,
           1,
           0,
           null,
           0,
           0,
           0,
           0,
           0,
           0
          ],
          [
           0,
           0,
           0,
           0,
           0,
           0,
           0,
           0,
           0,
           0,
           0,
           0,
           0,
           0,
           0,
           0,
           0,
           2,
           0,
           0,
           0,
           0
          ],
          [
           null,
           null,
           null,
           null,
           null,
           null,
           null,
           null,
           null,
           null,
           null,
           null,
           null,
           null,
           null,
           2,
           null,
           null,
           null,
           null,
           null,
           null
          ],
          [
           0,
           0,
           null,
           null,
           null,
           null,
           null,
           null,
           null,
           null,
           null,
           null,
           null,
           null,
           null,
           null,
           null,
           null,
           null,
           null,
           null,
           null
          ]
         ]
        }
       ],
       "layout": {
        "coloraxis": {
         "colorbar": {
          "title": {
           "text": "Points"
          }
         },
         "colorscale": [
          [
           0,
           "rgb(198, 219, 239)"
          ],
          [
           0.25,
           "rgb(107, 174, 214)"
          ],
          [
           0.5,
           "rgb(33,  113, 181)"
          ],
          [
           0.75,
           "rgb(8,   81,  156)"
          ],
          [
           1,
           "rgb(8,   48,  107)"
          ]
         ],
         "showscale": false
        },
        "margin": {
         "b": 0,
         "l": 0,
         "r": 0,
         "t": 0
        },
        "plot_bgcolor": "rgba(0,0,0,0)",
        "template": {
         "data": {
          "bar": [
           {
            "error_x": {
             "color": "#2a3f5f"
            },
            "error_y": {
             "color": "#2a3f5f"
            },
            "marker": {
             "line": {
              "color": "#E5ECF6",
              "width": 0.5
             },
             "pattern": {
              "fillmode": "overlay",
              "size": 10,
              "solidity": 0.2
             }
            },
            "type": "bar"
           }
          ],
          "barpolar": [
           {
            "marker": {
             "line": {
              "color": "#E5ECF6",
              "width": 0.5
             },
             "pattern": {
              "fillmode": "overlay",
              "size": 10,
              "solidity": 0.2
             }
            },
            "type": "barpolar"
           }
          ],
          "carpet": [
           {
            "aaxis": {
             "endlinecolor": "#2a3f5f",
             "gridcolor": "white",
             "linecolor": "white",
             "minorgridcolor": "white",
             "startlinecolor": "#2a3f5f"
            },
            "baxis": {
             "endlinecolor": "#2a3f5f",
             "gridcolor": "white",
             "linecolor": "white",
             "minorgridcolor": "white",
             "startlinecolor": "#2a3f5f"
            },
            "type": "carpet"
           }
          ],
          "choropleth": [
           {
            "colorbar": {
             "outlinewidth": 0,
             "ticks": ""
            },
            "type": "choropleth"
           }
          ],
          "contour": [
           {
            "colorbar": {
             "outlinewidth": 0,
             "ticks": ""
            },
            "colorscale": [
             [
              0,
              "#0d0887"
             ],
             [
              0.1111111111111111,
              "#46039f"
             ],
             [
              0.2222222222222222,
              "#7201a8"
             ],
             [
              0.3333333333333333,
              "#9c179e"
             ],
             [
              0.4444444444444444,
              "#bd3786"
             ],
             [
              0.5555555555555556,
              "#d8576b"
             ],
             [
              0.6666666666666666,
              "#ed7953"
             ],
             [
              0.7777777777777778,
              "#fb9f3a"
             ],
             [
              0.8888888888888888,
              "#fdca26"
             ],
             [
              1,
              "#f0f921"
             ]
            ],
            "type": "contour"
           }
          ],
          "contourcarpet": [
           {
            "colorbar": {
             "outlinewidth": 0,
             "ticks": ""
            },
            "type": "contourcarpet"
           }
          ],
          "heatmap": [
           {
            "colorbar": {
             "outlinewidth": 0,
             "ticks": ""
            },
            "colorscale": [
             [
              0,
              "#0d0887"
             ],
             [
              0.1111111111111111,
              "#46039f"
             ],
             [
              0.2222222222222222,
              "#7201a8"
             ],
             [
              0.3333333333333333,
              "#9c179e"
             ],
             [
              0.4444444444444444,
              "#bd3786"
             ],
             [
              0.5555555555555556,
              "#d8576b"
             ],
             [
              0.6666666666666666,
              "#ed7953"
             ],
             [
              0.7777777777777778,
              "#fb9f3a"
             ],
             [
              0.8888888888888888,
              "#fdca26"
             ],
             [
              1,
              "#f0f921"
             ]
            ],
            "type": "heatmap"
           }
          ],
          "heatmapgl": [
           {
            "colorbar": {
             "outlinewidth": 0,
             "ticks": ""
            },
            "colorscale": [
             [
              0,
              "#0d0887"
             ],
             [
              0.1111111111111111,
              "#46039f"
             ],
             [
              0.2222222222222222,
              "#7201a8"
             ],
             [
              0.3333333333333333,
              "#9c179e"
             ],
             [
              0.4444444444444444,
              "#bd3786"
             ],
             [
              0.5555555555555556,
              "#d8576b"
             ],
             [
              0.6666666666666666,
              "#ed7953"
             ],
             [
              0.7777777777777778,
              "#fb9f3a"
             ],
             [
              0.8888888888888888,
              "#fdca26"
             ],
             [
              1,
              "#f0f921"
             ]
            ],
            "type": "heatmapgl"
           }
          ],
          "histogram": [
           {
            "marker": {
             "pattern": {
              "fillmode": "overlay",
              "size": 10,
              "solidity": 0.2
             }
            },
            "type": "histogram"
           }
          ],
          "histogram2d": [
           {
            "colorbar": {
             "outlinewidth": 0,
             "ticks": ""
            },
            "colorscale": [
             [
              0,
              "#0d0887"
             ],
             [
              0.1111111111111111,
              "#46039f"
             ],
             [
              0.2222222222222222,
              "#7201a8"
             ],
             [
              0.3333333333333333,
              "#9c179e"
             ],
             [
              0.4444444444444444,
              "#bd3786"
             ],
             [
              0.5555555555555556,
              "#d8576b"
             ],
             [
              0.6666666666666666,
              "#ed7953"
             ],
             [
              0.7777777777777778,
              "#fb9f3a"
             ],
             [
              0.8888888888888888,
              "#fdca26"
             ],
             [
              1,
              "#f0f921"
             ]
            ],
            "type": "histogram2d"
           }
          ],
          "histogram2dcontour": [
           {
            "colorbar": {
             "outlinewidth": 0,
             "ticks": ""
            },
            "colorscale": [
             [
              0,
              "#0d0887"
             ],
             [
              0.1111111111111111,
              "#46039f"
             ],
             [
              0.2222222222222222,
              "#7201a8"
             ],
             [
              0.3333333333333333,
              "#9c179e"
             ],
             [
              0.4444444444444444,
              "#bd3786"
             ],
             [
              0.5555555555555556,
              "#d8576b"
             ],
             [
              0.6666666666666666,
              "#ed7953"
             ],
             [
              0.7777777777777778,
              "#fb9f3a"
             ],
             [
              0.8888888888888888,
              "#fdca26"
             ],
             [
              1,
              "#f0f921"
             ]
            ],
            "type": "histogram2dcontour"
           }
          ],
          "mesh3d": [
           {
            "colorbar": {
             "outlinewidth": 0,
             "ticks": ""
            },
            "type": "mesh3d"
           }
          ],
          "parcoords": [
           {
            "line": {
             "colorbar": {
              "outlinewidth": 0,
              "ticks": ""
             }
            },
            "type": "parcoords"
           }
          ],
          "pie": [
           {
            "automargin": true,
            "type": "pie"
           }
          ],
          "scatter": [
           {
            "fillpattern": {
             "fillmode": "overlay",
             "size": 10,
             "solidity": 0.2
            },
            "type": "scatter"
           }
          ],
          "scatter3d": [
           {
            "line": {
             "colorbar": {
              "outlinewidth": 0,
              "ticks": ""
             }
            },
            "marker": {
             "colorbar": {
              "outlinewidth": 0,
              "ticks": ""
             }
            },
            "type": "scatter3d"
           }
          ],
          "scattercarpet": [
           {
            "marker": {
             "colorbar": {
              "outlinewidth": 0,
              "ticks": ""
             }
            },
            "type": "scattercarpet"
           }
          ],
          "scattergeo": [
           {
            "marker": {
             "colorbar": {
              "outlinewidth": 0,
              "ticks": ""
             }
            },
            "type": "scattergeo"
           }
          ],
          "scattergl": [
           {
            "marker": {
             "colorbar": {
              "outlinewidth": 0,
              "ticks": ""
             }
            },
            "type": "scattergl"
           }
          ],
          "scattermapbox": [
           {
            "marker": {
             "colorbar": {
              "outlinewidth": 0,
              "ticks": ""
             }
            },
            "type": "scattermapbox"
           }
          ],
          "scatterpolar": [
           {
            "marker": {
             "colorbar": {
              "outlinewidth": 0,
              "ticks": ""
             }
            },
            "type": "scatterpolar"
           }
          ],
          "scatterpolargl": [
           {
            "marker": {
             "colorbar": {
              "outlinewidth": 0,
              "ticks": ""
             }
            },
            "type": "scatterpolargl"
           }
          ],
          "scatterternary": [
           {
            "marker": {
             "colorbar": {
              "outlinewidth": 0,
              "ticks": ""
             }
            },
            "type": "scatterternary"
           }
          ],
          "surface": [
           {
            "colorbar": {
             "outlinewidth": 0,
             "ticks": ""
            },
            "colorscale": [
             [
              0,
              "#0d0887"
             ],
             [
              0.1111111111111111,
              "#46039f"
             ],
             [
              0.2222222222222222,
              "#7201a8"
             ],
             [
              0.3333333333333333,
              "#9c179e"
             ],
             [
              0.4444444444444444,
              "#bd3786"
             ],
             [
              0.5555555555555556,
              "#d8576b"
             ],
             [
              0.6666666666666666,
              "#ed7953"
             ],
             [
              0.7777777777777778,
              "#fb9f3a"
             ],
             [
              0.8888888888888888,
              "#fdca26"
             ],
             [
              1,
              "#f0f921"
             ]
            ],
            "type": "surface"
           }
          ],
          "table": [
           {
            "cells": {
             "fill": {
              "color": "#EBF0F8"
             },
             "line": {
              "color": "white"
             }
            },
            "header": {
             "fill": {
              "color": "#C8D4E3"
             },
             "line": {
              "color": "white"
             }
            },
            "type": "table"
           }
          ]
         },
         "layout": {
          "annotationdefaults": {
           "arrowcolor": "#2a3f5f",
           "arrowhead": 0,
           "arrowwidth": 1
          },
          "autotypenumbers": "strict",
          "coloraxis": {
           "colorbar": {
            "outlinewidth": 0,
            "ticks": ""
           }
          },
          "colorscale": {
           "diverging": [
            [
             0,
             "#8e0152"
            ],
            [
             0.1,
             "#c51b7d"
            ],
            [
             0.2,
             "#de77ae"
            ],
            [
             0.3,
             "#f1b6da"
            ],
            [
             0.4,
             "#fde0ef"
            ],
            [
             0.5,
             "#f7f7f7"
            ],
            [
             0.6,
             "#e6f5d0"
            ],
            [
             0.7,
             "#b8e186"
            ],
            [
             0.8,
             "#7fbc41"
            ],
            [
             0.9,
             "#4d9221"
            ],
            [
             1,
             "#276419"
            ]
           ],
           "sequential": [
            [
             0,
             "#0d0887"
            ],
            [
             0.1111111111111111,
             "#46039f"
            ],
            [
             0.2222222222222222,
             "#7201a8"
            ],
            [
             0.3333333333333333,
             "#9c179e"
            ],
            [
             0.4444444444444444,
             "#bd3786"
            ],
            [
             0.5555555555555556,
             "#d8576b"
            ],
            [
             0.6666666666666666,
             "#ed7953"
            ],
            [
             0.7777777777777778,
             "#fb9f3a"
            ],
            [
             0.8888888888888888,
             "#fdca26"
            ],
            [
             1,
             "#f0f921"
            ]
           ],
           "sequentialminus": [
            [
             0,
             "#0d0887"
            ],
            [
             0.1111111111111111,
             "#46039f"
            ],
            [
             0.2222222222222222,
             "#7201a8"
            ],
            [
             0.3333333333333333,
             "#9c179e"
            ],
            [
             0.4444444444444444,
             "#bd3786"
            ],
            [
             0.5555555555555556,
             "#d8576b"
            ],
            [
             0.6666666666666666,
             "#ed7953"
            ],
            [
             0.7777777777777778,
             "#fb9f3a"
            ],
            [
             0.8888888888888888,
             "#fdca26"
            ],
            [
             1,
             "#f0f921"
            ]
           ]
          },
          "colorway": [
           "#636efa",
           "#EF553B",
           "#00cc96",
           "#ab63fa",
           "#FFA15A",
           "#19d3f3",
           "#FF6692",
           "#B6E880",
           "#FF97FF",
           "#FECB52"
          ],
          "font": {
           "color": "#2a3f5f"
          },
          "geo": {
           "bgcolor": "white",
           "lakecolor": "white",
           "landcolor": "#E5ECF6",
           "showlakes": true,
           "showland": true,
           "subunitcolor": "white"
          },
          "hoverlabel": {
           "align": "left"
          },
          "hovermode": "closest",
          "mapbox": {
           "style": "light"
          },
          "paper_bgcolor": "white",
          "plot_bgcolor": "#E5ECF6",
          "polar": {
           "angularaxis": {
            "gridcolor": "white",
            "linecolor": "white",
            "ticks": ""
           },
           "bgcolor": "#E5ECF6",
           "radialaxis": {
            "gridcolor": "white",
            "linecolor": "white",
            "ticks": ""
           }
          },
          "scene": {
           "xaxis": {
            "backgroundcolor": "#E5ECF6",
            "gridcolor": "white",
            "gridwidth": 2,
            "linecolor": "white",
            "showbackground": true,
            "ticks": "",
            "zerolinecolor": "white"
           },
           "yaxis": {
            "backgroundcolor": "#E5ECF6",
            "gridcolor": "white",
            "gridwidth": 2,
            "linecolor": "white",
            "showbackground": true,
            "ticks": "",
            "zerolinecolor": "white"
           },
           "zaxis": {
            "backgroundcolor": "#E5ECF6",
            "gridcolor": "white",
            "gridwidth": 2,
            "linecolor": "white",
            "showbackground": true,
            "ticks": "",
            "zerolinecolor": "white"
           }
          },
          "shapedefaults": {
           "line": {
            "color": "#2a3f5f"
           }
          },
          "ternary": {
           "aaxis": {
            "gridcolor": "white",
            "linecolor": "white",
            "ticks": ""
           },
           "baxis": {
            "gridcolor": "white",
            "linecolor": "white",
            "ticks": ""
           },
           "bgcolor": "#E5ECF6",
           "caxis": {
            "gridcolor": "white",
            "linecolor": "white",
            "ticks": ""
           }
          },
          "title": {
           "x": 0.05
          },
          "xaxis": {
           "automargin": true,
           "gridcolor": "white",
           "linecolor": "white",
           "ticks": "",
           "title": {
            "standoff": 15
           },
           "zerolinecolor": "white",
           "zerolinewidth": 2
          },
          "yaxis": {
           "automargin": true,
           "gridcolor": "white",
           "linecolor": "white",
           "ticks": "",
           "title": {
            "standoff": 15
           },
           "zerolinecolor": "white",
           "zerolinewidth": 2
          }
         }
        },
        "xaxis": {
         "anchor": "y",
         "domain": [
          0,
          1
         ],
         "showgrid": false,
         "showline": false,
         "side": "top",
         "title": {
          "text": ""
         }
        },
        "yaxis": {
         "anchor": "x",
         "autorange": "reversed",
         "domain": [
          0,
          1
         ],
         "gridcolor": "LightGrey",
         "gridwidth": 1,
         "showgrid": true,
         "showline": false,
         "tickmode": "linear",
         "tickson": "boundaries",
         "title": {
          "text": ""
         }
        }
       }
      }
     },
     "metadata": {},
     "output_type": "display_data"
    }
   ],
   "source": [
    "plot_standings_chart(df_drivers_2022)"
   ]
  },
  {
   "cell_type": "markdown",
   "metadata": {},
   "source": [
    "Hay que cambiar los resaltes para equipos"
   ]
  },
  {
   "cell_type": "code",
   "execution_count": 36,
   "metadata": {},
   "outputs": [
    {
     "data": {
      "application/vnd.plotly.v1+json": {
       "config": {
        "plotlyServerURL": "https://plot.ly"
       },
       "data": [
        {
         "coloraxis": "coloraxis",
         "hovertemplate": "Race: %{x}<br>constructorName: %{y}<br>Points: %{z}<extra></extra>",
         "name": "0",
         "texttemplate": "%{z}",
         "type": "heatmap",
         "x": [
          "Bahrain",
          "Saudi Arabian",
          "Australian",
          "Emilia Romagna",
          "Miami",
          "Spanish",
          "Monaco",
          "Azerbaijan",
          "Canadian",
          "British",
          "Austrian",
          "French",
          "Hungarian",
          "Belgian",
          "Dutch",
          "Italian",
          "Singapore",
          "Japanese",
          "United States",
          "Mexico City",
          "São Paulo",
          "Abu Dhabi"
         ],
         "xaxis": "x",
         "y": [
          "Red Bull",
          "Ferrari",
          "Mercedes",
          "Alpine F1 Team",
          "McLaren",
          "Alfa Romeo",
          "Aston Martin",
          "Haas F1 Team",
          "AlphaTauri",
          "Williams"
         ],
         "yaxis": "y",
         "z": [
          [
           0,
           37,
           18,
           58,
           38,
           44,
           40,
           44,
           25,
           24,
           31,
           37,
           35,
           44,
           36,
           34,
           31,
           43,
           37,
           40,
           23,
           40
          ],
          [
           44,
           34,
           26,
           20,
           33,
           12,
           30,
           0,
           29,
           37,
           38,
           11,
           20,
           23,
           19,
           30,
           33,
           15,
           15,
           18,
           37,
           30
          ],
          [
           27,
           11,
           27,
           12,
           18,
           25,
           14,
           27,
           27,
           16,
           33,
           33,
           34,
           12,
           30,
           25,
           2,
           14,
           29,
           31,
           58,
           10
          ],
          [
           8,
           8,
           6,
           0,
           4,
           8,
           6,
           7,
           10,
           10,
           14,
           12,
           6,
           16,
           10,
           0,
           0,
           18,
           6,
           4,
           14,
           6
          ],
          [
           0,
           6,
           18,
           22,
           0,
           4,
           9,
           6,
           0,
           8,
           8,
           8,
           6,
           0,
           6,
           6,
           22,
           1,
           8,
           8,
           2,
           11
          ],
          [
           9,
           0,
           4,
           12,
           6,
           8,
           2,
           0,
           10,
           0,
           0,
           0,
           0,
           0,
           0,
           1,
           0,
           0,
           0,
           1,
           2,
           0
          ],
          [
           0,
           0,
           0,
           5,
           1,
           0,
           1,
           8,
           1,
           2,
           0,
           1,
           1,
           4,
           1,
           0,
           12,
           8,
           4,
           0,
           1,
           5
          ],
          [
           10,
           2,
           0,
           3,
           0,
           0,
           0,
           0,
           0,
           5,
           14,
           0,
           0,
           0,
           0,
           0,
           0,
           0,
           2,
           0,
           1,
           0
          ],
          [
           4,
           4,
           2,
           6,
           0,
           1,
           0,
           10,
           0,
           0,
           0,
           0,
           0,
           2,
           0,
           4,
           1,
           0,
           1,
           0,
           0,
           0
          ],
          [
           0,
           0,
           1,
           0,
           2,
           0,
           0,
           0,
           0,
           0,
           0,
           0,
           0,
           1,
           0,
           2,
           0,
           2,
           0,
           0,
           0,
           0
          ]
         ]
        }
       ],
       "layout": {
        "coloraxis": {
         "colorbar": {
          "title": {
           "text": "Points"
          }
         },
         "colorscale": [
          [
           0,
           "rgb(198, 219, 239)"
          ],
          [
           0.25,
           "rgb(107, 174, 214)"
          ],
          [
           0.5,
           "rgb(33,  113, 181)"
          ],
          [
           0.75,
           "rgb(8,   81,  156)"
          ],
          [
           1,
           "rgb(8,   48,  107)"
          ]
         ],
         "showscale": false
        },
        "margin": {
         "b": 0,
         "l": 0,
         "r": 0,
         "t": 0
        },
        "plot_bgcolor": "rgba(0,0,0,0)",
        "template": {
         "data": {
          "bar": [
           {
            "error_x": {
             "color": "#2a3f5f"
            },
            "error_y": {
             "color": "#2a3f5f"
            },
            "marker": {
             "line": {
              "color": "#E5ECF6",
              "width": 0.5
             },
             "pattern": {
              "fillmode": "overlay",
              "size": 10,
              "solidity": 0.2
             }
            },
            "type": "bar"
           }
          ],
          "barpolar": [
           {
            "marker": {
             "line": {
              "color": "#E5ECF6",
              "width": 0.5
             },
             "pattern": {
              "fillmode": "overlay",
              "size": 10,
              "solidity": 0.2
             }
            },
            "type": "barpolar"
           }
          ],
          "carpet": [
           {
            "aaxis": {
             "endlinecolor": "#2a3f5f",
             "gridcolor": "white",
             "linecolor": "white",
             "minorgridcolor": "white",
             "startlinecolor": "#2a3f5f"
            },
            "baxis": {
             "endlinecolor": "#2a3f5f",
             "gridcolor": "white",
             "linecolor": "white",
             "minorgridcolor": "white",
             "startlinecolor": "#2a3f5f"
            },
            "type": "carpet"
           }
          ],
          "choropleth": [
           {
            "colorbar": {
             "outlinewidth": 0,
             "ticks": ""
            },
            "type": "choropleth"
           }
          ],
          "contour": [
           {
            "colorbar": {
             "outlinewidth": 0,
             "ticks": ""
            },
            "colorscale": [
             [
              0,
              "#0d0887"
             ],
             [
              0.1111111111111111,
              "#46039f"
             ],
             [
              0.2222222222222222,
              "#7201a8"
             ],
             [
              0.3333333333333333,
              "#9c179e"
             ],
             [
              0.4444444444444444,
              "#bd3786"
             ],
             [
              0.5555555555555556,
              "#d8576b"
             ],
             [
              0.6666666666666666,
              "#ed7953"
             ],
             [
              0.7777777777777778,
              "#fb9f3a"
             ],
             [
              0.8888888888888888,
              "#fdca26"
             ],
             [
              1,
              "#f0f921"
             ]
            ],
            "type": "contour"
           }
          ],
          "contourcarpet": [
           {
            "colorbar": {
             "outlinewidth": 0,
             "ticks": ""
            },
            "type": "contourcarpet"
           }
          ],
          "heatmap": [
           {
            "colorbar": {
             "outlinewidth": 0,
             "ticks": ""
            },
            "colorscale": [
             [
              0,
              "#0d0887"
             ],
             [
              0.1111111111111111,
              "#46039f"
             ],
             [
              0.2222222222222222,
              "#7201a8"
             ],
             [
              0.3333333333333333,
              "#9c179e"
             ],
             [
              0.4444444444444444,
              "#bd3786"
             ],
             [
              0.5555555555555556,
              "#d8576b"
             ],
             [
              0.6666666666666666,
              "#ed7953"
             ],
             [
              0.7777777777777778,
              "#fb9f3a"
             ],
             [
              0.8888888888888888,
              "#fdca26"
             ],
             [
              1,
              "#f0f921"
             ]
            ],
            "type": "heatmap"
           }
          ],
          "heatmapgl": [
           {
            "colorbar": {
             "outlinewidth": 0,
             "ticks": ""
            },
            "colorscale": [
             [
              0,
              "#0d0887"
             ],
             [
              0.1111111111111111,
              "#46039f"
             ],
             [
              0.2222222222222222,
              "#7201a8"
             ],
             [
              0.3333333333333333,
              "#9c179e"
             ],
             [
              0.4444444444444444,
              "#bd3786"
             ],
             [
              0.5555555555555556,
              "#d8576b"
             ],
             [
              0.6666666666666666,
              "#ed7953"
             ],
             [
              0.7777777777777778,
              "#fb9f3a"
             ],
             [
              0.8888888888888888,
              "#fdca26"
             ],
             [
              1,
              "#f0f921"
             ]
            ],
            "type": "heatmapgl"
           }
          ],
          "histogram": [
           {
            "marker": {
             "pattern": {
              "fillmode": "overlay",
              "size": 10,
              "solidity": 0.2
             }
            },
            "type": "histogram"
           }
          ],
          "histogram2d": [
           {
            "colorbar": {
             "outlinewidth": 0,
             "ticks": ""
            },
            "colorscale": [
             [
              0,
              "#0d0887"
             ],
             [
              0.1111111111111111,
              "#46039f"
             ],
             [
              0.2222222222222222,
              "#7201a8"
             ],
             [
              0.3333333333333333,
              "#9c179e"
             ],
             [
              0.4444444444444444,
              "#bd3786"
             ],
             [
              0.5555555555555556,
              "#d8576b"
             ],
             [
              0.6666666666666666,
              "#ed7953"
             ],
             [
              0.7777777777777778,
              "#fb9f3a"
             ],
             [
              0.8888888888888888,
              "#fdca26"
             ],
             [
              1,
              "#f0f921"
             ]
            ],
            "type": "histogram2d"
           }
          ],
          "histogram2dcontour": [
           {
            "colorbar": {
             "outlinewidth": 0,
             "ticks": ""
            },
            "colorscale": [
             [
              0,
              "#0d0887"
             ],
             [
              0.1111111111111111,
              "#46039f"
             ],
             [
              0.2222222222222222,
              "#7201a8"
             ],
             [
              0.3333333333333333,
              "#9c179e"
             ],
             [
              0.4444444444444444,
              "#bd3786"
             ],
             [
              0.5555555555555556,
              "#d8576b"
             ],
             [
              0.6666666666666666,
              "#ed7953"
             ],
             [
              0.7777777777777778,
              "#fb9f3a"
             ],
             [
              0.8888888888888888,
              "#fdca26"
             ],
             [
              1,
              "#f0f921"
             ]
            ],
            "type": "histogram2dcontour"
           }
          ],
          "mesh3d": [
           {
            "colorbar": {
             "outlinewidth": 0,
             "ticks": ""
            },
            "type": "mesh3d"
           }
          ],
          "parcoords": [
           {
            "line": {
             "colorbar": {
              "outlinewidth": 0,
              "ticks": ""
             }
            },
            "type": "parcoords"
           }
          ],
          "pie": [
           {
            "automargin": true,
            "type": "pie"
           }
          ],
          "scatter": [
           {
            "fillpattern": {
             "fillmode": "overlay",
             "size": 10,
             "solidity": 0.2
            },
            "type": "scatter"
           }
          ],
          "scatter3d": [
           {
            "line": {
             "colorbar": {
              "outlinewidth": 0,
              "ticks": ""
             }
            },
            "marker": {
             "colorbar": {
              "outlinewidth": 0,
              "ticks": ""
             }
            },
            "type": "scatter3d"
           }
          ],
          "scattercarpet": [
           {
            "marker": {
             "colorbar": {
              "outlinewidth": 0,
              "ticks": ""
             }
            },
            "type": "scattercarpet"
           }
          ],
          "scattergeo": [
           {
            "marker": {
             "colorbar": {
              "outlinewidth": 0,
              "ticks": ""
             }
            },
            "type": "scattergeo"
           }
          ],
          "scattergl": [
           {
            "marker": {
             "colorbar": {
              "outlinewidth": 0,
              "ticks": ""
             }
            },
            "type": "scattergl"
           }
          ],
          "scattermapbox": [
           {
            "marker": {
             "colorbar": {
              "outlinewidth": 0,
              "ticks": ""
             }
            },
            "type": "scattermapbox"
           }
          ],
          "scatterpolar": [
           {
            "marker": {
             "colorbar": {
              "outlinewidth": 0,
              "ticks": ""
             }
            },
            "type": "scatterpolar"
           }
          ],
          "scatterpolargl": [
           {
            "marker": {
             "colorbar": {
              "outlinewidth": 0,
              "ticks": ""
             }
            },
            "type": "scatterpolargl"
           }
          ],
          "scatterternary": [
           {
            "marker": {
             "colorbar": {
              "outlinewidth": 0,
              "ticks": ""
             }
            },
            "type": "scatterternary"
           }
          ],
          "surface": [
           {
            "colorbar": {
             "outlinewidth": 0,
             "ticks": ""
            },
            "colorscale": [
             [
              0,
              "#0d0887"
             ],
             [
              0.1111111111111111,
              "#46039f"
             ],
             [
              0.2222222222222222,
              "#7201a8"
             ],
             [
              0.3333333333333333,
              "#9c179e"
             ],
             [
              0.4444444444444444,
              "#bd3786"
             ],
             [
              0.5555555555555556,
              "#d8576b"
             ],
             [
              0.6666666666666666,
              "#ed7953"
             ],
             [
              0.7777777777777778,
              "#fb9f3a"
             ],
             [
              0.8888888888888888,
              "#fdca26"
             ],
             [
              1,
              "#f0f921"
             ]
            ],
            "type": "surface"
           }
          ],
          "table": [
           {
            "cells": {
             "fill": {
              "color": "#EBF0F8"
             },
             "line": {
              "color": "white"
             }
            },
            "header": {
             "fill": {
              "color": "#C8D4E3"
             },
             "line": {
              "color": "white"
             }
            },
            "type": "table"
           }
          ]
         },
         "layout": {
          "annotationdefaults": {
           "arrowcolor": "#2a3f5f",
           "arrowhead": 0,
           "arrowwidth": 1
          },
          "autotypenumbers": "strict",
          "coloraxis": {
           "colorbar": {
            "outlinewidth": 0,
            "ticks": ""
           }
          },
          "colorscale": {
           "diverging": [
            [
             0,
             "#8e0152"
            ],
            [
             0.1,
             "#c51b7d"
            ],
            [
             0.2,
             "#de77ae"
            ],
            [
             0.3,
             "#f1b6da"
            ],
            [
             0.4,
             "#fde0ef"
            ],
            [
             0.5,
             "#f7f7f7"
            ],
            [
             0.6,
             "#e6f5d0"
            ],
            [
             0.7,
             "#b8e186"
            ],
            [
             0.8,
             "#7fbc41"
            ],
            [
             0.9,
             "#4d9221"
            ],
            [
             1,
             "#276419"
            ]
           ],
           "sequential": [
            [
             0,
             "#0d0887"
            ],
            [
             0.1111111111111111,
             "#46039f"
            ],
            [
             0.2222222222222222,
             "#7201a8"
            ],
            [
             0.3333333333333333,
             "#9c179e"
            ],
            [
             0.4444444444444444,
             "#bd3786"
            ],
            [
             0.5555555555555556,
             "#d8576b"
            ],
            [
             0.6666666666666666,
             "#ed7953"
            ],
            [
             0.7777777777777778,
             "#fb9f3a"
            ],
            [
             0.8888888888888888,
             "#fdca26"
            ],
            [
             1,
             "#f0f921"
            ]
           ],
           "sequentialminus": [
            [
             0,
             "#0d0887"
            ],
            [
             0.1111111111111111,
             "#46039f"
            ],
            [
             0.2222222222222222,
             "#7201a8"
            ],
            [
             0.3333333333333333,
             "#9c179e"
            ],
            [
             0.4444444444444444,
             "#bd3786"
            ],
            [
             0.5555555555555556,
             "#d8576b"
            ],
            [
             0.6666666666666666,
             "#ed7953"
            ],
            [
             0.7777777777777778,
             "#fb9f3a"
            ],
            [
             0.8888888888888888,
             "#fdca26"
            ],
            [
             1,
             "#f0f921"
            ]
           ]
          },
          "colorway": [
           "#636efa",
           "#EF553B",
           "#00cc96",
           "#ab63fa",
           "#FFA15A",
           "#19d3f3",
           "#FF6692",
           "#B6E880",
           "#FF97FF",
           "#FECB52"
          ],
          "font": {
           "color": "#2a3f5f"
          },
          "geo": {
           "bgcolor": "white",
           "lakecolor": "white",
           "landcolor": "#E5ECF6",
           "showlakes": true,
           "showland": true,
           "subunitcolor": "white"
          },
          "hoverlabel": {
           "align": "left"
          },
          "hovermode": "closest",
          "mapbox": {
           "style": "light"
          },
          "paper_bgcolor": "white",
          "plot_bgcolor": "#E5ECF6",
          "polar": {
           "angularaxis": {
            "gridcolor": "white",
            "linecolor": "white",
            "ticks": ""
           },
           "bgcolor": "#E5ECF6",
           "radialaxis": {
            "gridcolor": "white",
            "linecolor": "white",
            "ticks": ""
           }
          },
          "scene": {
           "xaxis": {
            "backgroundcolor": "#E5ECF6",
            "gridcolor": "white",
            "gridwidth": 2,
            "linecolor": "white",
            "showbackground": true,
            "ticks": "",
            "zerolinecolor": "white"
           },
           "yaxis": {
            "backgroundcolor": "#E5ECF6",
            "gridcolor": "white",
            "gridwidth": 2,
            "linecolor": "white",
            "showbackground": true,
            "ticks": "",
            "zerolinecolor": "white"
           },
           "zaxis": {
            "backgroundcolor": "#E5ECF6",
            "gridcolor": "white",
            "gridwidth": 2,
            "linecolor": "white",
            "showbackground": true,
            "ticks": "",
            "zerolinecolor": "white"
           }
          },
          "shapedefaults": {
           "line": {
            "color": "#2a3f5f"
           }
          },
          "ternary": {
           "aaxis": {
            "gridcolor": "white",
            "linecolor": "white",
            "ticks": ""
           },
           "baxis": {
            "gridcolor": "white",
            "linecolor": "white",
            "ticks": ""
           },
           "bgcolor": "#E5ECF6",
           "caxis": {
            "gridcolor": "white",
            "linecolor": "white",
            "ticks": ""
           }
          },
          "title": {
           "x": 0.05
          },
          "xaxis": {
           "automargin": true,
           "gridcolor": "white",
           "linecolor": "white",
           "ticks": "",
           "title": {
            "standoff": 15
           },
           "zerolinecolor": "white",
           "zerolinewidth": 2
          },
          "yaxis": {
           "automargin": true,
           "gridcolor": "white",
           "linecolor": "white",
           "ticks": "",
           "title": {
            "standoff": 15
           },
           "zerolinecolor": "white",
           "zerolinewidth": 2
          }
         }
        },
        "xaxis": {
         "anchor": "y",
         "domain": [
          0,
          1
         ],
         "showgrid": false,
         "showline": false,
         "side": "top",
         "title": {
          "text": ""
         }
        },
        "yaxis": {
         "anchor": "x",
         "autorange": "reversed",
         "domain": [
          0,
          1
         ],
         "gridcolor": "LightGrey",
         "gridwidth": 1,
         "showgrid": true,
         "showline": false,
         "tickmode": "linear",
         "tickson": "boundaries",
         "title": {
          "text": ""
         }
        }
       }
      }
     },
     "metadata": {},
     "output_type": "display_data"
    }
   ],
   "source": [
    "plot_standings_chart(df_constructors_2022)"
   ]
  },
  {
   "cell_type": "markdown",
   "metadata": {},
   "source": [
    "---"
   ]
  },
  {
   "cell_type": "markdown",
   "metadata": {},
   "source": [
    "Cumulative"
   ]
  },
  {
   "cell_type": "code",
   "execution_count": 37,
   "metadata": {},
   "outputs": [],
   "source": [
    "df_cumulative_drivers_2022 = df_drivers_2022.fillna(0).cumsum(axis=1)"
   ]
  },
  {
   "cell_type": "code",
   "execution_count": 38,
   "metadata": {},
   "outputs": [
    {
     "name": "stderr",
     "output_type": "stream",
     "text": [
      "core           INFO \tLoading data for Italian Grand Prix - Race [v3.4.4]\n",
      "req            INFO \tUsing cached data for session_info\n",
      "req            INFO \tUsing cached data for driver_info\n",
      "req            INFO \tUsing cached data for session_status_data\n",
      "req            INFO \tUsing cached data for lap_count\n",
      "req            INFO \tUsing cached data for track_status_data\n",
      "req            INFO \tUsing cached data for _extended_timing_data\n",
      "req            INFO \tUsing cached data for timing_app_data\n",
      "core           INFO \tProcessing timing data...\n",
      "req            INFO \tUsing cached data for car_data\n",
      "req            INFO \tUsing cached data for position_data\n",
      "req            INFO \tUsing cached data for weather_data\n",
      "req            INFO \tUsing cached data for race_control_messages\n",
      "core           INFO \tFinished loading data for 20 drivers: ['1', '16', '63', '55', '44', '11', '4', '10', '45', '24', '31', '47', '77', '22', '6', '20', '3', '18', '14', '5']\n"
     ]
    }
   ],
   "source": [
    "session = fastf1.get_session(2022, 'Monza', 'R')  # Ejemplo: Gran Premio de Italia, Carrera\n",
    "session.load()"
   ]
  },
  {
   "cell_type": "markdown",
   "metadata": {},
   "source": [
    "Plotly"
   ]
  },
  {
   "cell_type": "code",
   "execution_count": 39,
   "metadata": {},
   "outputs": [],
   "source": [
    "def plot_drivers_championship(df_cumulative, session, top=None):\n",
    "\n",
    "    \"\"\"wip\"\"\"\n",
    "\n",
    "    gps = df_cumulative.columns\n",
    "    if top:\n",
    "        drivers = df_cumulative.index[:top]\n",
    "    else:\n",
    "        drivers = df_cumulative.index\n",
    "\n",
    "    fig = go.Figure()\n",
    "\n",
    "    for driver in drivers:\n",
    "        points = df_cumulative.loc[driver, gps]\n",
    "        \n",
    "        try:\n",
    "            style = fastf1.plotting.get_driver_style(driver, style=['color', 'linestyle'], session=session)\n",
    "            dash = 'solid' if style['linestyle'] == 'solid' else 'dash'\n",
    "            fig.add_trace(go.Scatter(\n",
    "                x=gps,\n",
    "                y=points,\n",
    "                mode='lines+markers',\n",
    "                name=driver,\n",
    "                line=dict(color=style['color'], dash=dash),\n",
    "                marker=dict(symbol='circle')\n",
    "            ))\n",
    "\n",
    "        except KeyError:\n",
    "            print(f\"Style for driver {driver} not found\")\n",
    "\n",
    "\n",
    "    fig.update_layout(\n",
    "        title=f'Championship Evolution of Drivers - {session.event.EventDate.year} Season',\n",
    "        xaxis_title='Round',\n",
    "        yaxis_title='Cumulative Points',\n",
    "        legend_title='Driver',\n",
    "        xaxis=dict(tickmode='array', tickvals=gps),\n",
    "        yaxis=dict(gridcolor='lightgray', zerolinecolor='lightgray'),\n",
    "        template='plotly_dark',\n",
    "        width=900,\n",
    "        height=600\n",
    "    )\n",
    "\n",
    "    fig.show()\n"
   ]
  },
  {
   "cell_type": "code",
   "execution_count": 40,
   "metadata": {},
   "outputs": [
    {
     "name": "stderr",
     "output_type": "stream",
     "text": [
      "req            INFO \tUsing cached data for driver_info\n"
     ]
    },
    {
     "data": {
      "application/vnd.plotly.v1+json": {
       "config": {
        "plotlyServerURL": "https://plot.ly"
       },
       "data": [
        {
         "line": {
          "color": "#0600ef",
          "dash": "solid"
         },
         "marker": {
          "symbol": "circle"
         },
         "mode": "lines+markers",
         "name": "VER",
         "type": "scatter",
         "x": [
          "Bahrain",
          "Saudi Arabian",
          "Australian",
          "Emilia Romagna",
          "Miami",
          "Spanish",
          "Monaco",
          "Azerbaijan",
          "Canadian",
          "British",
          "Austrian",
          "French",
          "Hungarian",
          "Belgian",
          "Dutch",
          "Italian",
          "Singapore",
          "Japanese",
          "United States",
          "Mexico City",
          "São Paulo",
          "Abu Dhabi"
         ],
         "y": [
          0,
          25,
          25,
          59,
          85,
          110,
          125,
          150,
          175,
          181,
          208,
          233,
          258,
          284,
          310,
          335,
          341,
          366,
          391,
          416,
          429,
          454
         ]
        },
        {
         "line": {
          "color": "#da291c",
          "dash": "solid"
         },
         "marker": {
          "symbol": "circle"
         },
         "mode": "lines+markers",
         "name": "LEC",
         "type": "scatter",
         "x": [
          "Bahrain",
          "Saudi Arabian",
          "Australian",
          "Emilia Romagna",
          "Miami",
          "Spanish",
          "Monaco",
          "Azerbaijan",
          "Canadian",
          "British",
          "Austrian",
          "French",
          "Hungarian",
          "Belgian",
          "Dutch",
          "Italian",
          "Singapore",
          "Japanese",
          "United States",
          "Mexico City",
          "São Paulo",
          "Abu Dhabi"
         ],
         "y": [
          26,
          45,
          71,
          86,
          104,
          104,
          116,
          116,
          126,
          138,
          170,
          170,
          178,
          186,
          201,
          219,
          237,
          252,
          267,
          275,
          290,
          308
         ]
        },
        {
         "line": {
          "color": "#0600ef",
          "dash": "dash"
         },
         "marker": {
          "symbol": "circle"
         },
         "mode": "lines+markers",
         "name": "PER",
         "type": "scatter",
         "x": [
          "Bahrain",
          "Saudi Arabian",
          "Australian",
          "Emilia Romagna",
          "Miami",
          "Spanish",
          "Monaco",
          "Azerbaijan",
          "Canadian",
          "British",
          "Austrian",
          "French",
          "Hungarian",
          "Belgian",
          "Dutch",
          "Italian",
          "Singapore",
          "Japanese",
          "United States",
          "Mexico City",
          "São Paulo",
          "Abu Dhabi"
         ],
         "y": [
          0,
          12,
          30,
          54,
          66,
          85,
          110,
          129,
          129,
          147,
          151,
          163,
          173,
          191,
          201,
          210,
          235,
          253,
          265,
          280,
          290,
          305
         ]
        },
        {
         "line": {
          "color": "#00f5d0",
          "dash": "dash"
         },
         "marker": {
          "symbol": "circle"
         },
         "mode": "lines+markers",
         "name": "RUS",
         "type": "scatter",
         "x": [
          "Bahrain",
          "Saudi Arabian",
          "Australian",
          "Emilia Romagna",
          "Miami",
          "Spanish",
          "Monaco",
          "Azerbaijan",
          "Canadian",
          "British",
          "Austrian",
          "French",
          "Hungarian",
          "Belgian",
          "Dutch",
          "Italian",
          "Singapore",
          "Japanese",
          "United States",
          "Mexico City",
          "São Paulo",
          "Abu Dhabi"
         ],
         "y": [
          12,
          22,
          37,
          49,
          59,
          74,
          84,
          99,
          111,
          111,
          128,
          143,
          158,
          170,
          188,
          203,
          203,
          207,
          218,
          231,
          265,
          275
         ]
        },
        {
         "line": {
          "color": "#da291c",
          "dash": "dash"
         },
         "marker": {
          "symbol": "circle"
         },
         "mode": "lines+markers",
         "name": "SAI",
         "type": "scatter",
         "x": [
          "Bahrain",
          "Saudi Arabian",
          "Australian",
          "Emilia Romagna",
          "Miami",
          "Spanish",
          "Monaco",
          "Azerbaijan",
          "Canadian",
          "British",
          "Austrian",
          "French",
          "Hungarian",
          "Belgian",
          "Dutch",
          "Italian",
          "Singapore",
          "Japanese",
          "United States",
          "Mexico City",
          "São Paulo",
          "Abu Dhabi"
         ],
         "y": [
          18,
          33,
          33,
          38,
          53,
          65,
          83,
          83,
          102,
          127,
          133,
          144,
          156,
          171,
          175,
          187,
          202,
          202,
          202,
          212,
          234,
          246
         ]
        },
        {
         "line": {
          "color": "#00f5d0",
          "dash": "solid"
         },
         "marker": {
          "symbol": "circle"
         },
         "mode": "lines+markers",
         "name": "HAM",
         "type": "scatter",
         "x": [
          "Bahrain",
          "Saudi Arabian",
          "Australian",
          "Emilia Romagna",
          "Miami",
          "Spanish",
          "Monaco",
          "Azerbaijan",
          "Canadian",
          "British",
          "Austrian",
          "French",
          "Hungarian",
          "Belgian",
          "Dutch",
          "Italian",
          "Singapore",
          "Japanese",
          "United States",
          "Mexico City",
          "São Paulo",
          "Abu Dhabi"
         ],
         "y": [
          15,
          16,
          28,
          28,
          36,
          46,
          50,
          62,
          77,
          93,
          109,
          127,
          146,
          146,
          158,
          168,
          170,
          180,
          198,
          216,
          240,
          240
         ]
        },
        {
         "line": {
          "color": "#ff8000",
          "dash": "dash"
         },
         "marker": {
          "symbol": "circle"
         },
         "mode": "lines+markers",
         "name": "NOR",
         "type": "scatter",
         "x": [
          "Bahrain",
          "Saudi Arabian",
          "Australian",
          "Emilia Romagna",
          "Miami",
          "Spanish",
          "Monaco",
          "Azerbaijan",
          "Canadian",
          "British",
          "Austrian",
          "French",
          "Hungarian",
          "Belgian",
          "Dutch",
          "Italian",
          "Singapore",
          "Japanese",
          "United States",
          "Mexico City",
          "São Paulo",
          "Abu Dhabi"
         ],
         "y": [
          0,
          6,
          16,
          35,
          35,
          39,
          48,
          50,
          50,
          58,
          64,
          70,
          76,
          76,
          82,
          88,
          100,
          101,
          109,
          111,
          113,
          122
         ]
        },
        {
         "line": {
          "color": "#fe86bc",
          "dash": "dash"
         },
         "marker": {
          "symbol": "circle"
         },
         "mode": "lines+markers",
         "name": "OCO",
         "type": "scatter",
         "x": [
          "Bahrain",
          "Saudi Arabian",
          "Australian",
          "Emilia Romagna",
          "Miami",
          "Spanish",
          "Monaco",
          "Azerbaijan",
          "Canadian",
          "British",
          "Austrian",
          "French",
          "Hungarian",
          "Belgian",
          "Dutch",
          "Italian",
          "Singapore",
          "Japanese",
          "United States",
          "Mexico City",
          "São Paulo",
          "Abu Dhabi"
         ],
         "y": [
          6,
          14,
          20,
          20,
          24,
          30,
          30,
          31,
          39,
          39,
          52,
          56,
          58,
          64,
          66,
          66,
          66,
          78,
          78,
          82,
          86,
          92
         ]
        },
        {
         "line": {
          "color": "#fe86bc",
          "dash": "solid"
         },
         "marker": {
          "symbol": "circle"
         },
         "mode": "lines+markers",
         "name": "ALO",
         "type": "scatter",
         "x": [
          "Bahrain",
          "Saudi Arabian",
          "Australian",
          "Emilia Romagna",
          "Miami",
          "Spanish",
          "Monaco",
          "Azerbaijan",
          "Canadian",
          "British",
          "Austrian",
          "French",
          "Hungarian",
          "Belgian",
          "Dutch",
          "Italian",
          "Singapore",
          "Japanese",
          "United States",
          "Mexico City",
          "São Paulo",
          "Abu Dhabi"
         ],
         "y": [
          2,
          2,
          2,
          2,
          2,
          4,
          10,
          16,
          18,
          28,
          29,
          37,
          41,
          51,
          59,
          59,
          59,
          65,
          71,
          71,
          81,
          81
         ]
        },
        {
         "line": {
          "color": "#900000",
          "dash": "dash"
         },
         "marker": {
          "symbol": "circle"
         },
         "mode": "lines+markers",
         "name": "BOT",
         "type": "scatter",
         "x": [
          "Bahrain",
          "Saudi Arabian",
          "Australian",
          "Emilia Romagna",
          "Miami",
          "Spanish",
          "Monaco",
          "Azerbaijan",
          "Canadian",
          "British",
          "Austrian",
          "French",
          "Hungarian",
          "Belgian",
          "Dutch",
          "Italian",
          "Singapore",
          "Japanese",
          "United States",
          "Mexico City",
          "São Paulo",
          "Abu Dhabi"
         ],
         "y": [
          8,
          8,
          12,
          24,
          30,
          38,
          40,
          40,
          46,
          46,
          46,
          46,
          46,
          46,
          46,
          46,
          46,
          46,
          46,
          47,
          49,
          49
         ]
        }
       ],
       "layout": {
        "height": 600,
        "legend": {
         "title": {
          "text": "Driver"
         }
        },
        "template": {
         "data": {
          "bar": [
           {
            "error_x": {
             "color": "#f2f5fa"
            },
            "error_y": {
             "color": "#f2f5fa"
            },
            "marker": {
             "line": {
              "color": "rgb(17,17,17)",
              "width": 0.5
             },
             "pattern": {
              "fillmode": "overlay",
              "size": 10,
              "solidity": 0.2
             }
            },
            "type": "bar"
           }
          ],
          "barpolar": [
           {
            "marker": {
             "line": {
              "color": "rgb(17,17,17)",
              "width": 0.5
             },
             "pattern": {
              "fillmode": "overlay",
              "size": 10,
              "solidity": 0.2
             }
            },
            "type": "barpolar"
           }
          ],
          "carpet": [
           {
            "aaxis": {
             "endlinecolor": "#A2B1C6",
             "gridcolor": "#506784",
             "linecolor": "#506784",
             "minorgridcolor": "#506784",
             "startlinecolor": "#A2B1C6"
            },
            "baxis": {
             "endlinecolor": "#A2B1C6",
             "gridcolor": "#506784",
             "linecolor": "#506784",
             "minorgridcolor": "#506784",
             "startlinecolor": "#A2B1C6"
            },
            "type": "carpet"
           }
          ],
          "choropleth": [
           {
            "colorbar": {
             "outlinewidth": 0,
             "ticks": ""
            },
            "type": "choropleth"
           }
          ],
          "contour": [
           {
            "colorbar": {
             "outlinewidth": 0,
             "ticks": ""
            },
            "colorscale": [
             [
              0,
              "#0d0887"
             ],
             [
              0.1111111111111111,
              "#46039f"
             ],
             [
              0.2222222222222222,
              "#7201a8"
             ],
             [
              0.3333333333333333,
              "#9c179e"
             ],
             [
              0.4444444444444444,
              "#bd3786"
             ],
             [
              0.5555555555555556,
              "#d8576b"
             ],
             [
              0.6666666666666666,
              "#ed7953"
             ],
             [
              0.7777777777777778,
              "#fb9f3a"
             ],
             [
              0.8888888888888888,
              "#fdca26"
             ],
             [
              1,
              "#f0f921"
             ]
            ],
            "type": "contour"
           }
          ],
          "contourcarpet": [
           {
            "colorbar": {
             "outlinewidth": 0,
             "ticks": ""
            },
            "type": "contourcarpet"
           }
          ],
          "heatmap": [
           {
            "colorbar": {
             "outlinewidth": 0,
             "ticks": ""
            },
            "colorscale": [
             [
              0,
              "#0d0887"
             ],
             [
              0.1111111111111111,
              "#46039f"
             ],
             [
              0.2222222222222222,
              "#7201a8"
             ],
             [
              0.3333333333333333,
              "#9c179e"
             ],
             [
              0.4444444444444444,
              "#bd3786"
             ],
             [
              0.5555555555555556,
              "#d8576b"
             ],
             [
              0.6666666666666666,
              "#ed7953"
             ],
             [
              0.7777777777777778,
              "#fb9f3a"
             ],
             [
              0.8888888888888888,
              "#fdca26"
             ],
             [
              1,
              "#f0f921"
             ]
            ],
            "type": "heatmap"
           }
          ],
          "heatmapgl": [
           {
            "colorbar": {
             "outlinewidth": 0,
             "ticks": ""
            },
            "colorscale": [
             [
              0,
              "#0d0887"
             ],
             [
              0.1111111111111111,
              "#46039f"
             ],
             [
              0.2222222222222222,
              "#7201a8"
             ],
             [
              0.3333333333333333,
              "#9c179e"
             ],
             [
              0.4444444444444444,
              "#bd3786"
             ],
             [
              0.5555555555555556,
              "#d8576b"
             ],
             [
              0.6666666666666666,
              "#ed7953"
             ],
             [
              0.7777777777777778,
              "#fb9f3a"
             ],
             [
              0.8888888888888888,
              "#fdca26"
             ],
             [
              1,
              "#f0f921"
             ]
            ],
            "type": "heatmapgl"
           }
          ],
          "histogram": [
           {
            "marker": {
             "pattern": {
              "fillmode": "overlay",
              "size": 10,
              "solidity": 0.2
             }
            },
            "type": "histogram"
           }
          ],
          "histogram2d": [
           {
            "colorbar": {
             "outlinewidth": 0,
             "ticks": ""
            },
            "colorscale": [
             [
              0,
              "#0d0887"
             ],
             [
              0.1111111111111111,
              "#46039f"
             ],
             [
              0.2222222222222222,
              "#7201a8"
             ],
             [
              0.3333333333333333,
              "#9c179e"
             ],
             [
              0.4444444444444444,
              "#bd3786"
             ],
             [
              0.5555555555555556,
              "#d8576b"
             ],
             [
              0.6666666666666666,
              "#ed7953"
             ],
             [
              0.7777777777777778,
              "#fb9f3a"
             ],
             [
              0.8888888888888888,
              "#fdca26"
             ],
             [
              1,
              "#f0f921"
             ]
            ],
            "type": "histogram2d"
           }
          ],
          "histogram2dcontour": [
           {
            "colorbar": {
             "outlinewidth": 0,
             "ticks": ""
            },
            "colorscale": [
             [
              0,
              "#0d0887"
             ],
             [
              0.1111111111111111,
              "#46039f"
             ],
             [
              0.2222222222222222,
              "#7201a8"
             ],
             [
              0.3333333333333333,
              "#9c179e"
             ],
             [
              0.4444444444444444,
              "#bd3786"
             ],
             [
              0.5555555555555556,
              "#d8576b"
             ],
             [
              0.6666666666666666,
              "#ed7953"
             ],
             [
              0.7777777777777778,
              "#fb9f3a"
             ],
             [
              0.8888888888888888,
              "#fdca26"
             ],
             [
              1,
              "#f0f921"
             ]
            ],
            "type": "histogram2dcontour"
           }
          ],
          "mesh3d": [
           {
            "colorbar": {
             "outlinewidth": 0,
             "ticks": ""
            },
            "type": "mesh3d"
           }
          ],
          "parcoords": [
           {
            "line": {
             "colorbar": {
              "outlinewidth": 0,
              "ticks": ""
             }
            },
            "type": "parcoords"
           }
          ],
          "pie": [
           {
            "automargin": true,
            "type": "pie"
           }
          ],
          "scatter": [
           {
            "marker": {
             "line": {
              "color": "#283442"
             }
            },
            "type": "scatter"
           }
          ],
          "scatter3d": [
           {
            "line": {
             "colorbar": {
              "outlinewidth": 0,
              "ticks": ""
             }
            },
            "marker": {
             "colorbar": {
              "outlinewidth": 0,
              "ticks": ""
             }
            },
            "type": "scatter3d"
           }
          ],
          "scattercarpet": [
           {
            "marker": {
             "colorbar": {
              "outlinewidth": 0,
              "ticks": ""
             }
            },
            "type": "scattercarpet"
           }
          ],
          "scattergeo": [
           {
            "marker": {
             "colorbar": {
              "outlinewidth": 0,
              "ticks": ""
             }
            },
            "type": "scattergeo"
           }
          ],
          "scattergl": [
           {
            "marker": {
             "line": {
              "color": "#283442"
             }
            },
            "type": "scattergl"
           }
          ],
          "scattermapbox": [
           {
            "marker": {
             "colorbar": {
              "outlinewidth": 0,
              "ticks": ""
             }
            },
            "type": "scattermapbox"
           }
          ],
          "scatterpolar": [
           {
            "marker": {
             "colorbar": {
              "outlinewidth": 0,
              "ticks": ""
             }
            },
            "type": "scatterpolar"
           }
          ],
          "scatterpolargl": [
           {
            "marker": {
             "colorbar": {
              "outlinewidth": 0,
              "ticks": ""
             }
            },
            "type": "scatterpolargl"
           }
          ],
          "scatterternary": [
           {
            "marker": {
             "colorbar": {
              "outlinewidth": 0,
              "ticks": ""
             }
            },
            "type": "scatterternary"
           }
          ],
          "surface": [
           {
            "colorbar": {
             "outlinewidth": 0,
             "ticks": ""
            },
            "colorscale": [
             [
              0,
              "#0d0887"
             ],
             [
              0.1111111111111111,
              "#46039f"
             ],
             [
              0.2222222222222222,
              "#7201a8"
             ],
             [
              0.3333333333333333,
              "#9c179e"
             ],
             [
              0.4444444444444444,
              "#bd3786"
             ],
             [
              0.5555555555555556,
              "#d8576b"
             ],
             [
              0.6666666666666666,
              "#ed7953"
             ],
             [
              0.7777777777777778,
              "#fb9f3a"
             ],
             [
              0.8888888888888888,
              "#fdca26"
             ],
             [
              1,
              "#f0f921"
             ]
            ],
            "type": "surface"
           }
          ],
          "table": [
           {
            "cells": {
             "fill": {
              "color": "#506784"
             },
             "line": {
              "color": "rgb(17,17,17)"
             }
            },
            "header": {
             "fill": {
              "color": "#2a3f5f"
             },
             "line": {
              "color": "rgb(17,17,17)"
             }
            },
            "type": "table"
           }
          ]
         },
         "layout": {
          "annotationdefaults": {
           "arrowcolor": "#f2f5fa",
           "arrowhead": 0,
           "arrowwidth": 1
          },
          "autotypenumbers": "strict",
          "coloraxis": {
           "colorbar": {
            "outlinewidth": 0,
            "ticks": ""
           }
          },
          "colorscale": {
           "diverging": [
            [
             0,
             "#8e0152"
            ],
            [
             0.1,
             "#c51b7d"
            ],
            [
             0.2,
             "#de77ae"
            ],
            [
             0.3,
             "#f1b6da"
            ],
            [
             0.4,
             "#fde0ef"
            ],
            [
             0.5,
             "#f7f7f7"
            ],
            [
             0.6,
             "#e6f5d0"
            ],
            [
             0.7,
             "#b8e186"
            ],
            [
             0.8,
             "#7fbc41"
            ],
            [
             0.9,
             "#4d9221"
            ],
            [
             1,
             "#276419"
            ]
           ],
           "sequential": [
            [
             0,
             "#0d0887"
            ],
            [
             0.1111111111111111,
             "#46039f"
            ],
            [
             0.2222222222222222,
             "#7201a8"
            ],
            [
             0.3333333333333333,
             "#9c179e"
            ],
            [
             0.4444444444444444,
             "#bd3786"
            ],
            [
             0.5555555555555556,
             "#d8576b"
            ],
            [
             0.6666666666666666,
             "#ed7953"
            ],
            [
             0.7777777777777778,
             "#fb9f3a"
            ],
            [
             0.8888888888888888,
             "#fdca26"
            ],
            [
             1,
             "#f0f921"
            ]
           ],
           "sequentialminus": [
            [
             0,
             "#0d0887"
            ],
            [
             0.1111111111111111,
             "#46039f"
            ],
            [
             0.2222222222222222,
             "#7201a8"
            ],
            [
             0.3333333333333333,
             "#9c179e"
            ],
            [
             0.4444444444444444,
             "#bd3786"
            ],
            [
             0.5555555555555556,
             "#d8576b"
            ],
            [
             0.6666666666666666,
             "#ed7953"
            ],
            [
             0.7777777777777778,
             "#fb9f3a"
            ],
            [
             0.8888888888888888,
             "#fdca26"
            ],
            [
             1,
             "#f0f921"
            ]
           ]
          },
          "colorway": [
           "#636efa",
           "#EF553B",
           "#00cc96",
           "#ab63fa",
           "#FFA15A",
           "#19d3f3",
           "#FF6692",
           "#B6E880",
           "#FF97FF",
           "#FECB52"
          ],
          "font": {
           "color": "#f2f5fa"
          },
          "geo": {
           "bgcolor": "rgb(17,17,17)",
           "lakecolor": "rgb(17,17,17)",
           "landcolor": "rgb(17,17,17)",
           "showlakes": true,
           "showland": true,
           "subunitcolor": "#506784"
          },
          "hoverlabel": {
           "align": "left"
          },
          "hovermode": "closest",
          "mapbox": {
           "style": "dark"
          },
          "paper_bgcolor": "rgb(17,17,17)",
          "plot_bgcolor": "rgb(17,17,17)",
          "polar": {
           "angularaxis": {
            "gridcolor": "#506784",
            "linecolor": "#506784",
            "ticks": ""
           },
           "bgcolor": "rgb(17,17,17)",
           "radialaxis": {
            "gridcolor": "#506784",
            "linecolor": "#506784",
            "ticks": ""
           }
          },
          "scene": {
           "xaxis": {
            "backgroundcolor": "rgb(17,17,17)",
            "gridcolor": "#506784",
            "gridwidth": 2,
            "linecolor": "#506784",
            "showbackground": true,
            "ticks": "",
            "zerolinecolor": "#C8D4E3"
           },
           "yaxis": {
            "backgroundcolor": "rgb(17,17,17)",
            "gridcolor": "#506784",
            "gridwidth": 2,
            "linecolor": "#506784",
            "showbackground": true,
            "ticks": "",
            "zerolinecolor": "#C8D4E3"
           },
           "zaxis": {
            "backgroundcolor": "rgb(17,17,17)",
            "gridcolor": "#506784",
            "gridwidth": 2,
            "linecolor": "#506784",
            "showbackground": true,
            "ticks": "",
            "zerolinecolor": "#C8D4E3"
           }
          },
          "shapedefaults": {
           "line": {
            "color": "#f2f5fa"
           }
          },
          "sliderdefaults": {
           "bgcolor": "#C8D4E3",
           "bordercolor": "rgb(17,17,17)",
           "borderwidth": 1,
           "tickwidth": 0
          },
          "ternary": {
           "aaxis": {
            "gridcolor": "#506784",
            "linecolor": "#506784",
            "ticks": ""
           },
           "baxis": {
            "gridcolor": "#506784",
            "linecolor": "#506784",
            "ticks": ""
           },
           "bgcolor": "rgb(17,17,17)",
           "caxis": {
            "gridcolor": "#506784",
            "linecolor": "#506784",
            "ticks": ""
           }
          },
          "title": {
           "x": 0.05
          },
          "updatemenudefaults": {
           "bgcolor": "#506784",
           "borderwidth": 0
          },
          "xaxis": {
           "automargin": true,
           "gridcolor": "#283442",
           "linecolor": "#506784",
           "ticks": "",
           "title": {
            "standoff": 15
           },
           "zerolinecolor": "#283442",
           "zerolinewidth": 2
          },
          "yaxis": {
           "automargin": true,
           "gridcolor": "#283442",
           "linecolor": "#506784",
           "ticks": "",
           "title": {
            "standoff": 15
           },
           "zerolinecolor": "#283442",
           "zerolinewidth": 2
          }
         }
        },
        "title": {
         "text": "Championship Evolution of Drivers - 2022 Season"
        },
        "width": 900,
        "xaxis": {
         "tickmode": "array",
         "tickvals": [
          "Bahrain",
          "Saudi Arabian",
          "Australian",
          "Emilia Romagna",
          "Miami",
          "Spanish",
          "Monaco",
          "Azerbaijan",
          "Canadian",
          "British",
          "Austrian",
          "French",
          "Hungarian",
          "Belgian",
          "Dutch",
          "Italian",
          "Singapore",
          "Japanese",
          "United States",
          "Mexico City",
          "São Paulo",
          "Abu Dhabi"
         ],
         "title": {
          "text": "Round"
         }
        },
        "yaxis": {
         "gridcolor": "lightgray",
         "title": {
          "text": "Cumulative Points"
         },
         "zerolinecolor": "lightgray"
        }
       }
      }
     },
     "metadata": {},
     "output_type": "display_data"
    }
   ],
   "source": [
    "plot_drivers_championship(df_cumulative_drivers_2022, session, top=10)"
   ]
  },
  {
   "cell_type": "markdown",
   "metadata": {},
   "source": [
    "## Teams"
   ]
  },
  {
   "cell_type": "code",
   "execution_count": 41,
   "metadata": {},
   "outputs": [],
   "source": [
    "df_cumulative_constructors_2022 = df_constructors_2022.fillna(0).cumsum(axis=1)"
   ]
  },
  {
   "cell_type": "code",
   "execution_count": 42,
   "metadata": {},
   "outputs": [],
   "source": [
    "def plot_drivers_championship(df_cumulative, session, top=None):\n",
    "\n",
    "    \"\"\"wip\"\"\"\n",
    "\n",
    "    gps = df_cumulative.columns\n",
    "    if top:\n",
    "        constructors = df_cumulative.index[:top]\n",
    "    else:\n",
    "        constructors = df_cumulative.index\n",
    "\n",
    "    fig = go.Figure()\n",
    "\n",
    "    for team in constructors:\n",
    "        points = df_cumulative.loc[team, gps]\n",
    "        \n",
    "        try:\n",
    "            color = fastf1.plotting.get_team_color(team, session=session)\n",
    "\n",
    "            fig.add_trace(go.Scatter(\n",
    "                x=gps,\n",
    "                y=points,\n",
    "                mode='lines+markers',\n",
    "                name=team,\n",
    "                line=dict(color=color),\n",
    "                marker=dict(symbol='circle')\n",
    "            ))\n",
    "\n",
    "        except KeyError:\n",
    "            print(f\"Style for constructor {team} not found\")\n",
    "\n",
    "    fig.update_layout(\n",
    "        title=f'Championship Evolution of Teams - {session.event.EventDate.year} Season',\n",
    "        xaxis_title='Round',\n",
    "        yaxis_title='Cumulative Points',\n",
    "        legend_title='Team',\n",
    "        xaxis=dict(tickmode='array', tickvals=gps),\n",
    "        yaxis=dict(gridcolor='lightgray', zerolinecolor='lightgray'),\n",
    "        template='plotly_dark',\n",
    "        width=900,\n",
    "        height=600\n",
    "    )\n",
    "\n",
    "    fig.show()\n",
    "    "
   ]
  },
  {
   "cell_type": "code",
   "execution_count": 43,
   "metadata": {},
   "outputs": [
    {
     "data": {
      "application/vnd.plotly.v1+json": {
       "config": {
        "plotlyServerURL": "https://plot.ly"
       },
       "data": [
        {
         "line": {
          "color": "#0600ef"
         },
         "marker": {
          "symbol": "circle"
         },
         "mode": "lines+markers",
         "name": "Red Bull",
         "type": "scatter",
         "x": [
          "Bahrain",
          "Saudi Arabian",
          "Australian",
          "Emilia Romagna",
          "Miami",
          "Spanish",
          "Monaco",
          "Azerbaijan",
          "Canadian",
          "British",
          "Austrian",
          "French",
          "Hungarian",
          "Belgian",
          "Dutch",
          "Italian",
          "Singapore",
          "Japanese",
          "United States",
          "Mexico City",
          "São Paulo",
          "Abu Dhabi"
         ],
         "y": [
          0,
          37,
          55,
          113,
          151,
          195,
          235,
          279,
          304,
          328,
          359,
          396,
          431,
          475,
          511,
          545,
          576,
          619,
          656,
          696,
          719,
          759
         ]
        },
        {
         "line": {
          "color": "#da291c"
         },
         "marker": {
          "symbol": "circle"
         },
         "mode": "lines+markers",
         "name": "Ferrari",
         "type": "scatter",
         "x": [
          "Bahrain",
          "Saudi Arabian",
          "Australian",
          "Emilia Romagna",
          "Miami",
          "Spanish",
          "Monaco",
          "Azerbaijan",
          "Canadian",
          "British",
          "Austrian",
          "French",
          "Hungarian",
          "Belgian",
          "Dutch",
          "Italian",
          "Singapore",
          "Japanese",
          "United States",
          "Mexico City",
          "São Paulo",
          "Abu Dhabi"
         ],
         "y": [
          44,
          78,
          104,
          124,
          157,
          169,
          199,
          199,
          228,
          265,
          303,
          314,
          334,
          357,
          376,
          406,
          439,
          454,
          469,
          487,
          524,
          554
         ]
        },
        {
         "line": {
          "color": "#00f5d0"
         },
         "marker": {
          "symbol": "circle"
         },
         "mode": "lines+markers",
         "name": "Mercedes",
         "type": "scatter",
         "x": [
          "Bahrain",
          "Saudi Arabian",
          "Australian",
          "Emilia Romagna",
          "Miami",
          "Spanish",
          "Monaco",
          "Azerbaijan",
          "Canadian",
          "British",
          "Austrian",
          "French",
          "Hungarian",
          "Belgian",
          "Dutch",
          "Italian",
          "Singapore",
          "Japanese",
          "United States",
          "Mexico City",
          "São Paulo",
          "Abu Dhabi"
         ],
         "y": [
          27,
          38,
          65,
          77,
          95,
          120,
          134,
          161,
          188,
          204,
          237,
          270,
          304,
          316,
          346,
          371,
          373,
          387,
          416,
          447,
          505,
          515
         ]
        },
        {
         "line": {
          "color": "#fe86bc"
         },
         "marker": {
          "symbol": "circle"
         },
         "mode": "lines+markers",
         "name": "Alpine F1 Team",
         "type": "scatter",
         "x": [
          "Bahrain",
          "Saudi Arabian",
          "Australian",
          "Emilia Romagna",
          "Miami",
          "Spanish",
          "Monaco",
          "Azerbaijan",
          "Canadian",
          "British",
          "Austrian",
          "French",
          "Hungarian",
          "Belgian",
          "Dutch",
          "Italian",
          "Singapore",
          "Japanese",
          "United States",
          "Mexico City",
          "São Paulo",
          "Abu Dhabi"
         ],
         "y": [
          8,
          16,
          22,
          22,
          26,
          34,
          40,
          47,
          57,
          67,
          81,
          93,
          99,
          115,
          125,
          125,
          125,
          143,
          149,
          153,
          167,
          173
         ]
        },
        {
         "line": {
          "color": "#ff8000"
         },
         "marker": {
          "symbol": "circle"
         },
         "mode": "lines+markers",
         "name": "McLaren",
         "type": "scatter",
         "x": [
          "Bahrain",
          "Saudi Arabian",
          "Australian",
          "Emilia Romagna",
          "Miami",
          "Spanish",
          "Monaco",
          "Azerbaijan",
          "Canadian",
          "British",
          "Austrian",
          "French",
          "Hungarian",
          "Belgian",
          "Dutch",
          "Italian",
          "Singapore",
          "Japanese",
          "United States",
          "Mexico City",
          "São Paulo",
          "Abu Dhabi"
         ],
         "y": [
          0,
          6,
          24,
          46,
          46,
          50,
          59,
          65,
          65,
          73,
          81,
          89,
          95,
          95,
          101,
          107,
          129,
          130,
          138,
          146,
          148,
          159
         ]
        },
        {
         "line": {
          "color": "#900000"
         },
         "marker": {
          "symbol": "circle"
         },
         "mode": "lines+markers",
         "name": "Alfa Romeo",
         "type": "scatter",
         "x": [
          "Bahrain",
          "Saudi Arabian",
          "Australian",
          "Emilia Romagna",
          "Miami",
          "Spanish",
          "Monaco",
          "Azerbaijan",
          "Canadian",
          "British",
          "Austrian",
          "French",
          "Hungarian",
          "Belgian",
          "Dutch",
          "Italian",
          "Singapore",
          "Japanese",
          "United States",
          "Mexico City",
          "São Paulo",
          "Abu Dhabi"
         ],
         "y": [
          9,
          9,
          13,
          25,
          31,
          39,
          41,
          41,
          51,
          51,
          51,
          51,
          51,
          51,
          51,
          52,
          52,
          52,
          52,
          53,
          55,
          55
         ]
        },
        {
         "line": {
          "color": "#00665e"
         },
         "marker": {
          "symbol": "circle"
         },
         "mode": "lines+markers",
         "name": "Aston Martin",
         "type": "scatter",
         "x": [
          "Bahrain",
          "Saudi Arabian",
          "Australian",
          "Emilia Romagna",
          "Miami",
          "Spanish",
          "Monaco",
          "Azerbaijan",
          "Canadian",
          "British",
          "Austrian",
          "French",
          "Hungarian",
          "Belgian",
          "Dutch",
          "Italian",
          "Singapore",
          "Japanese",
          "United States",
          "Mexico City",
          "São Paulo",
          "Abu Dhabi"
         ],
         "y": [
          0,
          0,
          0,
          5,
          6,
          6,
          7,
          15,
          16,
          18,
          18,
          19,
          20,
          24,
          25,
          25,
          37,
          45,
          49,
          49,
          50,
          55
         ]
        },
        {
         "line": {
          "color": "#b6babd"
         },
         "marker": {
          "symbol": "circle"
         },
         "mode": "lines+markers",
         "name": "Haas F1 Team",
         "type": "scatter",
         "x": [
          "Bahrain",
          "Saudi Arabian",
          "Australian",
          "Emilia Romagna",
          "Miami",
          "Spanish",
          "Monaco",
          "Azerbaijan",
          "Canadian",
          "British",
          "Austrian",
          "French",
          "Hungarian",
          "Belgian",
          "Dutch",
          "Italian",
          "Singapore",
          "Japanese",
          "United States",
          "Mexico City",
          "São Paulo",
          "Abu Dhabi"
         ],
         "y": [
          10,
          12,
          12,
          15,
          15,
          15,
          15,
          15,
          15,
          20,
          34,
          34,
          34,
          34,
          34,
          34,
          34,
          34,
          36,
          36,
          37,
          37
         ]
        },
        {
         "line": {
          "color": "#2b4562"
         },
         "marker": {
          "symbol": "circle"
         },
         "mode": "lines+markers",
         "name": "AlphaTauri",
         "type": "scatter",
         "x": [
          "Bahrain",
          "Saudi Arabian",
          "Australian",
          "Emilia Romagna",
          "Miami",
          "Spanish",
          "Monaco",
          "Azerbaijan",
          "Canadian",
          "British",
          "Austrian",
          "French",
          "Hungarian",
          "Belgian",
          "Dutch",
          "Italian",
          "Singapore",
          "Japanese",
          "United States",
          "Mexico City",
          "São Paulo",
          "Abu Dhabi"
         ],
         "y": [
          4,
          8,
          10,
          16,
          16,
          17,
          17,
          27,
          27,
          27,
          27,
          27,
          27,
          29,
          29,
          33,
          34,
          34,
          35,
          35,
          35,
          35
         ]
        },
        {
         "line": {
          "color": "#00a0dd"
         },
         "marker": {
          "symbol": "circle"
         },
         "mode": "lines+markers",
         "name": "Williams",
         "type": "scatter",
         "x": [
          "Bahrain",
          "Saudi Arabian",
          "Australian",
          "Emilia Romagna",
          "Miami",
          "Spanish",
          "Monaco",
          "Azerbaijan",
          "Canadian",
          "British",
          "Austrian",
          "French",
          "Hungarian",
          "Belgian",
          "Dutch",
          "Italian",
          "Singapore",
          "Japanese",
          "United States",
          "Mexico City",
          "São Paulo",
          "Abu Dhabi"
         ],
         "y": [
          0,
          0,
          1,
          1,
          3,
          3,
          3,
          3,
          3,
          3,
          3,
          3,
          3,
          4,
          4,
          6,
          6,
          8,
          8,
          8,
          8,
          8
         ]
        }
       ],
       "layout": {
        "height": 600,
        "legend": {
         "title": {
          "text": "Team"
         }
        },
        "template": {
         "data": {
          "bar": [
           {
            "error_x": {
             "color": "#f2f5fa"
            },
            "error_y": {
             "color": "#f2f5fa"
            },
            "marker": {
             "line": {
              "color": "rgb(17,17,17)",
              "width": 0.5
             },
             "pattern": {
              "fillmode": "overlay",
              "size": 10,
              "solidity": 0.2
             }
            },
            "type": "bar"
           }
          ],
          "barpolar": [
           {
            "marker": {
             "line": {
              "color": "rgb(17,17,17)",
              "width": 0.5
             },
             "pattern": {
              "fillmode": "overlay",
              "size": 10,
              "solidity": 0.2
             }
            },
            "type": "barpolar"
           }
          ],
          "carpet": [
           {
            "aaxis": {
             "endlinecolor": "#A2B1C6",
             "gridcolor": "#506784",
             "linecolor": "#506784",
             "minorgridcolor": "#506784",
             "startlinecolor": "#A2B1C6"
            },
            "baxis": {
             "endlinecolor": "#A2B1C6",
             "gridcolor": "#506784",
             "linecolor": "#506784",
             "minorgridcolor": "#506784",
             "startlinecolor": "#A2B1C6"
            },
            "type": "carpet"
           }
          ],
          "choropleth": [
           {
            "colorbar": {
             "outlinewidth": 0,
             "ticks": ""
            },
            "type": "choropleth"
           }
          ],
          "contour": [
           {
            "colorbar": {
             "outlinewidth": 0,
             "ticks": ""
            },
            "colorscale": [
             [
              0,
              "#0d0887"
             ],
             [
              0.1111111111111111,
              "#46039f"
             ],
             [
              0.2222222222222222,
              "#7201a8"
             ],
             [
              0.3333333333333333,
              "#9c179e"
             ],
             [
              0.4444444444444444,
              "#bd3786"
             ],
             [
              0.5555555555555556,
              "#d8576b"
             ],
             [
              0.6666666666666666,
              "#ed7953"
             ],
             [
              0.7777777777777778,
              "#fb9f3a"
             ],
             [
              0.8888888888888888,
              "#fdca26"
             ],
             [
              1,
              "#f0f921"
             ]
            ],
            "type": "contour"
           }
          ],
          "contourcarpet": [
           {
            "colorbar": {
             "outlinewidth": 0,
             "ticks": ""
            },
            "type": "contourcarpet"
           }
          ],
          "heatmap": [
           {
            "colorbar": {
             "outlinewidth": 0,
             "ticks": ""
            },
            "colorscale": [
             [
              0,
              "#0d0887"
             ],
             [
              0.1111111111111111,
              "#46039f"
             ],
             [
              0.2222222222222222,
              "#7201a8"
             ],
             [
              0.3333333333333333,
              "#9c179e"
             ],
             [
              0.4444444444444444,
              "#bd3786"
             ],
             [
              0.5555555555555556,
              "#d8576b"
             ],
             [
              0.6666666666666666,
              "#ed7953"
             ],
             [
              0.7777777777777778,
              "#fb9f3a"
             ],
             [
              0.8888888888888888,
              "#fdca26"
             ],
             [
              1,
              "#f0f921"
             ]
            ],
            "type": "heatmap"
           }
          ],
          "heatmapgl": [
           {
            "colorbar": {
             "outlinewidth": 0,
             "ticks": ""
            },
            "colorscale": [
             [
              0,
              "#0d0887"
             ],
             [
              0.1111111111111111,
              "#46039f"
             ],
             [
              0.2222222222222222,
              "#7201a8"
             ],
             [
              0.3333333333333333,
              "#9c179e"
             ],
             [
              0.4444444444444444,
              "#bd3786"
             ],
             [
              0.5555555555555556,
              "#d8576b"
             ],
             [
              0.6666666666666666,
              "#ed7953"
             ],
             [
              0.7777777777777778,
              "#fb9f3a"
             ],
             [
              0.8888888888888888,
              "#fdca26"
             ],
             [
              1,
              "#f0f921"
             ]
            ],
            "type": "heatmapgl"
           }
          ],
          "histogram": [
           {
            "marker": {
             "pattern": {
              "fillmode": "overlay",
              "size": 10,
              "solidity": 0.2
             }
            },
            "type": "histogram"
           }
          ],
          "histogram2d": [
           {
            "colorbar": {
             "outlinewidth": 0,
             "ticks": ""
            },
            "colorscale": [
             [
              0,
              "#0d0887"
             ],
             [
              0.1111111111111111,
              "#46039f"
             ],
             [
              0.2222222222222222,
              "#7201a8"
             ],
             [
              0.3333333333333333,
              "#9c179e"
             ],
             [
              0.4444444444444444,
              "#bd3786"
             ],
             [
              0.5555555555555556,
              "#d8576b"
             ],
             [
              0.6666666666666666,
              "#ed7953"
             ],
             [
              0.7777777777777778,
              "#fb9f3a"
             ],
             [
              0.8888888888888888,
              "#fdca26"
             ],
             [
              1,
              "#f0f921"
             ]
            ],
            "type": "histogram2d"
           }
          ],
          "histogram2dcontour": [
           {
            "colorbar": {
             "outlinewidth": 0,
             "ticks": ""
            },
            "colorscale": [
             [
              0,
              "#0d0887"
             ],
             [
              0.1111111111111111,
              "#46039f"
             ],
             [
              0.2222222222222222,
              "#7201a8"
             ],
             [
              0.3333333333333333,
              "#9c179e"
             ],
             [
              0.4444444444444444,
              "#bd3786"
             ],
             [
              0.5555555555555556,
              "#d8576b"
             ],
             [
              0.6666666666666666,
              "#ed7953"
             ],
             [
              0.7777777777777778,
              "#fb9f3a"
             ],
             [
              0.8888888888888888,
              "#fdca26"
             ],
             [
              1,
              "#f0f921"
             ]
            ],
            "type": "histogram2dcontour"
           }
          ],
          "mesh3d": [
           {
            "colorbar": {
             "outlinewidth": 0,
             "ticks": ""
            },
            "type": "mesh3d"
           }
          ],
          "parcoords": [
           {
            "line": {
             "colorbar": {
              "outlinewidth": 0,
              "ticks": ""
             }
            },
            "type": "parcoords"
           }
          ],
          "pie": [
           {
            "automargin": true,
            "type": "pie"
           }
          ],
          "scatter": [
           {
            "marker": {
             "line": {
              "color": "#283442"
             }
            },
            "type": "scatter"
           }
          ],
          "scatter3d": [
           {
            "line": {
             "colorbar": {
              "outlinewidth": 0,
              "ticks": ""
             }
            },
            "marker": {
             "colorbar": {
              "outlinewidth": 0,
              "ticks": ""
             }
            },
            "type": "scatter3d"
           }
          ],
          "scattercarpet": [
           {
            "marker": {
             "colorbar": {
              "outlinewidth": 0,
              "ticks": ""
             }
            },
            "type": "scattercarpet"
           }
          ],
          "scattergeo": [
           {
            "marker": {
             "colorbar": {
              "outlinewidth": 0,
              "ticks": ""
             }
            },
            "type": "scattergeo"
           }
          ],
          "scattergl": [
           {
            "marker": {
             "line": {
              "color": "#283442"
             }
            },
            "type": "scattergl"
           }
          ],
          "scattermapbox": [
           {
            "marker": {
             "colorbar": {
              "outlinewidth": 0,
              "ticks": ""
             }
            },
            "type": "scattermapbox"
           }
          ],
          "scatterpolar": [
           {
            "marker": {
             "colorbar": {
              "outlinewidth": 0,
              "ticks": ""
             }
            },
            "type": "scatterpolar"
           }
          ],
          "scatterpolargl": [
           {
            "marker": {
             "colorbar": {
              "outlinewidth": 0,
              "ticks": ""
             }
            },
            "type": "scatterpolargl"
           }
          ],
          "scatterternary": [
           {
            "marker": {
             "colorbar": {
              "outlinewidth": 0,
              "ticks": ""
             }
            },
            "type": "scatterternary"
           }
          ],
          "surface": [
           {
            "colorbar": {
             "outlinewidth": 0,
             "ticks": ""
            },
            "colorscale": [
             [
              0,
              "#0d0887"
             ],
             [
              0.1111111111111111,
              "#46039f"
             ],
             [
              0.2222222222222222,
              "#7201a8"
             ],
             [
              0.3333333333333333,
              "#9c179e"
             ],
             [
              0.4444444444444444,
              "#bd3786"
             ],
             [
              0.5555555555555556,
              "#d8576b"
             ],
             [
              0.6666666666666666,
              "#ed7953"
             ],
             [
              0.7777777777777778,
              "#fb9f3a"
             ],
             [
              0.8888888888888888,
              "#fdca26"
             ],
             [
              1,
              "#f0f921"
             ]
            ],
            "type": "surface"
           }
          ],
          "table": [
           {
            "cells": {
             "fill": {
              "color": "#506784"
             },
             "line": {
              "color": "rgb(17,17,17)"
             }
            },
            "header": {
             "fill": {
              "color": "#2a3f5f"
             },
             "line": {
              "color": "rgb(17,17,17)"
             }
            },
            "type": "table"
           }
          ]
         },
         "layout": {
          "annotationdefaults": {
           "arrowcolor": "#f2f5fa",
           "arrowhead": 0,
           "arrowwidth": 1
          },
          "autotypenumbers": "strict",
          "coloraxis": {
           "colorbar": {
            "outlinewidth": 0,
            "ticks": ""
           }
          },
          "colorscale": {
           "diverging": [
            [
             0,
             "#8e0152"
            ],
            [
             0.1,
             "#c51b7d"
            ],
            [
             0.2,
             "#de77ae"
            ],
            [
             0.3,
             "#f1b6da"
            ],
            [
             0.4,
             "#fde0ef"
            ],
            [
             0.5,
             "#f7f7f7"
            ],
            [
             0.6,
             "#e6f5d0"
            ],
            [
             0.7,
             "#b8e186"
            ],
            [
             0.8,
             "#7fbc41"
            ],
            [
             0.9,
             "#4d9221"
            ],
            [
             1,
             "#276419"
            ]
           ],
           "sequential": [
            [
             0,
             "#0d0887"
            ],
            [
             0.1111111111111111,
             "#46039f"
            ],
            [
             0.2222222222222222,
             "#7201a8"
            ],
            [
             0.3333333333333333,
             "#9c179e"
            ],
            [
             0.4444444444444444,
             "#bd3786"
            ],
            [
             0.5555555555555556,
             "#d8576b"
            ],
            [
             0.6666666666666666,
             "#ed7953"
            ],
            [
             0.7777777777777778,
             "#fb9f3a"
            ],
            [
             0.8888888888888888,
             "#fdca26"
            ],
            [
             1,
             "#f0f921"
            ]
           ],
           "sequentialminus": [
            [
             0,
             "#0d0887"
            ],
            [
             0.1111111111111111,
             "#46039f"
            ],
            [
             0.2222222222222222,
             "#7201a8"
            ],
            [
             0.3333333333333333,
             "#9c179e"
            ],
            [
             0.4444444444444444,
             "#bd3786"
            ],
            [
             0.5555555555555556,
             "#d8576b"
            ],
            [
             0.6666666666666666,
             "#ed7953"
            ],
            [
             0.7777777777777778,
             "#fb9f3a"
            ],
            [
             0.8888888888888888,
             "#fdca26"
            ],
            [
             1,
             "#f0f921"
            ]
           ]
          },
          "colorway": [
           "#636efa",
           "#EF553B",
           "#00cc96",
           "#ab63fa",
           "#FFA15A",
           "#19d3f3",
           "#FF6692",
           "#B6E880",
           "#FF97FF",
           "#FECB52"
          ],
          "font": {
           "color": "#f2f5fa"
          },
          "geo": {
           "bgcolor": "rgb(17,17,17)",
           "lakecolor": "rgb(17,17,17)",
           "landcolor": "rgb(17,17,17)",
           "showlakes": true,
           "showland": true,
           "subunitcolor": "#506784"
          },
          "hoverlabel": {
           "align": "left"
          },
          "hovermode": "closest",
          "mapbox": {
           "style": "dark"
          },
          "paper_bgcolor": "rgb(17,17,17)",
          "plot_bgcolor": "rgb(17,17,17)",
          "polar": {
           "angularaxis": {
            "gridcolor": "#506784",
            "linecolor": "#506784",
            "ticks": ""
           },
           "bgcolor": "rgb(17,17,17)",
           "radialaxis": {
            "gridcolor": "#506784",
            "linecolor": "#506784",
            "ticks": ""
           }
          },
          "scene": {
           "xaxis": {
            "backgroundcolor": "rgb(17,17,17)",
            "gridcolor": "#506784",
            "gridwidth": 2,
            "linecolor": "#506784",
            "showbackground": true,
            "ticks": "",
            "zerolinecolor": "#C8D4E3"
           },
           "yaxis": {
            "backgroundcolor": "rgb(17,17,17)",
            "gridcolor": "#506784",
            "gridwidth": 2,
            "linecolor": "#506784",
            "showbackground": true,
            "ticks": "",
            "zerolinecolor": "#C8D4E3"
           },
           "zaxis": {
            "backgroundcolor": "rgb(17,17,17)",
            "gridcolor": "#506784",
            "gridwidth": 2,
            "linecolor": "#506784",
            "showbackground": true,
            "ticks": "",
            "zerolinecolor": "#C8D4E3"
           }
          },
          "shapedefaults": {
           "line": {
            "color": "#f2f5fa"
           }
          },
          "sliderdefaults": {
           "bgcolor": "#C8D4E3",
           "bordercolor": "rgb(17,17,17)",
           "borderwidth": 1,
           "tickwidth": 0
          },
          "ternary": {
           "aaxis": {
            "gridcolor": "#506784",
            "linecolor": "#506784",
            "ticks": ""
           },
           "baxis": {
            "gridcolor": "#506784",
            "linecolor": "#506784",
            "ticks": ""
           },
           "bgcolor": "rgb(17,17,17)",
           "caxis": {
            "gridcolor": "#506784",
            "linecolor": "#506784",
            "ticks": ""
           }
          },
          "title": {
           "x": 0.05
          },
          "updatemenudefaults": {
           "bgcolor": "#506784",
           "borderwidth": 0
          },
          "xaxis": {
           "automargin": true,
           "gridcolor": "#283442",
           "linecolor": "#506784",
           "ticks": "",
           "title": {
            "standoff": 15
           },
           "zerolinecolor": "#283442",
           "zerolinewidth": 2
          },
          "yaxis": {
           "automargin": true,
           "gridcolor": "#283442",
           "linecolor": "#506784",
           "ticks": "",
           "title": {
            "standoff": 15
           },
           "zerolinecolor": "#283442",
           "zerolinewidth": 2
          }
         }
        },
        "title": {
         "text": "Championship Evolution of Teams - 2022 Season"
        },
        "width": 900,
        "xaxis": {
         "tickmode": "array",
         "tickvals": [
          "Bahrain",
          "Saudi Arabian",
          "Australian",
          "Emilia Romagna",
          "Miami",
          "Spanish",
          "Monaco",
          "Azerbaijan",
          "Canadian",
          "British",
          "Austrian",
          "French",
          "Hungarian",
          "Belgian",
          "Dutch",
          "Italian",
          "Singapore",
          "Japanese",
          "United States",
          "Mexico City",
          "São Paulo",
          "Abu Dhabi"
         ],
         "title": {
          "text": "Round"
         }
        },
        "yaxis": {
         "gridcolor": "lightgray",
         "title": {
          "text": "Cumulative Points"
         },
         "zerolinecolor": "lightgray"
        }
       }
      }
     },
     "metadata": {},
     "output_type": "display_data"
    }
   ],
   "source": [
    "plot_drivers_championship(df_cumulative_constructors_2022, session, top=None)"
   ]
  },
  {
   "cell_type": "markdown",
   "metadata": {},
   "source": [
    "---"
   ]
  },
  {
   "cell_type": "markdown",
   "metadata": {},
   "source": [
    "## Grid"
   ]
  },
  {
   "cell_type": "code",
   "execution_count": 44,
   "metadata": {},
   "outputs": [],
   "source": [
    "# Auxiliar dataframe with championship positions\n",
    "\n",
    "def _get_df_championship(df_results):\n",
    "\n",
    "    \"\"\"wip, se le pasa el pivotado\"\"\"\n",
    "\n",
    "    df_championship = pd.DataFrame({\n",
    "        'championshipPosition': range(1, len(df_results) + 1),\n",
    "        'driverCode': df_results.index\n",
    "    })\n",
    "\n",
    "    return df_championship"
   ]
  },
  {
   "cell_type": "markdown",
   "metadata": {},
   "source": [
    "### Delta"
   ]
  },
  {
   "cell_type": "code",
   "execution_count": 47,
   "metadata": {},
   "outputs": [],
   "source": [
    "df_championship = _get_df_championship(df_drivers_2022)"
   ]
  },
  {
   "cell_type": "code",
   "execution_count": 57,
   "metadata": {},
   "outputs": [],
   "source": [
    "def get_chart(df_results, df_championship, values='delta'):\n",
    "\n",
    "    \"\"\"\n",
    "    wip\n",
    "\n",
    "    values can be 'delta', 'grid' or 'position', including respective sprints\n",
    "    \"\"\"\n",
    "\n",
    "    df = df_results.pivot(index='driverCode', columns='round', values=values)\n",
    "    df = df.merge(df_championship, on='driverCode').set_index('driverCode').sort_values(by='championshipPosition').drop(columns='championshipPosition')\n",
    "\n",
    "    # Use race name, instead of round number, as column names\n",
    "    df.columns = df_results['race'].drop_duplicates()\n",
    "\n",
    "    df.dropna(axis=1, how='all', inplace=True)\n",
    "\n",
    "    return df\n"
   ]
  },
  {
   "cell_type": "code",
   "execution_count": 58,
   "metadata": {},
   "outputs": [
    {
     "data": {
      "text/html": [
       "<div>\n",
       "<style scoped>\n",
       "    .dataframe tbody tr th:only-of-type {\n",
       "        vertical-align: middle;\n",
       "    }\n",
       "\n",
       "    .dataframe tbody tr th {\n",
       "        vertical-align: top;\n",
       "    }\n",
       "\n",
       "    .dataframe thead th {\n",
       "        text-align: right;\n",
       "    }\n",
       "</style>\n",
       "<table border=\"1\" class=\"dataframe\">\n",
       "  <thead>\n",
       "    <tr style=\"text-align: right;\">\n",
       "      <th>race</th>\n",
       "      <th>Emilia Romagna</th>\n",
       "      <th>Austrian</th>\n",
       "      <th>São Paulo</th>\n",
       "    </tr>\n",
       "    <tr>\n",
       "      <th>driverCode</th>\n",
       "      <th></th>\n",
       "      <th></th>\n",
       "      <th></th>\n",
       "    </tr>\n",
       "  </thead>\n",
       "  <tbody>\n",
       "    <tr>\n",
       "      <th>VER</th>\n",
       "      <td>0.0</td>\n",
       "      <td>0.0</td>\n",
       "      <td>-2.0</td>\n",
       "    </tr>\n",
       "    <tr>\n",
       "      <th>LEC</th>\n",
       "      <td>0.0</td>\n",
       "      <td>0.0</td>\n",
       "      <td>4.0</td>\n",
       "    </tr>\n",
       "    <tr>\n",
       "      <th>PER</th>\n",
       "      <td>4.0</td>\n",
       "      <td>8.0</td>\n",
       "      <td>4.0</td>\n",
       "    </tr>\n",
       "    <tr>\n",
       "      <th>RUS</th>\n",
       "      <td>0.0</td>\n",
       "      <td>0.0</td>\n",
       "      <td>2.0</td>\n",
       "    </tr>\n",
       "    <tr>\n",
       "      <th>SAI</th>\n",
       "      <td>6.0</td>\n",
       "      <td>0.0</td>\n",
       "      <td>3.0</td>\n",
       "    </tr>\n",
       "    <tr>\n",
       "      <th>HAM</th>\n",
       "      <td>-1.0</td>\n",
       "      <td>1.0</td>\n",
       "      <td>5.0</td>\n",
       "    </tr>\n",
       "    <tr>\n",
       "      <th>NOR</th>\n",
       "      <td>-2.0</td>\n",
       "      <td>4.0</td>\n",
       "      <td>-3.0</td>\n",
       "    </tr>\n",
       "    <tr>\n",
       "      <th>OCO</th>\n",
       "      <td>3.0</td>\n",
       "      <td>-1.0</td>\n",
       "      <td>-11.0</td>\n",
       "    </tr>\n",
       "    <tr>\n",
       "      <th>ALO</th>\n",
       "      <td>-4.0</td>\n",
       "      <td>-12.0</td>\n",
       "      <td>-11.0</td>\n",
       "    </tr>\n",
       "    <tr>\n",
       "      <th>BOT</th>\n",
       "      <td>1.0</td>\n",
       "      <td>2.0</td>\n",
       "      <td>4.0</td>\n",
       "    </tr>\n",
       "    <tr>\n",
       "      <th>VET</th>\n",
       "      <td>-4.0</td>\n",
       "      <td>1.0</td>\n",
       "      <td>4.0</td>\n",
       "    </tr>\n",
       "    <tr>\n",
       "      <th>RIC</th>\n",
       "      <td>0.0</td>\n",
       "      <td>4.0</td>\n",
       "      <td>3.0</td>\n",
       "    </tr>\n",
       "    <tr>\n",
       "      <th>MAG</th>\n",
       "      <td>-4.0</td>\n",
       "      <td>-1.0</td>\n",
       "      <td>-7.0</td>\n",
       "    </tr>\n",
       "    <tr>\n",
       "      <th>GAS</th>\n",
       "      <td>0.0</td>\n",
       "      <td>-5.0</td>\n",
       "      <td>2.0</td>\n",
       "    </tr>\n",
       "    <tr>\n",
       "      <th>STR</th>\n",
       "      <td>0.0</td>\n",
       "      <td>4.0</td>\n",
       "      <td>-1.0</td>\n",
       "    </tr>\n",
       "    <tr>\n",
       "      <th>TSU</th>\n",
       "      <td>4.0</td>\n",
       "      <td>-3.0</td>\n",
       "      <td>4.0</td>\n",
       "    </tr>\n",
       "    <tr>\n",
       "      <th>MSC</th>\n",
       "      <td>2.0</td>\n",
       "      <td>-2.0</td>\n",
       "      <td>8.0</td>\n",
       "    </tr>\n",
       "    <tr>\n",
       "      <th>ZHO</th>\n",
       "      <td>-20.0</td>\n",
       "      <td>4.0</td>\n",
       "      <td>4.0</td>\n",
       "    </tr>\n",
       "    <tr>\n",
       "      <th>ALB</th>\n",
       "      <td>2.0</td>\n",
       "      <td>-5.0</td>\n",
       "      <td>-9.0</td>\n",
       "    </tr>\n",
       "    <tr>\n",
       "      <th>LAT</th>\n",
       "      <td>-1.0</td>\n",
       "      <td>1.0</td>\n",
       "      <td>-3.0</td>\n",
       "    </tr>\n",
       "    <tr>\n",
       "      <th>DEV</th>\n",
       "      <td>NaN</td>\n",
       "      <td>NaN</td>\n",
       "      <td>NaN</td>\n",
       "    </tr>\n",
       "    <tr>\n",
       "      <th>HUL</th>\n",
       "      <td>NaN</td>\n",
       "      <td>NaN</td>\n",
       "      <td>NaN</td>\n",
       "    </tr>\n",
       "  </tbody>\n",
       "</table>\n",
       "</div>"
      ],
      "text/plain": [
       "race        Emilia Romagna  Austrian  São Paulo\n",
       "driverCode                                     \n",
       "VER                    0.0       0.0       -2.0\n",
       "LEC                    0.0       0.0        4.0\n",
       "PER                    4.0       8.0        4.0\n",
       "RUS                    0.0       0.0        2.0\n",
       "SAI                    6.0       0.0        3.0\n",
       "HAM                   -1.0       1.0        5.0\n",
       "NOR                   -2.0       4.0       -3.0\n",
       "OCO                    3.0      -1.0      -11.0\n",
       "ALO                   -4.0     -12.0      -11.0\n",
       "BOT                    1.0       2.0        4.0\n",
       "VET                   -4.0       1.0        4.0\n",
       "RIC                    0.0       4.0        3.0\n",
       "MAG                   -4.0      -1.0       -7.0\n",
       "GAS                    0.0      -5.0        2.0\n",
       "STR                    0.0       4.0       -1.0\n",
       "TSU                    4.0      -3.0        4.0\n",
       "MSC                    2.0      -2.0        8.0\n",
       "ZHO                  -20.0       4.0        4.0\n",
       "ALB                    2.0      -5.0       -9.0\n",
       "LAT                   -1.0       1.0       -3.0\n",
       "DEV                    NaN       NaN        NaN\n",
       "HUL                    NaN       NaN        NaN"
      ]
     },
     "execution_count": 58,
     "metadata": {},
     "output_type": "execute_result"
    }
   ],
   "source": [
    "df = get_chart(df_2022, df_championship, values='delta_sprint')\n",
    "\n",
    "df"
   ]
  }
 ],
 "metadata": {
  "kernelspec": {
   "display_name": "FinalProject",
   "language": "python",
   "name": "python3"
  },
  "language_info": {
   "codemirror_mode": {
    "name": "ipython",
    "version": 3
   },
   "file_extension": ".py",
   "mimetype": "text/x-python",
   "name": "python",
   "nbconvert_exporter": "python",
   "pygments_lexer": "ipython3",
   "version": "3.12.8"
  }
 },
 "nbformat": 4,
 "nbformat_minor": 2
}
