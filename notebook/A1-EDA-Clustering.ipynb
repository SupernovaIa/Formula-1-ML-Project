{
 "cells": [
  {
   "cell_type": "markdown",
   "metadata": {},
   "source": [
    "# 1. Import libraries"
   ]
  },
  {
   "cell_type": "code",
   "execution_count": 10,
   "metadata": {},
   "outputs": [],
   "source": [
    "# Data processing  \n",
    "# -----------------------------------------------------------------------  \n",
    "import pandas as pd  \n",
    "import numpy as np\n",
    "\n",
    "# Pandas options  \n",
    "# -----------------------------------------------------------------------  \n",
    "pd.options.display.max_colwidth = None\n",
    " \n",
    "# Path configuration for custom module imports  \n",
    "# -----------------------------------------------------------------------  \n",
    "import sys  \n",
    "sys.path.append('../')  # Adds the parent directory to the path for custom module imports  \n",
    "\n",
    "# Ignore warnings  \n",
    "# -----------------------------------------------------------------------  \n",
    "import warnings  \n",
    "warnings.filterwarnings(\"ignore\")\n",
    "\n",
    "# Custom functions\n",
    "# -----------------------------------------------------------------------\n",
    "from src.eda_support import *\n",
    "from src.circuit_clustering_model.extract import extract_races_and_results_dataframes"
   ]
  },
  {
   "cell_type": "code",
   "execution_count": 3,
   "metadata": {},
   "outputs": [],
   "source": [
    "import fastf1\n",
    "\n",
    "# Config less verbosity\n",
    "fastf1.set_log_level('ERROR')"
   ]
  },
  {
   "cell_type": "markdown",
   "metadata": {},
   "source": [
    "# 2. Data loading"
   ]
  },
  {
   "cell_type": "code",
   "execution_count": 7,
   "metadata": {},
   "outputs": [],
   "source": [
    "df_races = pd.read_csv('../data/output/races.csv', index_col=0)\n",
    "\n",
    "df_races = df_races.loc[:, ['season', 'round', 'circuitId']]"
   ]
  },
  {
   "cell_type": "code",
   "execution_count": 19,
   "metadata": {},
   "outputs": [],
   "source": [
    "try:\n",
    "    df = pd.read_csv('../data/output/circuits.csv', index_col=0)\n",
    "\n",
    "except FileNotFoundError:\n",
    "    print(\"Data not found: Extracting data...\")\n",
    "    df = extract_races_and_results_dataframes(df_races)\n",
    "    df.to_csv('../data/output/circuits.csv')\n"
   ]
  },
  {
   "cell_type": "code",
   "execution_count": 21,
   "metadata": {},
   "outputs": [
    {
     "data": {
      "text/html": [
       "<div>\n",
       "<style scoped>\n",
       "    .dataframe tbody tr th:only-of-type {\n",
       "        vertical-align: middle;\n",
       "    }\n",
       "\n",
       "    .dataframe tbody tr th {\n",
       "        vertical-align: top;\n",
       "    }\n",
       "\n",
       "    .dataframe thead th {\n",
       "        text-align: right;\n",
       "    }\n",
       "</style>\n",
       "<table border=\"1\" class=\"dataframe\">\n",
       "  <thead>\n",
       "    <tr style=\"text-align: right;\">\n",
       "      <th></th>\n",
       "      <th>compound</th>\n",
       "      <th>laptime</th>\n",
       "      <th>max_speed</th>\n",
       "      <th>distance</th>\n",
       "      <th>n_corners</th>\n",
       "      <th>avg_corner_speed</th>\n",
       "      <th>avg_speed</th>\n",
       "      <th>throttle_perc</th>\n",
       "      <th>brake_perc</th>\n",
       "      <th>gear_changes</th>\n",
       "    </tr>\n",
       "  </thead>\n",
       "  <tbody>\n",
       "    <tr>\n",
       "      <th>bahrain</th>\n",
       "      <td>SOFT</td>\n",
       "      <td>88.997</td>\n",
       "      <td>311.0</td>\n",
       "      <td>5391.107500</td>\n",
       "      <td>15</td>\n",
       "      <td>174.591753</td>\n",
       "      <td>218.342318</td>\n",
       "      <td>73.134771</td>\n",
       "      <td>18.059299</td>\n",
       "      <td>55.0</td>\n",
       "    </tr>\n",
       "    <tr>\n",
       "      <th>imola</th>\n",
       "      <td>SOFT</td>\n",
       "      <td>74.411</td>\n",
       "      <td>290.0</td>\n",
       "      <td>4899.232778</td>\n",
       "      <td>19</td>\n",
       "      <td>214.538960</td>\n",
       "      <td>237.668831</td>\n",
       "      <td>81.048701</td>\n",
       "      <td>13.961039</td>\n",
       "      <td>40.0</td>\n",
       "    </tr>\n",
       "    <tr>\n",
       "      <th>portimao</th>\n",
       "      <td>MEDIUM</td>\n",
       "      <td>77.968</td>\n",
       "      <td>314.0</td>\n",
       "      <td>4637.664722</td>\n",
       "      <td>15</td>\n",
       "      <td>188.740533</td>\n",
       "      <td>214.136223</td>\n",
       "      <td>73.058824</td>\n",
       "      <td>17.647059</td>\n",
       "      <td>40.0</td>\n",
       "    </tr>\n",
       "    <tr>\n",
       "      <th>catalunya</th>\n",
       "      <td>SOFT</td>\n",
       "      <td>76.741</td>\n",
       "      <td>313.0</td>\n",
       "      <td>4665.113611</td>\n",
       "      <td>16</td>\n",
       "      <td>177.564519</td>\n",
       "      <td>219.068966</td>\n",
       "      <td>75.727273</td>\n",
       "      <td>16.300940</td>\n",
       "      <td>40.0</td>\n",
       "    </tr>\n",
       "    <tr>\n",
       "      <th>monaco</th>\n",
       "      <td>SOFT</td>\n",
       "      <td>70.346</td>\n",
       "      <td>279.0</td>\n",
       "      <td>3276.551111</td>\n",
       "      <td>19</td>\n",
       "      <td>146.219753</td>\n",
       "      <td>168.225256</td>\n",
       "      <td>59.266212</td>\n",
       "      <td>26.279863</td>\n",
       "      <td>48.0</td>\n",
       "    </tr>\n",
       "  </tbody>\n",
       "</table>\n",
       "</div>"
      ],
      "text/plain": [
       "          compound  laptime  max_speed     distance  n_corners  \\\n",
       "bahrain       SOFT   88.997      311.0  5391.107500         15   \n",
       "imola         SOFT   74.411      290.0  4899.232778         19   \n",
       "portimao    MEDIUM   77.968      314.0  4637.664722         15   \n",
       "catalunya     SOFT   76.741      313.0  4665.113611         16   \n",
       "monaco        SOFT   70.346      279.0  3276.551111         19   \n",
       "\n",
       "           avg_corner_speed   avg_speed  throttle_perc  brake_perc  \\\n",
       "bahrain          174.591753  218.342318      73.134771   18.059299   \n",
       "imola            214.538960  237.668831      81.048701   13.961039   \n",
       "portimao         188.740533  214.136223      73.058824   17.647059   \n",
       "catalunya        177.564519  219.068966      75.727273   16.300940   \n",
       "monaco           146.219753  168.225256      59.266212   26.279863   \n",
       "\n",
       "           gear_changes  \n",
       "bahrain            55.0  \n",
       "imola              40.0  \n",
       "portimao           40.0  \n",
       "catalunya          40.0  \n",
       "monaco             48.0  "
      ]
     },
     "execution_count": 21,
     "metadata": {},
     "output_type": "execute_result"
    }
   ],
   "source": [
    "df.head()"
   ]
  },
  {
   "cell_type": "markdown",
   "metadata": {},
   "source": [
    "# 3. Data description"
   ]
  },
  {
   "cell_type": "markdown",
   "metadata": {},
   "source": [
    "El conjunto de datos a analizar consiste en una tabla cuyas entradas son circuitos del campeonato del mundo de F1. Los circuitos se corresponden con las entradas que podemos encontrar en el dataframe `df_races`, cuyo detalle de extracción se puede encontrar en [poner fichero].\n",
    "\n",
    "A partir de estos datos, la función `extract_races_and_results_dataframes()` se encarga de recuperar la información necesaria para caracterizar un circuito a partir de la vuelta más rápida de la clasificación (pole position).\n",
    "\n",
    "Se ha utilizado la pole position porque normalmente es la vuelta más rápida del fin de semana y es menos sensible a estrategias de carrera como selección de neumáticos o cargas de combustible.\n",
    "\n",
    "Para clusterizar adecuadamente los circuitos se han recopilado diferentes características clave de los mismos a partir de la telemetría de la vuelta. Los datos clave obtenidos (columnas del dataframe) son:\n",
    "\n",
    "* `compound`: Compuesto con el que se ha llevado a cabo la vuelta de la pole position. \n",
    "\n",
    "* `laptime`: Tiempo total de la vuelta, en segundos.\n",
    "\n",
    "* `max_speed`: Velocidad máxima alcanzada en la trampa de velocidad, en km/h.\n",
    "\n",
    "* `distance`: Longitud total del circuito.\n",
    "\n",
    "* `n_corners`: Número total de curvas del trazado.\n",
    "\n",
    "* `avg_corner_speed`: Velocidad promedio de paso por curva, en km/h.\n",
    "\n",
    "* `avg_speed`: Velocidad media de la vuelta, en km/h.\n",
    "\n",
    "* `throttle_perc`: Porcentaje de acelerador a lo largo de la vuelta.\n",
    "\n",
    "* `brake_perc`: Porcentaje de freno a lo largo de la vuelta.\n",
    "\n",
    "* `gear_changes`: Número total de cambios de marcha a lo largo de la vuelta.\n",
    "\n",
    "Nota: la columna `compound` no la utilizaremos en el clustering sino que la utilizamos para filtrar vueltas en las que la sesión haya sido en mojado, lo que puede sesgar las condiciones del circuito. \n",
    "\n",
    "Inicialmente no eliminaremos los duplicados, y conservaremos entradas del mismo circuito a lo largo de varias temporadas. Esto permitirá que podamos tener al menos una entrada en condiciones de seco para cada circuito, lo que es más representativo de las características del mismo."
   ]
  },
  {
   "cell_type": "code",
   "execution_count": 27,
   "metadata": {},
   "outputs": [
    {
     "data": {
      "text/html": [
       "<div>\n",
       "<style scoped>\n",
       "    .dataframe tbody tr th:only-of-type {\n",
       "        vertical-align: middle;\n",
       "    }\n",
       "\n",
       "    .dataframe tbody tr th {\n",
       "        vertical-align: top;\n",
       "    }\n",
       "\n",
       "    .dataframe thead th {\n",
       "        text-align: right;\n",
       "    }\n",
       "</style>\n",
       "<table border=\"1\" class=\"dataframe\">\n",
       "  <thead>\n",
       "    <tr style=\"text-align: right;\">\n",
       "      <th></th>\n",
       "      <th>compound</th>\n",
       "      <th>laptime</th>\n",
       "      <th>max_speed</th>\n",
       "      <th>distance</th>\n",
       "      <th>n_corners</th>\n",
       "      <th>avg_corner_speed</th>\n",
       "      <th>avg_speed</th>\n",
       "      <th>throttle_perc</th>\n",
       "      <th>brake_perc</th>\n",
       "      <th>gear_changes</th>\n",
       "    </tr>\n",
       "  </thead>\n",
       "  <tbody>\n",
       "    <tr>\n",
       "      <th>bahrain</th>\n",
       "      <td>SOFT</td>\n",
       "      <td>88.997</td>\n",
       "      <td>311.0</td>\n",
       "      <td>5391.107500</td>\n",
       "      <td>15</td>\n",
       "      <td>174.591753</td>\n",
       "      <td>218.342318</td>\n",
       "      <td>73.134771</td>\n",
       "      <td>18.059299</td>\n",
       "      <td>55.0</td>\n",
       "    </tr>\n",
       "    <tr>\n",
       "      <th>imola</th>\n",
       "      <td>SOFT</td>\n",
       "      <td>74.411</td>\n",
       "      <td>290.0</td>\n",
       "      <td>4899.232778</td>\n",
       "      <td>19</td>\n",
       "      <td>214.538960</td>\n",
       "      <td>237.668831</td>\n",
       "      <td>81.048701</td>\n",
       "      <td>13.961039</td>\n",
       "      <td>40.0</td>\n",
       "    </tr>\n",
       "    <tr>\n",
       "      <th>portimao</th>\n",
       "      <td>MEDIUM</td>\n",
       "      <td>77.968</td>\n",
       "      <td>314.0</td>\n",
       "      <td>4637.664722</td>\n",
       "      <td>15</td>\n",
       "      <td>188.740533</td>\n",
       "      <td>214.136223</td>\n",
       "      <td>73.058824</td>\n",
       "      <td>17.647059</td>\n",
       "      <td>40.0</td>\n",
       "    </tr>\n",
       "    <tr>\n",
       "      <th>catalunya</th>\n",
       "      <td>SOFT</td>\n",
       "      <td>76.741</td>\n",
       "      <td>313.0</td>\n",
       "      <td>4665.113611</td>\n",
       "      <td>16</td>\n",
       "      <td>177.564519</td>\n",
       "      <td>219.068966</td>\n",
       "      <td>75.727273</td>\n",
       "      <td>16.300940</td>\n",
       "      <td>40.0</td>\n",
       "    </tr>\n",
       "    <tr>\n",
       "      <th>monaco</th>\n",
       "      <td>SOFT</td>\n",
       "      <td>70.346</td>\n",
       "      <td>279.0</td>\n",
       "      <td>3276.551111</td>\n",
       "      <td>19</td>\n",
       "      <td>146.219753</td>\n",
       "      <td>168.225256</td>\n",
       "      <td>59.266212</td>\n",
       "      <td>26.279863</td>\n",
       "      <td>48.0</td>\n",
       "    </tr>\n",
       "  </tbody>\n",
       "</table>\n",
       "</div>"
      ],
      "text/plain": [
       "          compound  laptime  max_speed     distance  n_corners  \\\n",
       "bahrain       SOFT   88.997      311.0  5391.107500         15   \n",
       "imola         SOFT   74.411      290.0  4899.232778         19   \n",
       "portimao    MEDIUM   77.968      314.0  4637.664722         15   \n",
       "catalunya     SOFT   76.741      313.0  4665.113611         16   \n",
       "monaco        SOFT   70.346      279.0  3276.551111         19   \n",
       "\n",
       "           avg_corner_speed   avg_speed  throttle_perc  brake_perc  \\\n",
       "bahrain          174.591753  218.342318      73.134771   18.059299   \n",
       "imola            214.538960  237.668831      81.048701   13.961039   \n",
       "portimao         188.740533  214.136223      73.058824   17.647059   \n",
       "catalunya        177.564519  219.068966      75.727273   16.300940   \n",
       "monaco           146.219753  168.225256      59.266212   26.279863   \n",
       "\n",
       "           gear_changes  \n",
       "bahrain            55.0  \n",
       "imola              40.0  \n",
       "portimao           40.0  \n",
       "catalunya          40.0  \n",
       "monaco             48.0  "
      ]
     },
     "execution_count": 27,
     "metadata": {},
     "output_type": "execute_result"
    }
   ],
   "source": [
    "df.head()"
   ]
  },
  {
   "cell_type": "markdown",
   "metadata": {},
   "source": [
    "Podemos ver de qué temporadas tenemos circuitos"
   ]
  },
  {
   "cell_type": "code",
   "execution_count": 23,
   "metadata": {},
   "outputs": [
    {
     "data": {
      "text/plain": [
       "array([2021])"
      ]
     },
     "execution_count": 23,
     "metadata": {},
     "output_type": "execute_result"
    }
   ],
   "source": [
    "df_races['season'].unique()"
   ]
  },
  {
   "cell_type": "markdown",
   "metadata": {},
   "source": [
    "Y cuántos circuitos diferentes tenemos en total"
   ]
  },
  {
   "cell_type": "code",
   "execution_count": 25,
   "metadata": {},
   "outputs": [
    {
     "data": {
      "text/plain": [
       "21"
      ]
     },
     "execution_count": 25,
     "metadata": {},
     "output_type": "execute_result"
    }
   ],
   "source": [
    "df_races['circuitId'].nunique()"
   ]
  },
  {
   "cell_type": "code",
   "execution_count": null,
   "metadata": {},
   "outputs": [],
   "source": []
  },
  {
   "cell_type": "markdown",
   "metadata": {},
   "source": [
    "Nota: deberíamos considerar eliminar las curvas que sean a fondo y/o agrupar las curvas o rectas por velocidad\n",
    "\n",
    "Esto son next steps. Hacer si da tiempo"
   ]
  },
  {
   "cell_type": "markdown",
   "metadata": {},
   "source": [
    "# 4. Exploratory data analysis"
   ]
  },
  {
   "cell_type": "markdown",
   "metadata": {},
   "source": [
    "En este caso, todas las columnas son numéricas."
   ]
  },
  {
   "cell_type": "code",
   "execution_count": 28,
   "metadata": {},
   "outputs": [
    {
     "data": {
      "text/html": [
       "<div>\n",
       "<style scoped>\n",
       "    .dataframe tbody tr th:only-of-type {\n",
       "        vertical-align: middle;\n",
       "    }\n",
       "\n",
       "    .dataframe tbody tr th {\n",
       "        vertical-align: top;\n",
       "    }\n",
       "\n",
       "    .dataframe thead th {\n",
       "        text-align: right;\n",
       "    }\n",
       "</style>\n",
       "<table border=\"1\" class=\"dataframe\">\n",
       "  <thead>\n",
       "    <tr style=\"text-align: right;\">\n",
       "      <th></th>\n",
       "      <th>count</th>\n",
       "      <th>mean</th>\n",
       "      <th>std</th>\n",
       "      <th>min</th>\n",
       "      <th>25%</th>\n",
       "      <th>50%</th>\n",
       "      <th>75%</th>\n",
       "      <th>max</th>\n",
       "    </tr>\n",
       "  </thead>\n",
       "  <tbody>\n",
       "    <tr>\n",
       "      <th>laptime</th>\n",
       "      <td>21.0</td>\n",
       "      <td>82.92</td>\n",
       "      <td>12.68</td>\n",
       "      <td>63.72</td>\n",
       "      <td>75.42</td>\n",
       "      <td>80.83</td>\n",
       "      <td>89.00</td>\n",
       "      <td>116.02</td>\n",
       "    </tr>\n",
       "    <tr>\n",
       "      <th>max_speed</th>\n",
       "      <td>21.0</td>\n",
       "      <td>314.48</td>\n",
       "      <td>15.42</td>\n",
       "      <td>279.00</td>\n",
       "      <td>307.00</td>\n",
       "      <td>315.00</td>\n",
       "      <td>322.00</td>\n",
       "      <td>346.00</td>\n",
       "    </tr>\n",
       "    <tr>\n",
       "      <th>distance</th>\n",
       "      <td>21.0</td>\n",
       "      <td>5123.10</td>\n",
       "      <td>853.36</td>\n",
       "      <td>3276.55</td>\n",
       "      <td>4338.10</td>\n",
       "      <td>5253.13</td>\n",
       "      <td>5758.10</td>\n",
       "      <td>6940.38</td>\n",
       "    </tr>\n",
       "    <tr>\n",
       "      <th>n_corners</th>\n",
       "      <td>21.0</td>\n",
       "      <td>16.57</td>\n",
       "      <td>3.60</td>\n",
       "      <td>10.00</td>\n",
       "      <td>15.00</td>\n",
       "      <td>16.00</td>\n",
       "      <td>19.00</td>\n",
       "      <td>27.00</td>\n",
       "    </tr>\n",
       "    <tr>\n",
       "      <th>avg_corner_speed</th>\n",
       "      <td>21.0</td>\n",
       "      <td>188.59</td>\n",
       "      <td>24.20</td>\n",
       "      <td>144.17</td>\n",
       "      <td>174.59</td>\n",
       "      <td>188.74</td>\n",
       "      <td>197.86</td>\n",
       "      <td>238.82</td>\n",
       "    </tr>\n",
       "    <tr>\n",
       "      <th>avg_speed</th>\n",
       "      <td>21.0</td>\n",
       "      <td>222.98</td>\n",
       "      <td>20.28</td>\n",
       "      <td>168.23</td>\n",
       "      <td>211.64</td>\n",
       "      <td>221.56</td>\n",
       "      <td>237.67</td>\n",
       "      <td>260.64</td>\n",
       "    </tr>\n",
       "    <tr>\n",
       "      <th>throttle_perc</th>\n",
       "      <td>21.0</td>\n",
       "      <td>74.09</td>\n",
       "      <td>6.17</td>\n",
       "      <td>59.27</td>\n",
       "      <td>71.05</td>\n",
       "      <td>74.30</td>\n",
       "      <td>78.26</td>\n",
       "      <td>83.15</td>\n",
       "    </tr>\n",
       "    <tr>\n",
       "      <th>brake_perc</th>\n",
       "      <td>21.0</td>\n",
       "      <td>15.89</td>\n",
       "      <td>3.48</td>\n",
       "      <td>10.44</td>\n",
       "      <td>13.96</td>\n",
       "      <td>16.28</td>\n",
       "      <td>17.49</td>\n",
       "      <td>26.28</td>\n",
       "    </tr>\n",
       "    <tr>\n",
       "      <th>gear_changes</th>\n",
       "      <td>21.0</td>\n",
       "      <td>43.00</td>\n",
       "      <td>8.65</td>\n",
       "      <td>32.00</td>\n",
       "      <td>36.00</td>\n",
       "      <td>40.00</td>\n",
       "      <td>47.00</td>\n",
       "      <td>64.00</td>\n",
       "    </tr>\n",
       "  </tbody>\n",
       "</table>\n",
       "</div>"
      ],
      "text/plain": [
       "                  count     mean     std      min      25%      50%      75%  \\\n",
       "laptime            21.0    82.92   12.68    63.72    75.42    80.83    89.00   \n",
       "max_speed          21.0   314.48   15.42   279.00   307.00   315.00   322.00   \n",
       "distance           21.0  5123.10  853.36  3276.55  4338.10  5253.13  5758.10   \n",
       "n_corners          21.0    16.57    3.60    10.00    15.00    16.00    19.00   \n",
       "avg_corner_speed   21.0   188.59   24.20   144.17   174.59   188.74   197.86   \n",
       "avg_speed          21.0   222.98   20.28   168.23   211.64   221.56   237.67   \n",
       "throttle_perc      21.0    74.09    6.17    59.27    71.05    74.30    78.26   \n",
       "brake_perc         21.0    15.89    3.48    10.44    13.96    16.28    17.49   \n",
       "gear_changes       21.0    43.00    8.65    32.00    36.00    40.00    47.00   \n",
       "\n",
       "                      max  \n",
       "laptime            116.02  \n",
       "max_speed          346.00  \n",
       "distance          6940.38  \n",
       "n_corners           27.00  \n",
       "avg_corner_speed   238.82  \n",
       "avg_speed          260.64  \n",
       "throttle_perc       83.15  \n",
       "brake_perc          26.28  \n",
       "gear_changes        64.00  "
      ]
     },
     "execution_count": 28,
     "metadata": {},
     "output_type": "execute_result"
    }
   ],
   "source": [
    "df.describe().T.round(2)"
   ]
  },
  {
   "cell_type": "code",
   "execution_count": 29,
   "metadata": {},
   "outputs": [
    {
     "data": {
      "image/png": "[encoded data removed]",
      "text/plain": [
       "<Figure size 1200x800 with 9 Axes>"
      ]
     },
     "metadata": {},
     "output_type": "display_data"
    }
   ],
   "source": [
    "plot_outliers(df, size = (12, 8))"
   ]
  }
 ],
 "metadata": {
  "kernelspec": {
   "display_name": "FinalProject",
   "language": "python",
   "name": "python3"
  },
  "language_info": {
   "codemirror_mode": {
    "name": "ipython",
    "version": 3
   },
   "file_extension": ".py",
   "mimetype": "text/x-python",
   "name": "python",
   "nbconvert_exporter": "python",
   "pygments_lexer": "ipython3",
   "version": "3.12.8"
  }
 },
 "nbformat": 4,
 "nbformat_minor": 2
}
