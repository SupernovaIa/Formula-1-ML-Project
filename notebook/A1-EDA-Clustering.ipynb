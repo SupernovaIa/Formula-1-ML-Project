{
 "cells": [
  {
   "cell_type": "markdown",
   "metadata": {},
   "source": [
    "# 1. Import libraries"
   ]
  },
  {
   "cell_type": "code",
   "execution_count": 1,
   "metadata": {},
   "outputs": [],
   "source": [
    "# Data processing  \n",
    "# -----------------------------------------------------------------------  \n",
    "import pandas as pd  \n",
    "import numpy as np\n",
    "\n",
    "# Pandas options  \n",
    "# -----------------------------------------------------------------------  \n",
    "pd.options.display.max_colwidth = None\n",
    " \n",
    "# Path configuration for custom module imports  \n",
    "# -----------------------------------------------------------------------  \n",
    "import sys  \n",
    "sys.path.append('../')  # Adds the parent directory to the path for custom module imports  \n",
    "\n",
    "# Ignore warnings  \n",
    "# -----------------------------------------------------------------------  \n",
    "import warnings  \n",
    "warnings.filterwarnings(\"ignore\")\n",
    "\n",
    "# Custom functions\n",
    "# -----------------------------------------------------------------------\n",
    "from src.eda_support import * # Revisar qué funciones necesito de aquí\n",
    "from src.circuit_clustering_model.extract import *"
   ]
  },
  {
   "cell_type": "code",
   "execution_count": 2,
   "metadata": {},
   "outputs": [],
   "source": [
    "import fastf1\n",
    "\n",
    "# Config less verbosity\n",
    "fastf1.set_log_level('ERROR')"
   ]
  },
  {
   "cell_type": "markdown",
   "metadata": {},
   "source": [
    "# 2. Data loading"
   ]
  },
  {
   "cell_type": "code",
   "execution_count": 3,
   "metadata": {},
   "outputs": [],
   "source": [
    "df_races = pd.read_csv('../data/output/races.csv')\n",
    "\n",
    "df_races = df_races.loc[:, ['season', 'round', 'circuitId']]"
   ]
  },
  {
   "cell_type": "code",
   "execution_count": 4,
   "metadata": {},
   "outputs": [
    {
     "data": {
      "text/html": [
       "<div>\n",
       "<style scoped>\n",
       "    .dataframe tbody tr th:only-of-type {\n",
       "        vertical-align: middle;\n",
       "    }\n",
       "\n",
       "    .dataframe tbody tr th {\n",
       "        vertical-align: top;\n",
       "    }\n",
       "\n",
       "    .dataframe thead th {\n",
       "        text-align: right;\n",
       "    }\n",
       "</style>\n",
       "<table border=\"1\" class=\"dataframe\">\n",
       "  <thead>\n",
       "    <tr style=\"text-align: right;\">\n",
       "      <th></th>\n",
       "      <th>season</th>\n",
       "      <th>round</th>\n",
       "      <th>circuitId</th>\n",
       "    </tr>\n",
       "  </thead>\n",
       "  <tbody>\n",
       "    <tr>\n",
       "      <th>0</th>\n",
       "      <td>2010</td>\n",
       "      <td>1</td>\n",
       "      <td>bahrain</td>\n",
       "    </tr>\n",
       "    <tr>\n",
       "      <th>1</th>\n",
       "      <td>2010</td>\n",
       "      <td>2</td>\n",
       "      <td>albert_park</td>\n",
       "    </tr>\n",
       "    <tr>\n",
       "      <th>2</th>\n",
       "      <td>2010</td>\n",
       "      <td>3</td>\n",
       "      <td>sepang</td>\n",
       "    </tr>\n",
       "    <tr>\n",
       "      <th>3</th>\n",
       "      <td>2010</td>\n",
       "      <td>4</td>\n",
       "      <td>shanghai</td>\n",
       "    </tr>\n",
       "    <tr>\n",
       "      <th>4</th>\n",
       "      <td>2010</td>\n",
       "      <td>5</td>\n",
       "      <td>catalunya</td>\n",
       "    </tr>\n",
       "  </tbody>\n",
       "</table>\n",
       "</div>"
      ],
      "text/plain": [
       "   season  round    circuitId\n",
       "0    2010      1      bahrain\n",
       "1    2010      2  albert_park\n",
       "2    2010      3       sepang\n",
       "3    2010      4     shanghai\n",
       "4    2010      5    catalunya"
      ]
     },
     "execution_count": 4,
     "metadata": {},
     "output_type": "execute_result"
    }
   ],
   "source": [
    "df_races.head()"
   ]
  },
  {
   "cell_type": "markdown",
   "metadata": {},
   "source": [
    "El primer año del que podemos extraer telemetría es 2018 (ver fastf1 docs) por lo que lo haremos desde esta temporada"
   ]
  },
  {
   "cell_type": "code",
   "execution_count": 5,
   "metadata": {},
   "outputs": [],
   "source": [
    "df_races = df_races[df_races['season'] >= 2018]"
   ]
  },
  {
   "cell_type": "markdown",
   "metadata": {},
   "source": [
    "Vamos a almacenar la entrada más reciente de cada circuito. Luego si alguno nos da problemas volvemos a la siguiente entrada más reciente."
   ]
  },
  {
   "cell_type": "code",
   "execution_count": 6,
   "metadata": {},
   "outputs": [],
   "source": [
    "df_unique_circuits = df_races.drop_duplicates(subset=['circuitId'], keep='last')"
   ]
  },
  {
   "cell_type": "code",
   "execution_count": 7,
   "metadata": {},
   "outputs": [
    {
     "data": {
      "text/plain": [
       "(31, 3)"
      ]
     },
     "execution_count": 7,
     "metadata": {},
     "output_type": "execute_result"
    }
   ],
   "source": [
    "df_unique_circuits.shape"
   ]
  },
  {
   "cell_type": "markdown",
   "metadata": {},
   "source": [
    "Tenemos un total de 31 circuitos para clusterizar"
   ]
  },
  {
   "cell_type": "code",
   "execution_count": 8,
   "metadata": {},
   "outputs": [
    {
     "data": {
      "text/html": [
       "<div>\n",
       "<style scoped>\n",
       "    .dataframe tbody tr th:only-of-type {\n",
       "        vertical-align: middle;\n",
       "    }\n",
       "\n",
       "    .dataframe tbody tr th {\n",
       "        vertical-align: top;\n",
       "    }\n",
       "\n",
       "    .dataframe thead th {\n",
       "        text-align: right;\n",
       "    }\n",
       "</style>\n",
       "<table border=\"1\" class=\"dataframe\">\n",
       "  <thead>\n",
       "    <tr style=\"text-align: right;\">\n",
       "      <th></th>\n",
       "      <th>season</th>\n",
       "      <th>round</th>\n",
       "      <th>circuitId</th>\n",
       "    </tr>\n",
       "  </thead>\n",
       "  <tbody>\n",
       "    <tr>\n",
       "      <th>187</th>\n",
       "      <td>2019</td>\n",
       "      <td>11</td>\n",
       "      <td>hockenheimring</td>\n",
       "    </tr>\n",
       "    <tr>\n",
       "      <th>206</th>\n",
       "      <td>2020</td>\n",
       "      <td>9</td>\n",
       "      <td>mugello</td>\n",
       "    </tr>\n",
       "    <tr>\n",
       "      <th>208</th>\n",
       "      <td>2020</td>\n",
       "      <td>11</td>\n",
       "      <td>nurburgring</td>\n",
       "    </tr>\n",
       "    <tr>\n",
       "      <th>217</th>\n",
       "      <td>2021</td>\n",
       "      <td>3</td>\n",
       "      <td>portimao</td>\n",
       "    </tr>\n",
       "    <tr>\n",
       "      <th>229</th>\n",
       "      <td>2021</td>\n",
       "      <td>15</td>\n",
       "      <td>sochi</td>\n",
       "    </tr>\n",
       "  </tbody>\n",
       "</table>\n",
       "</div>"
      ],
      "text/plain": [
       "     season  round       circuitId\n",
       "187    2019     11  hockenheimring\n",
       "206    2020      9         mugello\n",
       "208    2020     11     nurburgring\n",
       "217    2021      3        portimao\n",
       "229    2021     15           sochi"
      ]
     },
     "execution_count": 8,
     "metadata": {},
     "output_type": "execute_result"
    }
   ],
   "source": [
    "df_unique_circuits.head()"
   ]
  },
  {
   "cell_type": "markdown",
   "metadata": {},
   "source": [
    "Procedemos a la extracción. Si ya tenemos los datos extraídos simplemente cargamos el dataset."
   ]
  },
  {
   "cell_type": "code",
   "execution_count": 9,
   "metadata": {},
   "outputs": [],
   "source": [
    "try:\n",
    "    df = pd.read_csv('../data/output/circuits.csv', index_col=0)\n",
    "\n",
    "except FileNotFoundError:\n",
    "    print(\"Data not found: Extracting data...\")\n",
    "    # Aquí cambiar df_races por unique races\n",
    "    df = extract_races_and_results_dataframes(df_races)\n",
    "    df.to_csv('../data/output/circuits.csv')"
   ]
  },
  {
   "cell_type": "code",
   "execution_count": 22,
   "metadata": {},
   "outputs": [],
   "source": [
    "lista = df[df['compound'].isin(['WET', 'INTERMEDIATE'])].index.to_list()"
   ]
  },
  {
   "cell_type": "code",
   "execution_count": 26,
   "metadata": {},
   "outputs": [],
   "source": [
    "df_aux = df_races[df_races['circuitId'].isin(lista)]"
   ]
  },
  {
   "cell_type": "code",
   "execution_count": 27,
   "metadata": {},
   "outputs": [],
   "source": [
    "penultimate_values = df_aux.groupby(\"circuitId\").nth(-2).reset_index()"
   ]
  },
  {
   "cell_type": "code",
   "execution_count": 28,
   "metadata": {},
   "outputs": [
    {
     "data": {
      "text/html": [
       "<div>\n",
       "<style scoped>\n",
       "    .dataframe tbody tr th:only-of-type {\n",
       "        vertical-align: middle;\n",
       "    }\n",
       "\n",
       "    .dataframe tbody tr th {\n",
       "        vertical-align: top;\n",
       "    }\n",
       "\n",
       "    .dataframe thead th {\n",
       "        text-align: right;\n",
       "    }\n",
       "</style>\n",
       "<table border=\"1\" class=\"dataframe\">\n",
       "  <thead>\n",
       "    <tr style=\"text-align: right;\">\n",
       "      <th></th>\n",
       "      <th>index</th>\n",
       "      <th>season</th>\n",
       "      <th>round</th>\n",
       "      <th>circuitId</th>\n",
       "    </tr>\n",
       "  </thead>\n",
       "  <tbody>\n",
       "    <tr>\n",
       "      <th>0</th>\n",
       "      <td>270</td>\n",
       "      <td>2023</td>\n",
       "      <td>12</td>\n",
       "      <td>spa</td>\n",
       "    </tr>\n",
       "    <tr>\n",
       "      <th>1</th>\n",
       "      <td>278</td>\n",
       "      <td>2023</td>\n",
       "      <td>20</td>\n",
       "      <td>interlagos</td>\n",
       "    </tr>\n",
       "  </tbody>\n",
       "</table>\n",
       "</div>"
      ],
      "text/plain": [
       "   index  season  round   circuitId\n",
       "0    270    2023     12         spa\n",
       "1    278    2023     20  interlagos"
      ]
     },
     "execution_count": 28,
     "metadata": {},
     "output_type": "execute_result"
    }
   ],
   "source": [
    "penultimate_values"
   ]
  },
  {
   "cell_type": "code",
   "execution_count": 30,
   "metadata": {},
   "outputs": [
    {
     "name": "stderr",
     "output_type": "stream",
     "text": [
      "Processing circuits.: 100%|██████████| 2/2 [00:20<00:00, 10.28s/it]\n"
     ]
    }
   ],
   "source": [
    "df_ext = extract_races_and_results_dataframes(penultimate_values)"
   ]
  },
  {
   "cell_type": "code",
   "execution_count": 31,
   "metadata": {},
   "outputs": [
    {
     "data": {
      "text/html": [
       "<div>\n",
       "<style scoped>\n",
       "    .dataframe tbody tr th:only-of-type {\n",
       "        vertical-align: middle;\n",
       "    }\n",
       "\n",
       "    .dataframe tbody tr th {\n",
       "        vertical-align: top;\n",
       "    }\n",
       "\n",
       "    .dataframe thead th {\n",
       "        text-align: right;\n",
       "    }\n",
       "</style>\n",
       "<table border=\"1\" class=\"dataframe\">\n",
       "  <thead>\n",
       "    <tr style=\"text-align: right;\">\n",
       "      <th></th>\n",
       "      <th>compound</th>\n",
       "      <th>laptime</th>\n",
       "      <th>max_speed</th>\n",
       "      <th>distance</th>\n",
       "      <th>n_corners</th>\n",
       "      <th>avg_corner_speed</th>\n",
       "      <th>avg_speed</th>\n",
       "      <th>throttle_perc</th>\n",
       "      <th>brake_perc</th>\n",
       "      <th>straight_lenght</th>\n",
       "      <th>...</th>\n",
       "      <th>n_medium_corners</th>\n",
       "      <th>n_fast_corners</th>\n",
       "      <th>n_gear1_corners</th>\n",
       "      <th>n_gear2_corners</th>\n",
       "      <th>n_gear3_corners</th>\n",
       "      <th>n_gear4_corners</th>\n",
       "      <th>n_gear5_corners</th>\n",
       "      <th>n_gear6_corners</th>\n",
       "      <th>n_gear7_corners</th>\n",
       "      <th>n_gear8_corners</th>\n",
       "    </tr>\n",
       "  </thead>\n",
       "  <tbody>\n",
       "    <tr>\n",
       "      <th>spa</th>\n",
       "      <td>SOFT</td>\n",
       "      <td>106.168</td>\n",
       "      <td>307.0</td>\n",
       "      <td>6933.692222</td>\n",
       "      <td>19</td>\n",
       "      <td>210.155817</td>\n",
       "      <td>235.492574</td>\n",
       "      <td>74.44802</td>\n",
       "      <td>14.60396</td>\n",
       "      <td>4108.277214</td>\n",
       "      <td>...</td>\n",
       "      <td>7</td>\n",
       "      <td>8</td>\n",
       "      <td>0</td>\n",
       "      <td>3</td>\n",
       "      <td>1</td>\n",
       "      <td>3</td>\n",
       "      <td>4</td>\n",
       "      <td>1</td>\n",
       "      <td>2</td>\n",
       "      <td>5</td>\n",
       "    </tr>\n",
       "    <tr>\n",
       "      <th>interlagos</th>\n",
       "      <td>SOFT</td>\n",
       "      <td>70.021</td>\n",
       "      <td>328.0</td>\n",
       "      <td>4234.409722</td>\n",
       "      <td>15</td>\n",
       "      <td>193.910736</td>\n",
       "      <td>218.680297</td>\n",
       "      <td>66.67658</td>\n",
       "      <td>15.98513</td>\n",
       "      <td>1329.373332</td>\n",
       "      <td>...</td>\n",
       "      <td>8</td>\n",
       "      <td>4</td>\n",
       "      <td>0</td>\n",
       "      <td>0</td>\n",
       "      <td>5</td>\n",
       "      <td>1</td>\n",
       "      <td>0</td>\n",
       "      <td>4</td>\n",
       "      <td>1</td>\n",
       "      <td>1</td>\n",
       "    </tr>\n",
       "  </tbody>\n",
       "</table>\n",
       "<p>2 rows × 22 columns</p>\n",
       "</div>"
      ],
      "text/plain": [
       "           compound  laptime  max_speed     distance  n_corners  \\\n",
       "spa            SOFT  106.168      307.0  6933.692222         19   \n",
       "interlagos     SOFT   70.021      328.0  4234.409722         15   \n",
       "\n",
       "            avg_corner_speed   avg_speed  throttle_perc  brake_perc  \\\n",
       "spa               210.155817  235.492574       74.44802    14.60396   \n",
       "interlagos        193.910736  218.680297       66.67658    15.98513   \n",
       "\n",
       "            straight_lenght  ...  n_medium_corners  n_fast_corners  \\\n",
       "spa             4108.277214  ...                 7               8   \n",
       "interlagos      1329.373332  ...                 8               4   \n",
       "\n",
       "            n_gear1_corners  n_gear2_corners  n_gear3_corners  \\\n",
       "spa                       0                3                1   \n",
       "interlagos                0                0                5   \n",
       "\n",
       "            n_gear4_corners  n_gear5_corners  n_gear6_corners  \\\n",
       "spa                       3                4                1   \n",
       "interlagos                1                0                4   \n",
       "\n",
       "            n_gear7_corners  n_gear8_corners  \n",
       "spa                       2                5  \n",
       "interlagos                1                1  \n",
       "\n",
       "[2 rows x 22 columns]"
      ]
     },
     "execution_count": 31,
     "metadata": {},
     "output_type": "execute_result"
    }
   ],
   "source": [
    "df_ext"
   ]
  },
  {
   "cell_type": "markdown",
   "metadata": {},
   "source": [
    "El circuito de Mugello no tiene datos de las curvas. Sin embargo, como es un circuito en el que solamente se ha disputado un GP en 2020 de forma excepcional lo dejaremos a parte. De esta forma nos quedamos con 30 circuitos y con 22 columnas."
   ]
  },
  {
   "cell_type": "code",
   "execution_count": null,
   "metadata": {},
   "outputs": [],
   "source": [
    "df.shape"
   ]
  },
  {
   "cell_type": "markdown",
   "metadata": {},
   "source": [
    "# 3. Data description"
   ]
  },
  {
   "cell_type": "markdown",
   "metadata": {},
   "source": [
    "El conjunto de datos a analizar consiste en una tabla cuyas entradas son circuitos del campeonato del mundo de F1. Los circuitos se corresponden con las entradas que podemos encontrar en el dataframe `df_races`, cuyo detalle de extracción se puede encontrar en [poner fichero].\n",
    "\n",
    "A partir de estos datos, la función `extract_races_and_results_dataframes()` se encarga de recuperar la información necesaria para caracterizar un circuito a partir de la vuelta más rápida de la clasificación (pole position).\n",
    "\n",
    "Se ha utilizado la pole position porque normalmente es la vuelta más rápida del fin de semana y es menos sensible a estrategias de carrera como selección de neumáticos o cargas de combustible.\n",
    "\n",
    "Para clusterizar adecuadamente los circuitos se han recopilado diferentes características clave de los mismos a partir de la telemetría de la vuelta. Los datos clave obtenidos (columnas del dataframe) son:\n",
    "\n",
    "* `compound`: Compuesto con el que se ha llevado a cabo la vuelta de la pole position. \n",
    "\n",
    "* `laptime`: Tiempo total de la vuelta, en segundos.\n",
    "\n",
    "* `max_speed`: Velocidad máxima alcanzada en la trampa de velocidad, en km/h.\n",
    "\n",
    "* `distance`: Longitud total del circuito.\n",
    "\n",
    "* `n_corners`: Número total de curvas del trazado.\n",
    "\n",
    "* `avg_corner_speed`: Velocidad promedio de paso por curva, en km/h.\n",
    "\n",
    "* `avg_speed`: Velocidad media de la vuelta, en km/h.\n",
    "\n",
    "* `throttle_perc`: Porcentaje de acelerador a lo largo de la vuelta.\n",
    "\n",
    "* `brake_perc`: Porcentaje de freno a lo largo de la vuelta.\n",
    "\n",
    "* `straight_lenght`: Longitud total de las rectas (a partir de 500 m).\n",
    "\n",
    "* `gear_changes`: Número total de cambios de marcha a lo largo de la vuelta.\n",
    "\n",
    "* `n_slow_corners`: Número total de curvas lentas (velocidad < 120 kph)\n",
    "\n",
    "* `n_medium_corners`: Número total de curvas lentas (velocidad < 240 kph)\n",
    "       \n",
    "* `n_fast_corners`: Número total de curvas lentas (velocidad > 240 kph)\n",
    "\n",
    "* `n_gear{i}_corners`: Número total de curvas en cada marcha `i` (de 1 a 8)\n",
    "\n",
    "\n",
    "Nota: la columna `compound` no la utilizaremos en el clustering sino que la utilizamos para filtrar vueltas en las que la sesión haya sido en mojado, lo que puede sesgar las condiciones del circuito. \n",
    "\n",
    "Muchas columnas posiblemente no las utilizaremos, haremos diferentes modelos con diferentes combinaciones de esta infromación.\n",
    "\n",
    "Inicialmente no eliminaremos los duplicados, y conservaremos entradas del mismo circuito a lo largo de varias temporadas. Esto permitirá que podamos tener al menos una entrada en condiciones de seco para cada circuito, lo que es más representativo de las características del mismo."
   ]
  },
  {
   "cell_type": "code",
   "execution_count": null,
   "metadata": {},
   "outputs": [],
   "source": [
    "df.columns"
   ]
  },
  {
   "cell_type": "markdown",
   "metadata": {},
   "source": [
    "Podemos ver de qué temporadas tenemos circuitos"
   ]
  },
  {
   "cell_type": "code",
   "execution_count": null,
   "metadata": {},
   "outputs": [],
   "source": [
    "df_races['season'].unique()"
   ]
  },
  {
   "cell_type": "markdown",
   "metadata": {},
   "source": [
    "Y cuántos circuitos diferentes tenemos en total"
   ]
  },
  {
   "cell_type": "code",
   "execution_count": null,
   "metadata": {},
   "outputs": [],
   "source": [
    "df_races['circuitId'].nunique()"
   ]
  },
  {
   "cell_type": "markdown",
   "metadata": {},
   "source": [
    "Nota: deberíamos considerar eliminar las curvas que sean a fondo y/o agrupar las curvas o rectas por velocidad\n",
    "\n",
    "Esto son next steps. Hacer si da tiempo\n",
    "\n",
    "Más next steps: Añadir un campo que sea si es urbano o no y ver si hay diferencias significativas o cómo afecta a los clusters. Lo podríamos añadir a mano"
   ]
  },
  {
   "cell_type": "markdown",
   "metadata": {},
   "source": [
    "# 4. Exploratory data analysis"
   ]
  },
  {
   "cell_type": "markdown",
   "metadata": {},
   "source": [
    "En este caso, todas las columnas son numéricas."
   ]
  },
  {
   "cell_type": "code",
   "execution_count": null,
   "metadata": {},
   "outputs": [],
   "source": [
    "df.head()"
   ]
  },
  {
   "cell_type": "code",
   "execution_count": null,
   "metadata": {},
   "outputs": [],
   "source": [
    "df.describe().T.round(2)"
   ]
  },
  {
   "cell_type": "code",
   "execution_count": null,
   "metadata": {},
   "outputs": [],
   "source": [
    "plot_outliers(df, size = (12, 12))"
   ]
  },
  {
   "cell_type": "code",
   "execution_count": null,
   "metadata": {},
   "outputs": [],
   "source": [
    "df_num = df.select_dtypes(include = np.number)\n",
    "cols_num = df_num.columns\n",
    "\n",
    "n_plots = len(cols_num)\n",
    "num_rows = math.ceil(n_plots/2)\n",
    "\n",
    "cmap = plt.cm.get_cmap('mako', n_plots)\n",
    "color_list = [cmap(i) for i in range(cmap.N)]\n",
    "\n",
    "fig, axes = plt.subplots(nrows=num_rows, ncols=2, figsize=(10,10))\n",
    "axes = axes.flat\n",
    "\n",
    "for i, col in enumerate(cols_num):\n",
    "\n",
    "    sns.swarmplot(x = col, \n",
    "                data = df_num,\n",
    "                ax = axes[i],\n",
    "                color=color_list[i]) \n",
    "    \n",
    "    axes[i].set_title(f'{col} distribution')\n",
    "    axes[i].set_xlabel('')\n",
    "\n",
    "# Remove last plot, if empty\n",
    "if n_plots % 2 != 0:\n",
    "    fig.delaxes(axes[-1])\n",
    "\n",
    "plt.tight_layout()\n",
    "plt.show()"
   ]
  },
  {
   "cell_type": "code",
   "execution_count": null,
   "metadata": {},
   "outputs": [],
   "source": [
    "plot_correlation_matrix(df, size = (15, 15))"
   ]
  },
  {
   "cell_type": "markdown",
   "metadata": {},
   "source": [
    "Explicar todo esto bien cuando me quede con el versión final"
   ]
  },
  {
   "cell_type": "markdown",
   "metadata": {},
   "source": [
    "---"
   ]
  },
  {
   "cell_type": "markdown",
   "metadata": {},
   "source": [
    "Next steps\n",
    "\n",
    "* Eliminar curvas que sean a fondo\n",
    "\n",
    "* Incluir rectas\n",
    "\n",
    "* Contar número de curvas en función de la velocidad\n",
    "\n",
    "* Número de frenadas"
   ]
  }
 ],
 "metadata": {
  "kernelspec": {
   "display_name": "FinalProject",
   "language": "python",
   "name": "python3"
  },
  "language_info": {
   "codemirror_mode": {
    "name": "ipython",
    "version": 3
   },
   "file_extension": ".py",
   "mimetype": "text/x-python",
   "name": "python",
   "nbconvert_exporter": "python",
   "pygments_lexer": "ipython3",
   "version": "3.12.8"
  }
 },
 "nbformat": 4,
 "nbformat_minor": 2
}
