{
 "cells": [
  {
   "cell_type": "markdown",
   "metadata": {},
   "source": [
    "# 1. Importing libraries"
   ]
  },
  {
   "cell_type": "code",
   "execution_count": 2,
   "metadata": {},
   "outputs": [],
   "source": [
    "# Data processing  \n",
    "# -----------------------------------------------------------------------\n",
    "import pandas as pd\n",
    "import numpy as np\n",
    "\n",
    "# Pandas options  \n",
    "# -----------------------------------------------------------------------\n",
    "pd.options.display.max_colwidth = None\n",
    "\n",
    "# Path configuration for custom module imports\n",
    "# -----------------------------------------------------------------------\n",
    "import sys\n",
    "sys.path.append('../')\n",
    "\n",
    "# Ignore warnings  \n",
    "# -----------------------------------------------------------------------\n",
    "import warnings\n",
    "warnings.filterwarnings(\"ignore\")\n",
    "\n",
    "# Clusters and metrics\n",
    "# -----------------------------------------------------------------------\n",
    "from yellowbrick.cluster import KElbowVisualizer\n",
    "\n",
    "# Clustering models\n",
    "# -----------------------------------------------------------------------\n",
    "from sklearn.cluster import KMeans\n",
    "from sklearn.cluster import AgglomerativeClustering\n",
    "from sklearn.cluster import DBSCAN\n",
    "\n",
    "# Custom functions and classes\n",
    "# -----------------------------------------------------------------------\n",
    "from src.preprocess import preprocess\n",
    "from src.circuit_clustering_model.clustering import * # Fix this\n",
    "from src.circuit_clustering_model.clustering import plot_clusters, plot_radar, plot_cluster_scatter, get_pca\n",
    "\n"
   ]
  },
  {
   "cell_type": "markdown",
   "metadata": {},
   "source": [
    "# 2. Data loading"
   ]
  },
  {
   "cell_type": "markdown",
   "metadata": {},
   "source": [
    "We loaded the original circuits dataset and the dataset with feature engineering. Both datasets are clean and free of duplicates."
   ]
  },
  {
   "cell_type": "code",
   "execution_count": 3,
   "metadata": {},
   "outputs": [
    {
     "data": {
      "text/html": [
       "<div>\n",
       "<style scoped>\n",
       "    .dataframe tbody tr th:only-of-type {\n",
       "        vertical-align: middle;\n",
       "    }\n",
       "\n",
       "    .dataframe tbody tr th {\n",
       "        vertical-align: top;\n",
       "    }\n",
       "\n",
       "    .dataframe thead th {\n",
       "        text-align: right;\n",
       "    }\n",
       "</style>\n",
       "<table border=\"1\" class=\"dataframe\">\n",
       "  <thead>\n",
       "    <tr style=\"text-align: right;\">\n",
       "      <th></th>\n",
       "      <th>laptime</th>\n",
       "      <th>max_speed</th>\n",
       "      <th>distance</th>\n",
       "      <th>n_corners</th>\n",
       "      <th>avg_corner_speed</th>\n",
       "      <th>avg_speed</th>\n",
       "      <th>straight_length</th>\n",
       "      <th>gear_changes</th>\n",
       "      <th>n_slow_corners</th>\n",
       "      <th>n_medium_corners</th>\n",
       "      <th>n_fast_corners</th>\n",
       "      <th>n_gear1_corners</th>\n",
       "      <th>n_gear2_corners</th>\n",
       "      <th>n_gear3_corners</th>\n",
       "      <th>n_gear4_corners</th>\n",
       "      <th>n_gear5_corners</th>\n",
       "      <th>n_gear6_corners</th>\n",
       "      <th>n_gear7_corners</th>\n",
       "      <th>n_gear8_corners</th>\n",
       "    </tr>\n",
       "  </thead>\n",
       "  <tbody>\n",
       "    <tr>\n",
       "      <th>hockenheimring</th>\n",
       "      <td>71.767</td>\n",
       "      <td>320.0</td>\n",
       "      <td>4568.748333</td>\n",
       "      <td>17</td>\n",
       "      <td>209.960540</td>\n",
       "      <td>229.888136</td>\n",
       "      <td>1663.919441</td>\n",
       "      <td>40.0</td>\n",
       "      <td>3</td>\n",
       "      <td>9</td>\n",
       "      <td>5</td>\n",
       "      <td>0</td>\n",
       "      <td>1</td>\n",
       "      <td>3</td>\n",
       "      <td>1</td>\n",
       "      <td>3</td>\n",
       "      <td>5</td>\n",
       "      <td>3</td>\n",
       "      <td>1</td>\n",
       "    </tr>\n",
       "    <tr>\n",
       "      <th>nurburgring</th>\n",
       "      <td>85.269</td>\n",
       "      <td>318.0</td>\n",
       "      <td>5112.340000</td>\n",
       "      <td>15</td>\n",
       "      <td>173.563856</td>\n",
       "      <td>216.201705</td>\n",
       "      <td>2043.790918</td>\n",
       "      <td>50.0</td>\n",
       "      <td>5</td>\n",
       "      <td>7</td>\n",
       "      <td>3</td>\n",
       "      <td>0</td>\n",
       "      <td>0</td>\n",
       "      <td>4</td>\n",
       "      <td>3</td>\n",
       "      <td>3</td>\n",
       "      <td>1</td>\n",
       "      <td>2</td>\n",
       "      <td>1</td>\n",
       "    </tr>\n",
       "    <tr>\n",
       "      <th>portimao</th>\n",
       "      <td>77.968</td>\n",
       "      <td>314.0</td>\n",
       "      <td>4637.664722</td>\n",
       "      <td>15</td>\n",
       "      <td>188.740533</td>\n",
       "      <td>214.136223</td>\n",
       "      <td>1800.793691</td>\n",
       "      <td>40.0</td>\n",
       "      <td>4</td>\n",
       "      <td>5</td>\n",
       "      <td>6</td>\n",
       "      <td>0</td>\n",
       "      <td>0</td>\n",
       "      <td>4</td>\n",
       "      <td>2</td>\n",
       "      <td>1</td>\n",
       "      <td>4</td>\n",
       "      <td>4</td>\n",
       "      <td>0</td>\n",
       "    </tr>\n",
       "    <tr>\n",
       "      <th>sochi</th>\n",
       "      <td>101.993</td>\n",
       "      <td>291.0</td>\n",
       "      <td>5789.306111</td>\n",
       "      <td>18</td>\n",
       "      <td>172.024977</td>\n",
       "      <td>204.520095</td>\n",
       "      <td>1284.998104</td>\n",
       "      <td>64.0</td>\n",
       "      <td>5</td>\n",
       "      <td>8</td>\n",
       "      <td>5</td>\n",
       "      <td>0</td>\n",
       "      <td>3</td>\n",
       "      <td>7</td>\n",
       "      <td>2</td>\n",
       "      <td>1</td>\n",
       "      <td>1</td>\n",
       "      <td>3</td>\n",
       "      <td>1</td>\n",
       "    </tr>\n",
       "    <tr>\n",
       "      <th>istanbul</th>\n",
       "      <td>82.868</td>\n",
       "      <td>321.0</td>\n",
       "      <td>5253.130833</td>\n",
       "      <td>14</td>\n",
       "      <td>176.854350</td>\n",
       "      <td>228.286957</td>\n",
       "      <td>3877.396258</td>\n",
       "      <td>39.0</td>\n",
       "      <td>3</td>\n",
       "      <td>8</td>\n",
       "      <td>3</td>\n",
       "      <td>0</td>\n",
       "      <td>3</td>\n",
       "      <td>1</td>\n",
       "      <td>4</td>\n",
       "      <td>1</td>\n",
       "      <td>0</td>\n",
       "      <td>2</td>\n",
       "      <td>1</td>\n",
       "    </tr>\n",
       "  </tbody>\n",
       "</table>\n",
       "</div>"
      ],
      "text/plain": [
       "                laptime  max_speed     distance  n_corners  avg_corner_speed  \\\n",
       "hockenheimring   71.767      320.0  4568.748333         17        209.960540   \n",
       "nurburgring      85.269      318.0  5112.340000         15        173.563856   \n",
       "portimao         77.968      314.0  4637.664722         15        188.740533   \n",
       "sochi           101.993      291.0  5789.306111         18        172.024977   \n",
       "istanbul         82.868      321.0  5253.130833         14        176.854350   \n",
       "\n",
       "                 avg_speed  straight_length  gear_changes  n_slow_corners  \\\n",
       "hockenheimring  229.888136      1663.919441          40.0               3   \n",
       "nurburgring     216.201705      2043.790918          50.0               5   \n",
       "portimao        214.136223      1800.793691          40.0               4   \n",
       "sochi           204.520095      1284.998104          64.0               5   \n",
       "istanbul        228.286957      3877.396258          39.0               3   \n",
       "\n",
       "                n_medium_corners  n_fast_corners  n_gear1_corners  \\\n",
       "hockenheimring                 9               5                0   \n",
       "nurburgring                    7               3                0   \n",
       "portimao                       5               6                0   \n",
       "sochi                          8               5                0   \n",
       "istanbul                       8               3                0   \n",
       "\n",
       "                n_gear2_corners  n_gear3_corners  n_gear4_corners  \\\n",
       "hockenheimring                1                3                1   \n",
       "nurburgring                   0                4                3   \n",
       "portimao                      0                4                2   \n",
       "sochi                         3                7                2   \n",
       "istanbul                      3                1                4   \n",
       "\n",
       "                n_gear5_corners  n_gear6_corners  n_gear7_corners  \\\n",
       "hockenheimring                3                5                3   \n",
       "nurburgring                   3                1                2   \n",
       "portimao                      1                4                4   \n",
       "sochi                         1                1                3   \n",
       "istanbul                      1                0                2   \n",
       "\n",
       "                n_gear8_corners  \n",
       "hockenheimring                1  \n",
       "nurburgring                   1  \n",
       "portimao                      0  \n",
       "sochi                         1  \n",
       "istanbul                      1  "
      ]
     },
     "execution_count": 3,
     "metadata": {},
     "output_type": "execute_result"
    }
   ],
   "source": [
    "df_original = pd.read_csv('../data/output/circuits_complete.csv', index_col=0)\n",
    "\n",
    "df_original.head()"
   ]
  },
  {
   "cell_type": "code",
   "execution_count": 4,
   "metadata": {},
   "outputs": [
    {
     "data": {
      "text/html": [
       "<div>\n",
       "<style scoped>\n",
       "    .dataframe tbody tr th:only-of-type {\n",
       "        vertical-align: middle;\n",
       "    }\n",
       "\n",
       "    .dataframe tbody tr th {\n",
       "        vertical-align: top;\n",
       "    }\n",
       "\n",
       "    .dataframe thead th {\n",
       "        text-align: right;\n",
       "    }\n",
       "</style>\n",
       "<table border=\"1\" class=\"dataframe\">\n",
       "  <thead>\n",
       "    <tr style=\"text-align: right;\">\n",
       "      <th></th>\n",
       "      <th>max_speed</th>\n",
       "      <th>distance</th>\n",
       "      <th>avg_corner_speed</th>\n",
       "      <th>avg_speed</th>\n",
       "      <th>short_gear_corners_prop</th>\n",
       "      <th>long_gear_corners_prop</th>\n",
       "      <th>slow_corners_prop</th>\n",
       "      <th>medium_corners_prop</th>\n",
       "      <th>fast_corners_prop</th>\n",
       "      <th>straight_prop</th>\n",
       "      <th>gear_changes_per_km</th>\n",
       "      <th>n_corners_per_km</th>\n",
       "    </tr>\n",
       "  </thead>\n",
       "  <tbody>\n",
       "    <tr>\n",
       "      <th>hockenheimring</th>\n",
       "      <td>320.0</td>\n",
       "      <td>4568.748333</td>\n",
       "      <td>209.960540</td>\n",
       "      <td>229.888136</td>\n",
       "      <td>0.294118</td>\n",
       "      <td>0.705882</td>\n",
       "      <td>0.176471</td>\n",
       "      <td>0.529412</td>\n",
       "      <td>0.294118</td>\n",
       "      <td>0.364196</td>\n",
       "      <td>8.755133</td>\n",
       "      <td>3.720932</td>\n",
       "    </tr>\n",
       "    <tr>\n",
       "      <th>nurburgring</th>\n",
       "      <td>318.0</td>\n",
       "      <td>5112.340000</td>\n",
       "      <td>173.563856</td>\n",
       "      <td>216.201705</td>\n",
       "      <td>0.466667</td>\n",
       "      <td>0.466667</td>\n",
       "      <td>0.333333</td>\n",
       "      <td>0.466667</td>\n",
       "      <td>0.200000</td>\n",
       "      <td>0.399776</td>\n",
       "      <td>9.780257</td>\n",
       "      <td>2.934077</td>\n",
       "    </tr>\n",
       "    <tr>\n",
       "      <th>portimao</th>\n",
       "      <td>314.0</td>\n",
       "      <td>4637.664722</td>\n",
       "      <td>188.740533</td>\n",
       "      <td>214.136223</td>\n",
       "      <td>0.400000</td>\n",
       "      <td>0.600000</td>\n",
       "      <td>0.266667</td>\n",
       "      <td>0.333333</td>\n",
       "      <td>0.400000</td>\n",
       "      <td>0.388298</td>\n",
       "      <td>8.625031</td>\n",
       "      <td>3.234386</td>\n",
       "    </tr>\n",
       "    <tr>\n",
       "      <th>sochi</th>\n",
       "      <td>291.0</td>\n",
       "      <td>5789.306111</td>\n",
       "      <td>172.024977</td>\n",
       "      <td>204.520095</td>\n",
       "      <td>0.666667</td>\n",
       "      <td>0.333333</td>\n",
       "      <td>0.277778</td>\n",
       "      <td>0.444444</td>\n",
       "      <td>0.277778</td>\n",
       "      <td>0.221961</td>\n",
       "      <td>11.054865</td>\n",
       "      <td>3.109181</td>\n",
       "    </tr>\n",
       "    <tr>\n",
       "      <th>istanbul</th>\n",
       "      <td>321.0</td>\n",
       "      <td>5253.130833</td>\n",
       "      <td>176.854350</td>\n",
       "      <td>228.286957</td>\n",
       "      <td>0.571429</td>\n",
       "      <td>0.285714</td>\n",
       "      <td>0.214286</td>\n",
       "      <td>0.571429</td>\n",
       "      <td>0.214286</td>\n",
       "      <td>0.738111</td>\n",
       "      <td>7.424144</td>\n",
       "      <td>2.665077</td>\n",
       "    </tr>\n",
       "  </tbody>\n",
       "</table>\n",
       "</div>"
      ],
      "text/plain": [
       "                max_speed     distance  avg_corner_speed   avg_speed  \\\n",
       "hockenheimring      320.0  4568.748333        209.960540  229.888136   \n",
       "nurburgring         318.0  5112.340000        173.563856  216.201705   \n",
       "portimao            314.0  4637.664722        188.740533  214.136223   \n",
       "sochi               291.0  5789.306111        172.024977  204.520095   \n",
       "istanbul            321.0  5253.130833        176.854350  228.286957   \n",
       "\n",
       "                short_gear_corners_prop  long_gear_corners_prop  \\\n",
       "hockenheimring                 0.294118                0.705882   \n",
       "nurburgring                    0.466667                0.466667   \n",
       "portimao                       0.400000                0.600000   \n",
       "sochi                          0.666667                0.333333   \n",
       "istanbul                       0.571429                0.285714   \n",
       "\n",
       "                slow_corners_prop  medium_corners_prop  fast_corners_prop  \\\n",
       "hockenheimring           0.176471             0.529412           0.294118   \n",
       "nurburgring              0.333333             0.466667           0.200000   \n",
       "portimao                 0.266667             0.333333           0.400000   \n",
       "sochi                    0.277778             0.444444           0.277778   \n",
       "istanbul                 0.214286             0.571429           0.214286   \n",
       "\n",
       "                straight_prop  gear_changes_per_km  n_corners_per_km  \n",
       "hockenheimring       0.364196             8.755133          3.720932  \n",
       "nurburgring          0.399776             9.780257          2.934077  \n",
       "portimao             0.388298             8.625031          3.234386  \n",
       "sochi                0.221961            11.054865          3.109181  \n",
       "istanbul             0.738111             7.424144          2.665077  "
      ]
     },
     "execution_count": 4,
     "metadata": {},
     "output_type": "execute_result"
    }
   ],
   "source": [
    "df_featured = pd.read_csv('../data/output/featured_circuits_complete.csv', index_col=0)\n",
    "\n",
    "df_featured.head()"
   ]
  },
  {
   "cell_type": "markdown",
   "metadata": {},
   "source": [
    "We will use the dataset with feature engineering for clustering since its variables can be more meaningful."
   ]
  },
  {
   "cell_type": "markdown",
   "metadata": {},
   "source": [
    "# 3. Preprocessing  \n",
    "\n",
    "To carry out the preprocessing, we need to evaluate the following aspects:  \n",
    "\n",
    "* Remove the columns we do not want to consider:\n",
    "    - In this case, we do not need to remove any columns since the datasets are already prepared for preprocessing.  \n",
    "\n",
    "* Select the encoding methods for categorical variables:\n",
    "    - We do not have categorical variables, so we do not need to perform `encoding`.  \n",
    "\n",
    "* Select the scaling method: \n",
    "    - Since we have very few outliers in our datasets and there are no extremely high values, we will use a `MinMax` scaler.\n"
   ]
  },
  {
   "cell_type": "code",
   "execution_count": 5,
   "metadata": {},
   "outputs": [],
   "source": [
    "encoding_methods = {}\n",
    "scaling = 'minmax'\n",
    "\n",
    "df_encoded, df_scaled = preprocess(df_featured, encoding_methods, scaling)"
   ]
  },
  {
   "cell_type": "code",
   "execution_count": 110,
   "metadata": {},
   "outputs": [],
   "source": [
    "df_scaled.to_csv('../data/preprocessed/circuits_scaled.csv')"
   ]
  },
  {
   "cell_type": "markdown",
   "metadata": {},
   "source": [
    "# 4. Clustering"
   ]
  },
  {
   "cell_type": "markdown",
   "metadata": {},
   "source": [
    "## 4.1 K-means"
   ]
  },
  {
   "cell_type": "markdown",
   "metadata": {},
   "source": [
    "We have the following columns/features available:\n",
    "\n",
    "- `max_speed`: The maximum speed reached on the circuit.\n",
    "\n",
    "- `distance`: The total length of the circuit measured in kilometers.\n",
    "\n",
    "- `avg_corner_speed`: The average speed of the car through the corners apex on the circuit.\n",
    "\n",
    "- `avg_speed`: The overall average speed of the car over the entire circuit.\n",
    "\n",
    "- `short_gear_corners_prop`: The proportion of corners on the track where cars need to use shorter gears (1 to 4).\n",
    "\n",
    "- `long_gear_corners_prop`: The proportion of corners that require longer gears (5 to 8).\n",
    "\n",
    "- `slow_corners_prop`: The percentage of corners on the circuit that are classified as slow (less than 120 kph).\n",
    "\n",
    "- `medium_corners_prop`: The proportion of corners that are of medium speed (from 120 to 240 kph).\n",
    "\n",
    "- `fast_corners_prop`: The percentage of corners on the track that are classified as fast (more than 240 kph).\n",
    "\n",
    "- `straight_prop`: The proportion of the circuit that consists of straight sections (more than 500 m).\n",
    "\n",
    "- `gear_changes_per_km`: The average number of gear shifts the car makes per kilometer on the circuit.\n",
    "\n",
    "- `n_corners_per_km`: The number of corners per kilometer."
   ]
  },
  {
   "cell_type": "markdown",
   "metadata": {},
   "source": [
    "### 4.1.1 Selection of Variables for Circuit Clustering\n",
    "\n",
    "To perform an effective segmentation of the circuits, it is essential to choose variables that meaningfully represent their distinctive characteristics. In this case, we have selected `avg_speed` (average speed), `straight_prop` (proportion of straights), and `slow_corners_prop` (proportion of slow corners), as these variables capture key aspects of each circuit's layout.\n",
    "\n",
    "Using a limited set of variables helps avoid issues related to high dimensionality, especially given that our dataset is not very large. Including too many variables could dilute the definition of the clusters and make segmentation less clear. However, in future iterations, we could test additional variables, and evaluate their impact on cluster cohesion using dimensionality reduction techniques like `PCA` or `feature importance` metrics.\n"
   ]
  },
  {
   "cell_type": "code",
   "execution_count": 6,
   "metadata": {},
   "outputs": [],
   "source": [
    "cols = ['avg_speed', 'straight_prop', 'slow_corners_prop']\n",
    "\n",
    "df_kmeans = df_scaled[cols]"
   ]
  },
  {
   "cell_type": "markdown",
   "metadata": {},
   "source": [
    "### 4.1.2 Number of clusters"
   ]
  },
  {
   "cell_type": "markdown",
   "metadata": {},
   "source": [
    "We will initialize a `K-Means` model and use the `Silhouette Score` as a criterion to determine the optimal number of clusters. This approach allows us to assess which number of groups provides the best cohesion and separation within the data.\n"
   ]
  },
  {
   "cell_type": "code",
   "execution_count": 7,
   "metadata": {},
   "outputs": [
    {
     "data": {
      "image/png": "[encoded data removed]",
      "text/plain": [
       "<Figure size 800x550 with 1 Axes>"
      ]
     },
     "metadata": {},
     "output_type": "display_data"
    },
    {
     "data": {
      "text/plain": [
       "<Axes: title={'center': 'Silhouette Score Elbow for KMeans Clustering'}, xlabel='k', ylabel='silhouette score'>"
      ]
     },
     "execution_count": 7,
     "metadata": {},
     "output_type": "execute_result"
    }
   ],
   "source": [
    "model = KMeans(random_state=42)\n",
    "\n",
    "visualizer = KElbowVisualizer(model, k=(2, 12), metric=\"silhouette\", timings=False)\n",
    "visualizer.fit(df_kmeans)\n",
    "visualizer.show()"
   ]
  },
  {
   "cell_type": "markdown",
   "metadata": {},
   "source": [
    "The `elbow method` suggests that an appropriate number of clusters could be 3. However, Formula 1 circuits have significant differences, making a segmentation into only three groups too general. For this reason, we will select the next best option identified, which corresponds to `7 clusters`, allowing for a more detailed differentiation between the various types of circuits."
   ]
  },
  {
   "cell_type": "markdown",
   "metadata": {},
   "source": [
    "### 4.1.3 Metrics"
   ]
  },
  {
   "cell_type": "code",
   "execution_count": 8,
   "metadata": {},
   "outputs": [
    {
     "data": {
      "text/html": [
       "<div>\n",
       "<style scoped>\n",
       "    .dataframe tbody tr th:only-of-type {\n",
       "        vertical-align: middle;\n",
       "    }\n",
       "\n",
       "    .dataframe tbody tr th {\n",
       "        vertical-align: top;\n",
       "    }\n",
       "\n",
       "    .dataframe thead th {\n",
       "        text-align: right;\n",
       "    }\n",
       "</style>\n",
       "<table border=\"1\" class=\"dataframe\">\n",
       "  <thead>\n",
       "    <tr style=\"text-align: right;\">\n",
       "      <th></th>\n",
       "      <th>silhouette_score</th>\n",
       "      <th>davies_bouldin_index</th>\n",
       "      <th>cardinality</th>\n",
       "    </tr>\n",
       "  </thead>\n",
       "  <tbody>\n",
       "    <tr>\n",
       "      <th>0</th>\n",
       "      <td>0.331412</td>\n",
       "      <td>0.688945</td>\n",
       "      <td>3</td>\n",
       "    </tr>\n",
       "    <tr>\n",
       "      <th>1</th>\n",
       "      <td>0.331412</td>\n",
       "      <td>0.688945</td>\n",
       "      <td>4</td>\n",
       "    </tr>\n",
       "    <tr>\n",
       "      <th>2</th>\n",
       "      <td>0.331412</td>\n",
       "      <td>0.688945</td>\n",
       "      <td>7</td>\n",
       "    </tr>\n",
       "    <tr>\n",
       "      <th>3</th>\n",
       "      <td>0.331412</td>\n",
       "      <td>0.688945</td>\n",
       "      <td>2</td>\n",
       "    </tr>\n",
       "    <tr>\n",
       "      <th>4</th>\n",
       "      <td>0.331412</td>\n",
       "      <td>0.688945</td>\n",
       "      <td>10</td>\n",
       "    </tr>\n",
       "    <tr>\n",
       "      <th>5</th>\n",
       "      <td>0.331412</td>\n",
       "      <td>0.688945</td>\n",
       "      <td>3</td>\n",
       "    </tr>\n",
       "    <tr>\n",
       "      <th>6</th>\n",
       "      <td>0.331412</td>\n",
       "      <td>0.688945</td>\n",
       "      <td>1</td>\n",
       "    </tr>\n",
       "  </tbody>\n",
       "</table>\n",
       "</div>"
      ],
      "text/plain": [
       "   silhouette_score  davies_bouldin_index  cardinality\n",
       "0          0.331412              0.688945            3\n",
       "1          0.331412              0.688945            4\n",
       "2          0.331412              0.688945            7\n",
       "3          0.331412              0.688945            2\n",
       "4          0.331412              0.688945           10\n",
       "5          0.331412              0.688945            3\n",
       "6          0.331412              0.688945            1"
      ]
     },
     "execution_count": 8,
     "metadata": {},
     "output_type": "execute_result"
    }
   ],
   "source": [
    "model_kmeans = KMeans(n_clusters=7, random_state=42)\n",
    "\n",
    "km_fit = model_kmeans.fit(df_kmeans)\n",
    "labels = km_fit.labels_\n",
    "\n",
    "clustering_metrics(df_kmeans, labels)"
   ]
  },
  {
   "cell_type": "markdown",
   "metadata": {},
   "source": [
    "To validate our choice, we analyzed multiple feature combinations and different numbers of clusters, evaluating their quality using the following metrics:  \n",
    "- `Silhouette Score`: 0.331412  \n",
    "- `Davies-Bouldin Index`: 0.688945  \n",
    "\n",
    "These values represent some of the best metrics obtained in our experiments, ensuring a balance between cohesion, separation, and interpretability. \n",
    "\n",
    "While we could optimize the metrics further with more clusters, we prioritize a segmentation that remains interpretable and meaningfully reflects circuit differences. For this reason, we selected 7 clusters as the best option.\n"
   ]
  },
  {
   "cell_type": "code",
   "execution_count": 9,
   "metadata": {},
   "outputs": [],
   "source": [
    "# Add labels column to dataframes\n",
    "df_kmeans['cluster'] = km_fit.labels_\n",
    "df_featured['cluster'] = km_fit.labels_"
   ]
  },
  {
   "cell_type": "markdown",
   "metadata": {},
   "source": [
    "### 4.1.4 Results\n",
    "\n",
    "We can now analyze which circuits have been grouped into each cluster."
   ]
  },
  {
   "cell_type": "code",
   "execution_count": 10,
   "metadata": {},
   "outputs": [
    {
     "data": {
      "text/plain": [
       "vegas             0\n",
       "rodriguez         0\n",
       "miami             0\n",
       "hockenheimring    1\n",
       "zandvoort         1\n",
       "hungaroring       1\n",
       "interlagos        1\n",
       "nurburgring       2\n",
       "shanghai          2\n",
       "portimao          2\n",
       "americas          2\n",
       "marina_bay        2\n",
       "baku              2\n",
       "sochi             2\n",
       "catalunya         3\n",
       "silverstone       3\n",
       "istanbul          4\n",
       "yas_marina        4\n",
       "monza             4\n",
       "villeneuve        4\n",
       "red_bull_ring     4\n",
       "spa               4\n",
       "ricard            4\n",
       "suzuka            4\n",
       "albert_park       4\n",
       "bahrain           4\n",
       "imola             5\n",
       "losail            5\n",
       "jeddah            5\n",
       "monaco            6\n",
       "Name: cluster, dtype: int32"
      ]
     },
     "execution_count": 10,
     "metadata": {},
     "output_type": "execute_result"
    }
   ],
   "source": [
    "df_kmeans['cluster'].sort_values()"
   ]
  },
  {
   "cell_type": "markdown",
   "metadata": {},
   "source": [
    "We can visualize the differences in each variable based on the clusters. We can choose either the original or the scaled variables, although we must keep in mind that the clustering was only performed based on the selected variables."
   ]
  },
  {
   "cell_type": "code",
   "execution_count": null,
   "metadata": {},
   "outputs": [
    {
     "data": {
      "application/vnd.plotly.v1+json": {
       "config": {
        "plotlyServerURL": "https://plot.ly"
       },
       "data": [
        {
         "marker": {
          "color": "rgb(95, 70, 144)"
         },
         "name": "Cluster 0",
         "type": "bar",
         "x": [
          "Cluster 0"
         ],
         "y": [
          0.6209553117925496
         ]
        },
        {
         "marker": {
          "color": "rgb(29, 105, 150)"
         },
         "name": "Cluster 1",
         "type": "bar",
         "x": [
          "Cluster 1"
         ],
         "y": [
          0.3034178304666975
         ]
        },
        {
         "marker": {
          "color": "rgb(56, 166, 165)"
         },
         "name": "Cluster 2",
         "type": "bar",
         "x": [
          "Cluster 2"
         ],
         "y": [
          0.3369464046146612
         ]
        },
        {
         "marker": {
          "color": "rgb(15, 133, 84)"
         },
         "name": "Cluster 3",
         "type": "bar",
         "x": [
          "Cluster 3"
         ],
         "y": [
          0.5284682927209639
         ]
        },
        {
         "marker": {
          "color": "rgb(115, 175, 72)"
         },
         "name": "Cluster 4",
         "type": "bar",
         "x": [
          "Cluster 4"
         ],
         "y": [
          0.626559630730788
         ]
        },
        {
         "marker": {
          "color": "rgb(237, 173, 8)"
         },
         "name": "Cluster 5",
         "type": "bar",
         "x": [
          "Cluster 5"
         ],
         "y": [
          0.24395094052888658
         ]
        },
        {
         "marker": {
          "color": "rgb(225, 124, 5)"
         },
         "name": "Cluster 6",
         "type": "bar",
         "x": [
          "Cluster 6"
         ],
         "y": [
          0
         ]
        }
       ],
       "layout": {
        "bargap": 0.2,
        "legend": {
         "title": {
          "text": "Clusters"
         }
        },
        "showlegend": true,
        "template": {
         "data": {
          "bar": [
           {
            "error_x": {
             "color": "#f2f5fa"
            },
            "error_y": {
             "color": "#f2f5fa"
            },
            "marker": {
             "line": {
              "color": "rgb(17,17,17)",
              "width": 0.5
             },
             "pattern": {
              "fillmode": "overlay",
              "size": 10,
              "solidity": 0.2
             }
            },
            "type": "bar"
           }
          ],
          "barpolar": [
           {
            "marker": {
             "line": {
              "color": "rgb(17,17,17)",
              "width": 0.5
             },
             "pattern": {
              "fillmode": "overlay",
              "size": 10,
              "solidity": 0.2
             }
            },
            "type": "barpolar"
           }
          ],
          "carpet": [
           {
            "aaxis": {
             "endlinecolor": "#A2B1C6",
             "gridcolor": "#506784",
             "linecolor": "#506784",
             "minorgridcolor": "#506784",
             "startlinecolor": "#A2B1C6"
            },
            "baxis": {
             "endlinecolor": "#A2B1C6",
             "gridcolor": "#506784",
             "linecolor": "#506784",
             "minorgridcolor": "#506784",
             "startlinecolor": "#A2B1C6"
            },
            "type": "carpet"
           }
          ],
          "choropleth": [
           {
            "colorbar": {
             "outlinewidth": 0,
             "ticks": ""
            },
            "type": "choropleth"
           }
          ],
          "contour": [
           {
            "colorbar": {
             "outlinewidth": 0,
             "ticks": ""
            },
            "colorscale": [
             [
              0,
              "#0d0887"
             ],
             [
              0.1111111111111111,
              "#46039f"
             ],
             [
              0.2222222222222222,
              "#7201a8"
             ],
             [
              0.3333333333333333,
              "#9c179e"
             ],
             [
              0.4444444444444444,
              "#bd3786"
             ],
             [
              0.5555555555555556,
              "#d8576b"
             ],
             [
              0.6666666666666666,
              "#ed7953"
             ],
             [
              0.7777777777777778,
              "#fb9f3a"
             ],
             [
              0.8888888888888888,
              "#fdca26"
             ],
             [
              1,
              "#f0f921"
             ]
            ],
            "type": "contour"
           }
          ],
          "contourcarpet": [
           {
            "colorbar": {
             "outlinewidth": 0,
             "ticks": ""
            },
            "type": "contourcarpet"
           }
          ],
          "heatmap": [
           {
            "colorbar": {
             "outlinewidth": 0,
             "ticks": ""
            },
            "colorscale": [
             [
              0,
              "#0d0887"
             ],
             [
              0.1111111111111111,
              "#46039f"
             ],
             [
              0.2222222222222222,
              "#7201a8"
             ],
             [
              0.3333333333333333,
              "#9c179e"
             ],
             [
              0.4444444444444444,
              "#bd3786"
             ],
             [
              0.5555555555555556,
              "#d8576b"
             ],
             [
              0.6666666666666666,
              "#ed7953"
             ],
             [
              0.7777777777777778,
              "#fb9f3a"
             ],
             [
              0.8888888888888888,
              "#fdca26"
             ],
             [
              1,
              "#f0f921"
             ]
            ],
            "type": "heatmap"
           }
          ],
          "heatmapgl": [
           {
            "colorbar": {
             "outlinewidth": 0,
             "ticks": ""
            },
            "colorscale": [
             [
              0,
              "#0d0887"
             ],
             [
              0.1111111111111111,
              "#46039f"
             ],
             [
              0.2222222222222222,
              "#7201a8"
             ],
             [
              0.3333333333333333,
              "#9c179e"
             ],
             [
              0.4444444444444444,
              "#bd3786"
             ],
             [
              0.5555555555555556,
              "#d8576b"
             ],
             [
              0.6666666666666666,
              "#ed7953"
             ],
             [
              0.7777777777777778,
              "#fb9f3a"
             ],
             [
              0.8888888888888888,
              "#fdca26"
             ],
             [
              1,
              "#f0f921"
             ]
            ],
            "type": "heatmapgl"
           }
          ],
          "histogram": [
           {
            "marker": {
             "pattern": {
              "fillmode": "overlay",
              "size": 10,
              "solidity": 0.2
             }
            },
            "type": "histogram"
           }
          ],
          "histogram2d": [
           {
            "colorbar": {
             "outlinewidth": 0,
             "ticks": ""
            },
            "colorscale": [
             [
              0,
              "#0d0887"
             ],
             [
              0.1111111111111111,
              "#46039f"
             ],
             [
              0.2222222222222222,
              "#7201a8"
             ],
             [
              0.3333333333333333,
              "#9c179e"
             ],
             [
              0.4444444444444444,
              "#bd3786"
             ],
             [
              0.5555555555555556,
              "#d8576b"
             ],
             [
              0.6666666666666666,
              "#ed7953"
             ],
             [
              0.7777777777777778,
              "#fb9f3a"
             ],
             [
              0.8888888888888888,
              "#fdca26"
             ],
             [
              1,
              "#f0f921"
             ]
            ],
            "type": "histogram2d"
           }
          ],
          "histogram2dcontour": [
           {
            "colorbar": {
             "outlinewidth": 0,
             "ticks": ""
            },
            "colorscale": [
             [
              0,
              "#0d0887"
             ],
             [
              0.1111111111111111,
              "#46039f"
             ],
             [
              0.2222222222222222,
              "#7201a8"
             ],
             [
              0.3333333333333333,
              "#9c179e"
             ],
             [
              0.4444444444444444,
              "#bd3786"
             ],
             [
              0.5555555555555556,
              "#d8576b"
             ],
             [
              0.6666666666666666,
              "#ed7953"
             ],
             [
              0.7777777777777778,
              "#fb9f3a"
             ],
             [
              0.8888888888888888,
              "#fdca26"
             ],
             [
              1,
              "#f0f921"
             ]
            ],
            "type": "histogram2dcontour"
           }
          ],
          "mesh3d": [
           {
            "colorbar": {
             "outlinewidth": 0,
             "ticks": ""
            },
            "type": "mesh3d"
           }
          ],
          "parcoords": [
           {
            "line": {
             "colorbar": {
              "outlinewidth": 0,
              "ticks": ""
             }
            },
            "type": "parcoords"
           }
          ],
          "pie": [
           {
            "automargin": true,
            "type": "pie"
           }
          ],
          "scatter": [
           {
            "marker": {
             "line": {
              "color": "#283442"
             }
            },
            "type": "scatter"
           }
          ],
          "scatter3d": [
           {
            "line": {
             "colorbar": {
              "outlinewidth": 0,
              "ticks": ""
             }
            },
            "marker": {
             "colorbar": {
              "outlinewidth": 0,
              "ticks": ""
             }
            },
            "type": "scatter3d"
           }
          ],
          "scattercarpet": [
           {
            "marker": {
             "colorbar": {
              "outlinewidth": 0,
              "ticks": ""
             }
            },
            "type": "scattercarpet"
           }
          ],
          "scattergeo": [
           {
            "marker": {
             "colorbar": {
              "outlinewidth": 0,
              "ticks": ""
             }
            },
            "type": "scattergeo"
           }
          ],
          "scattergl": [
           {
            "marker": {
             "line": {
              "color": "#283442"
             }
            },
            "type": "scattergl"
           }
          ],
          "scattermapbox": [
           {
            "marker": {
             "colorbar": {
              "outlinewidth": 0,
              "ticks": ""
             }
            },
            "type": "scattermapbox"
           }
          ],
          "scatterpolar": [
           {
            "marker": {
             "colorbar": {
              "outlinewidth": 0,
              "ticks": ""
             }
            },
            "type": "scatterpolar"
           }
          ],
          "scatterpolargl": [
           {
            "marker": {
             "colorbar": {
              "outlinewidth": 0,
              "ticks": ""
             }
            },
            "type": "scatterpolargl"
           }
          ],
          "scatterternary": [
           {
            "marker": {
             "colorbar": {
              "outlinewidth": 0,
              "ticks": ""
             }
            },
            "type": "scatterternary"
           }
          ],
          "surface": [
           {
            "colorbar": {
             "outlinewidth": 0,
             "ticks": ""
            },
            "colorscale": [
             [
              0,
              "#0d0887"
             ],
             [
              0.1111111111111111,
              "#46039f"
             ],
             [
              0.2222222222222222,
              "#7201a8"
             ],
             [
              0.3333333333333333,
              "#9c179e"
             ],
             [
              0.4444444444444444,
              "#bd3786"
             ],
             [
              0.5555555555555556,
              "#d8576b"
             ],
             [
              0.6666666666666666,
              "#ed7953"
             ],
             [
              0.7777777777777778,
              "#fb9f3a"
             ],
             [
              0.8888888888888888,
              "#fdca26"
             ],
             [
              1,
              "#f0f921"
             ]
            ],
            "type": "surface"
           }
          ],
          "table": [
           {
            "cells": {
             "fill": {
              "color": "#506784"
             },
             "line": {
              "color": "rgb(17,17,17)"
             }
            },
            "header": {
             "fill": {
              "color": "#2a3f5f"
             },
             "line": {
              "color": "rgb(17,17,17)"
             }
            },
            "type": "table"
           }
          ]
         },
         "layout": {
          "annotationdefaults": {
           "arrowcolor": "#f2f5fa",
           "arrowhead": 0,
           "arrowwidth": 1
          },
          "autotypenumbers": "strict",
          "coloraxis": {
           "colorbar": {
            "outlinewidth": 0,
            "ticks": ""
           }
          },
          "colorscale": {
           "diverging": [
            [
             0,
             "#8e0152"
            ],
            [
             0.1,
             "#c51b7d"
            ],
            [
             0.2,
             "#de77ae"
            ],
            [
             0.3,
             "#f1b6da"
            ],
            [
             0.4,
             "#fde0ef"
            ],
            [
             0.5,
             "#f7f7f7"
            ],
            [
             0.6,
             "#e6f5d0"
            ],
            [
             0.7,
             "#b8e186"
            ],
            [
             0.8,
             "#7fbc41"
            ],
            [
             0.9,
             "#4d9221"
            ],
            [
             1,
             "#276419"
            ]
           ],
           "sequential": [
            [
             0,
             "#0d0887"
            ],
            [
             0.1111111111111111,
             "#46039f"
            ],
            [
             0.2222222222222222,
             "#7201a8"
            ],
            [
             0.3333333333333333,
             "#9c179e"
            ],
            [
             0.4444444444444444,
             "#bd3786"
            ],
            [
             0.5555555555555556,
             "#d8576b"
            ],
            [
             0.6666666666666666,
             "#ed7953"
            ],
            [
             0.7777777777777778,
             "#fb9f3a"
            ],
            [
             0.8888888888888888,
             "#fdca26"
            ],
            [
             1,
             "#f0f921"
            ]
           ],
           "sequentialminus": [
            [
             0,
             "#0d0887"
            ],
            [
             0.1111111111111111,
             "#46039f"
            ],
            [
             0.2222222222222222,
             "#7201a8"
            ],
            [
             0.3333333333333333,
             "#9c179e"
            ],
            [
             0.4444444444444444,
             "#bd3786"
            ],
            [
             0.5555555555555556,
             "#d8576b"
            ],
            [
             0.6666666666666666,
             "#ed7953"
            ],
            [
             0.7777777777777778,
             "#fb9f3a"
            ],
            [
             0.8888888888888888,
             "#fdca26"
            ],
            [
             1,
             "#f0f921"
            ]
           ]
          },
          "colorway": [
           "#636efa",
           "#EF553B",
           "#00cc96",
           "#ab63fa",
           "#FFA15A",
           "#19d3f3",
           "#FF6692",
           "#B6E880",
           "#FF97FF",
           "#FECB52"
          ],
          "font": {
           "color": "#f2f5fa"
          },
          "geo": {
           "bgcolor": "rgb(17,17,17)",
           "lakecolor": "rgb(17,17,17)",
           "landcolor": "rgb(17,17,17)",
           "showlakes": true,
           "showland": true,
           "subunitcolor": "#506784"
          },
          "hoverlabel": {
           "align": "left"
          },
          "hovermode": "closest",
          "mapbox": {
           "style": "dark"
          },
          "paper_bgcolor": "rgb(17,17,17)",
          "plot_bgcolor": "rgb(17,17,17)",
          "polar": {
           "angularaxis": {
            "gridcolor": "#506784",
            "linecolor": "#506784",
            "ticks": ""
           },
           "bgcolor": "rgb(17,17,17)",
           "radialaxis": {
            "gridcolor": "#506784",
            "linecolor": "#506784",
            "ticks": ""
           }
          },
          "scene": {
           "xaxis": {
            "backgroundcolor": "rgb(17,17,17)",
            "gridcolor": "#506784",
            "gridwidth": 2,
            "linecolor": "#506784",
            "showbackground": true,
            "ticks": "",
            "zerolinecolor": "#C8D4E3"
           },
           "yaxis": {
            "backgroundcolor": "rgb(17,17,17)",
            "gridcolor": "#506784",
            "gridwidth": 2,
            "linecolor": "#506784",
            "showbackground": true,
            "ticks": "",
            "zerolinecolor": "#C8D4E3"
           },
           "zaxis": {
            "backgroundcolor": "rgb(17,17,17)",
            "gridcolor": "#506784",
            "gridwidth": 2,
            "linecolor": "#506784",
            "showbackground": true,
            "ticks": "",
            "zerolinecolor": "#C8D4E3"
           }
          },
          "shapedefaults": {
           "line": {
            "color": "#f2f5fa"
           }
          },
          "sliderdefaults": {
           "bgcolor": "#C8D4E3",
           "bordercolor": "rgb(17,17,17)",
           "borderwidth": 1,
           "tickwidth": 0
          },
          "ternary": {
           "aaxis": {
            "gridcolor": "#506784",
            "linecolor": "#506784",
            "ticks": ""
           },
           "baxis": {
            "gridcolor": "#506784",
            "linecolor": "#506784",
            "ticks": ""
           },
           "bgcolor": "rgb(17,17,17)",
           "caxis": {
            "gridcolor": "#506784",
            "linecolor": "#506784",
            "ticks": ""
           }
          },
          "title": {
           "x": 0.05
          },
          "updatemenudefaults": {
           "bgcolor": "#506784",
           "borderwidth": 0
          },
          "xaxis": {
           "automargin": true,
           "gridcolor": "#283442",
           "linecolor": "#506784",
           "ticks": "",
           "title": {
            "standoff": 15
           },
           "zerolinecolor": "#283442",
           "zerolinewidth": 2
          },
          "yaxis": {
           "automargin": true,
           "gridcolor": "#283442",
           "linecolor": "#506784",
           "ticks": "",
           "title": {
            "standoff": 15
           },
           "zerolinecolor": "#283442",
           "zerolinewidth": 2
          }
         }
        },
        "title": {
         "text": "Cluster Comparison - straight_prop"
        },
        "xaxis": {
         "title": {
          "text": "Clusters"
         }
        },
        "yaxis": {
         "title": {
          "text": "Mean Value"
         }
        }
       }
      }
     },
     "metadata": {},
     "output_type": "display_data"
    }
   ],
   "source": [
    "plot_clusters(df_featured, 'straight_prop')"
   ]
  },
  {
   "cell_type": "markdown",
   "metadata": {},
   "source": [
    "When we have at least three variables, a radar plot can be useful to visualize the differences between clusters and identify patterns based on all variables at once, rather than analyzing them one by one."
   ]
  },
  {
   "cell_type": "code",
   "execution_count": 101,
   "metadata": {},
   "outputs": [
    {
     "data": {
      "application/vnd.plotly.v1+json": {
       "config": {
        "plotlyServerURL": "https://plot.ly"
       },
       "data": [
        {
         "fill": "toself",
         "name": "Cluster 0",
         "opacity": 0.3,
         "r": [
          0.569098180237523,
          0.7475477242463885,
          0.8442982456140351,
          0.569098180237523
         ],
         "theta": [
          "avg_speedavg_speed",
          "straight_propavg_speed",
          "slow_corners_propavg_speed"
         ],
         "type": "scatterpolar"
        },
        {
         "fill": "toself",
         "name": "Cluster 1",
         "opacity": 0.3,
         "r": [
          0.5575949809192485,
          0.3652747699450111,
          0.35178571428571426,
          0.5575949809192485
         ],
         "theta": [
          "avg_speedavg_speed",
          "straight_propavg_speed",
          "slow_corners_propavg_speed"
         ],
         "type": "scatterpolar"
        },
        {
         "fill": "toself",
         "name": "Cluster 2",
         "opacity": 0.3,
         "r": [
          0.4488414028276418,
          0.40563872017708524,
          0.687873329156224,
          0.4488414028276418
         ],
         "theta": [
          "avg_speedavg_speed",
          "straight_propavg_speed",
          "slow_corners_propavg_speed"
         ],
         "type": "scatterpolar"
        },
        {
         "fill": "toself",
         "name": "Cluster 3",
         "opacity": 0.3,
         "r": [
          0.7707784988675686,
          0.6362056367945392,
          0.05902777777777773,
          0.7707784988675686
         ],
         "theta": [
          "avg_speedavg_speed",
          "straight_propavg_speed",
          "slow_corners_propavg_speed"
         ],
         "type": "scatterpolar"
        },
        {
         "fill": "toself",
         "name": "Cluster 4",
         "opacity": 0.3,
         "r": [
          0.7032391659733966,
          0.7542945799196847,
          0.4056648724082935,
          0.7032391659733966
         ],
         "theta": [
          "avg_speedavg_speed",
          "straight_propavg_speed",
          "slow_corners_propavg_speed"
         ],
         "type": "scatterpolar"
        },
        {
         "fill": "toself",
         "name": "Cluster 5",
         "opacity": 0.3,
         "r": [
          0.7967171034771358,
          0.2936845324564357,
          0.1340206708901884,
          0.7967171034771358
         ],
         "theta": [
          "avg_speedavg_speed",
          "straight_propavg_speed",
          "slow_corners_propavg_speed"
         ],
         "type": "scatterpolar"
        },
        {
         "fill": "toself",
         "name": "Cluster 6",
         "opacity": 0.3,
         "r": [
          0,
          0,
          0.8947368421052632,
          0
         ],
         "theta": [
          "avg_speedavg_speed",
          "straight_propavg_speed",
          "slow_corners_propavg_speed"
         ],
         "type": "scatterpolar"
        }
       ],
       "layout": {
        "height": 800,
        "polar": {
         "radialaxis": {
          "visible": true
         }
        },
        "template": {
         "data": {
          "bar": [
           {
            "error_x": {
             "color": "#f2f5fa"
            },
            "error_y": {
             "color": "#f2f5fa"
            },
            "marker": {
             "line": {
              "color": "rgb(17,17,17)",
              "width": 0.5
             },
             "pattern": {
              "fillmode": "overlay",
              "size": 10,
              "solidity": 0.2
             }
            },
            "type": "bar"
           }
          ],
          "barpolar": [
           {
            "marker": {
             "line": {
              "color": "rgb(17,17,17)",
              "width": 0.5
             },
             "pattern": {
              "fillmode": "overlay",
              "size": 10,
              "solidity": 0.2
             }
            },
            "type": "barpolar"
           }
          ],
          "carpet": [
           {
            "aaxis": {
             "endlinecolor": "#A2B1C6",
             "gridcolor": "#506784",
             "linecolor": "#506784",
             "minorgridcolor": "#506784",
             "startlinecolor": "#A2B1C6"
            },
            "baxis": {
             "endlinecolor": "#A2B1C6",
             "gridcolor": "#506784",
             "linecolor": "#506784",
             "minorgridcolor": "#506784",
             "startlinecolor": "#A2B1C6"
            },
            "type": "carpet"
           }
          ],
          "choropleth": [
           {
            "colorbar": {
             "outlinewidth": 0,
             "ticks": ""
            },
            "type": "choropleth"
           }
          ],
          "contour": [
           {
            "colorbar": {
             "outlinewidth": 0,
             "ticks": ""
            },
            "colorscale": [
             [
              0,
              "#0d0887"
             ],
             [
              0.1111111111111111,
              "#46039f"
             ],
             [
              0.2222222222222222,
              "#7201a8"
             ],
             [
              0.3333333333333333,
              "#9c179e"
             ],
             [
              0.4444444444444444,
              "#bd3786"
             ],
             [
              0.5555555555555556,
              "#d8576b"
             ],
             [
              0.6666666666666666,
              "#ed7953"
             ],
             [
              0.7777777777777778,
              "#fb9f3a"
             ],
             [
              0.8888888888888888,
              "#fdca26"
             ],
             [
              1,
              "#f0f921"
             ]
            ],
            "type": "contour"
           }
          ],
          "contourcarpet": [
           {
            "colorbar": {
             "outlinewidth": 0,
             "ticks": ""
            },
            "type": "contourcarpet"
           }
          ],
          "heatmap": [
           {
            "colorbar": {
             "outlinewidth": 0,
             "ticks": ""
            },
            "colorscale": [
             [
              0,
              "#0d0887"
             ],
             [
              0.1111111111111111,
              "#46039f"
             ],
             [
              0.2222222222222222,
              "#7201a8"
             ],
             [
              0.3333333333333333,
              "#9c179e"
             ],
             [
              0.4444444444444444,
              "#bd3786"
             ],
             [
              0.5555555555555556,
              "#d8576b"
             ],
             [
              0.6666666666666666,
              "#ed7953"
             ],
             [
              0.7777777777777778,
              "#fb9f3a"
             ],
             [
              0.8888888888888888,
              "#fdca26"
             ],
             [
              1,
              "#f0f921"
             ]
            ],
            "type": "heatmap"
           }
          ],
          "heatmapgl": [
           {
            "colorbar": {
             "outlinewidth": 0,
             "ticks": ""
            },
            "colorscale": [
             [
              0,
              "#0d0887"
             ],
             [
              0.1111111111111111,
              "#46039f"
             ],
             [
              0.2222222222222222,
              "#7201a8"
             ],
             [
              0.3333333333333333,
              "#9c179e"
             ],
             [
              0.4444444444444444,
              "#bd3786"
             ],
             [
              0.5555555555555556,
              "#d8576b"
             ],
             [
              0.6666666666666666,
              "#ed7953"
             ],
             [
              0.7777777777777778,
              "#fb9f3a"
             ],
             [
              0.8888888888888888,
              "#fdca26"
             ],
             [
              1,
              "#f0f921"
             ]
            ],
            "type": "heatmapgl"
           }
          ],
          "histogram": [
           {
            "marker": {
             "pattern": {
              "fillmode": "overlay",
              "size": 10,
              "solidity": 0.2
             }
            },
            "type": "histogram"
           }
          ],
          "histogram2d": [
           {
            "colorbar": {
             "outlinewidth": 0,
             "ticks": ""
            },
            "colorscale": [
             [
              0,
              "#0d0887"
             ],
             [
              0.1111111111111111,
              "#46039f"
             ],
             [
              0.2222222222222222,
              "#7201a8"
             ],
             [
              0.3333333333333333,
              "#9c179e"
             ],
             [
              0.4444444444444444,
              "#bd3786"
             ],
             [
              0.5555555555555556,
              "#d8576b"
             ],
             [
              0.6666666666666666,
              "#ed7953"
             ],
             [
              0.7777777777777778,
              "#fb9f3a"
             ],
             [
              0.8888888888888888,
              "#fdca26"
             ],
             [
              1,
              "#f0f921"
             ]
            ],
            "type": "histogram2d"
           }
          ],
          "histogram2dcontour": [
           {
            "colorbar": {
             "outlinewidth": 0,
             "ticks": ""
            },
            "colorscale": [
             [
              0,
              "#0d0887"
             ],
             [
              0.1111111111111111,
              "#46039f"
             ],
             [
              0.2222222222222222,
              "#7201a8"
             ],
             [
              0.3333333333333333,
              "#9c179e"
             ],
             [
              0.4444444444444444,
              "#bd3786"
             ],
             [
              0.5555555555555556,
              "#d8576b"
             ],
             [
              0.6666666666666666,
              "#ed7953"
             ],
             [
              0.7777777777777778,
              "#fb9f3a"
             ],
             [
              0.8888888888888888,
              "#fdca26"
             ],
             [
              1,
              "#f0f921"
             ]
            ],
            "type": "histogram2dcontour"
           }
          ],
          "mesh3d": [
           {
            "colorbar": {
             "outlinewidth": 0,
             "ticks": ""
            },
            "type": "mesh3d"
           }
          ],
          "parcoords": [
           {
            "line": {
             "colorbar": {
              "outlinewidth": 0,
              "ticks": ""
             }
            },
            "type": "parcoords"
           }
          ],
          "pie": [
           {
            "automargin": true,
            "type": "pie"
           }
          ],
          "scatter": [
           {
            "marker": {
             "line": {
              "color": "#283442"
             }
            },
            "type": "scatter"
           }
          ],
          "scatter3d": [
           {
            "line": {
             "colorbar": {
              "outlinewidth": 0,
              "ticks": ""
             }
            },
            "marker": {
             "colorbar": {
              "outlinewidth": 0,
              "ticks": ""
             }
            },
            "type": "scatter3d"
           }
          ],
          "scattercarpet": [
           {
            "marker": {
             "colorbar": {
              "outlinewidth": 0,
              "ticks": ""
             }
            },
            "type": "scattercarpet"
           }
          ],
          "scattergeo": [
           {
            "marker": {
             "colorbar": {
              "outlinewidth": 0,
              "ticks": ""
             }
            },
            "type": "scattergeo"
           }
          ],
          "scattergl": [
           {
            "marker": {
             "line": {
              "color": "#283442"
             }
            },
            "type": "scattergl"
           }
          ],
          "scattermapbox": [
           {
            "marker": {
             "colorbar": {
              "outlinewidth": 0,
              "ticks": ""
             }
            },
            "type": "scattermapbox"
           }
          ],
          "scatterpolar": [
           {
            "marker": {
             "colorbar": {
              "outlinewidth": 0,
              "ticks": ""
             }
            },
            "type": "scatterpolar"
           }
          ],
          "scatterpolargl": [
           {
            "marker": {
             "colorbar": {
              "outlinewidth": 0,
              "ticks": ""
             }
            },
            "type": "scatterpolargl"
           }
          ],
          "scatterternary": [
           {
            "marker": {
             "colorbar": {
              "outlinewidth": 0,
              "ticks": ""
             }
            },
            "type": "scatterternary"
           }
          ],
          "surface": [
           {
            "colorbar": {
             "outlinewidth": 0,
             "ticks": ""
            },
            "colorscale": [
             [
              0,
              "#0d0887"
             ],
             [
              0.1111111111111111,
              "#46039f"
             ],
             [
              0.2222222222222222,
              "#7201a8"
             ],
             [
              0.3333333333333333,
              "#9c179e"
             ],
             [
              0.4444444444444444,
              "#bd3786"
             ],
             [
              0.5555555555555556,
              "#d8576b"
             ],
             [
              0.6666666666666666,
              "#ed7953"
             ],
             [
              0.7777777777777778,
              "#fb9f3a"
             ],
             [
              0.8888888888888888,
              "#fdca26"
             ],
             [
              1,
              "#f0f921"
             ]
            ],
            "type": "surface"
           }
          ],
          "table": [
           {
            "cells": {
             "fill": {
              "color": "#506784"
             },
             "line": {
              "color": "rgb(17,17,17)"
             }
            },
            "header": {
             "fill": {
              "color": "#2a3f5f"
             },
             "line": {
              "color": "rgb(17,17,17)"
             }
            },
            "type": "table"
           }
          ]
         },
         "layout": {
          "annotationdefaults": {
           "arrowcolor": "#f2f5fa",
           "arrowhead": 0,
           "arrowwidth": 1
          },
          "autotypenumbers": "strict",
          "coloraxis": {
           "colorbar": {
            "outlinewidth": 0,
            "ticks": ""
           }
          },
          "colorscale": {
           "diverging": [
            [
             0,
             "#8e0152"
            ],
            [
             0.1,
             "#c51b7d"
            ],
            [
             0.2,
             "#de77ae"
            ],
            [
             0.3,
             "#f1b6da"
            ],
            [
             0.4,
             "#fde0ef"
            ],
            [
             0.5,
             "#f7f7f7"
            ],
            [
             0.6,
             "#e6f5d0"
            ],
            [
             0.7,
             "#b8e186"
            ],
            [
             0.8,
             "#7fbc41"
            ],
            [
             0.9,
             "#4d9221"
            ],
            [
             1,
             "#276419"
            ]
           ],
           "sequential": [
            [
             0,
             "#0d0887"
            ],
            [
             0.1111111111111111,
             "#46039f"
            ],
            [
             0.2222222222222222,
             "#7201a8"
            ],
            [
             0.3333333333333333,
             "#9c179e"
            ],
            [
             0.4444444444444444,
             "#bd3786"
            ],
            [
             0.5555555555555556,
             "#d8576b"
            ],
            [
             0.6666666666666666,
             "#ed7953"
            ],
            [
             0.7777777777777778,
             "#fb9f3a"
            ],
            [
             0.8888888888888888,
             "#fdca26"
            ],
            [
             1,
             "#f0f921"
            ]
           ],
           "sequentialminus": [
            [
             0,
             "#0d0887"
            ],
            [
             0.1111111111111111,
             "#46039f"
            ],
            [
             0.2222222222222222,
             "#7201a8"
            ],
            [
             0.3333333333333333,
             "#9c179e"
            ],
            [
             0.4444444444444444,
             "#bd3786"
            ],
            [
             0.5555555555555556,
             "#d8576b"
            ],
            [
             0.6666666666666666,
             "#ed7953"
            ],
            [
             0.7777777777777778,
             "#fb9f3a"
            ],
            [
             0.8888888888888888,
             "#fdca26"
            ],
            [
             1,
             "#f0f921"
            ]
           ]
          },
          "colorway": [
           "#636efa",
           "#EF553B",
           "#00cc96",
           "#ab63fa",
           "#FFA15A",
           "#19d3f3",
           "#FF6692",
           "#B6E880",
           "#FF97FF",
           "#FECB52"
          ],
          "font": {
           "color": "#f2f5fa"
          },
          "geo": {
           "bgcolor": "rgb(17,17,17)",
           "lakecolor": "rgb(17,17,17)",
           "landcolor": "rgb(17,17,17)",
           "showlakes": true,
           "showland": true,
           "subunitcolor": "#506784"
          },
          "hoverlabel": {
           "align": "left"
          },
          "hovermode": "closest",
          "mapbox": {
           "style": "dark"
          },
          "paper_bgcolor": "rgb(17,17,17)",
          "plot_bgcolor": "rgb(17,17,17)",
          "polar": {
           "angularaxis": {
            "gridcolor": "#506784",
            "linecolor": "#506784",
            "ticks": ""
           },
           "bgcolor": "rgb(17,17,17)",
           "radialaxis": {
            "gridcolor": "#506784",
            "linecolor": "#506784",
            "ticks": ""
           }
          },
          "scene": {
           "xaxis": {
            "backgroundcolor": "rgb(17,17,17)",
            "gridcolor": "#506784",
            "gridwidth": 2,
            "linecolor": "#506784",
            "showbackground": true,
            "ticks": "",
            "zerolinecolor": "#C8D4E3"
           },
           "yaxis": {
            "backgroundcolor": "rgb(17,17,17)",
            "gridcolor": "#506784",
            "gridwidth": 2,
            "linecolor": "#506784",
            "showbackground": true,
            "ticks": "",
            "zerolinecolor": "#C8D4E3"
           },
           "zaxis": {
            "backgroundcolor": "rgb(17,17,17)",
            "gridcolor": "#506784",
            "gridwidth": 2,
            "linecolor": "#506784",
            "showbackground": true,
            "ticks": "",
            "zerolinecolor": "#C8D4E3"
           }
          },
          "shapedefaults": {
           "line": {
            "color": "#f2f5fa"
           }
          },
          "sliderdefaults": {
           "bgcolor": "#C8D4E3",
           "bordercolor": "rgb(17,17,17)",
           "borderwidth": 1,
           "tickwidth": 0
          },
          "ternary": {
           "aaxis": {
            "gridcolor": "#506784",
            "linecolor": "#506784",
            "ticks": ""
           },
           "baxis": {
            "gridcolor": "#506784",
            "linecolor": "#506784",
            "ticks": ""
           },
           "bgcolor": "rgb(17,17,17)",
           "caxis": {
            "gridcolor": "#506784",
            "linecolor": "#506784",
            "ticks": ""
           }
          },
          "title": {
           "x": 0.05
          },
          "updatemenudefaults": {
           "bgcolor": "#506784",
           "borderwidth": 0
          },
          "xaxis": {
           "automargin": true,
           "gridcolor": "#283442",
           "linecolor": "#506784",
           "ticks": "",
           "title": {
            "standoff": 15
           },
           "zerolinecolor": "#283442",
           "zerolinewidth": 2
          },
          "yaxis": {
           "automargin": true,
           "gridcolor": "#283442",
           "linecolor": "#506784",
           "ticks": "",
           "title": {
            "standoff": 15
           },
           "zerolinecolor": "#283442",
           "zerolinewidth": 2
          }
         }
        },
        "title": {
         "text": "Cluster radar chart"
        }
       }
      }
     },
     "metadata": {},
     "output_type": "display_data"
    }
   ],
   "source": [
    "plot_radar(df_kmeans, columns = df_kmeans.drop(columns='cluster').columns, opacity=0.3)"
   ]
  },
  {
   "cell_type": "markdown",
   "metadata": {},
   "source": [
    "It is also useful to generate a scatter plot based on two of the features to visualize how the clusters have formed according to them. In this case, selecting the original dataframe is also helpful to recover the magnitude of the unscaled variables."
   ]
  },
  {
   "cell_type": "code",
   "execution_count": 48,
   "metadata": {},
   "outputs": [
    {
     "data": {
      "application/vnd.plotly.v1+json": {
       "config": {
        "plotlyServerURL": "https://plot.ly"
       },
       "data": [
        {
         "hoverinfo": "text",
         "marker": {
          "color": "rgb(95, 70, 144)",
          "line": {
           "color": "black",
           "width": 1
          },
          "size": 10
         },
         "mode": "markers",
         "name": "Cluster 0",
         "text": [
          "Circuit: miami<br>Cluster: 0<br>slow_corners_prop: 0.3684<br>straight_prop: 0.6719",
          "Circuit: rodriguez<br>Cluster: 0<br>slow_corners_prop: 0.4706<br>straight_prop: 0.6145",
          "Circuit: vegas<br>Cluster: 0<br>slow_corners_prop: 0.3529<br>straight_prop: 0.5765"
         ],
         "type": "scatter",
         "x": [
          0.3684210526315789,
          0.4705882352941176,
          0.3529411764705882
         ],
         "y": [
          0.6718727991285519,
          0.6145162347420874,
          0.5764769015070097
         ]
        },
        {
         "hoverinfo": "text",
         "marker": {
          "color": "rgb(29, 105, 150)",
          "line": {
           "color": "black",
           "width": 1
          },
          "size": 10
         },
         "mode": "markers",
         "name": "Cluster 1",
         "text": [
          "Circuit: hockenheimring<br>Cluster: 1<br>slow_corners_prop: 0.1765<br>straight_prop: 0.3642",
          "Circuit: hungaroring<br>Cluster: 1<br>slow_corners_prop: 0.1429<br>straight_prop: 0.2061",
          "Circuit: zandvoort<br>Cluster: 1<br>slow_corners_prop: 0.1429<br>straight_prop: 0.3295",
          "Circuit: interlagos<br>Cluster: 1<br>slow_corners_prop: 0.2<br>straight_prop: 0.3139"
         ],
         "type": "scatter",
         "x": [
          0.1764705882352941,
          0.1428571428571428,
          0.1428571428571428,
          0.2
         ],
         "y": [
          0.3641959065567671,
          0.2060763639439405,
          0.3294536802231256,
          0.3139453711429568
         ]
        },
        {
         "hoverinfo": "text",
         "marker": {
          "color": "rgb(56, 166, 165)",
          "line": {
           "color": "black",
           "width": 1
          },
          "size": 10
         },
         "mode": "markers",
         "name": "Cluster 2",
         "text": [
          "Circuit: nurburgring<br>Cluster: 2<br>slow_corners_prop: 0.3333<br>straight_prop: 0.3998",
          "Circuit: portimao<br>Cluster: 2<br>slow_corners_prop: 0.2667<br>straight_prop: 0.3883",
          "Circuit: sochi<br>Cluster: 2<br>slow_corners_prop: 0.2778<br>straight_prop: 0.222",
          "Circuit: shanghai<br>Cluster: 2<br>slow_corners_prop: 0.375<br>straight_prop: 0.406",
          "Circuit: baku<br>Cluster: 2<br>slow_corners_prop: 0.45<br>straight_prop: 0.3609",
          "Circuit: marina_bay<br>Cluster: 2<br>slow_corners_prop: 0.2632<br>straight_prop: 0.2196",
          "Circuit: americas<br>Cluster: 2<br>slow_corners_prop: 0.3<br>straight_prop: 0.3621"
         ],
         "type": "scatter",
         "x": [
          0.3333333333333333,
          0.2666666666666666,
          0.2777777777777778,
          0.375,
          0.45,
          0.2631578947368421,
          0.3
         ],
         "y": [
          0.3997760159874184,
          0.3882975158833253,
          0.2219606425322602,
          0.4060421679303411,
          0.3609025992042738,
          0.219564723736726,
          0.3620811670282834
         ]
        },
        {
         "hoverinfo": "text",
         "marker": {
          "color": "rgb(15, 133, 84)",
          "line": {
           "color": "black",
           "width": 1
          },
          "size": 10
         },
         "mode": "markers",
         "name": "Cluster 3",
         "text": [
          "Circuit: catalunya<br>Cluster: 3<br>slow_corners_prop: 0.0<br>straight_prop: 0.4966",
          "Circuit: silverstone<br>Cluster: 3<br>slow_corners_prop: 0.0556<br>straight_prop: 0.5604"
         ],
         "type": "scatter",
         "x": [
          0,
          0.0555555555555555
         ],
         "y": [
          0.4965643827496613,
          0.5603722026922663
         ]
        },
        {
         "hoverinfo": "text",
         "marker": {
          "color": "rgb(115, 175, 72)",
          "line": {
           "color": "black",
           "width": 1
          },
          "size": 10
         },
         "mode": "markers",
         "name": "Cluster 4",
         "text": [
          "Circuit: istanbul<br>Cluster: 4<br>slow_corners_prop: 0.2143<br>straight_prop: 0.7381",
          "Circuit: ricard<br>Cluster: 4<br>slow_corners_prop: 0.2<br>straight_prop: 0.6827",
          "Circuit: bahrain<br>Cluster: 4<br>slow_corners_prop: 0.2<br>straight_prop: 0.6096",
          "Circuit: albert_park<br>Cluster: 4<br>slow_corners_prop: 0.1429<br>straight_prop: 0.6198",
          "Circuit: suzuka<br>Cluster: 4<br>slow_corners_prop: 0.1667<br>straight_prop: 0.4418",
          "Circuit: villeneuve<br>Cluster: 4<br>slow_corners_prop: 0.1429<br>straight_prop: 0.6154",
          "Circuit: red_bull_ring<br>Cluster: 4<br>slow_corners_prop: 0.2<br>straight_prop: 0.6456",
          "Circuit: monza<br>Cluster: 4<br>slow_corners_prop: 0.1818<br>straight_prop: 0.8307",
          "Circuit: yas_marina<br>Cluster: 4<br>slow_corners_prop: 0.25<br>straight_prop: 0.4894",
          "Circuit: spa<br>Cluster: 4<br>slow_corners_prop: 0.2105<br>straight_prop: 0.5925"
         ],
         "type": "scatter",
         "x": [
          0.2142857142857142,
          0.2,
          0.2,
          0.1428571428571428,
          0.1666666666666666,
          0.1428571428571428,
          0.2,
          0.1818181818181818,
          0.25,
          0.2105263157894736
         ],
         "y": [
          0.7381114959467966,
          0.6827235022656238,
          0.6095518686370549,
          0.6198323155707185,
          0.4418216626724894,
          0.6153659080761815,
          0.6455918821089767,
          0.83065641383437,
          0.4894319452919681,
          0.5925093129037001
         ]
        },
        {
         "hoverinfo": "text",
         "marker": {
          "color": "rgb(237, 173, 8)",
          "line": {
           "color": "black",
           "width": 1
          },
          "size": 10
         },
         "mode": "markers",
         "name": "Cluster 5",
         "text": [
          "Circuit: jeddah<br>Cluster: 5<br>slow_corners_prop: 0.0741<br>straight_prop: 0.2604",
          "Circuit: imola<br>Cluster: 5<br>slow_corners_prop: 0.0526<br>straight_prop: 0.2399",
          "Circuit: losail<br>Cluster: 5<br>slow_corners_prop: 0.0625<br>straight_prop: 0.2315"
         ],
         "type": "scatter",
         "x": [
          0.074074074074074,
          0.0526315789473684,
          0.0625
         ],
         "y": [
          0.260417965246065,
          0.2399197112081172,
          0.2315151451324776
         ]
        },
        {
         "hoverinfo": "text",
         "marker": {
          "color": "rgb(225, 124, 5)",
          "line": {
           "color": "black",
           "width": 1
          },
          "size": 10
         },
         "mode": "markers",
         "name": "Cluster 6",
         "text": [
          "Circuit: monaco<br>Cluster: 6<br>slow_corners_prop: 0.4211<br>straight_prop: 0.0"
         ],
         "type": "scatter",
         "x": [
          0.4210526315789473
         ],
         "y": [
          0
         ]
        }
       ],
       "layout": {
        "legend": {
         "title": {
          "text": "Clusters"
         }
        },
        "template": {
         "data": {
          "bar": [
           {
            "error_x": {
             "color": "#f2f5fa"
            },
            "error_y": {
             "color": "#f2f5fa"
            },
            "marker": {
             "line": {
              "color": "rgb(17,17,17)",
              "width": 0.5
             },
             "pattern": {
              "fillmode": "overlay",
              "size": 10,
              "solidity": 0.2
             }
            },
            "type": "bar"
           }
          ],
          "barpolar": [
           {
            "marker": {
             "line": {
              "color": "rgb(17,17,17)",
              "width": 0.5
             },
             "pattern": {
              "fillmode": "overlay",
              "size": 10,
              "solidity": 0.2
             }
            },
            "type": "barpolar"
           }
          ],
          "carpet": [
           {
            "aaxis": {
             "endlinecolor": "#A2B1C6",
             "gridcolor": "#506784",
             "linecolor": "#506784",
             "minorgridcolor": "#506784",
             "startlinecolor": "#A2B1C6"
            },
            "baxis": {
             "endlinecolor": "#A2B1C6",
             "gridcolor": "#506784",
             "linecolor": "#506784",
             "minorgridcolor": "#506784",
             "startlinecolor": "#A2B1C6"
            },
            "type": "carpet"
           }
          ],
          "choropleth": [
           {
            "colorbar": {
             "outlinewidth": 0,
             "ticks": ""
            },
            "type": "choropleth"
           }
          ],
          "contour": [
           {
            "colorbar": {
             "outlinewidth": 0,
             "ticks": ""
            },
            "colorscale": [
             [
              0,
              "#0d0887"
             ],
             [
              0.1111111111111111,
              "#46039f"
             ],
             [
              0.2222222222222222,
              "#7201a8"
             ],
             [
              0.3333333333333333,
              "#9c179e"
             ],
             [
              0.4444444444444444,
              "#bd3786"
             ],
             [
              0.5555555555555556,
              "#d8576b"
             ],
             [
              0.6666666666666666,
              "#ed7953"
             ],
             [
              0.7777777777777778,
              "#fb9f3a"
             ],
             [
              0.8888888888888888,
              "#fdca26"
             ],
             [
              1,
              "#f0f921"
             ]
            ],
            "type": "contour"
           }
          ],
          "contourcarpet": [
           {
            "colorbar": {
             "outlinewidth": 0,
             "ticks": ""
            },
            "type": "contourcarpet"
           }
          ],
          "heatmap": [
           {
            "colorbar": {
             "outlinewidth": 0,
             "ticks": ""
            },
            "colorscale": [
             [
              0,
              "#0d0887"
             ],
             [
              0.1111111111111111,
              "#46039f"
             ],
             [
              0.2222222222222222,
              "#7201a8"
             ],
             [
              0.3333333333333333,
              "#9c179e"
             ],
             [
              0.4444444444444444,
              "#bd3786"
             ],
             [
              0.5555555555555556,
              "#d8576b"
             ],
             [
              0.6666666666666666,
              "#ed7953"
             ],
             [
              0.7777777777777778,
              "#fb9f3a"
             ],
             [
              0.8888888888888888,
              "#fdca26"
             ],
             [
              1,
              "#f0f921"
             ]
            ],
            "type": "heatmap"
           }
          ],
          "heatmapgl": [
           {
            "colorbar": {
             "outlinewidth": 0,
             "ticks": ""
            },
            "colorscale": [
             [
              0,
              "#0d0887"
             ],
             [
              0.1111111111111111,
              "#46039f"
             ],
             [
              0.2222222222222222,
              "#7201a8"
             ],
             [
              0.3333333333333333,
              "#9c179e"
             ],
             [
              0.4444444444444444,
              "#bd3786"
             ],
             [
              0.5555555555555556,
              "#d8576b"
             ],
             [
              0.6666666666666666,
              "#ed7953"
             ],
             [
              0.7777777777777778,
              "#fb9f3a"
             ],
             [
              0.8888888888888888,
              "#fdca26"
             ],
             [
              1,
              "#f0f921"
             ]
            ],
            "type": "heatmapgl"
           }
          ],
          "histogram": [
           {
            "marker": {
             "pattern": {
              "fillmode": "overlay",
              "size": 10,
              "solidity": 0.2
             }
            },
            "type": "histogram"
           }
          ],
          "histogram2d": [
           {
            "colorbar": {
             "outlinewidth": 0,
             "ticks": ""
            },
            "colorscale": [
             [
              0,
              "#0d0887"
             ],
             [
              0.1111111111111111,
              "#46039f"
             ],
             [
              0.2222222222222222,
              "#7201a8"
             ],
             [
              0.3333333333333333,
              "#9c179e"
             ],
             [
              0.4444444444444444,
              "#bd3786"
             ],
             [
              0.5555555555555556,
              "#d8576b"
             ],
             [
              0.6666666666666666,
              "#ed7953"
             ],
             [
              0.7777777777777778,
              "#fb9f3a"
             ],
             [
              0.8888888888888888,
              "#fdca26"
             ],
             [
              1,
              "#f0f921"
             ]
            ],
            "type": "histogram2d"
           }
          ],
          "histogram2dcontour": [
           {
            "colorbar": {
             "outlinewidth": 0,
             "ticks": ""
            },
            "colorscale": [
             [
              0,
              "#0d0887"
             ],
             [
              0.1111111111111111,
              "#46039f"
             ],
             [
              0.2222222222222222,
              "#7201a8"
             ],
             [
              0.3333333333333333,
              "#9c179e"
             ],
             [
              0.4444444444444444,
              "#bd3786"
             ],
             [
              0.5555555555555556,
              "#d8576b"
             ],
             [
              0.6666666666666666,
              "#ed7953"
             ],
             [
              0.7777777777777778,
              "#fb9f3a"
             ],
             [
              0.8888888888888888,
              "#fdca26"
             ],
             [
              1,
              "#f0f921"
             ]
            ],
            "type": "histogram2dcontour"
           }
          ],
          "mesh3d": [
           {
            "colorbar": {
             "outlinewidth": 0,
             "ticks": ""
            },
            "type": "mesh3d"
           }
          ],
          "parcoords": [
           {
            "line": {
             "colorbar": {
              "outlinewidth": 0,
              "ticks": ""
             }
            },
            "type": "parcoords"
           }
          ],
          "pie": [
           {
            "automargin": true,
            "type": "pie"
           }
          ],
          "scatter": [
           {
            "marker": {
             "line": {
              "color": "#283442"
             }
            },
            "type": "scatter"
           }
          ],
          "scatter3d": [
           {
            "line": {
             "colorbar": {
              "outlinewidth": 0,
              "ticks": ""
             }
            },
            "marker": {
             "colorbar": {
              "outlinewidth": 0,
              "ticks": ""
             }
            },
            "type": "scatter3d"
           }
          ],
          "scattercarpet": [
           {
            "marker": {
             "colorbar": {
              "outlinewidth": 0,
              "ticks": ""
             }
            },
            "type": "scattercarpet"
           }
          ],
          "scattergeo": [
           {
            "marker": {
             "colorbar": {
              "outlinewidth": 0,
              "ticks": ""
             }
            },
            "type": "scattergeo"
           }
          ],
          "scattergl": [
           {
            "marker": {
             "line": {
              "color": "#283442"
             }
            },
            "type": "scattergl"
           }
          ],
          "scattermapbox": [
           {
            "marker": {
             "colorbar": {
              "outlinewidth": 0,
              "ticks": ""
             }
            },
            "type": "scattermapbox"
           }
          ],
          "scatterpolar": [
           {
            "marker": {
             "colorbar": {
              "outlinewidth": 0,
              "ticks": ""
             }
            },
            "type": "scatterpolar"
           }
          ],
          "scatterpolargl": [
           {
            "marker": {
             "colorbar": {
              "outlinewidth": 0,
              "ticks": ""
             }
            },
            "type": "scatterpolargl"
           }
          ],
          "scatterternary": [
           {
            "marker": {
             "colorbar": {
              "outlinewidth": 0,
              "ticks": ""
             }
            },
            "type": "scatterternary"
           }
          ],
          "surface": [
           {
            "colorbar": {
             "outlinewidth": 0,
             "ticks": ""
            },
            "colorscale": [
             [
              0,
              "#0d0887"
             ],
             [
              0.1111111111111111,
              "#46039f"
             ],
             [
              0.2222222222222222,
              "#7201a8"
             ],
             [
              0.3333333333333333,
              "#9c179e"
             ],
             [
              0.4444444444444444,
              "#bd3786"
             ],
             [
              0.5555555555555556,
              "#d8576b"
             ],
             [
              0.6666666666666666,
              "#ed7953"
             ],
             [
              0.7777777777777778,
              "#fb9f3a"
             ],
             [
              0.8888888888888888,
              "#fdca26"
             ],
             [
              1,
              "#f0f921"
             ]
            ],
            "type": "surface"
           }
          ],
          "table": [
           {
            "cells": {
             "fill": {
              "color": "#506784"
             },
             "line": {
              "color": "rgb(17,17,17)"
             }
            },
            "header": {
             "fill": {
              "color": "#2a3f5f"
             },
             "line": {
              "color": "rgb(17,17,17)"
             }
            },
            "type": "table"
           }
          ]
         },
         "layout": {
          "annotationdefaults": {
           "arrowcolor": "#f2f5fa",
           "arrowhead": 0,
           "arrowwidth": 1
          },
          "autotypenumbers": "strict",
          "coloraxis": {
           "colorbar": {
            "outlinewidth": 0,
            "ticks": ""
           }
          },
          "colorscale": {
           "diverging": [
            [
             0,
             "#8e0152"
            ],
            [
             0.1,
             "#c51b7d"
            ],
            [
             0.2,
             "#de77ae"
            ],
            [
             0.3,
             "#f1b6da"
            ],
            [
             0.4,
             "#fde0ef"
            ],
            [
             0.5,
             "#f7f7f7"
            ],
            [
             0.6,
             "#e6f5d0"
            ],
            [
             0.7,
             "#b8e186"
            ],
            [
             0.8,
             "#7fbc41"
            ],
            [
             0.9,
             "#4d9221"
            ],
            [
             1,
             "#276419"
            ]
           ],
           "sequential": [
            [
             0,
             "#0d0887"
            ],
            [
             0.1111111111111111,
             "#46039f"
            ],
            [
             0.2222222222222222,
             "#7201a8"
            ],
            [
             0.3333333333333333,
             "#9c179e"
            ],
            [
             0.4444444444444444,
             "#bd3786"
            ],
            [
             0.5555555555555556,
             "#d8576b"
            ],
            [
             0.6666666666666666,
             "#ed7953"
            ],
            [
             0.7777777777777778,
             "#fb9f3a"
            ],
            [
             0.8888888888888888,
             "#fdca26"
            ],
            [
             1,
             "#f0f921"
            ]
           ],
           "sequentialminus": [
            [
             0,
             "#0d0887"
            ],
            [
             0.1111111111111111,
             "#46039f"
            ],
            [
             0.2222222222222222,
             "#7201a8"
            ],
            [
             0.3333333333333333,
             "#9c179e"
            ],
            [
             0.4444444444444444,
             "#bd3786"
            ],
            [
             0.5555555555555556,
             "#d8576b"
            ],
            [
             0.6666666666666666,
             "#ed7953"
            ],
            [
             0.7777777777777778,
             "#fb9f3a"
            ],
            [
             0.8888888888888888,
             "#fdca26"
            ],
            [
             1,
             "#f0f921"
            ]
           ]
          },
          "colorway": [
           "#636efa",
           "#EF553B",
           "#00cc96",
           "#ab63fa",
           "#FFA15A",
           "#19d3f3",
           "#FF6692",
           "#B6E880",
           "#FF97FF",
           "#FECB52"
          ],
          "font": {
           "color": "#f2f5fa"
          },
          "geo": {
           "bgcolor": "rgb(17,17,17)",
           "lakecolor": "rgb(17,17,17)",
           "landcolor": "rgb(17,17,17)",
           "showlakes": true,
           "showland": true,
           "subunitcolor": "#506784"
          },
          "hoverlabel": {
           "align": "left"
          },
          "hovermode": "closest",
          "mapbox": {
           "style": "dark"
          },
          "paper_bgcolor": "rgb(17,17,17)",
          "plot_bgcolor": "rgb(17,17,17)",
          "polar": {
           "angularaxis": {
            "gridcolor": "#506784",
            "linecolor": "#506784",
            "ticks": ""
           },
           "bgcolor": "rgb(17,17,17)",
           "radialaxis": {
            "gridcolor": "#506784",
            "linecolor": "#506784",
            "ticks": ""
           }
          },
          "scene": {
           "xaxis": {
            "backgroundcolor": "rgb(17,17,17)",
            "gridcolor": "#506784",
            "gridwidth": 2,
            "linecolor": "#506784",
            "showbackground": true,
            "ticks": "",
            "zerolinecolor": "#C8D4E3"
           },
           "yaxis": {
            "backgroundcolor": "rgb(17,17,17)",
            "gridcolor": "#506784",
            "gridwidth": 2,
            "linecolor": "#506784",
            "showbackground": true,
            "ticks": "",
            "zerolinecolor": "#C8D4E3"
           },
           "zaxis": {
            "backgroundcolor": "rgb(17,17,17)",
            "gridcolor": "#506784",
            "gridwidth": 2,
            "linecolor": "#506784",
            "showbackground": true,
            "ticks": "",
            "zerolinecolor": "#C8D4E3"
           }
          },
          "shapedefaults": {
           "line": {
            "color": "#f2f5fa"
           }
          },
          "sliderdefaults": {
           "bgcolor": "#C8D4E3",
           "bordercolor": "rgb(17,17,17)",
           "borderwidth": 1,
           "tickwidth": 0
          },
          "ternary": {
           "aaxis": {
            "gridcolor": "#506784",
            "linecolor": "#506784",
            "ticks": ""
           },
           "baxis": {
            "gridcolor": "#506784",
            "linecolor": "#506784",
            "ticks": ""
           },
           "bgcolor": "rgb(17,17,17)",
           "caxis": {
            "gridcolor": "#506784",
            "linecolor": "#506784",
            "ticks": ""
           }
          },
          "title": {
           "x": 0.05
          },
          "updatemenudefaults": {
           "bgcolor": "#506784",
           "borderwidth": 0
          },
          "xaxis": {
           "automargin": true,
           "gridcolor": "#283442",
           "linecolor": "#506784",
           "ticks": "",
           "title": {
            "standoff": 15
           },
           "zerolinecolor": "#283442",
           "zerolinewidth": 2
          },
          "yaxis": {
           "automargin": true,
           "gridcolor": "#283442",
           "linecolor": "#506784",
           "ticks": "",
           "title": {
            "standoff": 15
           },
           "zerolinecolor": "#283442",
           "zerolinewidth": 2
          }
         }
        },
        "title": {
         "text": "Clusters of Circuits (K-Means Clustering Model)"
        },
        "xaxis": {
         "title": {
          "text": "slow_corners_prop"
         }
        },
        "yaxis": {
         "title": {
          "text": "straight_prop"
         }
        }
       }
      }
     },
     "metadata": {},
     "output_type": "display_data"
    }
   ],
   "source": [
    "col1 = 'slow_corners_prop'\n",
    "col2 = 'straight_prop'\n",
    "\n",
    "plot_cluster_scatter(df_featured, col1, col2)"
   ]
  },
  {
   "cell_type": "markdown",
   "metadata": {},
   "source": [
    "In this case, we can see that clustering based on the variables `slow_corners_prop` and `straight_prop` makes a lot of sense. We can also observe the isolation of `Monaco` as a circuit with unique characteristics."
   ]
  },
  {
   "cell_type": "markdown",
   "metadata": {},
   "source": [
    "### 4.1.5 Principal Component Analysis"
   ]
  },
  {
   "cell_type": "markdown",
   "metadata": {},
   "source": [
    "We are going to perform a PCA to reduce the dimensionality of the dataset. This has the following advantages:\n",
    "\n",
    "* Reduces dimensionality: Helps with high-dimensional datasets by keeping only the most relevant features.\n",
    "\n",
    "* Removes redundancy: PCA eliminates correlated features.\n",
    "\n",
    "* Improves performance: Fewer features mean faster training and less risk of overfitting. In this case, we could retrain the clustering model after applying PCA to the dataset with all its features. This will be done in the next steps.\n",
    "\n",
    "* Enhances visualization: Helps represent data in two dimensions without losing relevant information."
   ]
  },
  {
   "cell_type": "code",
   "execution_count": 46,
   "metadata": {},
   "outputs": [
    {
     "name": "stdout",
     "output_type": "stream",
     "text": [
      "Explained variance for each component: [0.58728312 0.35675145]\n",
      "Total explained variance: 0.944\n"
     ]
    }
   ],
   "source": [
    "pca_df, pca_evr = get_pca(df_kmeans.drop(columns='cluster'))\n",
    "pca_df = pd.concat([pca_df, df_kmeans['cluster'].reset_index()], axis=1).set_index('index')\n",
    "\n",
    "# Show total explained variance ratio\n",
    "print(\"Explained variance for each component:\", pca_evr)\n",
    "print(\"Total explained variance:\", round(sum(pca_evr), 4))"
   ]
  },
  {
   "cell_type": "code",
   "execution_count": 52,
   "metadata": {},
   "outputs": [
    {
     "data": {
      "application/vnd.plotly.v1+json": {
       "config": {
        "plotlyServerURL": "https://plot.ly"
       },
       "data": [
        {
         "hoverinfo": "text",
         "marker": {
          "color": "rgb(95, 70, 144)",
          "line": {
           "color": "black",
           "width": 1
          },
          "size": 15
         },
         "mode": "markers",
         "name": "Cluster 0",
         "text": [
          "Circuit: miami<br>Cluster: 0<br>PC1: 0.137<br>PC2: 0.3864",
          "Circuit: rodriguez<br>Cluster: 0<br>PC1: 0.4271<br>PC2: 0.4261",
          "Circuit: vegas<br>Cluster: 0<br>PC1: 0.0424<br>PC2: 0.2983"
         ],
         "type": "scatter",
         "x": [
          0.13704043160415036,
          0.42713108195985994,
          0.04243997170047495
         ],
         "y": [
          0.3864354991361504,
          0.4260961951103207,
          0.2983419036311773
         ]
        },
        {
         "hoverinfo": "text",
         "marker": {
          "color": "rgb(29, 105, 150)",
          "line": {
           "color": "black",
           "width": 1
          },
          "size": 15
         },
         "mode": "markers",
         "name": "Cluster 1",
         "text": [
          "Circuit: hockenheimring<br>Cluster: 1<br>PC1: -0.0651<br>PC2: -0.1322",
          "Circuit: hungaroring<br>Cluster: 1<br>PC1: 0.0751<br>PC2: -0.3537",
          "Circuit: zandvoort<br>Cluster: 1<br>PC1: -0.0433<br>PC2: -0.2182",
          "Circuit: interlagos<br>Cluster: 1<br>PC1: 0.0607<br>PC2: -0.1688"
         ],
         "type": "scatter",
         "x": [
          -0.06506506329853731,
          0.0751311435445364,
          -0.04332133232334748,
          0.060670968714912815
         ],
         "y": [
          -0.13224337810513198,
          -0.3536668806131441,
          -0.21820588836683918,
          -0.16877413488688398
         ]
        },
        {
         "hoverinfo": "text",
         "marker": {
          "color": "rgb(56, 166, 165)",
          "line": {
           "color": "black",
           "width": 1
          },
          "size": 15
         },
         "mode": "markers",
         "name": "Cluster 2",
         "text": [
          "Circuit: nurburgring<br>Cluster: 2<br>PC1: 0.2367<br>PC2: 0.0697",
          "Circuit: portimao<br>Cluster: 2<br>PC1: 0.1538<br>PC2: -0.0226",
          "Circuit: sochi<br>Cluster: 2<br>PC1: 0.3052<br>PC2: -0.1868",
          "Circuit: shanghai<br>Cluster: 2<br>PC1: 0.3437<br>PC2: 0.1148",
          "Circuit: baku<br>Cluster: 2<br>PC1: 0.4691<br>PC2: 0.1599",
          "Circuit: marina_bay<br>Cluster: 2<br>PC1: 0.3217<br>PC2: -0.2143",
          "Circuit: americas<br>Cluster: 2<br>PC1: 0.2273<br>PC2: -0.0118"
         ],
         "type": "scatter",
         "x": [
          0.23672466671127282,
          0.1538260871344545,
          0.30524194424740075,
          0.34365208196999597,
          0.46914133101591127,
          0.3217453673730786,
          0.227251703946541
         ],
         "y": [
          0.06972508252724396,
          -0.022558653532783413,
          -0.18678894144424385,
          0.1148073132672085,
          0.1599141163654363,
          -0.2143340988479303,
          -0.011779311257579361
         ]
        },
        {
         "hoverinfo": "text",
         "marker": {
          "color": "rgb(15, 133, 84)",
          "line": {
           "color": "black",
           "width": 1
          },
          "size": 15
         },
         "mode": "markers",
         "name": "Cluster 3",
         "text": [
          "Circuit: catalunya<br>Cluster: 3<br>PC1: -0.4152<br>PC2: -0.2033",
          "Circuit: silverstone<br>Cluster: 3<br>PC1: -0.447<br>PC2: -0.0564"
         ],
         "type": "scatter",
         "x": [
          -0.4152399725949789,
          -0.44698083258643695
         ],
         "y": [
          -0.20328727968353977,
          -0.05640657884717415
         ]
        },
        {
         "hoverinfo": "text",
         "marker": {
          "color": "rgb(115, 175, 72)",
          "line": {
           "color": "black",
           "width": 1
          },
          "size": 15
         },
         "mode": "markers",
         "name": "Cluster 4",
         "text": [
          "Circuit: istanbul<br>Cluster: 4<br>PC1: -0.1721<br>PC2: 0.281",
          "Circuit: ricard<br>Cluster: 4<br>PC1: -0.1705<br>PC2: 0.2098",
          "Circuit: bahrain<br>Cluster: 4<br>PC1: -0.0599<br>PC2: 0.1209",
          "Circuit: albert_park<br>Cluster: 4<br>PC1: -0.3405<br>PC2: 0.1045",
          "Circuit: suzuka<br>Cluster: 4<br>PC1: -0.1529<br>PC2: -0.0588",
          "Circuit: villeneuve<br>Cluster: 4<br>PC1: -0.1577<br>PC2: 0.0615",
          "Circuit: red_bull_ring<br>Cluster: 4<br>PC1: -0.2254<br>PC2: 0.1884",
          "Circuit: monza<br>Cluster: 4<br>PC1: -0.4742<br>PC2: 0.3796",
          "Circuit: yas_marina<br>Cluster: 4<br>PC1: -0.0017<br>PC2: 0.076",
          "Circuit: spa<br>Cluster: 4<br>PC1: -0.1532<br>PC2: 0.1414"
         ],
         "type": "scatter",
         "x": [
          -0.17212240819790833,
          -0.17050840252232244,
          -0.059938680738638034,
          -0.3405108101895391,
          -0.15285744983944324,
          -0.15772097202898197,
          -0.2253957964998606,
          -0.474188123094313,
          -0.0016606112095005898,
          -0.1531866306290093
         ],
         "y": [
          0.28101444738754233,
          0.2098490687004425,
          0.1208901184768264,
          0.10454728433767768,
          -0.058849516272790336,
          0.061476882247609055,
          0.18843898521400493,
          0.3796264981435592,
          0.07602492880136424,
          0.1413667945159781
         ]
        },
        {
         "hoverinfo": "text",
         "marker": {
          "color": "rgb(237, 173, 8)",
          "line": {
           "color": "black",
           "width": 1
          },
          "size": 15
         },
         "mode": "markers",
         "name": "Cluster 5",
         "text": [
          "Circuit: jeddah<br>Cluster: 5<br>PC1: -0.3157<br>PC2: -0.3245",
          "Circuit: imola<br>Cluster: 5<br>PC1: -0.228<br>PC2: -0.3936",
          "Circuit: losail<br>Cluster: 5<br>PC1: -0.2394<br>PC2: -0.384"
         ],
         "type": "scatter",
         "x": [
          -0.3156803842745055,
          -0.22804281135012447,
          -0.23935871066385925
         ],
         "y": [
          -0.3245259717771825,
          -0.3936495843420899,
          -0.38396501796700744
         ]
        },
        {
         "hoverinfo": "text",
         "marker": {
          "color": "rgb(225, 124, 5)",
          "line": {
           "color": "black",
           "width": 1
          },
          "size": 15
         },
         "mode": "markers",
         "name": "Cluster 6",
         "text": [
          "Circuit: monaco<br>Cluster: 6<br>PC1: 0.8618<br>PC2: -0.2895"
         ],
         "type": "scatter",
         "x": [
          0.861782212118716
         ],
         "y": [
          -0.2895198819182225
         ]
        }
       ],
       "layout": {
        "legend": {
         "title": {
          "text": "Clusters"
         }
        },
        "template": {
         "data": {
          "bar": [
           {
            "error_x": {
             "color": "#f2f5fa"
            },
            "error_y": {
             "color": "#f2f5fa"
            },
            "marker": {
             "line": {
              "color": "rgb(17,17,17)",
              "width": 0.5
             },
             "pattern": {
              "fillmode": "overlay",
              "size": 10,
              "solidity": 0.2
             }
            },
            "type": "bar"
           }
          ],
          "barpolar": [
           {
            "marker": {
             "line": {
              "color": "rgb(17,17,17)",
              "width": 0.5
             },
             "pattern": {
              "fillmode": "overlay",
              "size": 10,
              "solidity": 0.2
             }
            },
            "type": "barpolar"
           }
          ],
          "carpet": [
           {
            "aaxis": {
             "endlinecolor": "#A2B1C6",
             "gridcolor": "#506784",
             "linecolor": "#506784",
             "minorgridcolor": "#506784",
             "startlinecolor": "#A2B1C6"
            },
            "baxis": {
             "endlinecolor": "#A2B1C6",
             "gridcolor": "#506784",
             "linecolor": "#506784",
             "minorgridcolor": "#506784",
             "startlinecolor": "#A2B1C6"
            },
            "type": "carpet"
           }
          ],
          "choropleth": [
           {
            "colorbar": {
             "outlinewidth": 0,
             "ticks": ""
            },
            "type": "choropleth"
           }
          ],
          "contour": [
           {
            "colorbar": {
             "outlinewidth": 0,
             "ticks": ""
            },
            "colorscale": [
             [
              0,
              "#0d0887"
             ],
             [
              0.1111111111111111,
              "#46039f"
             ],
             [
              0.2222222222222222,
              "#7201a8"
             ],
             [
              0.3333333333333333,
              "#9c179e"
             ],
             [
              0.4444444444444444,
              "#bd3786"
             ],
             [
              0.5555555555555556,
              "#d8576b"
             ],
             [
              0.6666666666666666,
              "#ed7953"
             ],
             [
              0.7777777777777778,
              "#fb9f3a"
             ],
             [
              0.8888888888888888,
              "#fdca26"
             ],
             [
              1,
              "#f0f921"
             ]
            ],
            "type": "contour"
           }
          ],
          "contourcarpet": [
           {
            "colorbar": {
             "outlinewidth": 0,
             "ticks": ""
            },
            "type": "contourcarpet"
           }
          ],
          "heatmap": [
           {
            "colorbar": {
             "outlinewidth": 0,
             "ticks": ""
            },
            "colorscale": [
             [
              0,
              "#0d0887"
             ],
             [
              0.1111111111111111,
              "#46039f"
             ],
             [
              0.2222222222222222,
              "#7201a8"
             ],
             [
              0.3333333333333333,
              "#9c179e"
             ],
             [
              0.4444444444444444,
              "#bd3786"
             ],
             [
              0.5555555555555556,
              "#d8576b"
             ],
             [
              0.6666666666666666,
              "#ed7953"
             ],
             [
              0.7777777777777778,
              "#fb9f3a"
             ],
             [
              0.8888888888888888,
              "#fdca26"
             ],
             [
              1,
              "#f0f921"
             ]
            ],
            "type": "heatmap"
           }
          ],
          "heatmapgl": [
           {
            "colorbar": {
             "outlinewidth": 0,
             "ticks": ""
            },
            "colorscale": [
             [
              0,
              "#0d0887"
             ],
             [
              0.1111111111111111,
              "#46039f"
             ],
             [
              0.2222222222222222,
              "#7201a8"
             ],
             [
              0.3333333333333333,
              "#9c179e"
             ],
             [
              0.4444444444444444,
              "#bd3786"
             ],
             [
              0.5555555555555556,
              "#d8576b"
             ],
             [
              0.6666666666666666,
              "#ed7953"
             ],
             [
              0.7777777777777778,
              "#fb9f3a"
             ],
             [
              0.8888888888888888,
              "#fdca26"
             ],
             [
              1,
              "#f0f921"
             ]
            ],
            "type": "heatmapgl"
           }
          ],
          "histogram": [
           {
            "marker": {
             "pattern": {
              "fillmode": "overlay",
              "size": 10,
              "solidity": 0.2
             }
            },
            "type": "histogram"
           }
          ],
          "histogram2d": [
           {
            "colorbar": {
             "outlinewidth": 0,
             "ticks": ""
            },
            "colorscale": [
             [
              0,
              "#0d0887"
             ],
             [
              0.1111111111111111,
              "#46039f"
             ],
             [
              0.2222222222222222,
              "#7201a8"
             ],
             [
              0.3333333333333333,
              "#9c179e"
             ],
             [
              0.4444444444444444,
              "#bd3786"
             ],
             [
              0.5555555555555556,
              "#d8576b"
             ],
             [
              0.6666666666666666,
              "#ed7953"
             ],
             [
              0.7777777777777778,
              "#fb9f3a"
             ],
             [
              0.8888888888888888,
              "#fdca26"
             ],
             [
              1,
              "#f0f921"
             ]
            ],
            "type": "histogram2d"
           }
          ],
          "histogram2dcontour": [
           {
            "colorbar": {
             "outlinewidth": 0,
             "ticks": ""
            },
            "colorscale": [
             [
              0,
              "#0d0887"
             ],
             [
              0.1111111111111111,
              "#46039f"
             ],
             [
              0.2222222222222222,
              "#7201a8"
             ],
             [
              0.3333333333333333,
              "#9c179e"
             ],
             [
              0.4444444444444444,
              "#bd3786"
             ],
             [
              0.5555555555555556,
              "#d8576b"
             ],
             [
              0.6666666666666666,
              "#ed7953"
             ],
             [
              0.7777777777777778,
              "#fb9f3a"
             ],
             [
              0.8888888888888888,
              "#fdca26"
             ],
             [
              1,
              "#f0f921"
             ]
            ],
            "type": "histogram2dcontour"
           }
          ],
          "mesh3d": [
           {
            "colorbar": {
             "outlinewidth": 0,
             "ticks": ""
            },
            "type": "mesh3d"
           }
          ],
          "parcoords": [
           {
            "line": {
             "colorbar": {
              "outlinewidth": 0,
              "ticks": ""
             }
            },
            "type": "parcoords"
           }
          ],
          "pie": [
           {
            "automargin": true,
            "type": "pie"
           }
          ],
          "scatter": [
           {
            "marker": {
             "line": {
              "color": "#283442"
             }
            },
            "type": "scatter"
           }
          ],
          "scatter3d": [
           {
            "line": {
             "colorbar": {
              "outlinewidth": 0,
              "ticks": ""
             }
            },
            "marker": {
             "colorbar": {
              "outlinewidth": 0,
              "ticks": ""
             }
            },
            "type": "scatter3d"
           }
          ],
          "scattercarpet": [
           {
            "marker": {
             "colorbar": {
              "outlinewidth": 0,
              "ticks": ""
             }
            },
            "type": "scattercarpet"
           }
          ],
          "scattergeo": [
           {
            "marker": {
             "colorbar": {
              "outlinewidth": 0,
              "ticks": ""
             }
            },
            "type": "scattergeo"
           }
          ],
          "scattergl": [
           {
            "marker": {
             "line": {
              "color": "#283442"
             }
            },
            "type": "scattergl"
           }
          ],
          "scattermapbox": [
           {
            "marker": {
             "colorbar": {
              "outlinewidth": 0,
              "ticks": ""
             }
            },
            "type": "scattermapbox"
           }
          ],
          "scatterpolar": [
           {
            "marker": {
             "colorbar": {
              "outlinewidth": 0,
              "ticks": ""
             }
            },
            "type": "scatterpolar"
           }
          ],
          "scatterpolargl": [
           {
            "marker": {
             "colorbar": {
              "outlinewidth": 0,
              "ticks": ""
             }
            },
            "type": "scatterpolargl"
           }
          ],
          "scatterternary": [
           {
            "marker": {
             "colorbar": {
              "outlinewidth": 0,
              "ticks": ""
             }
            },
            "type": "scatterternary"
           }
          ],
          "surface": [
           {
            "colorbar": {
             "outlinewidth": 0,
             "ticks": ""
            },
            "colorscale": [
             [
              0,
              "#0d0887"
             ],
             [
              0.1111111111111111,
              "#46039f"
             ],
             [
              0.2222222222222222,
              "#7201a8"
             ],
             [
              0.3333333333333333,
              "#9c179e"
             ],
             [
              0.4444444444444444,
              "#bd3786"
             ],
             [
              0.5555555555555556,
              "#d8576b"
             ],
             [
              0.6666666666666666,
              "#ed7953"
             ],
             [
              0.7777777777777778,
              "#fb9f3a"
             ],
             [
              0.8888888888888888,
              "#fdca26"
             ],
             [
              1,
              "#f0f921"
             ]
            ],
            "type": "surface"
           }
          ],
          "table": [
           {
            "cells": {
             "fill": {
              "color": "#506784"
             },
             "line": {
              "color": "rgb(17,17,17)"
             }
            },
            "header": {
             "fill": {
              "color": "#2a3f5f"
             },
             "line": {
              "color": "rgb(17,17,17)"
             }
            },
            "type": "table"
           }
          ]
         },
         "layout": {
          "annotationdefaults": {
           "arrowcolor": "#f2f5fa",
           "arrowhead": 0,
           "arrowwidth": 1
          },
          "autotypenumbers": "strict",
          "coloraxis": {
           "colorbar": {
            "outlinewidth": 0,
            "ticks": ""
           }
          },
          "colorscale": {
           "diverging": [
            [
             0,
             "#8e0152"
            ],
            [
             0.1,
             "#c51b7d"
            ],
            [
             0.2,
             "#de77ae"
            ],
            [
             0.3,
             "#f1b6da"
            ],
            [
             0.4,
             "#fde0ef"
            ],
            [
             0.5,
             "#f7f7f7"
            ],
            [
             0.6,
             "#e6f5d0"
            ],
            [
             0.7,
             "#b8e186"
            ],
            [
             0.8,
             "#7fbc41"
            ],
            [
             0.9,
             "#4d9221"
            ],
            [
             1,
             "#276419"
            ]
           ],
           "sequential": [
            [
             0,
             "#0d0887"
            ],
            [
             0.1111111111111111,
             "#46039f"
            ],
            [
             0.2222222222222222,
             "#7201a8"
            ],
            [
             0.3333333333333333,
             "#9c179e"
            ],
            [
             0.4444444444444444,
             "#bd3786"
            ],
            [
             0.5555555555555556,
             "#d8576b"
            ],
            [
             0.6666666666666666,
             "#ed7953"
            ],
            [
             0.7777777777777778,
             "#fb9f3a"
            ],
            [
             0.8888888888888888,
             "#fdca26"
            ],
            [
             1,
             "#f0f921"
            ]
           ],
           "sequentialminus": [
            [
             0,
             "#0d0887"
            ],
            [
             0.1111111111111111,
             "#46039f"
            ],
            [
             0.2222222222222222,
             "#7201a8"
            ],
            [
             0.3333333333333333,
             "#9c179e"
            ],
            [
             0.4444444444444444,
             "#bd3786"
            ],
            [
             0.5555555555555556,
             "#d8576b"
            ],
            [
             0.6666666666666666,
             "#ed7953"
            ],
            [
             0.7777777777777778,
             "#fb9f3a"
            ],
            [
             0.8888888888888888,
             "#fdca26"
            ],
            [
             1,
             "#f0f921"
            ]
           ]
          },
          "colorway": [
           "#636efa",
           "#EF553B",
           "#00cc96",
           "#ab63fa",
           "#FFA15A",
           "#19d3f3",
           "#FF6692",
           "#B6E880",
           "#FF97FF",
           "#FECB52"
          ],
          "font": {
           "color": "#f2f5fa"
          },
          "geo": {
           "bgcolor": "rgb(17,17,17)",
           "lakecolor": "rgb(17,17,17)",
           "landcolor": "rgb(17,17,17)",
           "showlakes": true,
           "showland": true,
           "subunitcolor": "#506784"
          },
          "hoverlabel": {
           "align": "left"
          },
          "hovermode": "closest",
          "mapbox": {
           "style": "dark"
          },
          "paper_bgcolor": "rgb(17,17,17)",
          "plot_bgcolor": "rgb(17,17,17)",
          "polar": {
           "angularaxis": {
            "gridcolor": "#506784",
            "linecolor": "#506784",
            "ticks": ""
           },
           "bgcolor": "rgb(17,17,17)",
           "radialaxis": {
            "gridcolor": "#506784",
            "linecolor": "#506784",
            "ticks": ""
           }
          },
          "scene": {
           "xaxis": {
            "backgroundcolor": "rgb(17,17,17)",
            "gridcolor": "#506784",
            "gridwidth": 2,
            "linecolor": "#506784",
            "showbackground": true,
            "ticks": "",
            "zerolinecolor": "#C8D4E3"
           },
           "yaxis": {
            "backgroundcolor": "rgb(17,17,17)",
            "gridcolor": "#506784",
            "gridwidth": 2,
            "linecolor": "#506784",
            "showbackground": true,
            "ticks": "",
            "zerolinecolor": "#C8D4E3"
           },
           "zaxis": {
            "backgroundcolor": "rgb(17,17,17)",
            "gridcolor": "#506784",
            "gridwidth": 2,
            "linecolor": "#506784",
            "showbackground": true,
            "ticks": "",
            "zerolinecolor": "#C8D4E3"
           }
          },
          "shapedefaults": {
           "line": {
            "color": "#f2f5fa"
           }
          },
          "sliderdefaults": {
           "bgcolor": "#C8D4E3",
           "bordercolor": "rgb(17,17,17)",
           "borderwidth": 1,
           "tickwidth": 0
          },
          "ternary": {
           "aaxis": {
            "gridcolor": "#506784",
            "linecolor": "#506784",
            "ticks": ""
           },
           "baxis": {
            "gridcolor": "#506784",
            "linecolor": "#506784",
            "ticks": ""
           },
           "bgcolor": "rgb(17,17,17)",
           "caxis": {
            "gridcolor": "#506784",
            "linecolor": "#506784",
            "ticks": ""
           }
          },
          "title": {
           "x": 0.05
          },
          "updatemenudefaults": {
           "bgcolor": "#506784",
           "borderwidth": 0
          },
          "xaxis": {
           "automargin": true,
           "gridcolor": "#283442",
           "linecolor": "#506784",
           "ticks": "",
           "title": {
            "standoff": 15
           },
           "zerolinecolor": "#283442",
           "zerolinewidth": 2
          },
          "yaxis": {
           "automargin": true,
           "gridcolor": "#283442",
           "linecolor": "#506784",
           "ticks": "",
           "title": {
            "standoff": 15
           },
           "zerolinecolor": "#283442",
           "zerolinewidth": 2
          }
         }
        },
        "title": {
         "text": "Clusters of Circuits (K-Means Clustering Model)"
        },
        "xaxis": {
         "title": {
          "text": "PC1"
         }
        },
        "yaxis": {
         "title": {
          "text": "PC2"
         }
        }
       }
      }
     },
     "metadata": {},
     "output_type": "display_data"
    }
   ],
   "source": [
    "plot_cluster_scatter(pca_df, marker_size=15, *pca_df.columns.drop('cluster').to_list())"
   ]
  },
  {
   "cell_type": "markdown",
   "metadata": {},
   "source": [
    "In this chart, we can see how the clusters are grouped based on the principal components. This representation is more accurate than a simple scatter plot of two columns, but the principal components lose interpretability."
   ]
  },
  {
   "cell_type": "markdown",
   "metadata": {},
   "source": [
    "## 4.2 Agglomerative clustering"
   ]
  },
  {
   "cell_type": "markdown",
   "metadata": {},
   "source": [
    "Alternatively to K-Means, we can perform an agglomerative clustering.  \n",
    "\n",
    "### 4.2.1 Dendrograms\n",
    "\n",
    "We will start by displaying a dendrogram. To do this, we will use the same dataframe as in K-Means, but without the labels."
   ]
  },
  {
   "cell_type": "code",
   "execution_count": 75,
   "metadata": {},
   "outputs": [
    {
     "data": {
      "image/png": "[encoded data removed]",
      "text/plain": [
       "<Figure size 2000x800 with 4 Axes>"
      ]
     },
     "metadata": {},
     "output_type": "display_data"
    }
   ],
   "source": [
    "df_agg = df_kmeans.drop(columns='cluster').copy()\n",
    "\n",
    "plot_dendrogram(df_agg)"
   ]
  },
  {
   "cell_type": "markdown",
   "metadata": {},
   "source": [
    "The dendrograms do not seem to provide much information for clustering."
   ]
  },
  {
   "cell_type": "markdown",
   "metadata": {},
   "source": [
    "### 4.2.2 Agglomerative models and metrics\n",
    "\n",
    " Let's build an agglomerative clustering model, searching for the best model based on a combination of metrics: `silhouette_score`, `davies_bouldin_index`, and `balance_score`."
   ]
  },
  {
   "cell_type": "code",
   "execution_count": 93,
   "metadata": {},
   "outputs": [
    {
     "name": "stdout",
     "output_type": "stream",
     "text": [
      "Error with linkage=ward, metric=cosine: cosine was provided as metric. Ward can only work with euclidean distances.\n",
      "Error with linkage=ward, metric=cosine: cosine was provided as metric. Ward can only work with euclidean distances.\n",
      "Error with linkage=ward, metric=cosine: cosine was provided as metric. Ward can only work with euclidean distances.\n",
      "Error with linkage=ward, metric=cosine: cosine was provided as metric. Ward can only work with euclidean distances.\n",
      "Error with linkage=ward, metric=chebyshev: chebyshev was provided as metric. Ward can only work with euclidean distances.\n",
      "Error with linkage=ward, metric=chebyshev: chebyshev was provided as metric. Ward can only work with euclidean distances.\n",
      "Error with linkage=ward, metric=chebyshev: chebyshev was provided as metric. Ward can only work with euclidean distances.\n",
      "Error with linkage=ward, metric=chebyshev: chebyshev was provided as metric. Ward can only work with euclidean distances.\n"
     ]
    }
   ],
   "source": [
    "results_df = agglomerative_methods(df_agg)\n",
    "\n",
    "best_model = results_df.sort_values(by='ranking_score', ascending=False).iloc[0]"
   ]
  },
  {
   "cell_type": "code",
   "execution_count": 94,
   "metadata": {},
   "outputs": [
    {
     "data": {
      "text/plain": [
       "linkage                       complete\n",
       "metric                          cosine\n",
       "silhouette_score              0.839172\n",
       "davies_bouldin_index          0.521362\n",
       "cluster_cardinality     {0: 17, 1: 13}\n",
       "n_cluster                            2\n",
       "balance_score                 1.307692\n",
       "ranking_score                -0.989882\n",
       "Name: 4, dtype: object"
      ]
     },
     "execution_count": 94,
     "metadata": {},
     "output_type": "execute_result"
    }
   ],
   "source": [
    "best_model"
   ]
  },
  {
   "cell_type": "code",
   "execution_count": 86,
   "metadata": {},
   "outputs": [
    {
     "data": {
      "text/html": [
       "<div>\n",
       "<style scoped>\n",
       "    .dataframe tbody tr th:only-of-type {\n",
       "        vertical-align: middle;\n",
       "    }\n",
       "\n",
       "    .dataframe tbody tr th {\n",
       "        vertical-align: top;\n",
       "    }\n",
       "\n",
       "    .dataframe thead th {\n",
       "        text-align: right;\n",
       "    }\n",
       "</style>\n",
       "<table border=\"1\" class=\"dataframe\">\n",
       "  <thead>\n",
       "    <tr style=\"text-align: right;\">\n",
       "      <th></th>\n",
       "      <th>silhouette_score</th>\n",
       "      <th>davies_bouldin_index</th>\n",
       "      <th>cardinality</th>\n",
       "    </tr>\n",
       "  </thead>\n",
       "  <tbody>\n",
       "    <tr>\n",
       "      <th>0</th>\n",
       "      <td>0.645976</td>\n",
       "      <td>0.521362</td>\n",
       "      <td>17</td>\n",
       "    </tr>\n",
       "    <tr>\n",
       "      <th>1</th>\n",
       "      <td>0.645976</td>\n",
       "      <td>0.521362</td>\n",
       "      <td>13</td>\n",
       "    </tr>\n",
       "  </tbody>\n",
       "</table>\n",
       "</div>"
      ],
      "text/plain": [
       "   silhouette_score  davies_bouldin_index  cardinality\n",
       "0          0.645976              0.521362           17\n",
       "1          0.645976              0.521362           13"
      ]
     },
     "execution_count": 86,
     "metadata": {},
     "output_type": "execute_result"
    }
   ],
   "source": [
    "model = AgglomerativeClustering(\n",
    "    linkage=best_model['linkage'],\n",
    "    metric=best_model['metric'],\n",
    "    distance_threshold=None,\n",
    "    n_clusters=best_model['n_cluster']\n",
    ")\n",
    "\n",
    "agglo_fit = model.fit(df_agg)\n",
    "agglo_labels = agglo_fit.labels_\n",
    "\n",
    "clustering_metrics(df_agg, agglo_labels)"
   ]
  },
  {
   "cell_type": "markdown",
   "metadata": {},
   "source": [
    "The best model provides 2 clusters with cardinalities of 17 and 13. The `silhouette score` and `Davies-Bouldin index` metrics are quite good. Let's see how the clusters have been distributed."
   ]
  },
  {
   "cell_type": "markdown",
   "metadata": {},
   "source": [
    "### 4.2.3 Results"
   ]
  },
  {
   "cell_type": "code",
   "execution_count": 80,
   "metadata": {},
   "outputs": [
    {
     "data": {
      "text/plain": [
       "hockenheimring    0\n",
       "yas_marina        0\n",
       "vegas             0\n",
       "rodriguez         0\n",
       "americas          0\n",
       "marina_bay        0\n",
       "baku              0\n",
       "zandvoort         0\n",
       "hungaroring       0\n",
       "monaco            0\n",
       "miami             0\n",
       "interlagos        0\n",
       "suzuka            0\n",
       "nurburgring       0\n",
       "portimao          0\n",
       "sochi             0\n",
       "shanghai          0\n",
       "imola             1\n",
       "losail            1\n",
       "istanbul          1\n",
       "ricard            1\n",
       "monza             1\n",
       "jeddah            1\n",
       "albert_park       1\n",
       "silverstone       1\n",
       "red_bull_ring     1\n",
       "catalunya         1\n",
       "spa               1\n",
       "bahrain           1\n",
       "villeneuve        1\n",
       "Name: cluster, dtype: int64"
      ]
     },
     "execution_count": 80,
     "metadata": {},
     "output_type": "execute_result"
    }
   ],
   "source": [
    "df_agg['cluster'] = agglo_labels\n",
    "\n",
    "df_agg.sort_values(by='cluster')['cluster']"
   ]
  },
  {
   "cell_type": "code",
   "execution_count": 89,
   "metadata": {},
   "outputs": [
    {
     "data": {
      "application/vnd.plotly.v1+json": {
       "config": {
        "plotlyServerURL": "https://plot.ly"
       },
       "data": [
        {
         "fill": "toself",
         "name": "Cluster 0",
         "opacity": 0.8,
         "r": [
          0.49668084156921954,
          0.4508422914612715,
          0.6197237886382624,
          0.49668084156921954
         ],
         "theta": [
          "avg_speedavg_speed",
          "straight_propavg_speed",
          "slow_corners_propavg_speed"
         ],
         "type": "scatterpolar"
        },
        {
         "fill": "toself",
         "name": "Cluster 1",
         "opacity": 0.8,
         "r": [
          0.7384684573389872,
          0.6596388468517248,
          0.28394997120326065,
          0.7384684573389872
         ],
         "theta": [
          "avg_speedavg_speed",
          "straight_propavg_speed",
          "slow_corners_propavg_speed"
         ],
         "type": "scatterpolar"
        }
       ],
       "layout": {
        "height": 800,
        "polar": {
         "radialaxis": {
          "visible": true
         }
        },
        "template": {
         "data": {
          "bar": [
           {
            "error_x": {
             "color": "#f2f5fa"
            },
            "error_y": {
             "color": "#f2f5fa"
            },
            "marker": {
             "line": {
              "color": "rgb(17,17,17)",
              "width": 0.5
             },
             "pattern": {
              "fillmode": "overlay",
              "size": 10,
              "solidity": 0.2
             }
            },
            "type": "bar"
           }
          ],
          "barpolar": [
           {
            "marker": {
             "line": {
              "color": "rgb(17,17,17)",
              "width": 0.5
             },
             "pattern": {
              "fillmode": "overlay",
              "size": 10,
              "solidity": 0.2
             }
            },
            "type": "barpolar"
           }
          ],
          "carpet": [
           {
            "aaxis": {
             "endlinecolor": "#A2B1C6",
             "gridcolor": "#506784",
             "linecolor": "#506784",
             "minorgridcolor": "#506784",
             "startlinecolor": "#A2B1C6"
            },
            "baxis": {
             "endlinecolor": "#A2B1C6",
             "gridcolor": "#506784",
             "linecolor": "#506784",
             "minorgridcolor": "#506784",
             "startlinecolor": "#A2B1C6"
            },
            "type": "carpet"
           }
          ],
          "choropleth": [
           {
            "colorbar": {
             "outlinewidth": 0,
             "ticks": ""
            },
            "type": "choropleth"
           }
          ],
          "contour": [
           {
            "colorbar": {
             "outlinewidth": 0,
             "ticks": ""
            },
            "colorscale": [
             [
              0,
              "#0d0887"
             ],
             [
              0.1111111111111111,
              "#46039f"
             ],
             [
              0.2222222222222222,
              "#7201a8"
             ],
             [
              0.3333333333333333,
              "#9c179e"
             ],
             [
              0.4444444444444444,
              "#bd3786"
             ],
             [
              0.5555555555555556,
              "#d8576b"
             ],
             [
              0.6666666666666666,
              "#ed7953"
             ],
             [
              0.7777777777777778,
              "#fb9f3a"
             ],
             [
              0.8888888888888888,
              "#fdca26"
             ],
             [
              1,
              "#f0f921"
             ]
            ],
            "type": "contour"
           }
          ],
          "contourcarpet": [
           {
            "colorbar": {
             "outlinewidth": 0,
             "ticks": ""
            },
            "type": "contourcarpet"
           }
          ],
          "heatmap": [
           {
            "colorbar": {
             "outlinewidth": 0,
             "ticks": ""
            },
            "colorscale": [
             [
              0,
              "#0d0887"
             ],
             [
              0.1111111111111111,
              "#46039f"
             ],
             [
              0.2222222222222222,
              "#7201a8"
             ],
             [
              0.3333333333333333,
              "#9c179e"
             ],
             [
              0.4444444444444444,
              "#bd3786"
             ],
             [
              0.5555555555555556,
              "#d8576b"
             ],
             [
              0.6666666666666666,
              "#ed7953"
             ],
             [
              0.7777777777777778,
              "#fb9f3a"
             ],
             [
              0.8888888888888888,
              "#fdca26"
             ],
             [
              1,
              "#f0f921"
             ]
            ],
            "type": "heatmap"
           }
          ],
          "heatmapgl": [
           {
            "colorbar": {
             "outlinewidth": 0,
             "ticks": ""
            },
            "colorscale": [
             [
              0,
              "#0d0887"
             ],
             [
              0.1111111111111111,
              "#46039f"
             ],
             [
              0.2222222222222222,
              "#7201a8"
             ],
             [
              0.3333333333333333,
              "#9c179e"
             ],
             [
              0.4444444444444444,
              "#bd3786"
             ],
             [
              0.5555555555555556,
              "#d8576b"
             ],
             [
              0.6666666666666666,
              "#ed7953"
             ],
             [
              0.7777777777777778,
              "#fb9f3a"
             ],
             [
              0.8888888888888888,
              "#fdca26"
             ],
             [
              1,
              "#f0f921"
             ]
            ],
            "type": "heatmapgl"
           }
          ],
          "histogram": [
           {
            "marker": {
             "pattern": {
              "fillmode": "overlay",
              "size": 10,
              "solidity": 0.2
             }
            },
            "type": "histogram"
           }
          ],
          "histogram2d": [
           {
            "colorbar": {
             "outlinewidth": 0,
             "ticks": ""
            },
            "colorscale": [
             [
              0,
              "#0d0887"
             ],
             [
              0.1111111111111111,
              "#46039f"
             ],
             [
              0.2222222222222222,
              "#7201a8"
             ],
             [
              0.3333333333333333,
              "#9c179e"
             ],
             [
              0.4444444444444444,
              "#bd3786"
             ],
             [
              0.5555555555555556,
              "#d8576b"
             ],
             [
              0.6666666666666666,
              "#ed7953"
             ],
             [
              0.7777777777777778,
              "#fb9f3a"
             ],
             [
              0.8888888888888888,
              "#fdca26"
             ],
             [
              1,
              "#f0f921"
             ]
            ],
            "type": "histogram2d"
           }
          ],
          "histogram2dcontour": [
           {
            "colorbar": {
             "outlinewidth": 0,
             "ticks": ""
            },
            "colorscale": [
             [
              0,
              "#0d0887"
             ],
             [
              0.1111111111111111,
              "#46039f"
             ],
             [
              0.2222222222222222,
              "#7201a8"
             ],
             [
              0.3333333333333333,
              "#9c179e"
             ],
             [
              0.4444444444444444,
              "#bd3786"
             ],
             [
              0.5555555555555556,
              "#d8576b"
             ],
             [
              0.6666666666666666,
              "#ed7953"
             ],
             [
              0.7777777777777778,
              "#fb9f3a"
             ],
             [
              0.8888888888888888,
              "#fdca26"
             ],
             [
              1,
              "#f0f921"
             ]
            ],
            "type": "histogram2dcontour"
           }
          ],
          "mesh3d": [
           {
            "colorbar": {
             "outlinewidth": 0,
             "ticks": ""
            },
            "type": "mesh3d"
           }
          ],
          "parcoords": [
           {
            "line": {
             "colorbar": {
              "outlinewidth": 0,
              "ticks": ""
             }
            },
            "type": "parcoords"
           }
          ],
          "pie": [
           {
            "automargin": true,
            "type": "pie"
           }
          ],
          "scatter": [
           {
            "marker": {
             "line": {
              "color": "#283442"
             }
            },
            "type": "scatter"
           }
          ],
          "scatter3d": [
           {
            "line": {
             "colorbar": {
              "outlinewidth": 0,
              "ticks": ""
             }
            },
            "marker": {
             "colorbar": {
              "outlinewidth": 0,
              "ticks": ""
             }
            },
            "type": "scatter3d"
           }
          ],
          "scattercarpet": [
           {
            "marker": {
             "colorbar": {
              "outlinewidth": 0,
              "ticks": ""
             }
            },
            "type": "scattercarpet"
           }
          ],
          "scattergeo": [
           {
            "marker": {
             "colorbar": {
              "outlinewidth": 0,
              "ticks": ""
             }
            },
            "type": "scattergeo"
           }
          ],
          "scattergl": [
           {
            "marker": {
             "line": {
              "color": "#283442"
             }
            },
            "type": "scattergl"
           }
          ],
          "scattermapbox": [
           {
            "marker": {
             "colorbar": {
              "outlinewidth": 0,
              "ticks": ""
             }
            },
            "type": "scattermapbox"
           }
          ],
          "scatterpolar": [
           {
            "marker": {
             "colorbar": {
              "outlinewidth": 0,
              "ticks": ""
             }
            },
            "type": "scatterpolar"
           }
          ],
          "scatterpolargl": [
           {
            "marker": {
             "colorbar": {
              "outlinewidth": 0,
              "ticks": ""
             }
            },
            "type": "scatterpolargl"
           }
          ],
          "scatterternary": [
           {
            "marker": {
             "colorbar": {
              "outlinewidth": 0,
              "ticks": ""
             }
            },
            "type": "scatterternary"
           }
          ],
          "surface": [
           {
            "colorbar": {
             "outlinewidth": 0,
             "ticks": ""
            },
            "colorscale": [
             [
              0,
              "#0d0887"
             ],
             [
              0.1111111111111111,
              "#46039f"
             ],
             [
              0.2222222222222222,
              "#7201a8"
             ],
             [
              0.3333333333333333,
              "#9c179e"
             ],
             [
              0.4444444444444444,
              "#bd3786"
             ],
             [
              0.5555555555555556,
              "#d8576b"
             ],
             [
              0.6666666666666666,
              "#ed7953"
             ],
             [
              0.7777777777777778,
              "#fb9f3a"
             ],
             [
              0.8888888888888888,
              "#fdca26"
             ],
             [
              1,
              "#f0f921"
             ]
            ],
            "type": "surface"
           }
          ],
          "table": [
           {
            "cells": {
             "fill": {
              "color": "#506784"
             },
             "line": {
              "color": "rgb(17,17,17)"
             }
            },
            "header": {
             "fill": {
              "color": "#2a3f5f"
             },
             "line": {
              "color": "rgb(17,17,17)"
             }
            },
            "type": "table"
           }
          ]
         },
         "layout": {
          "annotationdefaults": {
           "arrowcolor": "#f2f5fa",
           "arrowhead": 0,
           "arrowwidth": 1
          },
          "autotypenumbers": "strict",
          "coloraxis": {
           "colorbar": {
            "outlinewidth": 0,
            "ticks": ""
           }
          },
          "colorscale": {
           "diverging": [
            [
             0,
             "#8e0152"
            ],
            [
             0.1,
             "#c51b7d"
            ],
            [
             0.2,
             "#de77ae"
            ],
            [
             0.3,
             "#f1b6da"
            ],
            [
             0.4,
             "#fde0ef"
            ],
            [
             0.5,
             "#f7f7f7"
            ],
            [
             0.6,
             "#e6f5d0"
            ],
            [
             0.7,
             "#b8e186"
            ],
            [
             0.8,
             "#7fbc41"
            ],
            [
             0.9,
             "#4d9221"
            ],
            [
             1,
             "#276419"
            ]
           ],
           "sequential": [
            [
             0,
             "#0d0887"
            ],
            [
             0.1111111111111111,
             "#46039f"
            ],
            [
             0.2222222222222222,
             "#7201a8"
            ],
            [
             0.3333333333333333,
             "#9c179e"
            ],
            [
             0.4444444444444444,
             "#bd3786"
            ],
            [
             0.5555555555555556,
             "#d8576b"
            ],
            [
             0.6666666666666666,
             "#ed7953"
            ],
            [
             0.7777777777777778,
             "#fb9f3a"
            ],
            [
             0.8888888888888888,
             "#fdca26"
            ],
            [
             1,
             "#f0f921"
            ]
           ],
           "sequentialminus": [
            [
             0,
             "#0d0887"
            ],
            [
             0.1111111111111111,
             "#46039f"
            ],
            [
             0.2222222222222222,
             "#7201a8"
            ],
            [
             0.3333333333333333,
             "#9c179e"
            ],
            [
             0.4444444444444444,
             "#bd3786"
            ],
            [
             0.5555555555555556,
             "#d8576b"
            ],
            [
             0.6666666666666666,
             "#ed7953"
            ],
            [
             0.7777777777777778,
             "#fb9f3a"
            ],
            [
             0.8888888888888888,
             "#fdca26"
            ],
            [
             1,
             "#f0f921"
            ]
           ]
          },
          "colorway": [
           "#636efa",
           "#EF553B",
           "#00cc96",
           "#ab63fa",
           "#FFA15A",
           "#19d3f3",
           "#FF6692",
           "#B6E880",
           "#FF97FF",
           "#FECB52"
          ],
          "font": {
           "color": "#f2f5fa"
          },
          "geo": {
           "bgcolor": "rgb(17,17,17)",
           "lakecolor": "rgb(17,17,17)",
           "landcolor": "rgb(17,17,17)",
           "showlakes": true,
           "showland": true,
           "subunitcolor": "#506784"
          },
          "hoverlabel": {
           "align": "left"
          },
          "hovermode": "closest",
          "mapbox": {
           "style": "dark"
          },
          "paper_bgcolor": "rgb(17,17,17)",
          "plot_bgcolor": "rgb(17,17,17)",
          "polar": {
           "angularaxis": {
            "gridcolor": "#506784",
            "linecolor": "#506784",
            "ticks": ""
           },
           "bgcolor": "rgb(17,17,17)",
           "radialaxis": {
            "gridcolor": "#506784",
            "linecolor": "#506784",
            "ticks": ""
           }
          },
          "scene": {
           "xaxis": {
            "backgroundcolor": "rgb(17,17,17)",
            "gridcolor": "#506784",
            "gridwidth": 2,
            "linecolor": "#506784",
            "showbackground": true,
            "ticks": "",
            "zerolinecolor": "#C8D4E3"
           },
           "yaxis": {
            "backgroundcolor": "rgb(17,17,17)",
            "gridcolor": "#506784",
            "gridwidth": 2,
            "linecolor": "#506784",
            "showbackground": true,
            "ticks": "",
            "zerolinecolor": "#C8D4E3"
           },
           "zaxis": {
            "backgroundcolor": "rgb(17,17,17)",
            "gridcolor": "#506784",
            "gridwidth": 2,
            "linecolor": "#506784",
            "showbackground": true,
            "ticks": "",
            "zerolinecolor": "#C8D4E3"
           }
          },
          "shapedefaults": {
           "line": {
            "color": "#f2f5fa"
           }
          },
          "sliderdefaults": {
           "bgcolor": "#C8D4E3",
           "bordercolor": "rgb(17,17,17)",
           "borderwidth": 1,
           "tickwidth": 0
          },
          "ternary": {
           "aaxis": {
            "gridcolor": "#506784",
            "linecolor": "#506784",
            "ticks": ""
           },
           "baxis": {
            "gridcolor": "#506784",
            "linecolor": "#506784",
            "ticks": ""
           },
           "bgcolor": "rgb(17,17,17)",
           "caxis": {
            "gridcolor": "#506784",
            "linecolor": "#506784",
            "ticks": ""
           }
          },
          "title": {
           "x": 0.05
          },
          "updatemenudefaults": {
           "bgcolor": "#506784",
           "borderwidth": 0
          },
          "xaxis": {
           "automargin": true,
           "gridcolor": "#283442",
           "linecolor": "#506784",
           "ticks": "",
           "title": {
            "standoff": 15
           },
           "zerolinecolor": "#283442",
           "zerolinewidth": 2
          },
          "yaxis": {
           "automargin": true,
           "gridcolor": "#283442",
           "linecolor": "#506784",
           "ticks": "",
           "title": {
            "standoff": 15
           },
           "zerolinecolor": "#283442",
           "zerolinewidth": 2
          }
         }
        },
        "title": {
         "text": "Cluster radar chart"
        }
       }
      }
     },
     "metadata": {},
     "output_type": "display_data"
    }
   ],
   "source": [
    "plot_radar(df_agg, columns = df_agg.drop(columns='cluster').columns, opacity=0.8)"
   ]
  },
  {
   "cell_type": "markdown",
   "metadata": {},
   "source": [
    "In this case, it seems clear that the clustering separates the circuits into one group with many slow corners, few straights, and moderate speed, and another group with fewer slow corners, many straights, and higher speed. In other words, into fast and slow circuits."
   ]
  },
  {
   "cell_type": "markdown",
   "metadata": {},
   "source": [
    "## 4.3 DBSCAN Clustering"
   ]
  },
  {
   "cell_type": "markdown",
   "metadata": {},
   "source": [
    "We can also try DBSCAN clustering. To do this, we need to find the appropriate values for epsilon and min_samples. Let's run some tests."
   ]
  },
  {
   "cell_type": "markdown",
   "metadata": {},
   "source": [
    "Let's test with the entire scaled dataset, without removing any columns."
   ]
  },
  {
   "cell_type": "code",
   "execution_count": 73,
   "metadata": {},
   "outputs": [
    {
     "data": {
      "text/html": [
       "<div>\n",
       "<style scoped>\n",
       "    .dataframe tbody tr th:only-of-type {\n",
       "        vertical-align: middle;\n",
       "    }\n",
       "\n",
       "    .dataframe tbody tr th {\n",
       "        vertical-align: top;\n",
       "    }\n",
       "\n",
       "    .dataframe thead th {\n",
       "        text-align: right;\n",
       "    }\n",
       "</style>\n",
       "<table border=\"1\" class=\"dataframe\">\n",
       "  <thead>\n",
       "    <tr style=\"text-align: right;\">\n",
       "      <th></th>\n",
       "      <th>eps</th>\n",
       "      <th>min_samples</th>\n",
       "      <th>silhouette_score</th>\n",
       "      <th>davies_bouldin_score</th>\n",
       "      <th>cardinality</th>\n",
       "    </tr>\n",
       "  </thead>\n",
       "  <tbody>\n",
       "    <tr>\n",
       "      <th>12</th>\n",
       "      <td>0.9</td>\n",
       "      <td>1</td>\n",
       "      <td>0.412087</td>\n",
       "      <td>0.406533</td>\n",
       "      <td>{0: 29, 1: 1}</td>\n",
       "    </tr>\n",
       "    <tr>\n",
       "      <th>14</th>\n",
       "      <td>0.9</td>\n",
       "      <td>3</td>\n",
       "      <td>0.412087</td>\n",
       "      <td>0.406533</td>\n",
       "      <td>{-1: 1, 0: 29}</td>\n",
       "    </tr>\n",
       "    <tr>\n",
       "      <th>13</th>\n",
       "      <td>0.9</td>\n",
       "      <td>2</td>\n",
       "      <td>0.412087</td>\n",
       "      <td>0.406533</td>\n",
       "      <td>{-1: 1, 0: 29}</td>\n",
       "    </tr>\n",
       "    <tr>\n",
       "      <th>10</th>\n",
       "      <td>0.7</td>\n",
       "      <td>2</td>\n",
       "      <td>0.292304</td>\n",
       "      <td>1.262394</td>\n",
       "      <td>{-1: 3, 0: 27}</td>\n",
       "    </tr>\n",
       "    <tr>\n",
       "      <th>11</th>\n",
       "      <td>0.7</td>\n",
       "      <td>3</td>\n",
       "      <td>0.292304</td>\n",
       "      <td>1.262394</td>\n",
       "      <td>{-1: 3, 0: 27}</td>\n",
       "    </tr>\n",
       "  </tbody>\n",
       "</table>\n",
       "</div>"
      ],
      "text/plain": [
       "    eps  min_samples  silhouette_score  davies_bouldin_score     cardinality\n",
       "12  0.9            1          0.412087              0.406533   {0: 29, 1: 1}\n",
       "14  0.9            3          0.412087              0.406533  {-1: 1, 0: 29}\n",
       "13  0.9            2          0.412087              0.406533  {-1: 1, 0: 29}\n",
       "10  0.7            2          0.292304              1.262394  {-1: 3, 0: 27}\n",
       "11  0.7            3          0.292304              1.262394  {-1: 3, 0: 27}"
      ]
     },
     "execution_count": 73,
     "metadata": {},
     "output_type": "execute_result"
    }
   ],
   "source": [
    "dbscan_methods(df_scaled, eps_values=[i/10 for i in range(1,20, 2)], min_samples_values=[1, 2, 3]).head()"
   ]
  },
  {
   "cell_type": "markdown",
   "metadata": {},
   "source": [
    "In this case, the dimensionality might be too high for the distance calculations to yield meaningful results. Let's try using the dataset with the selected columns."
   ]
  },
  {
   "cell_type": "code",
   "execution_count": 97,
   "metadata": {},
   "outputs": [
    {
     "data": {
      "text/html": [
       "<div>\n",
       "<style scoped>\n",
       "    .dataframe tbody tr th:only-of-type {\n",
       "        vertical-align: middle;\n",
       "    }\n",
       "\n",
       "    .dataframe tbody tr th {\n",
       "        vertical-align: top;\n",
       "    }\n",
       "\n",
       "    .dataframe thead th {\n",
       "        text-align: right;\n",
       "    }\n",
       "</style>\n",
       "<table border=\"1\" class=\"dataframe\">\n",
       "  <thead>\n",
       "    <tr style=\"text-align: right;\">\n",
       "      <th></th>\n",
       "      <th>eps</th>\n",
       "      <th>min_samples</th>\n",
       "      <th>silhouette_score</th>\n",
       "      <th>davies_bouldin_score</th>\n",
       "      <th>cardinality</th>\n",
       "    </tr>\n",
       "  </thead>\n",
       "  <tbody>\n",
       "    <tr>\n",
       "      <th>6</th>\n",
       "      <td>0.5</td>\n",
       "      <td>1</td>\n",
       "      <td>0.462966</td>\n",
       "      <td>0.355685</td>\n",
       "      <td>{0: 29, 1: 1}</td>\n",
       "    </tr>\n",
       "    <tr>\n",
       "      <th>7</th>\n",
       "      <td>0.5</td>\n",
       "      <td>2</td>\n",
       "      <td>0.462966</td>\n",
       "      <td>0.355685</td>\n",
       "      <td>{-1: 1, 0: 29}</td>\n",
       "    </tr>\n",
       "    <tr>\n",
       "      <th>8</th>\n",
       "      <td>0.5</td>\n",
       "      <td>3</td>\n",
       "      <td>0.462966</td>\n",
       "      <td>0.355685</td>\n",
       "      <td>{-1: 1, 0: 29}</td>\n",
       "    </tr>\n",
       "    <tr>\n",
       "      <th>4</th>\n",
       "      <td>0.3</td>\n",
       "      <td>2</td>\n",
       "      <td>0.373292</td>\n",
       "      <td>5.051440</td>\n",
       "      <td>{-1: 2, 0: 28}</td>\n",
       "    </tr>\n",
       "    <tr>\n",
       "      <th>5</th>\n",
       "      <td>0.3</td>\n",
       "      <td>3</td>\n",
       "      <td>0.373292</td>\n",
       "      <td>5.051440</td>\n",
       "      <td>{-1: 2, 0: 28}</td>\n",
       "    </tr>\n",
       "  </tbody>\n",
       "</table>\n",
       "</div>"
      ],
      "text/plain": [
       "   eps  min_samples  silhouette_score  davies_bouldin_score     cardinality\n",
       "6  0.5            1          0.462966              0.355685   {0: 29, 1: 1}\n",
       "7  0.5            2          0.462966              0.355685  {-1: 1, 0: 29}\n",
       "8  0.5            3          0.462966              0.355685  {-1: 1, 0: 29}\n",
       "4  0.3            2          0.373292              5.051440  {-1: 2, 0: 28}\n",
       "5  0.3            3          0.373292              5.051440  {-1: 2, 0: 28}"
      ]
     },
     "execution_count": 97,
     "metadata": {},
     "output_type": "execute_result"
    }
   ],
   "source": [
    "dbscan_methods(df_kmeans.drop(columns='cluster'), eps_values=[i/10 for i in range(1,20, 2)], min_samples_values=[1, 2, 3]).head()"
   ]
  },
  {
   "cell_type": "markdown",
   "metadata": {},
   "source": [
    "As we can see, we do not obtain clusters with good cardinality, as two clusters are generated: one with 29 elements and another with just 1 element. This isolated element is likely the `Monaco` circuit, as it has a significant difference compared to the rest, and the DBSCAN method isolates it.\n",
    "\n",
    "We can experiment with smaller epsilon values to further segment the larger cluster."
   ]
  },
  {
   "cell_type": "code",
   "execution_count": 109,
   "metadata": {},
   "outputs": [
    {
     "data": {
      "text/html": [
       "<div>\n",
       "<style scoped>\n",
       "    .dataframe tbody tr th:only-of-type {\n",
       "        vertical-align: middle;\n",
       "    }\n",
       "\n",
       "    .dataframe tbody tr th {\n",
       "        vertical-align: top;\n",
       "    }\n",
       "\n",
       "    .dataframe thead th {\n",
       "        text-align: right;\n",
       "    }\n",
       "</style>\n",
       "<table border=\"1\" class=\"dataframe\">\n",
       "  <thead>\n",
       "    <tr style=\"text-align: right;\">\n",
       "      <th></th>\n",
       "      <th>eps</th>\n",
       "      <th>min_samples</th>\n",
       "      <th>silhouette_score</th>\n",
       "      <th>davies_bouldin_score</th>\n",
       "      <th>cardinality</th>\n",
       "    </tr>\n",
       "  </thead>\n",
       "  <tbody>\n",
       "    <tr>\n",
       "      <th>18</th>\n",
       "      <td>0.173333</td>\n",
       "      <td>1</td>\n",
       "      <td>0.267452</td>\n",
       "      <td>0.450893</td>\n",
       "      <td>{0: 4, 1: 5, 2: 2, 3: 8, 4: 3, 5: 1, 6: 1, 7: 1, 8: 1, 9: 1, 10: 1, 11: 1, 12: 1}</td>\n",
       "    </tr>\n",
       "    <tr>\n",
       "      <th>15</th>\n",
       "      <td>0.146667</td>\n",
       "      <td>1</td>\n",
       "      <td>0.232835</td>\n",
       "      <td>0.402847</td>\n",
       "      <td>{0: 4, 1: 4, 2: 2, 3: 5, 4: 2, 5: 3, 6: 1, 7: 1, 8: 1, 9: 1, 10: 1, 11: 1, 12: 1, 13: 1, 14: 1, 15: 1}</td>\n",
       "    </tr>\n",
       "    <tr>\n",
       "      <th>12</th>\n",
       "      <td>0.120000</td>\n",
       "      <td>1</td>\n",
       "      <td>0.207471</td>\n",
       "      <td>0.283988</td>\n",
       "      <td>{0: 2, 1: 4, 2: 2, 3: 2, 4: 1, 5: 1, 6: 1, 7: 1, 8: 2, 9: 1, 10: 1, 11: 1, 12: 2, 13: 1, 14: 1, 15: 1, 16: 1, 17: 1, 18: 1, 19: 1, 20: 1, 21: 1}</td>\n",
       "    </tr>\n",
       "    <tr>\n",
       "      <th>19</th>\n",
       "      <td>0.173333</td>\n",
       "      <td>2</td>\n",
       "      <td>0.197828</td>\n",
       "      <td>2.312221</td>\n",
       "      <td>{-1: 8, 0: 4, 1: 5, 2: 2, 3: 8, 4: 3}</td>\n",
       "    </tr>\n",
       "    <tr>\n",
       "      <th>9</th>\n",
       "      <td>0.093333</td>\n",
       "      <td>1</td>\n",
       "      <td>0.183383</td>\n",
       "      <td>0.228536</td>\n",
       "      <td>{0: 1, 1: 3, 2: 2, 3: 2, 4: 1, 5: 1, 6: 1, 7: 1, 8: 1, 9: 1, 10: 2, 11: 1, 12: 1, 13: 1, 14: 2, 15: 1, 16: 1, 17: 1, 18: 1, 19: 1, 20: 1, 21: 1, 22: 1, 23: 1}</td>\n",
       "    </tr>\n",
       "  </tbody>\n",
       "</table>\n",
       "</div>"
      ],
      "text/plain": [
       "         eps  min_samples  silhouette_score  davies_bouldin_score  \\\n",
       "18  0.173333            1          0.267452              0.450893   \n",
       "15  0.146667            1          0.232835              0.402847   \n",
       "12  0.120000            1          0.207471              0.283988   \n",
       "19  0.173333            2          0.197828              2.312221   \n",
       "9   0.093333            1          0.183383              0.228536   \n",
       "\n",
       "                                                                                                                                                       cardinality  \n",
       "18                                                                               {0: 4, 1: 5, 2: 2, 3: 8, 4: 3, 5: 1, 6: 1, 7: 1, 8: 1, 9: 1, 10: 1, 11: 1, 12: 1}  \n",
       "15                                                          {0: 4, 1: 4, 2: 2, 3: 5, 4: 2, 5: 3, 6: 1, 7: 1, 8: 1, 9: 1, 10: 1, 11: 1, 12: 1, 13: 1, 14: 1, 15: 1}  \n",
       "12                {0: 2, 1: 4, 2: 2, 3: 2, 4: 1, 5: 1, 6: 1, 7: 1, 8: 2, 9: 1, 10: 1, 11: 1, 12: 2, 13: 1, 14: 1, 15: 1, 16: 1, 17: 1, 18: 1, 19: 1, 20: 1, 21: 1}  \n",
       "19                                                                                                                           {-1: 8, 0: 4, 1: 5, 2: 2, 3: 8, 4: 3}  \n",
       "9   {0: 1, 1: 3, 2: 2, 3: 2, 4: 1, 5: 1, 6: 1, 7: 1, 8: 1, 9: 1, 10: 2, 11: 1, 12: 1, 13: 1, 14: 2, 15: 1, 16: 1, 17: 1, 18: 1, 19: 1, 20: 1, 21: 1, 22: 1, 23: 1}  "
      ]
     },
     "execution_count": 109,
     "metadata": {},
     "output_type": "execute_result"
    }
   ],
   "source": [
    "dbscan_methods(df_kmeans.drop(columns='cluster'), eps_values=[i/75 for i in range(1,20, 2)], min_samples_values=[1, 2, 3]).head()"
   ]
  },
  {
   "cell_type": "markdown",
   "metadata": {},
   "source": [
    "However, we quickly reach a point where the clusters become too fragmented or we simply do not obtain good metrics."
   ]
  }
 ],
 "metadata": {
  "kernelspec": {
   "display_name": "FinalProject",
   "language": "python",
   "name": "python3"
  },
  "language_info": {
   "codemirror_mode": {
    "name": "ipython",
    "version": 3
   },
   "file_extension": ".py",
   "mimetype": "text/x-python",
   "name": "python",
   "nbconvert_exporter": "python",
   "pygments_lexer": "ipython3",
   "version": "3.12.8"
  }
 },
 "nbformat": 4,
 "nbformat_minor": 2
}
