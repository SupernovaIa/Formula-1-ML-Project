{
 "cells": [
  {
   "cell_type": "markdown",
   "metadata": {},
   "source": [
    "# 1. Importing libraries"
   ]
  },
  {
   "cell_type": "code",
   "execution_count": 1,
   "metadata": {},
   "outputs": [],
   "source": [
    "# Data processing  \n",
    "# -----------------------------------------------------------------------\n",
    "import pandas as pd\n",
    "import numpy as np\n",
    "\n",
    "# Pandas options  \n",
    "# -----------------------------------------------------------------------\n",
    "pd.options.display.max_colwidth = None\n",
    "\n",
    "# Path configuration for custom module imports\n",
    "# -----------------------------------------------------------------------\n",
    "import sys\n",
    "sys.path.append('../')\n",
    "\n",
    "# Ignore warnings  \n",
    "# -----------------------------------------------------------------------\n",
    "import warnings\n",
    "warnings.filterwarnings(\"ignore\")\n",
    "\n",
    "# Clusters and metrics\n",
    "# -----------------------------------------------------------------------\n",
    "from yellowbrick.cluster import KElbowVisualizer\n",
    "\n",
    "# Clustering models\n",
    "# -----------------------------------------------------------------------\n",
    "from sklearn.cluster import KMeans\n",
    "from sklearn.cluster import AgglomerativeClustering\n",
    "from sklearn.cluster import DBSCAN\n",
    "\n",
    "# Custom functions and classes\n",
    "# -----------------------------------------------------------------------\n",
    "from src.preprocess import preprocess\n",
    "from src.eda import plot_relation_tv\n",
    "from src.circuit_clustering_model.clustering import *\n"
   ]
  },
  {
   "cell_type": "markdown",
   "metadata": {},
   "source": [
    "# 2. Data loading"
   ]
  },
  {
   "cell_type": "markdown",
   "metadata": {},
   "source": [
    "We loaded the original circuits dataset and the dataset with feature engineering. Both datasets are clean and free of duplicates."
   ]
  },
  {
   "cell_type": "code",
   "execution_count": 2,
   "metadata": {},
   "outputs": [
    {
     "data": {
      "text/html": [
       "<div>\n",
       "<style scoped>\n",
       "    .dataframe tbody tr th:only-of-type {\n",
       "        vertical-align: middle;\n",
       "    }\n",
       "\n",
       "    .dataframe tbody tr th {\n",
       "        vertical-align: top;\n",
       "    }\n",
       "\n",
       "    .dataframe thead th {\n",
       "        text-align: right;\n",
       "    }\n",
       "</style>\n",
       "<table border=\"1\" class=\"dataframe\">\n",
       "  <thead>\n",
       "    <tr style=\"text-align: right;\">\n",
       "      <th></th>\n",
       "      <th>laptime</th>\n",
       "      <th>max_speed</th>\n",
       "      <th>distance</th>\n",
       "      <th>n_corners</th>\n",
       "      <th>avg_corner_speed</th>\n",
       "      <th>avg_speed</th>\n",
       "      <th>straight_length</th>\n",
       "      <th>gear_changes</th>\n",
       "      <th>n_slow_corners</th>\n",
       "      <th>n_medium_corners</th>\n",
       "      <th>n_fast_corners</th>\n",
       "      <th>n_gear1_corners</th>\n",
       "      <th>n_gear2_corners</th>\n",
       "      <th>n_gear3_corners</th>\n",
       "      <th>n_gear4_corners</th>\n",
       "      <th>n_gear5_corners</th>\n",
       "      <th>n_gear6_corners</th>\n",
       "      <th>n_gear7_corners</th>\n",
       "      <th>n_gear8_corners</th>\n",
       "    </tr>\n",
       "  </thead>\n",
       "  <tbody>\n",
       "    <tr>\n",
       "      <th>hockenheimring</th>\n",
       "      <td>71.767</td>\n",
       "      <td>320.0</td>\n",
       "      <td>4568.748333</td>\n",
       "      <td>17</td>\n",
       "      <td>209.960540</td>\n",
       "      <td>229.888136</td>\n",
       "      <td>1663.919441</td>\n",
       "      <td>40.0</td>\n",
       "      <td>3</td>\n",
       "      <td>9</td>\n",
       "      <td>5</td>\n",
       "      <td>0</td>\n",
       "      <td>1</td>\n",
       "      <td>3</td>\n",
       "      <td>1</td>\n",
       "      <td>3</td>\n",
       "      <td>5</td>\n",
       "      <td>3</td>\n",
       "      <td>1</td>\n",
       "    </tr>\n",
       "    <tr>\n",
       "      <th>nurburgring</th>\n",
       "      <td>85.269</td>\n",
       "      <td>318.0</td>\n",
       "      <td>5112.340000</td>\n",
       "      <td>15</td>\n",
       "      <td>173.563856</td>\n",
       "      <td>216.201705</td>\n",
       "      <td>2043.790918</td>\n",
       "      <td>50.0</td>\n",
       "      <td>5</td>\n",
       "      <td>7</td>\n",
       "      <td>3</td>\n",
       "      <td>0</td>\n",
       "      <td>0</td>\n",
       "      <td>4</td>\n",
       "      <td>3</td>\n",
       "      <td>3</td>\n",
       "      <td>1</td>\n",
       "      <td>2</td>\n",
       "      <td>1</td>\n",
       "    </tr>\n",
       "    <tr>\n",
       "      <th>portimao</th>\n",
       "      <td>77.968</td>\n",
       "      <td>314.0</td>\n",
       "      <td>4637.664722</td>\n",
       "      <td>15</td>\n",
       "      <td>188.740533</td>\n",
       "      <td>214.136223</td>\n",
       "      <td>1800.793691</td>\n",
       "      <td>40.0</td>\n",
       "      <td>4</td>\n",
       "      <td>5</td>\n",
       "      <td>6</td>\n",
       "      <td>0</td>\n",
       "      <td>0</td>\n",
       "      <td>4</td>\n",
       "      <td>2</td>\n",
       "      <td>1</td>\n",
       "      <td>4</td>\n",
       "      <td>4</td>\n",
       "      <td>0</td>\n",
       "    </tr>\n",
       "    <tr>\n",
       "      <th>sochi</th>\n",
       "      <td>101.993</td>\n",
       "      <td>291.0</td>\n",
       "      <td>5789.306111</td>\n",
       "      <td>18</td>\n",
       "      <td>172.024977</td>\n",
       "      <td>204.520095</td>\n",
       "      <td>1284.998104</td>\n",
       "      <td>64.0</td>\n",
       "      <td>5</td>\n",
       "      <td>8</td>\n",
       "      <td>5</td>\n",
       "      <td>0</td>\n",
       "      <td>3</td>\n",
       "      <td>7</td>\n",
       "      <td>2</td>\n",
       "      <td>1</td>\n",
       "      <td>1</td>\n",
       "      <td>3</td>\n",
       "      <td>1</td>\n",
       "    </tr>\n",
       "    <tr>\n",
       "      <th>istanbul</th>\n",
       "      <td>82.868</td>\n",
       "      <td>321.0</td>\n",
       "      <td>5253.130833</td>\n",
       "      <td>14</td>\n",
       "      <td>176.854350</td>\n",
       "      <td>228.286957</td>\n",
       "      <td>3877.396258</td>\n",
       "      <td>39.0</td>\n",
       "      <td>3</td>\n",
       "      <td>8</td>\n",
       "      <td>3</td>\n",
       "      <td>0</td>\n",
       "      <td>3</td>\n",
       "      <td>1</td>\n",
       "      <td>4</td>\n",
       "      <td>1</td>\n",
       "      <td>0</td>\n",
       "      <td>2</td>\n",
       "      <td>1</td>\n",
       "    </tr>\n",
       "  </tbody>\n",
       "</table>\n",
       "</div>"
      ],
      "text/plain": [
       "                laptime  max_speed     distance  n_corners  avg_corner_speed  \\\n",
       "hockenheimring   71.767      320.0  4568.748333         17        209.960540   \n",
       "nurburgring      85.269      318.0  5112.340000         15        173.563856   \n",
       "portimao         77.968      314.0  4637.664722         15        188.740533   \n",
       "sochi           101.993      291.0  5789.306111         18        172.024977   \n",
       "istanbul         82.868      321.0  5253.130833         14        176.854350   \n",
       "\n",
       "                 avg_speed  straight_length  gear_changes  n_slow_corners  \\\n",
       "hockenheimring  229.888136      1663.919441          40.0               3   \n",
       "nurburgring     216.201705      2043.790918          50.0               5   \n",
       "portimao        214.136223      1800.793691          40.0               4   \n",
       "sochi           204.520095      1284.998104          64.0               5   \n",
       "istanbul        228.286957      3877.396258          39.0               3   \n",
       "\n",
       "                n_medium_corners  n_fast_corners  n_gear1_corners  \\\n",
       "hockenheimring                 9               5                0   \n",
       "nurburgring                    7               3                0   \n",
       "portimao                       5               6                0   \n",
       "sochi                          8               5                0   \n",
       "istanbul                       8               3                0   \n",
       "\n",
       "                n_gear2_corners  n_gear3_corners  n_gear4_corners  \\\n",
       "hockenheimring                1                3                1   \n",
       "nurburgring                   0                4                3   \n",
       "portimao                      0                4                2   \n",
       "sochi                         3                7                2   \n",
       "istanbul                      3                1                4   \n",
       "\n",
       "                n_gear5_corners  n_gear6_corners  n_gear7_corners  \\\n",
       "hockenheimring                3                5                3   \n",
       "nurburgring                   3                1                2   \n",
       "portimao                      1                4                4   \n",
       "sochi                         1                1                3   \n",
       "istanbul                      1                0                2   \n",
       "\n",
       "                n_gear8_corners  \n",
       "hockenheimring                1  \n",
       "nurburgring                   1  \n",
       "portimao                      0  \n",
       "sochi                         1  \n",
       "istanbul                      1  "
      ]
     },
     "execution_count": 2,
     "metadata": {},
     "output_type": "execute_result"
    }
   ],
   "source": [
    "df = pd.read_csv('../data/output/circuits_complete.csv', index_col=0)\n",
    "\n",
    "df.head()"
   ]
  },
  {
   "cell_type": "code",
   "execution_count": 3,
   "metadata": {},
   "outputs": [
    {
     "data": {
      "text/html": [
       "<div>\n",
       "<style scoped>\n",
       "    .dataframe tbody tr th:only-of-type {\n",
       "        vertical-align: middle;\n",
       "    }\n",
       "\n",
       "    .dataframe tbody tr th {\n",
       "        vertical-align: top;\n",
       "    }\n",
       "\n",
       "    .dataframe thead th {\n",
       "        text-align: right;\n",
       "    }\n",
       "</style>\n",
       "<table border=\"1\" class=\"dataframe\">\n",
       "  <thead>\n",
       "    <tr style=\"text-align: right;\">\n",
       "      <th></th>\n",
       "      <th>max_speed</th>\n",
       "      <th>distance</th>\n",
       "      <th>avg_corner_speed</th>\n",
       "      <th>avg_speed</th>\n",
       "      <th>short_gear_corners_prop</th>\n",
       "      <th>long_gear_corners_prop</th>\n",
       "      <th>slow_corners_prop</th>\n",
       "      <th>medium_corners_prop</th>\n",
       "      <th>fast_corners_prop</th>\n",
       "      <th>straight_prop</th>\n",
       "      <th>gear_changes_per_km</th>\n",
       "      <th>n_corners_per_km</th>\n",
       "    </tr>\n",
       "  </thead>\n",
       "  <tbody>\n",
       "    <tr>\n",
       "      <th>hockenheimring</th>\n",
       "      <td>320.0</td>\n",
       "      <td>4568.748333</td>\n",
       "      <td>209.960540</td>\n",
       "      <td>229.888136</td>\n",
       "      <td>0.294118</td>\n",
       "      <td>0.705882</td>\n",
       "      <td>0.176471</td>\n",
       "      <td>0.529412</td>\n",
       "      <td>0.294118</td>\n",
       "      <td>0.364196</td>\n",
       "      <td>8.755133</td>\n",
       "      <td>3.720932</td>\n",
       "    </tr>\n",
       "    <tr>\n",
       "      <th>nurburgring</th>\n",
       "      <td>318.0</td>\n",
       "      <td>5112.340000</td>\n",
       "      <td>173.563856</td>\n",
       "      <td>216.201705</td>\n",
       "      <td>0.466667</td>\n",
       "      <td>0.466667</td>\n",
       "      <td>0.333333</td>\n",
       "      <td>0.466667</td>\n",
       "      <td>0.200000</td>\n",
       "      <td>0.399776</td>\n",
       "      <td>9.780257</td>\n",
       "      <td>2.934077</td>\n",
       "    </tr>\n",
       "    <tr>\n",
       "      <th>portimao</th>\n",
       "      <td>314.0</td>\n",
       "      <td>4637.664722</td>\n",
       "      <td>188.740533</td>\n",
       "      <td>214.136223</td>\n",
       "      <td>0.400000</td>\n",
       "      <td>0.600000</td>\n",
       "      <td>0.266667</td>\n",
       "      <td>0.333333</td>\n",
       "      <td>0.400000</td>\n",
       "      <td>0.388298</td>\n",
       "      <td>8.625031</td>\n",
       "      <td>3.234386</td>\n",
       "    </tr>\n",
       "    <tr>\n",
       "      <th>sochi</th>\n",
       "      <td>291.0</td>\n",
       "      <td>5789.306111</td>\n",
       "      <td>172.024977</td>\n",
       "      <td>204.520095</td>\n",
       "      <td>0.666667</td>\n",
       "      <td>0.333333</td>\n",
       "      <td>0.277778</td>\n",
       "      <td>0.444444</td>\n",
       "      <td>0.277778</td>\n",
       "      <td>0.221961</td>\n",
       "      <td>11.054865</td>\n",
       "      <td>3.109181</td>\n",
       "    </tr>\n",
       "    <tr>\n",
       "      <th>istanbul</th>\n",
       "      <td>321.0</td>\n",
       "      <td>5253.130833</td>\n",
       "      <td>176.854350</td>\n",
       "      <td>228.286957</td>\n",
       "      <td>0.571429</td>\n",
       "      <td>0.285714</td>\n",
       "      <td>0.214286</td>\n",
       "      <td>0.571429</td>\n",
       "      <td>0.214286</td>\n",
       "      <td>0.738111</td>\n",
       "      <td>7.424144</td>\n",
       "      <td>2.665077</td>\n",
       "    </tr>\n",
       "  </tbody>\n",
       "</table>\n",
       "</div>"
      ],
      "text/plain": [
       "                max_speed     distance  avg_corner_speed   avg_speed  \\\n",
       "hockenheimring      320.0  4568.748333        209.960540  229.888136   \n",
       "nurburgring         318.0  5112.340000        173.563856  216.201705   \n",
       "portimao            314.0  4637.664722        188.740533  214.136223   \n",
       "sochi               291.0  5789.306111        172.024977  204.520095   \n",
       "istanbul            321.0  5253.130833        176.854350  228.286957   \n",
       "\n",
       "                short_gear_corners_prop  long_gear_corners_prop  \\\n",
       "hockenheimring                 0.294118                0.705882   \n",
       "nurburgring                    0.466667                0.466667   \n",
       "portimao                       0.400000                0.600000   \n",
       "sochi                          0.666667                0.333333   \n",
       "istanbul                       0.571429                0.285714   \n",
       "\n",
       "                slow_corners_prop  medium_corners_prop  fast_corners_prop  \\\n",
       "hockenheimring           0.176471             0.529412           0.294118   \n",
       "nurburgring              0.333333             0.466667           0.200000   \n",
       "portimao                 0.266667             0.333333           0.400000   \n",
       "sochi                    0.277778             0.444444           0.277778   \n",
       "istanbul                 0.214286             0.571429           0.214286   \n",
       "\n",
       "                straight_prop  gear_changes_per_km  n_corners_per_km  \n",
       "hockenheimring       0.364196             8.755133          3.720932  \n",
       "nurburgring          0.399776             9.780257          2.934077  \n",
       "portimao             0.388298             8.625031          3.234386  \n",
       "sochi                0.221961            11.054865          3.109181  \n",
       "istanbul             0.738111             7.424144          2.665077  "
      ]
     },
     "execution_count": 3,
     "metadata": {},
     "output_type": "execute_result"
    }
   ],
   "source": [
    "df_featured = pd.read_csv('../data/output/featured_circuits_complete.csv', index_col=0)\n",
    "\n",
    "df_featured.head()"
   ]
  },
  {
   "cell_type": "markdown",
   "metadata": {},
   "source": [
    "# 3. Preprocessing  \n",
    "\n",
    "To carry out the preprocessing, we need to evaluate the following aspects:  \n",
    "\n",
    "* Remove the columns we do not want to consider:\n",
    "    - In this case, we do not need to remove any columns since the datasets are already prepared for preprocessing.  \n",
    "\n",
    "* Select the encoding methods for categorical variables:\n",
    "    - We do not have categorical variables, so we do not need to perform `encoding`.  \n",
    "\n",
    "* Select the scaling method: \n",
    "    - Since we have very few outliers in our datasets and there are no extremely high values, we will use a `MinMax` scaler.\n"
   ]
  },
  {
   "cell_type": "code",
   "execution_count": 4,
   "metadata": {},
   "outputs": [],
   "source": [
    "encoding_methods = {}\n",
    "scaling = 'minmax'\n",
    "\n",
    "df_encoded, df_scaled = preprocess(df, encoding_methods, scaling)\n",
    "df_featured_encoded, df_featured_scaled = preprocess(df_featured, encoding_methods, scaling)"
   ]
  },
  {
   "cell_type": "markdown",
   "metadata": {},
   "source": [
    "# 4. Clustering"
   ]
  },
  {
   "cell_type": "markdown",
   "metadata": {},
   "source": [
    "## 4.1 K-means"
   ]
  },
  {
   "cell_type": "code",
   "execution_count": 5,
   "metadata": {},
   "outputs": [
    {
     "data": {
      "text/plain": [
       "Index(['max_speed', 'distance', 'avg_corner_speed', 'avg_speed',\n",
       "       'short_gear_corners_prop', 'long_gear_corners_prop',\n",
       "       'slow_corners_prop', 'medium_corners_prop', 'fast_corners_prop',\n",
       "       'straight_prop', 'gear_changes_per_km', 'n_corners_per_km'],\n",
       "      dtype='object')"
      ]
     },
     "execution_count": 5,
     "metadata": {},
     "output_type": "execute_result"
    }
   ],
   "source": [
    "df_featured_scaled.columns"
   ]
  },
  {
   "cell_type": "markdown",
   "metadata": {},
   "source": [
    "Selección de características"
   ]
  },
  {
   "cell_type": "code",
   "execution_count": 6,
   "metadata": {},
   "outputs": [
    {
     "data": {
      "text/plain": [
       "Index(['laptime', 'max_speed', 'distance', 'n_corners', 'avg_corner_speed',\n",
       "       'avg_speed', 'straight_length', 'gear_changes', 'n_slow_corners',\n",
       "       'n_medium_corners', 'n_fast_corners', 'n_gear1_corners',\n",
       "       'n_gear2_corners', 'n_gear3_corners', 'n_gear4_corners',\n",
       "       'n_gear5_corners', 'n_gear6_corners', 'n_gear7_corners',\n",
       "       'n_gear8_corners'],\n",
       "      dtype='object')"
      ]
     },
     "execution_count": 6,
     "metadata": {},
     "output_type": "execute_result"
    }
   ],
   "source": [
    "df_scaled.columns"
   ]
  },
  {
   "cell_type": "markdown",
   "metadata": {},
   "source": [
    "`Esto con 8 clusters nos da cosas con bastante sentido`\n",
    "\n",
    "df_kmeans = df_scaled[['distance', 'avg_corner_speed', 'avg_speed', 'straight_length']]"
   ]
  },
  {
   "cell_type": "code",
   "execution_count": 7,
   "metadata": {},
   "outputs": [
    {
     "data": {
      "text/plain": [
       "Index(['max_speed', 'distance', 'avg_corner_speed', 'avg_speed',\n",
       "       'short_gear_corners_prop', 'long_gear_corners_prop',\n",
       "       'slow_corners_prop', 'medium_corners_prop', 'fast_corners_prop',\n",
       "       'straight_prop', 'gear_changes_per_km', 'n_corners_per_km'],\n",
       "      dtype='object')"
      ]
     },
     "execution_count": 7,
     "metadata": {},
     "output_type": "execute_result"
    }
   ],
   "source": [
    "df_featured_scaled.columns"
   ]
  },
  {
   "cell_type": "code",
   "execution_count": 8,
   "metadata": {},
   "outputs": [],
   "source": [
    "['max_speed', 'distance', 'avg_corner_speed', 'avg_speed',\n",
    "       'short_gear_corners_prop', 'long_gear_corners_prop',\n",
    "       'slow_corners_prop', 'medium_corners_prop', 'fast_corners_prop',\n",
    "       'straight_prop', 'gear_changes_per_km', 'n_corners_per_km']\n",
    "\n",
    "cols = ['distance', 'avg_speed',\n",
    "       'straight_prop', 'gear_changes_per_km', 'n_corners_per_km']\n",
    "\n",
    "df_kmeans = df_featured_scaled[cols]"
   ]
  },
  {
   "cell_type": "code",
   "execution_count": 9,
   "metadata": {},
   "outputs": [
    {
     "data": {
      "image/png": "[encoded data removed]",
      "text/plain": [
       "<Figure size 800x550 with 1 Axes>"
      ]
     },
     "metadata": {},
     "output_type": "display_data"
    },
    {
     "data": {
      "text/plain": [
       "<Axes: title={'center': 'Silhouette Score Elbow for KMeans Clustering'}, xlabel='k', ylabel='silhouette score'>"
      ]
     },
     "execution_count": 9,
     "metadata": {},
     "output_type": "execute_result"
    }
   ],
   "source": [
    "model = KMeans(random_state=42)\n",
    "\n",
    "visualizer = KElbowVisualizer(model, k=(2, 15), metric=\"silhouette\", timings=False)\n",
    "visualizer.fit(df_kmeans)\n",
    "visualizer.show()"
   ]
  },
  {
   "cell_type": "code",
   "execution_count": 10,
   "metadata": {},
   "outputs": [],
   "source": [
    "model_kmeans = KMeans(n_clusters=8, random_state=42)\n",
    "\n",
    "km_fit = model_kmeans.fit(df_kmeans)\n",
    "labels = km_fit.labels_"
   ]
  },
  {
   "cell_type": "code",
   "execution_count": 11,
   "metadata": {},
   "outputs": [
    {
     "data": {
      "text/html": [
       "<div>\n",
       "<style scoped>\n",
       "    .dataframe tbody tr th:only-of-type {\n",
       "        vertical-align: middle;\n",
       "    }\n",
       "\n",
       "    .dataframe tbody tr th {\n",
       "        vertical-align: top;\n",
       "    }\n",
       "\n",
       "    .dataframe thead th {\n",
       "        text-align: right;\n",
       "    }\n",
       "</style>\n",
       "<table border=\"1\" class=\"dataframe\">\n",
       "  <thead>\n",
       "    <tr style=\"text-align: right;\">\n",
       "      <th></th>\n",
       "      <th>silhouette_score</th>\n",
       "      <th>davies_bouldin_index</th>\n",
       "      <th>cardinality</th>\n",
       "    </tr>\n",
       "  </thead>\n",
       "  <tbody>\n",
       "    <tr>\n",
       "      <th>0</th>\n",
       "      <td>0.206876</td>\n",
       "      <td>0.989947</td>\n",
       "      <td>2</td>\n",
       "    </tr>\n",
       "    <tr>\n",
       "      <th>1</th>\n",
       "      <td>0.206876</td>\n",
       "      <td>0.989947</td>\n",
       "      <td>2</td>\n",
       "    </tr>\n",
       "    <tr>\n",
       "      <th>2</th>\n",
       "      <td>0.206876</td>\n",
       "      <td>0.989947</td>\n",
       "      <td>3</td>\n",
       "    </tr>\n",
       "    <tr>\n",
       "      <th>3</th>\n",
       "      <td>0.206876</td>\n",
       "      <td>0.989947</td>\n",
       "      <td>5</td>\n",
       "    </tr>\n",
       "    <tr>\n",
       "      <th>4</th>\n",
       "      <td>0.206876</td>\n",
       "      <td>0.989947</td>\n",
       "      <td>1</td>\n",
       "    </tr>\n",
       "    <tr>\n",
       "      <th>5</th>\n",
       "      <td>0.206876</td>\n",
       "      <td>0.989947</td>\n",
       "      <td>5</td>\n",
       "    </tr>\n",
       "    <tr>\n",
       "      <th>6</th>\n",
       "      <td>0.206876</td>\n",
       "      <td>0.989947</td>\n",
       "      <td>7</td>\n",
       "    </tr>\n",
       "    <tr>\n",
       "      <th>7</th>\n",
       "      <td>0.206876</td>\n",
       "      <td>0.989947</td>\n",
       "      <td>5</td>\n",
       "    </tr>\n",
       "  </tbody>\n",
       "</table>\n",
       "</div>"
      ],
      "text/plain": [
       "   silhouette_score  davies_bouldin_index  cardinality\n",
       "0          0.206876              0.989947            2\n",
       "1          0.206876              0.989947            2\n",
       "2          0.206876              0.989947            3\n",
       "3          0.206876              0.989947            5\n",
       "4          0.206876              0.989947            1\n",
       "5          0.206876              0.989947            5\n",
       "6          0.206876              0.989947            7\n",
       "7          0.206876              0.989947            5"
      ]
     },
     "execution_count": 11,
     "metadata": {},
     "output_type": "execute_result"
    }
   ],
   "source": [
    "clustering_metrics(df_kmeans, labels)"
   ]
  },
  {
   "cell_type": "code",
   "execution_count": 13,
   "metadata": {},
   "outputs": [],
   "source": [
    "df_kmeans_result = df_kmeans.copy()\n",
    "\n",
    "df_kmeans_result['cluster'] = km_fit.labels_"
   ]
  },
  {
   "cell_type": "code",
   "execution_count": 14,
   "metadata": {},
   "outputs": [
    {
     "data": {
      "text/plain": [
       "rodriguez         0\n",
       "miami             0\n",
       "marina_bay        1\n",
       "hungaroring       1\n",
       "suzuka            2\n",
       "jeddah            2\n",
       "losail            2\n",
       "nurburgring       3\n",
       "baku              3\n",
       "shanghai          3\n",
       "sochi             3\n",
       "americas          3\n",
       "monaco            4\n",
       "catalunya         5\n",
       "yas_marina        5\n",
       "red_bull_ring     5\n",
       "villeneuve        5\n",
       "bahrain           5\n",
       "silverstone       6\n",
       "spa               6\n",
       "vegas             6\n",
       "monza             6\n",
       "istanbul          6\n",
       "albert_park       6\n",
       "ricard            6\n",
       "hockenheimring    7\n",
       "imola             7\n",
       "portimao          7\n",
       "zandvoort         7\n",
       "interlagos        7\n",
       "Name: cluster, dtype: int32"
      ]
     },
     "execution_count": 14,
     "metadata": {},
     "output_type": "execute_result"
    }
   ],
   "source": [
    "df_kmeans_result.sort_values(by='cluster')['cluster']"
   ]
  },
  {
   "cell_type": "code",
   "execution_count": 15,
   "metadata": {},
   "outputs": [
    {
     "data": {
      "image/png": "[encoded data removed]",
      "text/plain": [
       "<Figure size 2000x800 with 5 Axes>"
      ]
     },
     "metadata": {},
     "output_type": "display_data"
    }
   ],
   "source": [
    "plot_clusters(df_kmeans_result)"
   ]
  },
  {
   "cell_type": "code",
   "execution_count": null,
   "metadata": {},
   "outputs": [],
   "source": [
    "variables = df_kmeans_result.drop(columns='cluster').columns\n",
    "\n",
    "plot_radar(df_kmeans_result, variables)"
   ]
  },
  {
   "cell_type": "code",
   "execution_count": 132,
   "metadata": {},
   "outputs": [],
   "source": [
    "# plot_relation_tv(df_kmeans_result, 'cluster', size=(20, 10), n_cols = 2)"
   ]
  },
  {
   "cell_type": "code",
   "execution_count": 212,
   "metadata": {},
   "outputs": [],
   "source": [
    "X = df_kmeans_result.drop(columns='cluster').values"
   ]
  },
  {
   "cell_type": "code",
   "execution_count": 213,
   "metadata": {},
   "outputs": [],
   "source": [
    "from sklearn.metrics import silhouette_samples, silhouette_score\n",
    "\n",
    "# The silhouette_score for data set is used for measuring the mean of the Silhouette Coefficient for each sample belonging to different clusters.\n",
    "\n",
    "score = silhouette_score(X, df_kmeans_result['cluster'], metric='euclidean')\n",
    "\n",
    "y_pred = model_kmeans.predict(X)"
   ]
  },
  {
   "cell_type": "code",
   "execution_count": null,
   "metadata": {},
   "outputs": [],
   "source": [
    "cols = df_kmeans_result.drop(columns='cluster').columns\n",
    "\n",
    "cols"
   ]
  },
  {
   "cell_type": "code",
   "execution_count": null,
   "metadata": {},
   "outputs": [],
   "source": [
    "x_ax = 3\n",
    "y_ax = 2\n",
    "\n",
    "plt.scatter(X[y_pred==0,x_ax],X[y_pred==0,y_ax],s=50, c='lightgreen',edgecolor='black',  label='cluster 0')\n",
    "plt.scatter(X[y_pred==1,x_ax],X[y_pred==1,y_ax],s=50, c='purple',edgecolor='black', label='cluster 1')\n",
    "plt.scatter(X[y_pred==2,x_ax],X[y_pred==2,y_ax],s=50, c='yellow',edgecolor='black', label='cluster 2')\n",
    "plt.scatter(X[y_pred==3,x_ax],X[y_pred==3,y_ax],s=50, c='blue',edgecolor='black', label='cluster 3')\n",
    "plt.scatter(X[y_pred==4,x_ax],X[y_pred==4,y_ax],s=50, c='cyan',edgecolor='black',  label='cluster 4')\n",
    "plt.scatter(X[y_pred==5,x_ax],X[y_pred==5,y_ax],s=50, c='grey',edgecolor='black',  label='cluster 5')\n",
    "# plt.scatter(model_kmeans.cluster_centers_[:,0],model_kmeans.cluster_centers_[:,1],s=100,c='red', label='centroids')\n",
    "plt.title('Clusters of Customers (Kmeans Clustering Model)')\n",
    "plt.xlabel(cols[x_ax])\n",
    "plt.ylabel(cols[y_ax])\n",
    "plt.legend()\n",
    "plt.grid()\n",
    "plt.show()"
   ]
  },
  {
   "cell_type": "code",
   "execution_count": null,
   "metadata": {},
   "outputs": [],
   "source": [
    "df_kmeans_result.sort_values(by='cluster')['cluster']"
   ]
  },
  {
   "cell_type": "code",
   "execution_count": null,
   "metadata": {},
   "outputs": [],
   "source": [
    "import matplotlib.cm as cm\n",
    "import matplotlib.pyplot as plt\n",
    "import numpy as np\n",
    "\n",
    "from sklearn.cluster import KMeans\n",
    "from sklearn.metrics import silhouette_samples, silhouette_score\n",
    "\n",
    "\n",
    "range_n_clusters = [2, 3, 4, 5, 6]\n",
    "\n",
    "for n_clusters in range_n_clusters:\n",
    "    # Create a subplot with 1 row and 2 columns\n",
    "    fig, (ax1, ax2) = plt.subplots(1, 2)\n",
    "    fig.set_size_inches(18, 7)\n",
    "\n",
    "    # The 1st subplot is the silhouette plot\n",
    "    # The silhouette coefficient can range from -1, 1 but in this example all\n",
    "    # lie within [-0.1, 1]\n",
    "    ax1.set_xlim([-0.1, 1])\n",
    "    # The (n_clusters+1)*10 is for inserting blank space between silhouette\n",
    "    # plots of individual clusters, to demarcate them clearly.\n",
    "    ax1.set_ylim([0, len(X) + (n_clusters + 1) * 10])\n",
    "\n",
    "    # Initialize the clusterer with n_clusters value and a random generator\n",
    "    # seed of 10 for reproducibility.\n",
    "    clusterer = KMeans(n_clusters=n_clusters, random_state=10)\n",
    "    cluster_labels = clusterer.fit_predict(X)\n",
    "\n",
    "    # The silhouette_score gives the average value for all the samples.\n",
    "    # This gives a perspective into the density and separation of the formed\n",
    "    # clusters\n",
    "    silhouette_avg = silhouette_score(X, cluster_labels)\n",
    "    print(\n",
    "        \"For n_clusters =\",\n",
    "        n_clusters,\n",
    "        \"The average silhouette_score is :\",\n",
    "        silhouette_avg,\n",
    "    )\n",
    "\n",
    "    # Compute the silhouette scores for each sample\n",
    "    sample_silhouette_values = silhouette_samples(X, cluster_labels)\n",
    "\n",
    "    y_lower = 10\n",
    "    for i in range(n_clusters):\n",
    "        # Aggregate the silhouette scores for samples belonging to\n",
    "        # cluster i, and sort them\n",
    "        ith_cluster_silhouette_values = sample_silhouette_values[cluster_labels == i]\n",
    "\n",
    "        ith_cluster_silhouette_values.sort()\n",
    "\n",
    "        size_cluster_i = ith_cluster_silhouette_values.shape[0]\n",
    "        y_upper = y_lower + size_cluster_i\n",
    "\n",
    "        color = cm.nipy_spectral(float(i) / n_clusters)\n",
    "        ax1.fill_betweenx(\n",
    "            np.arange(y_lower, y_upper),\n",
    "            0,\n",
    "            ith_cluster_silhouette_values,\n",
    "            facecolor=color,\n",
    "            edgecolor=color,\n",
    "            alpha=0.7,\n",
    "        )\n",
    "\n",
    "        # Label the silhouette plots with their cluster numbers at the middle\n",
    "        ax1.text(-0.05, y_lower + 0.5 * size_cluster_i, str(i))\n",
    "\n",
    "        # Compute the new y_lower for next plot\n",
    "        y_lower = y_upper + 10  # 10 for the 0 samples\n",
    "\n",
    "    ax1.set_title(\"The silhouette plot for the various clusters.\")\n",
    "    ax1.set_xlabel(\"The silhouette coefficient values\")\n",
    "    ax1.set_ylabel(\"Cluster label\")\n",
    "\n",
    "    # The vertical line for average silhouette score of all the values\n",
    "    ax1.axvline(x=silhouette_avg, color=\"red\", linestyle=\"--\")\n",
    "\n",
    "    ax1.set_yticks([])  # Clear the yaxis labels / ticks\n",
    "    ax1.set_xticks([-0.1, 0, 0.2, 0.4, 0.6, 0.8, 1])\n",
    "\n",
    "    # 2nd Plot showing the actual clusters formed\n",
    "    colors = cm.nipy_spectral(cluster_labels.astype(float) / n_clusters)\n",
    "    ax2.scatter(\n",
    "        X[:, 0], X[:, 1], marker=\".\", s=30, lw=0, alpha=0.7, c=colors, edgecolor=\"k\"\n",
    "    )\n",
    "\n",
    "    # Labeling the clusters\n",
    "    centers = clusterer.cluster_centers_\n",
    "    # Draw white circles at cluster centers\n",
    "    ax2.scatter(\n",
    "        centers[:, 0],\n",
    "        centers[:, 1],\n",
    "        marker=\"o\",\n",
    "        c=\"white\",\n",
    "        alpha=1,\n",
    "        s=200,\n",
    "        edgecolor=\"k\",\n",
    "    )\n",
    "\n",
    "    for i, c in enumerate(centers):\n",
    "        ax2.scatter(c[0], c[1], marker=\"$%d$\" % i, alpha=1, s=50, edgecolor=\"k\")\n",
    "\n",
    "    ax2.set_title(\"The visualization of the clustered data.\")\n",
    "    ax2.set_xlabel(\"Feature space for the 1st feature\")\n",
    "    ax2.set_ylabel(\"Feature space for the 2nd feature\")\n",
    "\n",
    "    plt.suptitle(\n",
    "        \"Silhouette analysis for KMeans clustering on sample data with n_clusters = %d\"\n",
    "        % n_clusters,\n",
    "        fontsize=14,\n",
    "        fontweight=\"bold\",\n",
    "    )\n",
    "\n",
    "plt.show()"
   ]
  },
  {
   "cell_type": "markdown",
   "metadata": {},
   "source": [
    "---"
   ]
  },
  {
   "cell_type": "markdown",
   "metadata": {},
   "source": [
    "### Modelo de PCA (reducción de la dimensionalidad)"
   ]
  },
  {
   "cell_type": "code",
   "execution_count": 217,
   "metadata": {},
   "outputs": [],
   "source": [
    "from sklearn.decomposition import PCA\n",
    "\n",
    "pca = PCA(n_components=2)\n",
    "\n",
    "pca = pca.fit_transform(df_scaled)\n",
    "\n",
    "pca_df = pd.DataFrame(data=pca, columns=['Col1', 'Col2'])\n",
    "\n",
    "pca_clusters = pd.concat([pca_df, df_kmeans_result['cluster'].reset_index()], axis=1)"
   ]
  },
  {
   "cell_type": "code",
   "execution_count": null,
   "metadata": {},
   "outputs": [],
   "source": [
    "fig = plt.figure(figsize=(6,6))\n",
    "\n",
    "sns.scatterplot(data=pca_clusters, x='Col1', y='Col2', hue='cluster', palette='mako')"
   ]
  },
  {
   "cell_type": "markdown",
   "metadata": {},
   "source": [
    "---"
   ]
  },
  {
   "cell_type": "markdown",
   "metadata": {},
   "source": [
    "## 4.2 Agglomerative clustering"
   ]
  },
  {
   "cell_type": "code",
   "execution_count": null,
   "metadata": {},
   "outputs": [],
   "source": [
    "df_copy = df_featured_scaled.copy()\n",
    "\n",
    "plot_dendrogram(df_copy)"
   ]
  },
  {
   "cell_type": "code",
   "execution_count": null,
   "metadata": {},
   "outputs": [],
   "source": [
    "results_df = agglomerative_methods(df_copy)"
   ]
  },
  {
   "cell_type": "code",
   "execution_count": null,
   "metadata": {},
   "outputs": [],
   "source": [
    "best_model = results_df.sort_values(by='ranking_score', ascending=False).iloc[0]\n",
    "\n",
    "best_model"
   ]
  },
  {
   "cell_type": "code",
   "execution_count": 55,
   "metadata": {},
   "outputs": [],
   "source": [
    "model = AgglomerativeClustering(\n",
    "    linkage=best_model['linkage'],\n",
    "    metric=best_model['metric'],\n",
    "    distance_threshold=None,\n",
    "    n_clusters=best_model['n_cluster']\n",
    ")\n",
    "\n",
    "agglo_fit = model.fit(df_scaled)\n",
    "agglo_labels = agglo_fit.labels_"
   ]
  },
  {
   "cell_type": "code",
   "execution_count": null,
   "metadata": {},
   "outputs": [],
   "source": [
    "clustering_metrics(df_scaled, agglo_labels)"
   ]
  },
  {
   "cell_type": "code",
   "execution_count": null,
   "metadata": {},
   "outputs": [],
   "source": [
    "df_copy['cluster'] = agglo_labels\n",
    "\n",
    "df_copy.sort_values(by='cluster')['cluster']"
   ]
  },
  {
   "cell_type": "markdown",
   "metadata": {},
   "source": [
    "## 4.3 DBSCAN Clustering"
   ]
  },
  {
   "cell_type": "code",
   "execution_count": null,
   "metadata": {},
   "outputs": [],
   "source": [
    "dbscan_methods(df_featured_scaled, eps_values=[i/10 for i in range(1,50, 3)], min_samples_values=[1, 2, 5])"
   ]
  },
  {
   "cell_type": "markdown",
   "metadata": {},
   "source": []
  }
 ],
 "metadata": {
  "kernelspec": {
   "display_name": "FinalProject",
   "language": "python",
   "name": "python3"
  },
  "language_info": {
   "codemirror_mode": {
    "name": "ipython",
    "version": 3
   },
   "file_extension": ".py",
   "mimetype": "text/x-python",
   "name": "python",
   "nbconvert_exporter": "python",
   "pygments_lexer": "ipython3",
   "version": "3.12.8"
  }
 },
 "nbformat": 4,
 "nbformat_minor": 2
}
