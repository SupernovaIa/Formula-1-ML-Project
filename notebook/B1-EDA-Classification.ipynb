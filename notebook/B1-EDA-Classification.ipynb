{
 "cells": [
  {
   "cell_type": "markdown",
   "metadata": {},
   "source": [
    "# 1. Import libraries"
   ]
  },
  {
   "cell_type": "code",
   "execution_count": 87,
   "metadata": {},
   "outputs": [],
   "source": [
    "import pandas as pd\n",
    "import numpy as np\n",
    "\n",
    "import fastf1\n",
    "\n",
    "import sys\n",
    "sys.path.append('../')\n",
    "\n",
    "from src.race_prediction_model.extract import *\n",
    "from src.race_prediction_model.feature_engineering import add_features_to_results\n",
    "from src.eda import * # Revisar qué funciones necesito de aquí\n",
    "\n",
    "# Config less verbosity\n",
    "fastf1.set_log_level('ERROR')"
   ]
  },
  {
   "cell_type": "markdown",
   "metadata": {},
   "source": [
    "# 2. Data loading"
   ]
  },
  {
   "cell_type": "markdown",
   "metadata": {},
   "source": [
    "The dataset analyzed in this study consists of a table recording the results of all Formula 1 races from the 2010 season to the present.  \n",
    "\n",
    "Throughout Formula 1 history, regulations have undergone constant modifications, driven by both technological advancements and the pursuit of greater on-track safety. These changes have led to substantial differences in race characteristics and car performance depending on the era.  \n",
    "\n",
    "For example, in 2005, tire changes during races were banned, except in cases of emergency or adverse weather conditions. In 2007, Michelin left the championship, leaving Bridgestone as the sole tire supplier, while in 2011, this role was taken over by Pirelli, which remains the official supplier today. In 2010, refueling was eliminated, forcing teams to start races with the total amount of fuel needed to complete them. Additionally, in 2011, the DRS system was introduced to facilitate overtaking, and in 2014, hybrid engines were implemented, marking the beginning of a new technological era.  \n",
    "\n",
    "These examples are just a few of the many regulatory changes that have occurred, but they illustrate how cars and competition conditions have evolved radically over the past 15 years. As a result, the outcomes of races from older eras are not very representative of the current situation.  \n",
    "\n",
    "For this analysis, we have selected 2010 as the starting point, as it marks the beginning of a significant era with the elimination of refueling—a change that profoundly impacted race strategy. Additionally, 2010 introduced a new scoring system, very similar to the current one, which placed greater emphasis on consistent results and increased the gaps between the points awarded to the top finishers. While we could have chosen 2014, coinciding with the start of the hybrid era, we believe that including data from 2010 provides a larger volume of information without losing contextual relevance."
   ]
  },
  {
   "cell_type": "markdown",
   "metadata": {},
   "source": [
    "### Data extraction"
   ]
  },
  {
   "cell_type": "markdown",
   "metadata": {},
   "source": [
    "#### Races"
   ]
  },
  {
   "cell_type": "markdown",
   "metadata": {},
   "source": [
    "We load the dataframe containing the races. If it doesn't exist, we proceed with its extraction."
   ]
  },
  {
   "cell_type": "code",
   "execution_count": 88,
   "metadata": {},
   "outputs": [],
   "source": [
    "try:\n",
    "    df_races = pd.read_csv('../data/output/races.csv')\n",
    "\n",
    "except FileNotFoundError:\n",
    "    print(\"Data not found: Extracting data...\")\n",
    "    df_races = extract_races_dataframe(2010, end=2024, save=True)"
   ]
  },
  {
   "cell_type": "code",
   "execution_count": 89,
   "metadata": {},
   "outputs": [
    {
     "data": {
      "text/html": [
       "<div>\n",
       "<style scoped>\n",
       "    .dataframe tbody tr th:only-of-type {\n",
       "        vertical-align: middle;\n",
       "    }\n",
       "\n",
       "    .dataframe tbody tr th {\n",
       "        vertical-align: top;\n",
       "    }\n",
       "\n",
       "    .dataframe thead th {\n",
       "        text-align: right;\n",
       "    }\n",
       "</style>\n",
       "<table border=\"1\" class=\"dataframe\">\n",
       "  <thead>\n",
       "    <tr style=\"text-align: right;\">\n",
       "      <th></th>\n",
       "      <th>season</th>\n",
       "      <th>round</th>\n",
       "      <th>circuitId</th>\n",
       "    </tr>\n",
       "  </thead>\n",
       "  <tbody>\n",
       "    <tr>\n",
       "      <th>79</th>\n",
       "      <td>2014</td>\n",
       "      <td>3</td>\n",
       "      <td>bahrain</td>\n",
       "    </tr>\n",
       "    <tr>\n",
       "      <th>289</th>\n",
       "      <td>2024</td>\n",
       "      <td>9</td>\n",
       "      <td>villeneuve</td>\n",
       "    </tr>\n",
       "    <tr>\n",
       "      <th>299</th>\n",
       "      <td>2024</td>\n",
       "      <td>19</td>\n",
       "      <td>americas</td>\n",
       "    </tr>\n",
       "    <tr>\n",
       "      <th>68</th>\n",
       "      <td>2013</td>\n",
       "      <td>11</td>\n",
       "      <td>spa</td>\n",
       "    </tr>\n",
       "    <tr>\n",
       "      <th>155</th>\n",
       "      <td>2017</td>\n",
       "      <td>20</td>\n",
       "      <td>yas_marina</td>\n",
       "    </tr>\n",
       "  </tbody>\n",
       "</table>\n",
       "</div>"
      ],
      "text/plain": [
       "     season  round   circuitId\n",
       "79     2014      3     bahrain\n",
       "289    2024      9  villeneuve\n",
       "299    2024     19    americas\n",
       "68     2013     11         spa\n",
       "155    2017     20  yas_marina"
      ]
     },
     "execution_count": 89,
     "metadata": {},
     "output_type": "execute_result"
    }
   ],
   "source": [
    "df_races.sample(5)"
   ]
  },
  {
   "cell_type": "markdown",
   "metadata": {},
   "source": [
    "We have 305 races from 2010 to 2024. Now we need to extract the results of each one. That is, for each Grand Prix, we need the results of each driver."
   ]
  },
  {
   "cell_type": "code",
   "execution_count": 90,
   "metadata": {},
   "outputs": [],
   "source": [
    "try:\n",
    "    df_results = pd.read_csv('../data/output/results.csv', index_col=0)\n",
    "\n",
    "except FileNotFoundError:\n",
    "    print(\"Data not found: Extracting data...\")\n",
    "    # Caution! This extraction takes A LOT of time. It's recommended to manually extract each season one by one.\n",
    "    # df_results = extract_results_dataframe(df_races, save=True)[0]"
   ]
  },
  {
   "cell_type": "markdown",
   "metadata": {},
   "source": [
    "# 3. Data description"
   ]
  },
  {
   "cell_type": "code",
   "execution_count": 91,
   "metadata": {},
   "outputs": [
    {
     "data": {
      "text/html": [
       "<div>\n",
       "<style scoped>\n",
       "    .dataframe tbody tr th:only-of-type {\n",
       "        vertical-align: middle;\n",
       "    }\n",
       "\n",
       "    .dataframe tbody tr th {\n",
       "        vertical-align: top;\n",
       "    }\n",
       "\n",
       "    .dataframe thead th {\n",
       "        text-align: right;\n",
       "    }\n",
       "</style>\n",
       "<table border=\"1\" class=\"dataframe\">\n",
       "  <thead>\n",
       "    <tr style=\"text-align: right;\">\n",
       "      <th></th>\n",
       "      <th>DriverId</th>\n",
       "      <th>TeamId</th>\n",
       "      <th>Position</th>\n",
       "      <th>GridPosition</th>\n",
       "      <th>Time</th>\n",
       "      <th>Status</th>\n",
       "      <th>Points</th>\n",
       "      <th>season</th>\n",
       "      <th>round</th>\n",
       "      <th>circuitId</th>\n",
       "    </tr>\n",
       "  </thead>\n",
       "  <tbody>\n",
       "    <tr>\n",
       "      <th>8</th>\n",
       "      <td>alonso</td>\n",
       "      <td>ferrari</td>\n",
       "      <td>1.0</td>\n",
       "      <td>3.0</td>\n",
       "      <td>0.000</td>\n",
       "      <td>Finished</td>\n",
       "      <td>25.0</td>\n",
       "      <td>2010</td>\n",
       "      <td>1</td>\n",
       "      <td>bahrain</td>\n",
       "    </tr>\n",
       "    <tr>\n",
       "      <th>7</th>\n",
       "      <td>massa</td>\n",
       "      <td>ferrari</td>\n",
       "      <td>2.0</td>\n",
       "      <td>2.0</td>\n",
       "      <td>16.099</td>\n",
       "      <td>Finished</td>\n",
       "      <td>18.0</td>\n",
       "      <td>2010</td>\n",
       "      <td>1</td>\n",
       "      <td>bahrain</td>\n",
       "    </tr>\n",
       "    <tr>\n",
       "      <th>2</th>\n",
       "      <td>hamilton</td>\n",
       "      <td>mclaren</td>\n",
       "      <td>3.0</td>\n",
       "      <td>4.0</td>\n",
       "      <td>23.182</td>\n",
       "      <td>Finished</td>\n",
       "      <td>15.0</td>\n",
       "      <td>2010</td>\n",
       "      <td>1</td>\n",
       "      <td>bahrain</td>\n",
       "    </tr>\n",
       "    <tr>\n",
       "      <th>5</th>\n",
       "      <td>vettel</td>\n",
       "      <td>red_bull</td>\n",
       "      <td>4.0</td>\n",
       "      <td>1.0</td>\n",
       "      <td>38.799</td>\n",
       "      <td>Finished</td>\n",
       "      <td>12.0</td>\n",
       "      <td>2010</td>\n",
       "      <td>1</td>\n",
       "      <td>bahrain</td>\n",
       "    </tr>\n",
       "    <tr>\n",
       "      <th>4</th>\n",
       "      <td>rosberg</td>\n",
       "      <td>mercedes</td>\n",
       "      <td>5.0</td>\n",
       "      <td>5.0</td>\n",
       "      <td>40.213</td>\n",
       "      <td>Finished</td>\n",
       "      <td>10.0</td>\n",
       "      <td>2010</td>\n",
       "      <td>1</td>\n",
       "      <td>bahrain</td>\n",
       "    </tr>\n",
       "  </tbody>\n",
       "</table>\n",
       "</div>"
      ],
      "text/plain": [
       "   DriverId    TeamId  Position  GridPosition    Time    Status  Points  \\\n",
       "8    alonso   ferrari       1.0           3.0   0.000  Finished    25.0   \n",
       "7     massa   ferrari       2.0           2.0  16.099  Finished    18.0   \n",
       "2  hamilton   mclaren       3.0           4.0  23.182  Finished    15.0   \n",
       "5    vettel  red_bull       4.0           1.0  38.799  Finished    12.0   \n",
       "4   rosberg  mercedes       5.0           5.0  40.213  Finished    10.0   \n",
       "\n",
       "   season  round circuitId  \n",
       "8    2010      1   bahrain  \n",
       "7    2010      1   bahrain  \n",
       "2    2010      1   bahrain  \n",
       "5    2010      1   bahrain  \n",
       "4    2010      1   bahrain  "
      ]
     },
     "execution_count": 91,
     "metadata": {},
     "output_type": "execute_result"
    }
   ],
   "source": [
    "df_results.head()"
   ]
  },
  {
   "cell_type": "markdown",
   "metadata": {},
   "source": [
    "The dataset has been obtained using the `fastf1` library, which combines data from various sources, including the Ergast API, the F1 LiveTiming API, and its own backend, to collect detailed and accurate information. [See FastF1 Documentation](https://docs.fastf1.dev/).\n",
    "\n",
    "For building a predictive model, a set of key variables has been gathered to provide critical insights into driver and team performance in races. These variables are:  \n",
    "\n",
    "- **`DriverId`**: Unique identifier for the driver.  \n",
    "\n",
    "- **`TeamId`**: Identifier of the team to which the driver belongs. \n",
    "\n",
    "- **`Position`**: Driver's final position in the race.  \n",
    "\n",
    "- **`GridPosition`**: Starting position on the grid.  \n",
    "\n",
    "- **`Time`**: Time difference with which the driver crosses the finish line relative to the leader.  \n",
    "\n",
    "- **`Status`**: Final status of the driver in the race, indicating whether they finished or the reason for their retirement.  \n",
    "\n",
    "- **`Points`**: Points earned by the driver in the race.  \n",
    "\n",
    "- **`season`**: Season in which the Grand Prix took place.  \n",
    "\n",
    "- **`round`**: Round number within the season corresponding to the Grand Prix.  \n",
    "\n",
    "- **`circuitId`**: Unique identifier of the circuit where the race was held.  \n",
    "\n",
    "This set of variables provides a solid foundation for exploring patterns, evaluating performance, and making accurate predictions about future competitions.  \n",
    "\n",
    "Additionally, *feature engineering* will be applied to create and add key features that capture relevant information and enhance the predictive model's performance."
   ]
  },
  {
   "cell_type": "code",
   "execution_count": 92,
   "metadata": {},
   "outputs": [
    {
     "name": "stdout",
     "output_type": "stream",
     "text": [
      "<class 'pandas.core.frame.DataFrame'>\n",
      "Index: 6436 entries, 8 to 11\n",
      "Data columns (total 10 columns):\n",
      " #   Column        Non-Null Count  Dtype  \n",
      "---  ------        --------------  -----  \n",
      " 0   DriverId      6436 non-null   object \n",
      " 1   TeamId        6436 non-null   object \n",
      " 2   Position      6433 non-null   float64\n",
      " 3   GridPosition  6433 non-null   float64\n",
      " 4   Time          6392 non-null   float64\n",
      " 5   Status        6436 non-null   object \n",
      " 6   Points        6436 non-null   float64\n",
      " 7   season        6436 non-null   int64  \n",
      " 8   round         6436 non-null   int64  \n",
      " 9   circuitId     6436 non-null   object \n",
      "dtypes: float64(4), int64(2), object(4)\n",
      "memory usage: 553.1+ KB\n"
     ]
    }
   ],
   "source": [
    "df_results.info()"
   ]
  },
  {
   "cell_type": "markdown",
   "metadata": {},
   "source": [
    "We see that there are some null values in `Time` and `GridPosition`/`Position`, although not many. Let's analyze them."
   ]
  },
  {
   "cell_type": "markdown",
   "metadata": {},
   "source": [
    "`GridPosition`"
   ]
  },
  {
   "cell_type": "code",
   "execution_count": 93,
   "metadata": {},
   "outputs": [
    {
     "data": {
      "text/html": [
       "<div>\n",
       "<style scoped>\n",
       "    .dataframe tbody tr th:only-of-type {\n",
       "        vertical-align: middle;\n",
       "    }\n",
       "\n",
       "    .dataframe tbody tr th {\n",
       "        vertical-align: top;\n",
       "    }\n",
       "\n",
       "    .dataframe thead th {\n",
       "        text-align: right;\n",
       "    }\n",
       "</style>\n",
       "<table border=\"1\" class=\"dataframe\">\n",
       "  <thead>\n",
       "    <tr style=\"text-align: right;\">\n",
       "      <th></th>\n",
       "      <th>DriverId</th>\n",
       "      <th>TeamId</th>\n",
       "      <th>Position</th>\n",
       "      <th>GridPosition</th>\n",
       "      <th>Time</th>\n",
       "      <th>Status</th>\n",
       "      <th>Points</th>\n",
       "      <th>season</th>\n",
       "      <th>round</th>\n",
       "      <th>circuitId</th>\n",
       "    </tr>\n",
       "  </thead>\n",
       "  <tbody>\n",
       "    <tr>\n",
       "      <th>9</th>\n",
       "      <td>mazepin</td>\n",
       "      <td>haas</td>\n",
       "      <td>NaN</td>\n",
       "      <td>NaN</td>\n",
       "      <td>167.527</td>\n",
       "      <td>Illness</td>\n",
       "      <td>0.0</td>\n",
       "      <td>2021</td>\n",
       "      <td>22</td>\n",
       "      <td>yas_marina</td>\n",
       "    </tr>\n",
       "    <tr>\n",
       "      <th>47</th>\n",
       "      <td>mick_schumacher</td>\n",
       "      <td>haas</td>\n",
       "      <td>NaN</td>\n",
       "      <td>NaN</td>\n",
       "      <td>191.742</td>\n",
       "      <td>Withdrew</td>\n",
       "      <td>0.0</td>\n",
       "      <td>2022</td>\n",
       "      <td>2</td>\n",
       "      <td>jeddah</td>\n",
       "    </tr>\n",
       "    <tr>\n",
       "      <th>18</th>\n",
       "      <td>stroll</td>\n",
       "      <td>aston_martin</td>\n",
       "      <td>NaN</td>\n",
       "      <td>NaN</td>\n",
       "      <td>187.603</td>\n",
       "      <td>Withdrew</td>\n",
       "      <td>0.0</td>\n",
       "      <td>2023</td>\n",
       "      <td>15</td>\n",
       "      <td>marina_bay</td>\n",
       "    </tr>\n",
       "  </tbody>\n",
       "</table>\n",
       "</div>"
      ],
      "text/plain": [
       "           DriverId        TeamId  Position  GridPosition     Time    Status  \\\n",
       "9           mazepin          haas       NaN           NaN  167.527   Illness   \n",
       "47  mick_schumacher          haas       NaN           NaN  191.742  Withdrew   \n",
       "18           stroll  aston_martin       NaN           NaN  187.603  Withdrew   \n",
       "\n",
       "    Points  season  round   circuitId  \n",
       "9      0.0    2021     22  yas_marina  \n",
       "47     0.0    2022      2      jeddah  \n",
       "18     0.0    2023     15  marina_bay  "
      ]
     },
     "execution_count": 93,
     "metadata": {},
     "output_type": "execute_result"
    }
   ],
   "source": [
    "df_results[df_results['GridPosition'].isna()]"
   ]
  },
  {
   "cell_type": "markdown",
   "metadata": {},
   "source": [
    "In the case of `GridPosition`, the three entries we have correspond to drivers who did not qualify for the race, as we can confirm by their status. We can directly remove these entries.\n",
    "\n",
    "We also verified that these entries coincide with the null values in `Position`.\n",
    "\n",
    "As an observation, we see that they have a `Time` value despite not having competed. This is because, during data extraction, a `Time` value higher than that of the last classified driver is assigned to those who did not finish the race."
   ]
  },
  {
   "cell_type": "code",
   "execution_count": 94,
   "metadata": {},
   "outputs": [],
   "source": [
    "df_results.dropna(subset=['GridPosition'], inplace=True)"
   ]
  },
  {
   "cell_type": "markdown",
   "metadata": {},
   "source": [
    "`Time`"
   ]
  },
  {
   "cell_type": "code",
   "execution_count": 95,
   "metadata": {},
   "outputs": [
    {
     "data": {
      "text/plain": [
       "(44, 10)"
      ]
     },
     "execution_count": 95,
     "metadata": {},
     "output_type": "execute_result"
    }
   ],
   "source": [
    "df_results[df_results['Time'].isna()].shape"
   ]
  },
  {
   "cell_type": "code",
   "execution_count": 96,
   "metadata": {},
   "outputs": [
    {
     "data": {
      "text/html": [
       "<div>\n",
       "<style scoped>\n",
       "    .dataframe tbody tr th:only-of-type {\n",
       "        vertical-align: middle;\n",
       "    }\n",
       "\n",
       "    .dataframe tbody tr th {\n",
       "        vertical-align: top;\n",
       "    }\n",
       "\n",
       "    .dataframe thead th {\n",
       "        text-align: right;\n",
       "    }\n",
       "</style>\n",
       "<table border=\"1\" class=\"dataframe\">\n",
       "  <thead>\n",
       "    <tr style=\"text-align: right;\">\n",
       "      <th></th>\n",
       "      <th>DriverId</th>\n",
       "      <th>TeamId</th>\n",
       "      <th>Position</th>\n",
       "      <th>GridPosition</th>\n",
       "      <th>Time</th>\n",
       "      <th>Status</th>\n",
       "      <th>Points</th>\n",
       "      <th>season</th>\n",
       "      <th>round</th>\n",
       "      <th>circuitId</th>\n",
       "    </tr>\n",
       "  </thead>\n",
       "  <tbody>\n",
       "    <tr>\n",
       "      <th>9</th>\n",
       "      <td>raikkonen</td>\n",
       "      <td>lotus_f1</td>\n",
       "      <td>6.0</td>\n",
       "      <td>4.0</td>\n",
       "      <td>NaN</td>\n",
       "      <td>Finished</td>\n",
       "      <td>8.0</td>\n",
       "      <td>2012</td>\n",
       "      <td>19</td>\n",
       "      <td>americas</td>\n",
       "    </tr>\n",
       "    <tr>\n",
       "      <th>3</th>\n",
       "      <td>ricciardo</td>\n",
       "      <td>mclaren</td>\n",
       "      <td>7.0</td>\n",
       "      <td>6.0</td>\n",
       "      <td>NaN</td>\n",
       "      <td>Finished</td>\n",
       "      <td>6.0</td>\n",
       "      <td>2021</td>\n",
       "      <td>1</td>\n",
       "      <td>bahrain</td>\n",
       "    </tr>\n",
       "    <tr>\n",
       "      <th>10</th>\n",
       "      <td>grosjean</td>\n",
       "      <td>lotus_f1</td>\n",
       "      <td>7.0</td>\n",
       "      <td>8.0</td>\n",
       "      <td>NaN</td>\n",
       "      <td>Finished</td>\n",
       "      <td>6.0</td>\n",
       "      <td>2012</td>\n",
       "      <td>19</td>\n",
       "      <td>americas</td>\n",
       "    </tr>\n",
       "    <tr>\n",
       "      <th>55</th>\n",
       "      <td>sainz</td>\n",
       "      <td>ferrari</td>\n",
       "      <td>8.0</td>\n",
       "      <td>8.0</td>\n",
       "      <td>NaN</td>\n",
       "      <td>Finished</td>\n",
       "      <td>4.0</td>\n",
       "      <td>2021</td>\n",
       "      <td>1</td>\n",
       "      <td>bahrain</td>\n",
       "    </tr>\n",
       "    <tr>\n",
       "      <th>17</th>\n",
       "      <td>vergne</td>\n",
       "      <td>toro_rosso</td>\n",
       "      <td>8.0</td>\n",
       "      <td>16.0</td>\n",
       "      <td>NaN</td>\n",
       "      <td>Finished</td>\n",
       "      <td>4.0</td>\n",
       "      <td>2012</td>\n",
       "      <td>16</td>\n",
       "      <td>yeongam</td>\n",
       "    </tr>\n",
       "  </tbody>\n",
       "</table>\n",
       "</div>"
      ],
      "text/plain": [
       "     DriverId      TeamId  Position  GridPosition  Time    Status  Points  \\\n",
       "9   raikkonen    lotus_f1       6.0           4.0   NaN  Finished     8.0   \n",
       "3   ricciardo     mclaren       7.0           6.0   NaN  Finished     6.0   \n",
       "10   grosjean    lotus_f1       7.0           8.0   NaN  Finished     6.0   \n",
       "55      sainz     ferrari       8.0           8.0   NaN  Finished     4.0   \n",
       "17     vergne  toro_rosso       8.0          16.0   NaN  Finished     4.0   \n",
       "\n",
       "    season  round circuitId  \n",
       "9     2012     19  americas  \n",
       "3     2021      1   bahrain  \n",
       "10    2012     19  americas  \n",
       "55    2021      1   bahrain  \n",
       "17    2012     16   yeongam  "
      ]
     },
     "execution_count": 96,
     "metadata": {},
     "output_type": "execute_result"
    }
   ],
   "source": [
    "df_results[df_results['Time'].isna()].sort_values(by='Position').head()"
   ]
  },
  {
   "cell_type": "markdown",
   "metadata": {},
   "source": [
    "In the case of `Time`, the null values appear in some records from certain races. This does not seem too relevant since there are only 44 entries, and the highest position affected is sixth place, which does not impact podiums or victories.  \n",
    "\n",
    "In any case, this would only affect a regression model specifically predicting finishing times. However, since we will be removing this column in our model, it will not be an issue."
   ]
  },
  {
   "cell_type": "markdown",
   "metadata": {},
   "source": [
    "### Categorical variables"
   ]
  },
  {
   "cell_type": "code",
   "execution_count": 97,
   "metadata": {},
   "outputs": [
    {
     "data": {
      "text/html": [
       "<div>\n",
       "<style scoped>\n",
       "    .dataframe tbody tr th:only-of-type {\n",
       "        vertical-align: middle;\n",
       "    }\n",
       "\n",
       "    .dataframe tbody tr th {\n",
       "        vertical-align: top;\n",
       "    }\n",
       "\n",
       "    .dataframe thead th {\n",
       "        text-align: right;\n",
       "    }\n",
       "</style>\n",
       "<table border=\"1\" class=\"dataframe\">\n",
       "  <thead>\n",
       "    <tr style=\"text-align: right;\">\n",
       "      <th></th>\n",
       "      <th>count</th>\n",
       "      <th>unique</th>\n",
       "      <th>top</th>\n",
       "      <th>freq</th>\n",
       "    </tr>\n",
       "  </thead>\n",
       "  <tbody>\n",
       "    <tr>\n",
       "      <th>DriverId</th>\n",
       "      <td>6433</td>\n",
       "      <td>80</td>\n",
       "      <td>hamilton</td>\n",
       "      <td>304</td>\n",
       "    </tr>\n",
       "    <tr>\n",
       "      <th>TeamId</th>\n",
       "      <td>6433</td>\n",
       "      <td>23</td>\n",
       "      <td>ferrari</td>\n",
       "      <td>610</td>\n",
       "    </tr>\n",
       "    <tr>\n",
       "      <th>Status</th>\n",
       "      <td>6433</td>\n",
       "      <td>78</td>\n",
       "      <td>Finished</td>\n",
       "      <td>3305</td>\n",
       "    </tr>\n",
       "    <tr>\n",
       "      <th>circuitId</th>\n",
       "      <td>6433</td>\n",
       "      <td>35</td>\n",
       "      <td>silverstone</td>\n",
       "      <td>338</td>\n",
       "    </tr>\n",
       "  </tbody>\n",
       "</table>\n",
       "</div>"
      ],
      "text/plain": [
       "          count unique          top  freq\n",
       "DriverId   6433     80     hamilton   304\n",
       "TeamId     6433     23      ferrari   610\n",
       "Status     6433     78     Finished  3305\n",
       "circuitId  6433     35  silverstone   338"
      ]
     },
     "execution_count": 97,
     "metadata": {},
     "output_type": "execute_result"
    }
   ],
   "source": [
    "df_results.describe(include='O').T"
   ]
  },
  {
   "cell_type": "markdown",
   "metadata": {},
   "source": [
    "#### `DriverId`"
   ]
  },
  {
   "cell_type": "code",
   "execution_count": 98,
   "metadata": {},
   "outputs": [
    {
     "data": {
      "text/plain": [
       "array(['alonso', 'massa', 'hamilton', 'vettel', 'rosberg',\n",
       "       'michael_schumacher', 'button', 'webber', 'liuzzi', 'barrichello',\n",
       "       'kubica', 'sutil', 'alguersuari', 'hulkenberg', 'kovalainen',\n",
       "       'buemi', 'trulli', 'rosa', 'bruno_senna', 'glock', 'petrov',\n",
       "       'kobayashi', 'grassi', 'chandhok', 'yamamoto', 'heidfeld', 'klien',\n",
       "       'resta', 'ambrosio', 'maldonado', 'perez', 'karthikeyan',\n",
       "       'ricciardo', 'raikkonen', 'vergne', 'pic', 'grosjean', 'gutierrez',\n",
       "       'bottas', 'jules_bianchi', 'chilton', 'garde', 'kevin_magnussen',\n",
       "       'kvyat', 'ericsson', 'lotterer', 'stevens', 'nasr', 'sainz',\n",
       "       'max_verstappen', 'merhi', 'rossi', 'jolyon_palmer', 'wehrlein',\n",
       "       'haryanto', 'vandoorne', 'ocon', 'giovinazzi', 'stroll', 'gasly',\n",
       "       'brendon_hartley', 'leclerc', 'sirotkin', 'norris', 'albon',\n",
       "       'russell', 'latifi', 'aitken', 'pietro_fittipaldi', 'tsunoda',\n",
       "       'mick_schumacher', 'mazepin', 'zhou', 'de_vries', 'sargeant',\n",
       "       'piastri', 'lawson', 'bearman', 'colapinto', 'doohan'],\n",
       "      dtype=object)"
      ]
     },
     "execution_count": 98,
     "metadata": {},
     "output_type": "execute_result"
    }
   ],
   "source": [
    "df_results['DriverId'].unique()"
   ]
  },
  {
   "cell_type": "markdown",
   "metadata": {},
   "source": [
    "#### `TeamId`"
   ]
  },
  {
   "cell_type": "code",
   "execution_count": 99,
   "metadata": {},
   "outputs": [
    {
     "data": {
      "text/plain": [
       "array(['ferrari', 'mclaren', 'red_bull', 'mercedes', 'force_india',\n",
       "       'williams', 'renault', 'toro_rosso', 'lotus_racing', 'sauber',\n",
       "       'hrt', 'virgin', 'lotus_f1', 'marussia', 'caterham', 'manor',\n",
       "       'haas', 'alfa', 'racing_point', 'alphatauri', 'aston_martin',\n",
       "       'alpine', 'rb'], dtype=object)"
      ]
     },
     "execution_count": 99,
     "metadata": {},
     "output_type": "execute_result"
    }
   ],
   "source": [
    "df_results['TeamId'].unique()"
   ]
  },
  {
   "cell_type": "markdown",
   "metadata": {},
   "source": [
    "With the teams, we have an issue since some teams are the same but have changed their names over the seasons. Specifically, the following IDs correspond to the same team:\n",
    "\n",
    "- `ferrari`\n",
    "\n",
    "- `mclaren`\n",
    "\n",
    "- `red_bull`\n",
    "\n",
    "- `mercedes`\n",
    "\n",
    "- `williams`\n",
    "\n",
    "- `sauber`, `alfa`\n",
    "\n",
    "- `force_india`, `racing_point`, `aston_martin`\n",
    "\n",
    "- `renault`, `lotus_f1`, `alpine`\n",
    "\n",
    "- `lotus_racing`, `caterham`\n",
    "\n",
    "- `virgin`, `marussia`, `manor`\n",
    "\n",
    "- `toro_rosso`, `alphatauri`, `rb`\n",
    "\n",
    "- `haas`\n",
    "\n",
    "- `hrt`\n",
    "\n",
    "We will build a function that replaces the team ID names with the most recent name the team has had.\n",
    "\n"
   ]
  },
  {
   "cell_type": "code",
   "execution_count": 100,
   "metadata": {},
   "outputs": [],
   "source": [
    "def team_id_replacement(df):\n",
    "    \n",
    "    dc = {\n",
    "        'sauber': 'alfa',\n",
    "        'alfa': 'alfa',\n",
    "        'force_india': 'aston_martin',\n",
    "        'racing_point': 'aston_martin',\n",
    "        'renault': 'alpine',\n",
    "        'lotus_f1': 'alpine',\n",
    "        'lotus_racing': 'caterham',\n",
    "        'virgin': 'manor',\n",
    "        'marussia': 'manor',\n",
    "        'toro_rosso': 'rb',\n",
    "        'alphatauri': 'rb'\n",
    "    }\n",
    "    df['TeamId'] = df['TeamId'].replace(dc)\n",
    "\n",
    "team_id_replacement(df_results)"
   ]
  },
  {
   "cell_type": "code",
   "execution_count": 101,
   "metadata": {},
   "outputs": [
    {
     "data": {
      "text/plain": [
       "array(['ferrari', 'mclaren', 'red_bull', 'mercedes', 'aston_martin',\n",
       "       'williams', 'alpine', 'rb', 'caterham', 'alfa', 'hrt', 'manor',\n",
       "       'haas'], dtype=object)"
      ]
     },
     "execution_count": 101,
     "metadata": {},
     "output_type": "execute_result"
    }
   ],
   "source": [
    "df_results['TeamId'].unique()"
   ]
  },
  {
   "cell_type": "markdown",
   "metadata": {},
   "source": [
    "#### `circuitId`"
   ]
  },
  {
   "cell_type": "code",
   "execution_count": 102,
   "metadata": {},
   "outputs": [
    {
     "data": {
      "text/plain": [
       "array(['bahrain', 'albert_park', 'sepang', 'shanghai', 'catalunya',\n",
       "       'monaco', 'istanbul', 'villeneuve', 'valencia', 'silverstone',\n",
       "       'hockenheimring', 'hungaroring', 'spa', 'monza', 'marina_bay',\n",
       "       'suzuka', 'yeongam', 'interlagos', 'yas_marina', 'nurburgring',\n",
       "       'buddh', 'americas', 'red_bull_ring', 'sochi', 'rodriguez', 'baku',\n",
       "       'ricard', 'mugello', 'portimao', 'imola', 'zandvoort', 'losail',\n",
       "       'jeddah', 'miami', 'vegas'], dtype=object)"
      ]
     },
     "execution_count": 102,
     "metadata": {},
     "output_type": "execute_result"
    }
   ],
   "source": [
    "df_results['circuitId'].unique()"
   ]
  },
  {
   "cell_type": "markdown",
   "metadata": {},
   "source": [
    "Everything here looks fine."
   ]
  },
  {
   "cell_type": "markdown",
   "metadata": {},
   "source": [
    "### Numerical variables"
   ]
  },
  {
   "cell_type": "markdown",
   "metadata": {},
   "source": [
    "Veamos una descripción de las estadísticas básicas de las variables numéricas."
   ]
  },
  {
   "cell_type": "code",
   "execution_count": 103,
   "metadata": {},
   "outputs": [
    {
     "data": {
      "text/html": [
       "<div>\n",
       "<style scoped>\n",
       "    .dataframe tbody tr th:only-of-type {\n",
       "        vertical-align: middle;\n",
       "    }\n",
       "\n",
       "    .dataframe tbody tr th {\n",
       "        vertical-align: top;\n",
       "    }\n",
       "\n",
       "    .dataframe thead th {\n",
       "        text-align: right;\n",
       "    }\n",
       "</style>\n",
       "<table border=\"1\" class=\"dataframe\">\n",
       "  <thead>\n",
       "    <tr style=\"text-align: right;\">\n",
       "      <th></th>\n",
       "      <th>count</th>\n",
       "      <th>mean</th>\n",
       "      <th>std</th>\n",
       "      <th>min</th>\n",
       "      <th>25%</th>\n",
       "      <th>50%</th>\n",
       "      <th>75%</th>\n",
       "      <th>max</th>\n",
       "    </tr>\n",
       "  </thead>\n",
       "  <tbody>\n",
       "    <tr>\n",
       "      <th>Position</th>\n",
       "      <td>6433.0</td>\n",
       "      <td>11.11</td>\n",
       "      <td>6.19</td>\n",
       "      <td>1.0</td>\n",
       "      <td>6.00</td>\n",
       "      <td>11.00</td>\n",
       "      <td>16.00</td>\n",
       "      <td>24.00</td>\n",
       "    </tr>\n",
       "    <tr>\n",
       "      <th>GridPosition</th>\n",
       "      <td>6433.0</td>\n",
       "      <td>10.87</td>\n",
       "      <td>6.24</td>\n",
       "      <td>0.0</td>\n",
       "      <td>6.00</td>\n",
       "      <td>11.00</td>\n",
       "      <td>16.00</td>\n",
       "      <td>24.00</td>\n",
       "    </tr>\n",
       "    <tr>\n",
       "      <th>Time</th>\n",
       "      <td>6389.0</td>\n",
       "      <td>105.68</td>\n",
       "      <td>72.67</td>\n",
       "      <td>0.0</td>\n",
       "      <td>35.05</td>\n",
       "      <td>98.32</td>\n",
       "      <td>178.14</td>\n",
       "      <td>248.84</td>\n",
       "    </tr>\n",
       "    <tr>\n",
       "      <th>Points</th>\n",
       "      <td>6433.0</td>\n",
       "      <td>4.81</td>\n",
       "      <td>7.14</td>\n",
       "      <td>0.0</td>\n",
       "      <td>0.00</td>\n",
       "      <td>0.00</td>\n",
       "      <td>8.00</td>\n",
       "      <td>50.00</td>\n",
       "    </tr>\n",
       "    <tr>\n",
       "      <th>season</th>\n",
       "      <td>6433.0</td>\n",
       "      <td>2016.97</td>\n",
       "      <td>4.42</td>\n",
       "      <td>2010.0</td>\n",
       "      <td>2013.00</td>\n",
       "      <td>2017.00</td>\n",
       "      <td>2021.00</td>\n",
       "      <td>2024.00</td>\n",
       "    </tr>\n",
       "    <tr>\n",
       "      <th>round</th>\n",
       "      <td>6433.0</td>\n",
       "      <td>10.70</td>\n",
       "      <td>5.96</td>\n",
       "      <td>1.0</td>\n",
       "      <td>6.00</td>\n",
       "      <td>11.00</td>\n",
       "      <td>16.00</td>\n",
       "      <td>24.00</td>\n",
       "    </tr>\n",
       "  </tbody>\n",
       "</table>\n",
       "</div>"
      ],
      "text/plain": [
       "               count     mean    std     min      25%      50%      75%  \\\n",
       "Position      6433.0    11.11   6.19     1.0     6.00    11.00    16.00   \n",
       "GridPosition  6433.0    10.87   6.24     0.0     6.00    11.00    16.00   \n",
       "Time          6389.0   105.68  72.67     0.0    35.05    98.32   178.14   \n",
       "Points        6433.0     4.81   7.14     0.0     0.00     0.00     8.00   \n",
       "season        6433.0  2016.97   4.42  2010.0  2013.00  2017.00  2021.00   \n",
       "round         6433.0    10.70   5.96     1.0     6.00    11.00    16.00   \n",
       "\n",
       "                  max  \n",
       "Position        24.00  \n",
       "GridPosition    24.00  \n",
       "Time           248.84  \n",
       "Points          50.00  \n",
       "season        2024.00  \n",
       "round           24.00  "
      ]
     },
     "execution_count": 103,
     "metadata": {},
     "output_type": "execute_result"
    }
   ],
   "source": [
    "df_results.describe().T.round(2)"
   ]
  },
  {
   "cell_type": "markdown",
   "metadata": {},
   "source": [
    "Veamos la matriz de correlación"
   ]
  },
  {
   "cell_type": "code",
   "execution_count": 104,
   "metadata": {},
   "outputs": [
    {
     "data": {
      "image/png": "[encoded data removed]",
      "text/plain": [
       "<Figure size 500x500 with 2 Axes>"
      ]
     },
     "metadata": {},
     "output_type": "display_data"
    }
   ],
   "source": [
    "plot_correlation_matrix(df_results)"
   ]
  },
  {
   "cell_type": "markdown",
   "metadata": {},
   "source": [
    "We see quite logical things:\n",
    "\n",
    "* `season` and `round` have no correlation with the other variables.\n",
    "\n",
    "* `GridPosition` has a moderate to strong correlation with `Position`, indicating that a better starting grid position is usually related to a better position in the race.\n",
    "\n",
    "* `Time` has a very strong correlation with `Position` and moderate correlation with `GridPosition`, the latter inherited from the previous correlation.\n",
    "\n",
    "* `Points` has a strong negative correlation with `Position` (and, consequently, with `GridPosition` and `Time`). This makes sense because a better result corresponds to more points."
   ]
  },
  {
   "cell_type": "markdown",
   "metadata": {},
   "source": [
    "# 4. Feature engineering"
   ]
  },
  {
   "cell_type": "markdown",
   "metadata": {},
   "source": [
    "If the race has not occurred, we cannot use information that depends on the results of that specific race, such as time or final points. In that case, you should rely exclusively on prior or contextual information that is available before the race. Here's how to approach the problem:\n",
    "\n",
    "### Redefine the feature set\n",
    "We must build our predictions based on historical and contextual data available before the race. For this reason, we will add the following features:\n",
    "\n",
    "- `Winner`: Determine if the driver won the race (Position 1)\n",
    "\n",
    "- `Podium`: Determine if the driver finished on the podium (Position 1, 2, or 3)\n",
    "\n",
    "- `MeanPreviousGrid`: Mean of the driver's grid positions over the previous races.\n",
    "\n",
    "- `MeanPreviousPosition`: Mean of the driver's finishing positions over the previous races.\n",
    "\n",
    "- `CurrentDriverPoints`: Cumulative driver points before the race.\n",
    "\n",
    "- `CurrentDriverWins`: Cumulative race wins before the race.\n",
    "\n",
    "- `CurrentDriverPodiums`: Cumulative podium finishes before the race.\n",
    "\n",
    "- `CurrentTeamPoints`: Cumulative team points before the race.\n",
    "\n",
    "The average variables are calculated using a default window of 3 races."
   ]
  },
  {
   "cell_type": "code",
   "execution_count": 105,
   "metadata": {},
   "outputs": [],
   "source": [
    "add_features_to_results(df_results)"
   ]
  },
  {
   "cell_type": "code",
   "execution_count": 106,
   "metadata": {},
   "outputs": [
    {
     "data": {
      "text/html": [
       "<div>\n",
       "<style scoped>\n",
       "    .dataframe tbody tr th:only-of-type {\n",
       "        vertical-align: middle;\n",
       "    }\n",
       "\n",
       "    .dataframe tbody tr th {\n",
       "        vertical-align: top;\n",
       "    }\n",
       "\n",
       "    .dataframe thead th {\n",
       "        text-align: right;\n",
       "    }\n",
       "</style>\n",
       "<table border=\"1\" class=\"dataframe\">\n",
       "  <thead>\n",
       "    <tr style=\"text-align: right;\">\n",
       "      <th></th>\n",
       "      <th>DriverId</th>\n",
       "      <th>TeamId</th>\n",
       "      <th>Position</th>\n",
       "      <th>GridPosition</th>\n",
       "      <th>Time</th>\n",
       "      <th>Status</th>\n",
       "      <th>Points</th>\n",
       "      <th>season</th>\n",
       "      <th>round</th>\n",
       "      <th>circuitId</th>\n",
       "      <th>Winner</th>\n",
       "      <th>Podium</th>\n",
       "      <th>MeanPreviousGrid</th>\n",
       "      <th>MeanPreviousPosition</th>\n",
       "      <th>CurrentDriverPoints</th>\n",
       "      <th>CurrentDriverWins</th>\n",
       "      <th>CurrentDriverPodiums</th>\n",
       "      <th>CurrentTeamPoints</th>\n",
       "    </tr>\n",
       "  </thead>\n",
       "  <tbody>\n",
       "    <tr>\n",
       "      <th>8</th>\n",
       "      <td>alonso</td>\n",
       "      <td>ferrari</td>\n",
       "      <td>1.0</td>\n",
       "      <td>3.0</td>\n",
       "      <td>0.000</td>\n",
       "      <td>Finished</td>\n",
       "      <td>25.0</td>\n",
       "      <td>2010</td>\n",
       "      <td>1</td>\n",
       "      <td>bahrain</td>\n",
       "      <td>1</td>\n",
       "      <td>1</td>\n",
       "      <td>3.0</td>\n",
       "      <td>1.0</td>\n",
       "      <td>0.0</td>\n",
       "      <td>0</td>\n",
       "      <td>0</td>\n",
       "      <td>0.0</td>\n",
       "    </tr>\n",
       "    <tr>\n",
       "      <th>7</th>\n",
       "      <td>massa</td>\n",
       "      <td>ferrari</td>\n",
       "      <td>2.0</td>\n",
       "      <td>2.0</td>\n",
       "      <td>16.099</td>\n",
       "      <td>Finished</td>\n",
       "      <td>18.0</td>\n",
       "      <td>2010</td>\n",
       "      <td>1</td>\n",
       "      <td>bahrain</td>\n",
       "      <td>0</td>\n",
       "      <td>1</td>\n",
       "      <td>2.0</td>\n",
       "      <td>2.0</td>\n",
       "      <td>0.0</td>\n",
       "      <td>0</td>\n",
       "      <td>0</td>\n",
       "      <td>0.0</td>\n",
       "    </tr>\n",
       "    <tr>\n",
       "      <th>2</th>\n",
       "      <td>hamilton</td>\n",
       "      <td>mclaren</td>\n",
       "      <td>3.0</td>\n",
       "      <td>4.0</td>\n",
       "      <td>23.182</td>\n",
       "      <td>Finished</td>\n",
       "      <td>15.0</td>\n",
       "      <td>2010</td>\n",
       "      <td>1</td>\n",
       "      <td>bahrain</td>\n",
       "      <td>0</td>\n",
       "      <td>1</td>\n",
       "      <td>4.0</td>\n",
       "      <td>3.0</td>\n",
       "      <td>0.0</td>\n",
       "      <td>0</td>\n",
       "      <td>0</td>\n",
       "      <td>0.0</td>\n",
       "    </tr>\n",
       "    <tr>\n",
       "      <th>5</th>\n",
       "      <td>vettel</td>\n",
       "      <td>red_bull</td>\n",
       "      <td>4.0</td>\n",
       "      <td>1.0</td>\n",
       "      <td>38.799</td>\n",
       "      <td>Finished</td>\n",
       "      <td>12.0</td>\n",
       "      <td>2010</td>\n",
       "      <td>1</td>\n",
       "      <td>bahrain</td>\n",
       "      <td>0</td>\n",
       "      <td>0</td>\n",
       "      <td>1.0</td>\n",
       "      <td>4.0</td>\n",
       "      <td>0.0</td>\n",
       "      <td>0</td>\n",
       "      <td>0</td>\n",
       "      <td>0.0</td>\n",
       "    </tr>\n",
       "    <tr>\n",
       "      <th>4</th>\n",
       "      <td>rosberg</td>\n",
       "      <td>mercedes</td>\n",
       "      <td>5.0</td>\n",
       "      <td>5.0</td>\n",
       "      <td>40.213</td>\n",
       "      <td>Finished</td>\n",
       "      <td>10.0</td>\n",
       "      <td>2010</td>\n",
       "      <td>1</td>\n",
       "      <td>bahrain</td>\n",
       "      <td>0</td>\n",
       "      <td>0</td>\n",
       "      <td>5.0</td>\n",
       "      <td>5.0</td>\n",
       "      <td>0.0</td>\n",
       "      <td>0</td>\n",
       "      <td>0</td>\n",
       "      <td>0.0</td>\n",
       "    </tr>\n",
       "  </tbody>\n",
       "</table>\n",
       "</div>"
      ],
      "text/plain": [
       "   DriverId    TeamId  Position  GridPosition    Time    Status  Points  \\\n",
       "8    alonso   ferrari       1.0           3.0   0.000  Finished    25.0   \n",
       "7     massa   ferrari       2.0           2.0  16.099  Finished    18.0   \n",
       "2  hamilton   mclaren       3.0           4.0  23.182  Finished    15.0   \n",
       "5    vettel  red_bull       4.0           1.0  38.799  Finished    12.0   \n",
       "4   rosberg  mercedes       5.0           5.0  40.213  Finished    10.0   \n",
       "\n",
       "   season  round circuitId  Winner  Podium  MeanPreviousGrid  \\\n",
       "8    2010      1   bahrain       1       1               3.0   \n",
       "7    2010      1   bahrain       0       1               2.0   \n",
       "2    2010      1   bahrain       0       1               4.0   \n",
       "5    2010      1   bahrain       0       0               1.0   \n",
       "4    2010      1   bahrain       0       0               5.0   \n",
       "\n",
       "   MeanPreviousPosition  CurrentDriverPoints  CurrentDriverWins  \\\n",
       "8                   1.0                  0.0                  0   \n",
       "7                   2.0                  0.0                  0   \n",
       "2                   3.0                  0.0                  0   \n",
       "5                   4.0                  0.0                  0   \n",
       "4                   5.0                  0.0                  0   \n",
       "\n",
       "   CurrentDriverPodiums  CurrentTeamPoints  \n",
       "8                     0                0.0  \n",
       "7                     0                0.0  \n",
       "2                     0                0.0  \n",
       "5                     0                0.0  \n",
       "4                     0                0.0  "
      ]
     },
     "execution_count": 106,
     "metadata": {},
     "output_type": "execute_result"
    }
   ],
   "source": [
    "df_results.head()"
   ]
  },
  {
   "cell_type": "markdown",
   "metadata": {},
   "source": [
    "Veamos de nuevo la matriz de correlación con estas nuevas variables"
   ]
  },
  {
   "cell_type": "code",
   "execution_count": 107,
   "metadata": {},
   "outputs": [
    {
     "data": {
      "image/png": "[encoded data removed]",
      "text/plain": [
       "<Figure size 1000x1000 with 2 Axes>"
      ]
     },
     "metadata": {},
     "output_type": "display_data"
    }
   ],
   "source": [
    "plot_correlation_matrix(df_results, size=(10,10))"
   ]
  },
  {
   "cell_type": "markdown",
   "metadata": {},
   "source": [
    "Variables with a correlation higher than 0.9 can be considered explained by each other. Thus, we can eliminate some of the generated features.\n",
    "\n",
    "In particular, we will remove the following variables:\n",
    "\n",
    "* `season`: It has no correlation with the rest of the variables.\n",
    "\n",
    "* `CurrentDriverPoints`, `CurrentTeamPoints`: They are explained by the current podiums and victories of the driver, so they are not necessary.\n",
    "\n",
    "Note: For the classification model, we cannot remove the `round` feature as it is necessary to contextualize the points/victories accumulated throughout the season."
   ]
  },
  {
   "cell_type": "code",
   "execution_count": 108,
   "metadata": {},
   "outputs": [],
   "source": [
    "df_results.drop(columns=['season', 'CurrentDriverPoints', 'CurrentTeamPoints'], inplace=True)"
   ]
  },
  {
   "cell_type": "code",
   "execution_count": 109,
   "metadata": {},
   "outputs": [],
   "source": [
    "df_results.to_csv('../data/output/featured_results.csv')"
   ]
  }
 ],
 "metadata": {
  "kernelspec": {
   "display_name": "FinalProject",
   "language": "python",
   "name": "python3"
  },
  "language_info": {
   "codemirror_mode": {
    "name": "ipython",
    "version": 3
   },
   "file_extension": ".py",
   "mimetype": "text/x-python",
   "name": "python",
   "nbconvert_exporter": "python",
   "pygments_lexer": "ipython3",
   "version": "3.12.8"
  }
 },
 "nbformat": 4,
 "nbformat_minor": 2
}
