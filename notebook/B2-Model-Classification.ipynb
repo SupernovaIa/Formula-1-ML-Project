{
 "cells": [
  {
   "cell_type": "markdown",
   "metadata": {},
   "source": [
    "## Ingeniería de características"
   ]
  },
  {
   "cell_type": "markdown",
   "metadata": {},
   "source": [
    "Si la carrera no ha ocurrido, no podemos usar información que dependa de los resultados de esa misma carrera, como el tiempo o los puntos finales. En ese caso, debes basarte exclusivamente en información previa o contextual que sí está disponible antes de la carrera. Aquí tienes cómo abordar el problema:\n",
    "\n",
    "### Redefinir el conjunto de características (features)\n",
    "Debes construir tus predicciones en base a datos históricos y contextuales disponibles antes de la carrera. Aquí tienes ejemplos de posibles características útiles:\n",
    "\n",
    "* Datos históricos del piloto\n",
    "Promedio de posiciones finales en las últimas 5-10 carreras o en la temporada pasada.\n",
    "Rendimiento en el circuito: Promedio de posiciones del piloto en ese circuito específico en años anteriores.\n",
    "Historial frente al compañero de equipo: Comparación entre compañeros de equipo en temporadas pasadas.\n",
    "Abandonos previos: Frecuencia con la que el piloto no termina las carreras.\n",
    "\n",
    "* Rendimiento del equipo\n",
    "Resultados históricos del equipo en ese circuito.\n",
    "Puntos acumulados del equipo en la temporada actual (hasta la última carrera).\n",
    "Mejoras tecnológicas recientes: Si tienes datos sobre actualizaciones del coche.\n",
    "\n",
    "* Datos del circuito y la carrera\n",
    "CircuitId: Identificador único del circuito.\n",
    "Características del circuito:\n",
    "Número de vueltas, longitud, número de curvas, tipo de trazado (urbano, tradicional).\n",
    "Historias de incidentes: ¿Es un circuito donde hay muchos abandonos?\n",
    "Clima estimado: Información meteorológica previa (por ejemplo: probabilidad de lluvia).\n",
    "\n",
    "* Datos de clasificación\n",
    "GridPosition: La posición de salida del piloto (esto sí lo sabrás antes de la carrera).\n",
    "Comparación de tiempos de clasificación: Si tienes datos de la clasificación (Q1, Q2, Q3), esto puede ser un fuerte predictor."
   ]
  },
  {
   "cell_type": "markdown",
   "metadata": {},
   "source": []
  }
 ],
 "metadata": {
  "kernelspec": {
   "display_name": "FinalProject",
   "language": "python",
   "name": "python3"
  },
  "language_info": {
   "name": "python",
   "version": "3.12.8"
  }
 },
 "nbformat": 4,
 "nbformat_minor": 2
}
